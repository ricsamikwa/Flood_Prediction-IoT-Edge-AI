{
  "nbformat": 4,
  "nbformat_minor": 0,
  "metadata": {
    "kernelspec": {
      "display_name": "Python [keras_tensor]",
      "language": "python",
      "name": "Python [keras_tensor]"
    },
    "language_info": {
      "codemirror_mode": {
        "name": "ipython",
        "version": 2
      },
      "file_extension": ".py",
      "mimetype": "text/x-python",
      "name": "python",
      "nbconvert_exporter": "python",
      "pygments_lexer": "ipython2",
      "version": "2.7.12"
    },
    "colab": {
      "name": "Multivariate-lstm-ahead_of_time-flood_prediction.ipynb",
      "provenance": [],
      "collapsed_sections": [],
      "toc_visible": true
    }
  },
  "cells": [
    {
      "cell_type": "markdown",
      "metadata": {
        "colab_type": "text",
        "id": "23-IctDiUQpC"
      },
      "source": [
        "# Ahead of time flood prediction using LSTM\n",
        "\n"
      ]
    },
    {
      "cell_type": "code",
      "metadata": {
        "id": "n8edV6A8c-q6",
        "colab_type": "code",
        "colab": {}
      },
      "source": [
        "#Flood Early Warning System using IoT and Edge \n",
        "\n",
        "#Eric Samikwa"
      ],
      "execution_count": 0,
      "outputs": []
    },
    {
      "cell_type": "code",
      "metadata": {
        "id": "AKgENOL-GrqZ",
        "colab_type": "code",
        "colab": {}
      },
      "source": [
        "%matplotlib inline\n",
        "\n",
        "from __future__ import print_function\n",
        "\n",
        "import os\n",
        "os.environ[\"THEANO_FLAGS\"] = \"mode=FAST_RUN,device=gpu,floatX=float32\"\n",
        "\n",
        "from math import sqrt\n",
        "import numpy as np\n",
        "import matplotlib.pyplot as plt\n",
        "import pandas\n",
        "import math\n",
        "from matplotlib import pyplot\n",
        "import matplotlib.patches as mpatches\n",
        "from numpy import concatenate\n",
        "from keras.models import Sequential\n",
        "from keras.layers import Dense     \n",
        "from keras.layers import LSTM\n",
        "from sklearn.preprocessing import MinMaxScaler\n",
        "from sklearn.metrics import mean_squared_error\n",
        "\n",
        "plt.style.use('ggplot')\n"
      ],
      "execution_count": 0,
      "outputs": []
    },
    {
      "cell_type": "markdown",
      "metadata": {
        "id": "7fDsd96fRpZ6",
        "colab_type": "text"
      },
      "source": [
        "# Data pre-processing"
      ]
    },
    {
      "cell_type": "code",
      "metadata": {
        "id": "LkbL9QnDGrqy",
        "colab_type": "code",
        "colab": {}
      },
      "source": [
        "# fix random seed for reproducibility of results\n",
        "np.random.seed(10)"
      ],
      "execution_count": 0,
      "outputs": []
    },
    {
      "cell_type": "markdown",
      "metadata": {
        "colab_type": "text",
        "id": "6m8ovUKRLHzF"
      },
      "source": [
        "### Hourly rainfall data"
      ]
    },
    {
      "cell_type": "code",
      "metadata": {
        "id": "auxIEwH8TpnI",
        "colab_type": "code",
        "colab": {}
      },
      "source": [
        "df_rain = pandas.read_csv(\"/content/hourly_rainfall_train.csv\")"
      ],
      "execution_count": 0,
      "outputs": []
    },
    {
      "cell_type": "code",
      "metadata": {
        "id": "5QuDCp2_UB4f",
        "colab_type": "code",
        "outputId": "7ba1526e-e40a-47dc-edc9-1f5a7e5f6fe7",
        "colab": {
          "base_uri": "https://localhost:8080/",
          "height": 206
        }
      },
      "source": [
        "#display first 5\n",
        "df_rain.head()"
      ],
      "execution_count": 106,
      "outputs": [
        {
          "output_type": "execute_result",
          "data": {
            "text/html": [
              "<div>\n",
              "<style scoped>\n",
              "    .dataframe tbody tr th:only-of-type {\n",
              "        vertical-align: middle;\n",
              "    }\n",
              "\n",
              "    .dataframe tbody tr th {\n",
              "        vertical-align: top;\n",
              "    }\n",
              "\n",
              "    .dataframe thead th {\n",
              "        text-align: right;\n",
              "    }\n",
              "</style>\n",
              "<table border=\"1\" class=\"dataframe\">\n",
              "  <thead>\n",
              "    <tr style=\"text-align: right;\">\n",
              "      <th></th>\n",
              "      <th>Date/Time</th>\n",
              "      <th>Current rainfall (mm)</th>\n",
              "      <th>Cumulative rainfall (mm)</th>\n",
              "    </tr>\n",
              "  </thead>\n",
              "  <tbody>\n",
              "    <tr>\n",
              "      <th>0</th>\n",
              "      <td>2018-12-02 18:00:00</td>\n",
              "      <td>0.0</td>\n",
              "      <td>0.0</td>\n",
              "    </tr>\n",
              "    <tr>\n",
              "      <th>1</th>\n",
              "      <td>2018-12-02 17:00:00</td>\n",
              "      <td>0.0</td>\n",
              "      <td>0.0</td>\n",
              "    </tr>\n",
              "    <tr>\n",
              "      <th>2</th>\n",
              "      <td>2018-12-02 16:00:00</td>\n",
              "      <td>0.0</td>\n",
              "      <td>0.0</td>\n",
              "    </tr>\n",
              "    <tr>\n",
              "      <th>3</th>\n",
              "      <td>2018-12-02 15:00:00</td>\n",
              "      <td>0.0</td>\n",
              "      <td>0.0</td>\n",
              "    </tr>\n",
              "    <tr>\n",
              "      <th>4</th>\n",
              "      <td>2018-12-02 14:00:00</td>\n",
              "      <td>0.0</td>\n",
              "      <td>0.0</td>\n",
              "    </tr>\n",
              "  </tbody>\n",
              "</table>\n",
              "</div>"
            ],
            "text/plain": [
              "             Date/Time  Current rainfall (mm)  Cumulative rainfall (mm)\n",
              "0  2018-12-02 18:00:00                    0.0                       0.0\n",
              "1  2018-12-02 17:00:00                    0.0                       0.0\n",
              "2  2018-12-02 16:00:00                    0.0                       0.0\n",
              "3  2018-12-02 15:00:00                    0.0                       0.0\n",
              "4  2018-12-02 14:00:00                    0.0                       0.0"
            ]
          },
          "metadata": {
            "tags": []
          },
          "execution_count": 106
        }
      ]
    },
    {
      "cell_type": "code",
      "metadata": {
        "id": "bwEqbjzAUJGA",
        "colab_type": "code",
        "outputId": "852844dc-f1c7-4826-b87f-13aa74a758aa",
        "colab": {
          "base_uri": "https://localhost:8080/",
          "height": 34
        }
      },
      "source": [
        "#dataframe shape\n",
        "df_rain.shape"
      ],
      "execution_count": 107,
      "outputs": [
        {
          "output_type": "execute_result",
          "data": {
            "text/plain": [
              "(78848, 3)"
            ]
          },
          "metadata": {
            "tags": []
          },
          "execution_count": 107
        }
      ]
    },
    {
      "cell_type": "code",
      "metadata": {
        "id": "SolrcBRVUdd1",
        "colab_type": "code",
        "outputId": "0c3d6fea-edcc-4d31-9c36-4ba233aac7bd",
        "colab": {
          "base_uri": "https://localhost:8080/",
          "height": 300
        }
      },
      "source": [
        "#dataset properties\n",
        "df_rain.describe()  \n"
      ],
      "execution_count": 108,
      "outputs": [
        {
          "output_type": "execute_result",
          "data": {
            "text/html": [
              "<div>\n",
              "<style scoped>\n",
              "    .dataframe tbody tr th:only-of-type {\n",
              "        vertical-align: middle;\n",
              "    }\n",
              "\n",
              "    .dataframe tbody tr th {\n",
              "        vertical-align: top;\n",
              "    }\n",
              "\n",
              "    .dataframe thead th {\n",
              "        text-align: right;\n",
              "    }\n",
              "</style>\n",
              "<table border=\"1\" class=\"dataframe\">\n",
              "  <thead>\n",
              "    <tr style=\"text-align: right;\">\n",
              "      <th></th>\n",
              "      <th>Current rainfall (mm)</th>\n",
              "      <th>Cumulative rainfall (mm)</th>\n",
              "    </tr>\n",
              "  </thead>\n",
              "  <tbody>\n",
              "    <tr>\n",
              "      <th>count</th>\n",
              "      <td>78844.000000</td>\n",
              "      <td>78847.000000</td>\n",
              "    </tr>\n",
              "    <tr>\n",
              "      <th>mean</th>\n",
              "      <td>0.049206</td>\n",
              "      <td>0.586580</td>\n",
              "    </tr>\n",
              "    <tr>\n",
              "      <th>std</th>\n",
              "      <td>0.765296</td>\n",
              "      <td>2.770216</td>\n",
              "    </tr>\n",
              "    <tr>\n",
              "      <th>min</th>\n",
              "      <td>0.000000</td>\n",
              "      <td>0.000000</td>\n",
              "    </tr>\n",
              "    <tr>\n",
              "      <th>25%</th>\n",
              "      <td>0.000000</td>\n",
              "      <td>0.000000</td>\n",
              "    </tr>\n",
              "    <tr>\n",
              "      <th>50%</th>\n",
              "      <td>0.000000</td>\n",
              "      <td>0.000000</td>\n",
              "    </tr>\n",
              "    <tr>\n",
              "      <th>75%</th>\n",
              "      <td>0.000000</td>\n",
              "      <td>0.000000</td>\n",
              "    </tr>\n",
              "    <tr>\n",
              "      <th>max</th>\n",
              "      <td>110.000000</td>\n",
              "      <td>111.400000</td>\n",
              "    </tr>\n",
              "  </tbody>\n",
              "</table>\n",
              "</div>"
            ],
            "text/plain": [
              "       Current rainfall (mm)  Cumulative rainfall (mm)\n",
              "count           78844.000000              78847.000000\n",
              "mean                0.049206                  0.586580\n",
              "std                 0.765296                  2.770216\n",
              "min                 0.000000                  0.000000\n",
              "25%                 0.000000                  0.000000\n",
              "50%                 0.000000                  0.000000\n",
              "75%                 0.000000                  0.000000\n",
              "max               110.000000                111.400000"
            ]
          },
          "metadata": {
            "tags": []
          },
          "execution_count": 108
        }
      ]
    },
    {
      "cell_type": "code",
      "metadata": {
        "id": "yoS0P7O-9mLH",
        "colab_type": "code",
        "outputId": "a954c0ad-4b9c-488b-c9b0-1cbf904f3028",
        "colab": {
          "base_uri": "https://localhost:8080/",
          "height": 299
        }
      },
      "source": [
        "df_rain.plot( y='Cumulative rainfall (mm)')  \n",
        "\n",
        "plt.title('Rainfall')  \n",
        "plt.xlabel('Time (hours)')  \n",
        "plt.ylabel('Rainfall (mm)')  \n",
        "plt.show()  "
      ],
      "execution_count": 109,
      "outputs": [
        {
          "output_type": "display_data",
          "data": {
            "image/png": "[encoded data removed]",
            "text/plain": [
              "<Figure size 432x288 with 1 Axes>"
            ]
          },
          "metadata": {
            "tags": []
          }
        }
      ]
    },
    {
      "cell_type": "code",
      "metadata": {
        "id": "7j9PVBSFLWrm",
        "colab_type": "code",
        "colab": {}
      },
      "source": [
        ""
      ],
      "execution_count": 0,
      "outputs": []
    },
    {
      "cell_type": "markdown",
      "metadata": {
        "colab_type": "text",
        "id": "6sSpW7YhLXI3"
      },
      "source": [
        "### Hourly water level data"
      ]
    },
    {
      "cell_type": "code",
      "metadata": {
        "id": "hzPK6PJk9mLN",
        "colab_type": "code",
        "colab": {}
      },
      "source": [
        "df_water_level = pandas.read_csv(\"/content/hourly_water_level_train.csv\")"
      ],
      "execution_count": 0,
      "outputs": []
    },
    {
      "cell_type": "code",
      "metadata": {
        "id": "-p-MCno59mLX",
        "colab_type": "code",
        "outputId": "c830a177-b190-49dd-f80e-3baa75fdd372",
        "colab": {
          "base_uri": "https://localhost:8080/",
          "height": 206
        }
      },
      "source": [
        "df_water_level.head()"
      ],
      "execution_count": 111,
      "outputs": [
        {
          "output_type": "execute_result",
          "data": {
            "text/html": [
              "<div>\n",
              "<style scoped>\n",
              "    .dataframe tbody tr th:only-of-type {\n",
              "        vertical-align: middle;\n",
              "    }\n",
              "\n",
              "    .dataframe tbody tr th {\n",
              "        vertical-align: top;\n",
              "    }\n",
              "\n",
              "    .dataframe thead th {\n",
              "        text-align: right;\n",
              "    }\n",
              "</style>\n",
              "<table border=\"1\" class=\"dataframe\">\n",
              "  <thead>\n",
              "    <tr style=\"text-align: right;\">\n",
              "      <th></th>\n",
              "      <th>Date/Time</th>\n",
              "      <th>Level (m)</th>\n",
              "    </tr>\n",
              "  </thead>\n",
              "  <tbody>\n",
              "    <tr>\n",
              "      <th>0</th>\n",
              "      <td>2018-12-02 17:00:00</td>\n",
              "      <td>1.61</td>\n",
              "    </tr>\n",
              "    <tr>\n",
              "      <th>1</th>\n",
              "      <td>2018-12-02 16:00:00</td>\n",
              "      <td>1.61</td>\n",
              "    </tr>\n",
              "    <tr>\n",
              "      <th>2</th>\n",
              "      <td>2018-12-02 15:00:00</td>\n",
              "      <td>1.62</td>\n",
              "    </tr>\n",
              "    <tr>\n",
              "      <th>3</th>\n",
              "      <td>2018-12-02 14:00:00</td>\n",
              "      <td>1.63</td>\n",
              "    </tr>\n",
              "    <tr>\n",
              "      <th>4</th>\n",
              "      <td>2018-12-02 13:00:00</td>\n",
              "      <td>1.63</td>\n",
              "    </tr>\n",
              "  </tbody>\n",
              "</table>\n",
              "</div>"
            ],
            "text/plain": [
              "             Date/Time  Level (m)\n",
              "0  2018-12-02 17:00:00       1.61\n",
              "1  2018-12-02 16:00:00       1.61\n",
              "2  2018-12-02 15:00:00       1.62\n",
              "3  2018-12-02 14:00:00       1.63\n",
              "4  2018-12-02 13:00:00       1.63"
            ]
          },
          "metadata": {
            "tags": []
          },
          "execution_count": 111
        }
      ]
    },
    {
      "cell_type": "code",
      "metadata": {
        "id": "xcxaV9Hxb8aN",
        "colab_type": "code",
        "outputId": "96623a88-8948-4cf4-fe3f-76fd9ca9d245",
        "colab": {
          "base_uri": "https://localhost:8080/",
          "height": 34
        }
      },
      "source": [
        "df_water_level.shape"
      ],
      "execution_count": 112,
      "outputs": [
        {
          "output_type": "execute_result",
          "data": {
            "text/plain": [
              "(78822, 2)"
            ]
          },
          "metadata": {
            "tags": []
          },
          "execution_count": 112
        }
      ]
    },
    {
      "cell_type": "code",
      "metadata": {
        "id": "xw6xlSqsbWnp",
        "colab_type": "code",
        "outputId": "7eaff8f1-f3fd-468a-aeb0-296636935f42",
        "colab": {
          "base_uri": "https://localhost:8080/",
          "height": 300
        }
      },
      "source": [
        "#dataset properties\n",
        "df_water_level.describe()"
      ],
      "execution_count": 113,
      "outputs": [
        {
          "output_type": "execute_result",
          "data": {
            "text/html": [
              "<div>\n",
              "<style scoped>\n",
              "    .dataframe tbody tr th:only-of-type {\n",
              "        vertical-align: middle;\n",
              "    }\n",
              "\n",
              "    .dataframe tbody tr th {\n",
              "        vertical-align: top;\n",
              "    }\n",
              "\n",
              "    .dataframe thead th {\n",
              "        text-align: right;\n",
              "    }\n",
              "</style>\n",
              "<table border=\"1\" class=\"dataframe\">\n",
              "  <thead>\n",
              "    <tr style=\"text-align: right;\">\n",
              "      <th></th>\n",
              "      <th>Level (m)</th>\n",
              "    </tr>\n",
              "  </thead>\n",
              "  <tbody>\n",
              "    <tr>\n",
              "      <th>count</th>\n",
              "      <td>78822.000000</td>\n",
              "    </tr>\n",
              "    <tr>\n",
              "      <th>mean</th>\n",
              "      <td>1.453701</td>\n",
              "    </tr>\n",
              "    <tr>\n",
              "      <th>std</th>\n",
              "      <td>0.113859</td>\n",
              "    </tr>\n",
              "    <tr>\n",
              "      <th>min</th>\n",
              "      <td>0.000000</td>\n",
              "    </tr>\n",
              "    <tr>\n",
              "      <th>25%</th>\n",
              "      <td>1.400000</td>\n",
              "    </tr>\n",
              "    <tr>\n",
              "      <th>50%</th>\n",
              "      <td>1.450000</td>\n",
              "    </tr>\n",
              "    <tr>\n",
              "      <th>75%</th>\n",
              "      <td>1.500000</td>\n",
              "    </tr>\n",
              "    <tr>\n",
              "      <th>max</th>\n",
              "      <td>3.300000</td>\n",
              "    </tr>\n",
              "  </tbody>\n",
              "</table>\n",
              "</div>"
            ],
            "text/plain": [
              "          Level (m)\n",
              "count  78822.000000\n",
              "mean       1.453701\n",
              "std        0.113859\n",
              "min        0.000000\n",
              "25%        1.400000\n",
              "50%        1.450000\n",
              "75%        1.500000\n",
              "max        3.300000"
            ]
          },
          "metadata": {
            "tags": []
          },
          "execution_count": 113
        }
      ]
    },
    {
      "cell_type": "code",
      "metadata": {
        "id": "o7cRqUYWcGu5",
        "colab_type": "code",
        "outputId": "860a347c-71f9-4e92-fa65-d873bbb46dc3",
        "colab": {
          "base_uri": "https://localhost:8080/",
          "height": 299
        }
      },
      "source": [
        "df_water_level.plot(y='Level (m)')  \n",
        "plt.title('Water Level')  \n",
        "plt.xlabel('Time (hours)')  \n",
        "plt.ylabel('Max Level')  \n",
        "plt.show() "
      ],
      "execution_count": 114,
      "outputs": [
        {
          "output_type": "display_data",
          "data": {
            "image/png": "[encoded data removed]",
            "text/plain": [
              "<Figure size 432x288 with 1 Axes>"
            ]
          },
          "metadata": {
            "tags": []
          }
        }
      ]
    },
    {
      "cell_type": "markdown",
      "metadata": {
        "colab_type": "text",
        "id": "bVKBDa5tLiiO"
      },
      "source": [
        "### Combining dataset"
      ]
    },
    {
      "cell_type": "code",
      "metadata": {
        "id": "P-KN4PKgct8z",
        "colab_type": "code",
        "outputId": "b579279e-b268-4de9-8b93-7079879425df",
        "colab": {
          "base_uri": "https://localhost:8080/",
          "height": 206
        }
      },
      "source": [
        "#dataset merged on date_time \n",
        "dataset = pandas.merge(df_rain, df_water_level, how='outer', on=['Date/Time'])\n",
        "dataset.head()"
      ],
      "execution_count": 115,
      "outputs": [
        {
          "output_type": "execute_result",
          "data": {
            "text/html": [
              "<div>\n",
              "<style scoped>\n",
              "    .dataframe tbody tr th:only-of-type {\n",
              "        vertical-align: middle;\n",
              "    }\n",
              "\n",
              "    .dataframe tbody tr th {\n",
              "        vertical-align: top;\n",
              "    }\n",
              "\n",
              "    .dataframe thead th {\n",
              "        text-align: right;\n",
              "    }\n",
              "</style>\n",
              "<table border=\"1\" class=\"dataframe\">\n",
              "  <thead>\n",
              "    <tr style=\"text-align: right;\">\n",
              "      <th></th>\n",
              "      <th>Date/Time</th>\n",
              "      <th>Current rainfall (mm)</th>\n",
              "      <th>Cumulative rainfall (mm)</th>\n",
              "      <th>Level (m)</th>\n",
              "    </tr>\n",
              "  </thead>\n",
              "  <tbody>\n",
              "    <tr>\n",
              "      <th>0</th>\n",
              "      <td>2018-12-02 18:00:00</td>\n",
              "      <td>0.0</td>\n",
              "      <td>0.0</td>\n",
              "      <td>NaN</td>\n",
              "    </tr>\n",
              "    <tr>\n",
              "      <th>1</th>\n",
              "      <td>2018-12-02 17:00:00</td>\n",
              "      <td>0.0</td>\n",
              "      <td>0.0</td>\n",
              "      <td>1.61</td>\n",
              "    </tr>\n",
              "    <tr>\n",
              "      <th>2</th>\n",
              "      <td>2018-12-02 16:00:00</td>\n",
              "      <td>0.0</td>\n",
              "      <td>0.0</td>\n",
              "      <td>1.61</td>\n",
              "    </tr>\n",
              "    <tr>\n",
              "      <th>3</th>\n",
              "      <td>2018-12-02 15:00:00</td>\n",
              "      <td>0.0</td>\n",
              "      <td>0.0</td>\n",
              "      <td>1.62</td>\n",
              "    </tr>\n",
              "    <tr>\n",
              "      <th>4</th>\n",
              "      <td>2018-12-02 14:00:00</td>\n",
              "      <td>0.0</td>\n",
              "      <td>0.0</td>\n",
              "      <td>1.63</td>\n",
              "    </tr>\n",
              "  </tbody>\n",
              "</table>\n",
              "</div>"
            ],
            "text/plain": [
              "             Date/Time  ...  Level (m)\n",
              "0  2018-12-02 18:00:00  ...        NaN\n",
              "1  2018-12-02 17:00:00  ...       1.61\n",
              "2  2018-12-02 16:00:00  ...       1.61\n",
              "3  2018-12-02 15:00:00  ...       1.62\n",
              "4  2018-12-02 14:00:00  ...       1.63\n",
              "\n",
              "[5 rows x 4 columns]"
            ]
          },
          "metadata": {
            "tags": []
          },
          "execution_count": 115
        }
      ]
    },
    {
      "cell_type": "markdown",
      "metadata": {
        "colab_type": "text",
        "id": "hSdPHvntNP3A"
      },
      "source": [
        "### Filling missing values"
      ]
    },
    {
      "cell_type": "code",
      "metadata": {
        "id": "fsuC1c5D8vTC",
        "colab_type": "code",
        "outputId": "1d7f0143-3f00-446c-f145-95050a6e8af5",
        "colab": {
          "base_uri": "https://localhost:8080/",
          "height": 206
        }
      },
      "source": [
        "#filling all missing values with mean of the column\n",
        "dataset['Cumulative rainfall (mm)'] = dataset['Cumulative rainfall (mm)'].fillna(dataset['Cumulative rainfall (mm)'].mean())\n",
        "dataset['Level (m)'] = dataset['Level (m)'].fillna(dataset['Level (m)'].mean())\n",
        "\n",
        "dataset.head()"
      ],
      "execution_count": 116,
      "outputs": [
        {
          "output_type": "execute_result",
          "data": {
            "text/html": [
              "<div>\n",
              "<style scoped>\n",
              "    .dataframe tbody tr th:only-of-type {\n",
              "        vertical-align: middle;\n",
              "    }\n",
              "\n",
              "    .dataframe tbody tr th {\n",
              "        vertical-align: top;\n",
              "    }\n",
              "\n",
              "    .dataframe thead th {\n",
              "        text-align: right;\n",
              "    }\n",
              "</style>\n",
              "<table border=\"1\" class=\"dataframe\">\n",
              "  <thead>\n",
              "    <tr style=\"text-align: right;\">\n",
              "      <th></th>\n",
              "      <th>Date/Time</th>\n",
              "      <th>Current rainfall (mm)</th>\n",
              "      <th>Cumulative rainfall (mm)</th>\n",
              "      <th>Level (m)</th>\n",
              "    </tr>\n",
              "  </thead>\n",
              "  <tbody>\n",
              "    <tr>\n",
              "      <th>0</th>\n",
              "      <td>2018-12-02 18:00:00</td>\n",
              "      <td>0.0</td>\n",
              "      <td>0.0</td>\n",
              "      <td>1.453701</td>\n",
              "    </tr>\n",
              "    <tr>\n",
              "      <th>1</th>\n",
              "      <td>2018-12-02 17:00:00</td>\n",
              "      <td>0.0</td>\n",
              "      <td>0.0</td>\n",
              "      <td>1.610000</td>\n",
              "    </tr>\n",
              "    <tr>\n",
              "      <th>2</th>\n",
              "      <td>2018-12-02 16:00:00</td>\n",
              "      <td>0.0</td>\n",
              "      <td>0.0</td>\n",
              "      <td>1.610000</td>\n",
              "    </tr>\n",
              "    <tr>\n",
              "      <th>3</th>\n",
              "      <td>2018-12-02 15:00:00</td>\n",
              "      <td>0.0</td>\n",
              "      <td>0.0</td>\n",
              "      <td>1.620000</td>\n",
              "    </tr>\n",
              "    <tr>\n",
              "      <th>4</th>\n",
              "      <td>2018-12-02 14:00:00</td>\n",
              "      <td>0.0</td>\n",
              "      <td>0.0</td>\n",
              "      <td>1.630000</td>\n",
              "    </tr>\n",
              "  </tbody>\n",
              "</table>\n",
              "</div>"
            ],
            "text/plain": [
              "             Date/Time  ...  Level (m)\n",
              "0  2018-12-02 18:00:00  ...   1.453701\n",
              "1  2018-12-02 17:00:00  ...   1.610000\n",
              "2  2018-12-02 16:00:00  ...   1.610000\n",
              "3  2018-12-02 15:00:00  ...   1.620000\n",
              "4  2018-12-02 14:00:00  ...   1.630000\n",
              "\n",
              "[5 rows x 4 columns]"
            ]
          },
          "metadata": {
            "tags": []
          },
          "execution_count": 116
        }
      ]
    },
    {
      "cell_type": "markdown",
      "metadata": {
        "colab_type": "text",
        "id": "NNOjeKR0P1XP"
      },
      "source": [
        "### Removing unwanted columns"
      ]
    },
    {
      "cell_type": "code",
      "metadata": {
        "id": "RrcYNT2I85aT",
        "colab_type": "code",
        "outputId": "06c56106-f477-4a34-f115-0d4c0202fcc4",
        "colab": {
          "base_uri": "https://localhost:8080/",
          "height": 34
        }
      },
      "source": [
        "dataset = dataset.drop(columns=['Current rainfall (mm)', 'Date/Time'])\n",
        "dataset.shape"
      ],
      "execution_count": 117,
      "outputs": [
        {
          "output_type": "execute_result",
          "data": {
            "text/plain": [
              "(78850, 2)"
            ]
          },
          "metadata": {
            "tags": []
          },
          "execution_count": 117
        }
      ]
    },
    {
      "cell_type": "code",
      "metadata": {
        "scrolled": true,
        "id": "geJ2EXFdGrrP",
        "colab_type": "code",
        "outputId": "6e1b15e0-4c02-4efa-8818-3957ad4e077d",
        "colab": {
          "base_uri": "https://localhost:8080/",
          "height": 299
        }
      },
      "source": [
        "plt.plot(dataset)\n",
        "plt.title('Combined dataset')  \n",
        "plt.xlabel('Time (hours)')  \n",
        "plt.ylabel('')  \n",
        "rainfall = mpatches.Patch(color='C0', label='Rainfall')\n",
        "level = mpatches.Patch(color='C1', label='Water level')\n",
        "plt.legend(handles=[rainfall,level])\n",
        "plt.show() "
      ],
      "execution_count": 118,
      "outputs": [
        {
          "output_type": "display_data",
          "data": {
            "image/png": "[encoded data removed]",
            "text/plain": [
              "<Figure size 432x288 with 1 Axes>"
            ]
          },
          "metadata": {
            "tags": []
          }
        }
      ]
    },
    {
      "cell_type": "markdown",
      "metadata": {
        "colab_type": "text",
        "id": "XZE1yqIRL8NB"
      },
      "source": [
        "### Scaling dataset "
      ]
    },
    {
      "cell_type": "code",
      "metadata": {
        "id": "_p8QSsCoGrrc",
        "colab_type": "code",
        "colab": {}
      },
      "source": [
        "# normalize the dataset (LSTMs are sensitive to the scale of the input data)\n",
        "scaler  = MinMaxScaler(feature_range=(0, 1))\n",
        "dataset = scaler.fit_transform(dataset)"
      ],
      "execution_count": 0,
      "outputs": []
    },
    {
      "cell_type": "code",
      "metadata": {
        "id": "ystTRNmaCAoD",
        "colab_type": "code",
        "outputId": "9f41f66d-cf24-4709-f8d2-daa59934964b",
        "colab": {
          "base_uri": "https://localhost:8080/",
          "height": 299
        }
      },
      "source": [
        "plt.plot(dataset)\n",
        "plt.title('Scaled dataset')  \n",
        "plt.xlabel('Time (hours)')  \n",
        "plt.ylabel('')  \n",
        "rainfall = mpatches.Patch(color='C0', label='Rainfall')\n",
        "level = mpatches.Patch(color='C1', label='Water level')\n",
        "plt.legend(handles=[rainfall,level])\n",
        "plt.show() "
      ],
      "execution_count": 120,
      "outputs": [
        {
          "output_type": "display_data",
          "data": {
            "image/png": "[encoded data removed]",
            "text/plain": [
              "<Figure size 432x288 with 1 Axes>"
            ]
          },
          "metadata": {
            "tags": []
          }
        }
      ]
    },
    {
      "cell_type": "markdown",
      "metadata": {
        "colab_type": "text",
        "id": "MaqkAsJ8RByP"
      },
      "source": [
        "# Training "
      ]
    },
    {
      "cell_type": "markdown",
      "metadata": {
        "colab_type": "text",
        "id": "SepyoWQPl1Yu"
      },
      "source": [
        "#### Dataset sliding window (Multivariate)"
      ]
    },
    {
      "cell_type": "code",
      "metadata": {
        "colab_type": "code",
        "id": "y48tr9m2l1Y4",
        "colab": {}
      },
      "source": [
        "# convert series to supervised learning\n",
        "def series_to_supervised(data, n_in=1, n_out=1, dropnan=True):\n",
        "\tn_vars = 1 if type(data) is list else data.shape[1]\n",
        "\tdf = pandas.DataFrame(data)\n",
        "\tcols, names = list(), list()\n",
        "\t# input sequence (t-n, ... t-1)\n",
        "\tfor i in range(n_in, 0, -1):\n",
        "\t\tcols.append(df.shift(i))\n",
        "\t\tnames += [('var%d(t-%d)' % (j+1, i)) for j in range(n_vars)]\n",
        "\t# forecast sequence (t, t+1, ... t+n)\n",
        "\tfor i in range(0, n_out):\n",
        "\t\tcols.append(df.shift(-i))\n",
        "\t\tif i == 0:\n",
        "\t\t\tnames += [('var%d(t)' % (j+1)) for j in range(n_vars)]\n",
        "\t\telse:\n",
        "\t\t\tnames += [('var%d(t+%d)' % (j+1, i)) for j in range(n_vars)]\n",
        "\t# put it all together\n",
        "\tagg = pandas.concat(cols, axis=1)\n",
        "\tagg.columns = names\n",
        "\t# drop rows with NaN values\n",
        "\tif dropnan:\n",
        "\t\tagg.dropna(inplace=True)\n",
        "\treturn agg"
      ],
      "execution_count": 0,
      "outputs": []
    },
    {
      "cell_type": "code",
      "metadata": {
        "colab_type": "code",
        "id": "ImzAD_whl1ZN",
        "outputId": "8fdcaee5-3917-4f96-cb54-7200c138f020",
        "colab": {
          "base_uri": "https://localhost:8080/",
          "height": 34
        }
      },
      "source": [
        "# specify the number of lag hours\n",
        "n_hours = 10\n",
        "n_features = 2\n",
        "# frame as supervised learning\n",
        "reframed = series_to_supervised(dataset, n_hours, 1)\n",
        "print(reframed.shape)"
      ],
      "execution_count": 122,
      "outputs": [
        {
          "output_type": "stream",
          "text": [
            "(78840, 22)\n"
          ],
          "name": "stdout"
        }
      ]
    },
    {
      "cell_type": "markdown",
      "metadata": {
        "id": "r2ZTVlWFTTxq",
        "colab_type": "text"
      },
      "source": [
        "#### Spliting data to training and test set"
      ]
    },
    {
      "cell_type": "code",
      "metadata": {
        "colab_type": "code",
        "id": "1JRT_sYWl1Za",
        "colab": {}
      },
      "source": [
        "# split into train, validation and test sets (approx 70%, 15%, 15%)\n",
        "values = reframed.values\n",
        "n_train_hours = 55100\n",
        "n_test_offset = 66900\n",
        "train = values[:n_train_hours, :]\n",
        "validate= values[n_train_hours:n_test_offset, :]\n",
        "test = values[n_test_offset:, :]"
      ],
      "execution_count": 0,
      "outputs": []
    },
    {
      "cell_type": "code",
      "metadata": {
        "id": "ZQGSFBbeu6qq",
        "colab_type": "code",
        "outputId": "5331500f-01d2-4e78-8f5e-67c0768158e4",
        "colab": {
          "base_uri": "https://localhost:8080/",
          "height": 69
        }
      },
      "source": [
        "#training data shape\n",
        "print(train.shape)\n",
        "#test data shape\n",
        "print(test.shape)\n",
        "#test data shape\n",
        "print(validate.shape)"
      ],
      "execution_count": 124,
      "outputs": [
        {
          "output_type": "stream",
          "text": [
            "(55100, 22)\n",
            "(11940, 22)\n",
            "(11800, 22)\n"
          ],
          "name": "stdout"
        }
      ]
    },
    {
      "cell_type": "code",
      "metadata": {
        "colab_type": "code",
        "id": "bP58jSz1l1Zm",
        "outputId": "0d0a602e-8330-44f5-ae65-634b2015fed7",
        "colab": {
          "base_uri": "https://localhost:8080/",
          "height": 34
        }
      },
      "source": [
        "# split into input and outputs\n",
        "n_obs = n_hours * n_features\n",
        "train_X, train_y = train[:, :n_obs], train[:, -1]\n",
        "test_X, test_y = test[:, :n_obs], test[:, -1]\n",
        "validate_X, validate_y = validate[:, :n_obs], validate[:, -1]\n",
        "print(train_X.shape, len(train_X), train_y.shape)"
      ],
      "execution_count": 125,
      "outputs": [
        {
          "output_type": "stream",
          "text": [
            "(55100, 20) 55100 (55100,)\n"
          ],
          "name": "stdout"
        }
      ]
    },
    {
      "cell_type": "markdown",
      "metadata": {
        "id": "A-_uBFAKTsm0",
        "colab_type": "text"
      },
      "source": [
        "#### Reshaping to LSTM input format"
      ]
    },
    {
      "cell_type": "code",
      "metadata": {
        "id": "d19VlZtWmvAq",
        "colab_type": "code",
        "outputId": "77d296fb-8386-43f5-8909-477eab82d94a",
        "colab": {
          "base_uri": "https://localhost:8080/",
          "height": 34
        }
      },
      "source": [
        "# reshape input to be 3D [samples, timesteps, features]\n",
        "train_X = train_X.reshape((train_X.shape[0], n_hours, n_features))\n",
        "test_X = test_X.reshape((test_X.shape[0], n_hours, n_features))\n",
        "validate_X = validate_X.reshape((validate_X.shape[0], n_hours, n_features))\n",
        "print(train_X.shape, train_y.shape, test_X.shape, test_y.shape, validate_X.shape, validate_y.shape)"
      ],
      "execution_count": 154,
      "outputs": [
        {
          "output_type": "stream",
          "text": [
            "(55100, 10, 2) (55100,) (11940, 10, 2) (11940, 1) (11800, 10, 2) (11800,)\n"
          ],
          "name": "stdout"
        }
      ]
    },
    {
      "cell_type": "markdown",
      "metadata": {
        "colab_type": "text",
        "id": "uc7YZ_7NSJoJ"
      },
      "source": [
        "## Model (LSTM)"
      ]
    },
    {
      "cell_type": "code",
      "metadata": {
        "id": "GVJE3ZupWw7b",
        "colab_type": "code",
        "colab": {}
      },
      "source": [
        "#Setup the LSTM model (multivariate)\n",
        "\n",
        "model = Sequential()\n",
        "model.add(LSTM(50, activation='tanh', input_shape=(train_X.shape[1], train_X.shape[2])))\n",
        "model.add(Dense(1))\n",
        "model.compile(loss='mse', optimizer='adam')\n"
      ],
      "execution_count": 0,
      "outputs": []
    },
    {
      "cell_type": "code",
      "metadata": {
        "id": "BJXMV979XKrq",
        "colab_type": "code",
        "outputId": "c322d834-d2d7-489e-c381-f1b2fbc05717",
        "colab": {
          "base_uri": "https://localhost:8080/",
          "height": 225
        }
      },
      "source": [
        "model.summary()"
      ],
      "execution_count": 128,
      "outputs": [
        {
          "output_type": "stream",
          "text": [
            "Model: \"sequential_7\"\n",
            "_________________________________________________________________\n",
            "Layer (type)                 Output Shape              Param #   \n",
            "=================================================================\n",
            "lstm_7 (LSTM)                (None, 50)                10600     \n",
            "_________________________________________________________________\n",
            "dense_7 (Dense)              (None, 1)                 51        \n",
            "=================================================================\n",
            "Total params: 10,651\n",
            "Trainable params: 10,651\n",
            "Non-trainable params: 0\n",
            "_________________________________________________________________\n"
          ],
          "name": "stdout"
        }
      ]
    },
    {
      "cell_type": "markdown",
      "metadata": {
        "colab_type": "text",
        "id": "NcODng0NWxh_"
      },
      "source": [
        "## Model Learning"
      ]
    },
    {
      "cell_type": "markdown",
      "metadata": {
        "id": "EByuGYMII7XW",
        "colab_type": "text"
      },
      "source": [
        "### training and validation"
      ]
    },
    {
      "cell_type": "code",
      "metadata": {
        "id": "dgt8J7MWGrsb",
        "colab_type": "code",
        "outputId": "b7a811b9-fc8c-4d2f-fa1d-3ecdf1814195",
        "colab": {
          "base_uri": "https://localhost:8080/",
          "height": 1000
        }
      },
      "source": [
        "#training : 50 epochs and batch size 64\n",
        "history = model.fit(train_X, train_y, nb_epoch=50, batch_size=64, validation_data=(validate_X, validate_y), verbose=2, shuffle=False)"
      ],
      "execution_count": 129,
      "outputs": [
        {
          "output_type": "stream",
          "text": [
            "/usr/local/lib/python3.6/dist-packages/ipykernel_launcher.py:1: UserWarning: The `nb_epoch` argument in `fit` has been renamed `epochs`.\n",
            "  \"\"\"Entry point for launching an IPython kernel.\n"
          ],
          "name": "stderr"
        },
        {
          "output_type": "stream",
          "text": [
            "Train on 55100 samples, validate on 11800 samples\n",
            "Epoch 1/50\n",
            " - 10s - loss: 0.0019 - val_loss: 2.5777e-04\n",
            "Epoch 2/50\n",
            " - 8s - loss: 1.9548e-04 - val_loss: 2.2306e-04\n",
            "Epoch 3/50\n",
            " - 9s - loss: 1.7477e-04 - val_loss: 1.9934e-04\n",
            "Epoch 4/50\n",
            " - 8s - loss: 1.5704e-04 - val_loss: 1.7860e-04\n",
            "Epoch 5/50\n",
            " - 8s - loss: 1.4253e-04 - val_loss: 1.6125e-04\n",
            "Epoch 6/50\n",
            " - 8s - loss: 1.2997e-04 - val_loss: 1.4611e-04\n",
            "Epoch 7/50\n",
            " - 8s - loss: 1.1877e-04 - val_loss: 1.3180e-04\n",
            "Epoch 8/50\n",
            " - 8s - loss: 1.0943e-04 - val_loss: 1.1975e-04\n",
            "Epoch 9/50\n",
            " - 8s - loss: 1.0135e-04 - val_loss: 1.0963e-04\n",
            "Epoch 10/50\n",
            " - 8s - loss: 9.4539e-05 - val_loss: 1.0124e-04\n",
            "Epoch 11/50\n",
            " - 8s - loss: 8.9379e-05 - val_loss: 9.4677e-05\n",
            "Epoch 12/50\n",
            " - 8s - loss: 8.5780e-05 - val_loss: 8.9514e-05\n",
            "Epoch 13/50\n",
            " - 8s - loss: 8.3320e-05 - val_loss: 8.5517e-05\n",
            "Epoch 14/50\n",
            " - 8s - loss: 8.1762e-05 - val_loss: 8.2686e-05\n",
            "Epoch 15/50\n",
            " - 8s - loss: 8.0897e-05 - val_loss: 8.0898e-05\n",
            "Epoch 16/50\n",
            " - 8s - loss: 8.0446e-05 - val_loss: 7.9867e-05\n",
            "Epoch 17/50\n",
            " - 8s - loss: 8.0179e-05 - val_loss: 7.9287e-05\n",
            "Epoch 18/50\n",
            " - 8s - loss: 7.9977e-05 - val_loss: 7.8925e-05\n",
            "Epoch 19/50\n",
            " - 8s - loss: 7.9793e-05 - val_loss: 7.8669e-05\n",
            "Epoch 20/50\n",
            " - 8s - loss: 7.9619e-05 - val_loss: 7.8481e-05\n",
            "Epoch 21/50\n",
            " - 8s - loss: 7.9450e-05 - val_loss: 7.8332e-05\n",
            "Epoch 22/50\n",
            " - 8s - loss: 7.9284e-05 - val_loss: 7.8208e-05\n",
            "Epoch 23/50\n",
            " - 8s - loss: 7.9121e-05 - val_loss: 7.8097e-05\n",
            "Epoch 24/50\n",
            " - 8s - loss: 7.8962e-05 - val_loss: 7.7996e-05\n",
            "Epoch 25/50\n",
            " - 8s - loss: 7.8813e-05 - val_loss: 7.7903e-05\n",
            "Epoch 26/50\n",
            " - 8s - loss: 7.8673e-05 - val_loss: 7.7812e-05\n",
            "Epoch 27/50\n",
            " - 8s - loss: 7.8541e-05 - val_loss: 7.7719e-05\n",
            "Epoch 28/50\n",
            " - 8s - loss: 7.8415e-05 - val_loss: 7.7623e-05\n",
            "Epoch 29/50\n",
            " - 8s - loss: 7.8295e-05 - val_loss: 7.7529e-05\n",
            "Epoch 30/50\n",
            " - 8s - loss: 7.8181e-05 - val_loss: 7.7436e-05\n",
            "Epoch 31/50\n",
            " - 8s - loss: 7.8074e-05 - val_loss: 7.7344e-05\n",
            "Epoch 32/50\n",
            " - 8s - loss: 7.7970e-05 - val_loss: 7.7250e-05\n",
            "Epoch 33/50\n",
            " - 8s - loss: 7.7868e-05 - val_loss: 7.7156e-05\n",
            "Epoch 34/50\n",
            " - 8s - loss: 7.7766e-05 - val_loss: 7.7070e-05\n",
            "Epoch 35/50\n",
            " - 8s - loss: 7.7668e-05 - val_loss: 7.6985e-05\n",
            "Epoch 36/50\n",
            " - 8s - loss: 7.7576e-05 - val_loss: 7.6898e-05\n",
            "Epoch 37/50\n",
            " - 8s - loss: 7.7487e-05 - val_loss: 7.6812e-05\n",
            "Epoch 38/50\n",
            " - 8s - loss: 7.7400e-05 - val_loss: 7.6728e-05\n",
            "Epoch 39/50\n",
            " - 8s - loss: 7.7316e-05 - val_loss: 7.6646e-05\n",
            "Epoch 40/50\n",
            " - 8s - loss: 7.7234e-05 - val_loss: 7.6564e-05\n",
            "Epoch 41/50\n",
            " - 8s - loss: 7.7155e-05 - val_loss: 7.6481e-05\n",
            "Epoch 42/50\n",
            " - 8s - loss: 7.7079e-05 - val_loss: 7.6399e-05\n",
            "Epoch 43/50\n",
            " - 8s - loss: 7.7006e-05 - val_loss: 7.6317e-05\n",
            "Epoch 44/50\n",
            " - 8s - loss: 7.6938e-05 - val_loss: 7.6240e-05\n",
            "Epoch 45/50\n",
            " - 8s - loss: 7.6873e-05 - val_loss: 7.6167e-05\n",
            "Epoch 46/50\n",
            " - 8s - loss: 7.6810e-05 - val_loss: 7.6097e-05\n",
            "Epoch 47/50\n",
            " - 8s - loss: 7.6750e-05 - val_loss: 7.6026e-05\n",
            "Epoch 48/50\n",
            " - 8s - loss: 7.6691e-05 - val_loss: 7.5955e-05\n",
            "Epoch 49/50\n",
            " - 8s - loss: 7.6635e-05 - val_loss: 7.5882e-05\n",
            "Epoch 50/50\n",
            " - 8s - loss: 7.6580e-05 - val_loss: 7.5809e-05\n"
          ],
          "name": "stdout"
        }
      ]
    },
    {
      "cell_type": "markdown",
      "metadata": {
        "id": "ZN5uRnRFNNUv",
        "colab_type": "text"
      },
      "source": [
        "###Model Evaluation-"
      ]
    },
    {
      "cell_type": "code",
      "metadata": {
        "id": "cN60JNciy6gW",
        "colab_type": "code",
        "colab": {
          "base_uri": "https://localhost:8080/",
          "height": 299
        },
        "outputId": "9af192a3-5528-4612-c164-724bd086f1c4"
      },
      "source": [
        "# plot loss during training\n",
        "pyplot.plot(history.history['loss'], label='train')\n",
        "pyplot.plot(history.history['val_loss'], label='validation')\n",
        "pyplot.title('model train vs validation loss')\n",
        "plt.xlabel('no of epochs')  \n",
        "plt.ylabel('loss') \n",
        "pyplot.legend(['train', 'validation'], loc='upper right')\n",
        "pyplot.show()"
      ],
      "execution_count": 130,
      "outputs": [
        {
          "output_type": "display_data",
          "data": {
            "image/png": "[encoded data removed]",
            "text/plain": [
              "<Figure size 432x288 with 1 Axes>"
            ]
          },
          "metadata": {
            "tags": []
          }
        }
      ]
    },
    {
      "cell_type": "code",
      "metadata": {
        "colab_type": "code",
        "outputId": "0e8b9139-2215-48bc-acf8-f52064115f07",
        "id": "SzD8So7o9Pyw",
        "colab": {
          "base_uri": "https://localhost:8080/",
          "height": 86
        }
      },
      "source": [
        "# model RMSE\n",
        "train_score = model.evaluate(train_X, train_y, verbose=1)\n",
        "train_score = math.sqrt(train_score)\n",
        "print('Train Score: %.2f RMSE' % (train_score))\n",
        "\n",
        "validation_score = model.evaluate(validate_X, validate_y, verbose=1)\n",
        "validation_score = math.sqrt(validation_score)\n",
        "print('Validation Score: %.2f RMSE' % (validation_score))"
      ],
      "execution_count": 131,
      "outputs": [
        {
          "output_type": "stream",
          "text": [
            "55100/55100 [==============================] - 3s 56us/step\n",
            "Train Score: 0.01 RMSE\n",
            "11800/11800 [==============================] - 1s 56us/step\n",
            "Validation Score: 0.01 RMSE\n"
          ],
          "name": "stdout"
        }
      ]
    },
    {
      "cell_type": "markdown",
      "metadata": {
        "colab_type": "text",
        "id": "3frrx2cbSgTe"
      },
      "source": [
        "# Testing"
      ]
    },
    {
      "cell_type": "markdown",
      "metadata": {
        "colab_type": "text",
        "id": "V-xmRveXS7iH"
      },
      "source": [
        "### predictions using unseen test data \n",
        "#### 10 hours ahead of time prediction\n",
        "\n",
        "\n",
        "\n",
        "\n",
        "\n"
      ]
    },
    {
      "cell_type": "code",
      "metadata": {
        "id": "ZU9Lei9OOyiV",
        "colab_type": "code",
        "colab": {}
      },
      "source": [
        "# make predictions\n",
        "predictions = model.predict(test_X)\n",
        "test_X = test_X.reshape((test_X.shape[0], n_hours*n_features))"
      ],
      "execution_count": 0,
      "outputs": []
    },
    {
      "cell_type": "code",
      "metadata": {
        "id": "iqKGvLHMOt-H",
        "colab_type": "code",
        "colab": {}
      },
      "source": [
        "# invert scaling for forecast\n",
        "inv_predictions = concatenate((test_X[:,-1:],predictions), axis=1)\n",
        "\n",
        "inv_predictions = scaler.inverse_transform(inv_predictions)\n",
        "\n",
        "inv_predictions = inv_predictions[:,1]"
      ],
      "execution_count": 0,
      "outputs": []
    },
    {
      "cell_type": "code",
      "metadata": {
        "id": "itemiBYFPjBp",
        "colab_type": "code",
        "colab": {}
      },
      "source": [
        "# invert scaling for actual\n",
        "test_y = test_y.reshape((len(test_y), 1))\n",
        "inv_waterlelvels = concatenate((test_X[:, -1:],test_y), axis=1)\n",
        "inv_waterlelvels = scaler.inverse_transform(inv_waterlelvels)\n",
        "inv_waterlelvels = inv_waterlelvels[:,1]"
      ],
      "execution_count": 0,
      "outputs": []
    },
    {
      "cell_type": "markdown",
      "metadata": {
        "id": "AqeEbA4hMqYp",
        "colab_type": "text"
      },
      "source": [
        "###Model performance on unseen data"
      ]
    },
    {
      "cell_type": "code",
      "metadata": {
        "id": "2doGXnQYO7Ff",
        "colab_type": "code",
        "colab": {
          "base_uri": "https://localhost:8080/",
          "height": 34
        },
        "outputId": "07375def-d73c-42f8-c9ae-c505eda6090b"
      },
      "source": [
        "# calculate RMSE\n",
        "rmse = sqrt(mean_squared_error(inv_waterlelvels, inv_predictions))\n",
        "print('Test RMSE: %.3f' % rmse)"
      ],
      "execution_count": 159,
      "outputs": [
        {
          "output_type": "stream",
          "text": [
            "Test RMSE: 0.038\n"
          ],
          "name": "stdout"
        }
      ]
    },
    {
      "cell_type": "code",
      "metadata": {
        "id": "8yadiOzmgAEL",
        "colab_type": "code",
        "colab": {
          "base_uri": "https://localhost:8080/",
          "height": 585
        },
        "outputId": "b3289ed3-a0aa-4d5b-9472-0400d1e1b408"
      },
      "source": [
        "print('----------------- Predicted ---------------')\n",
        "plt.plot(inv_predictions)\n",
        "plt.xlabel('Time (hours)')  \n",
        "plt.ylabel('Water level (m)') \n",
        "plt.show()\n",
        "print('----------------- Ground Truth ---------------')\n",
        "plt.plot(inv_waterlelvels)\n",
        "plt.xlabel('Time (hours)')  \n",
        "plt.ylabel('Water level (m)') \n",
        "plt.show()"
      ],
      "execution_count": 160,
      "outputs": [
        {
          "output_type": "stream",
          "text": [
            "----------------- Predicted ---------------\n"
          ],
          "name": "stdout"
        },
        {
          "output_type": "display_data",
          "data": {
            "image/png": "[encoded data removed]",
            "text/plain": [
              "<Figure size 432x288 with 1 Axes>"
            ]
          },
          "metadata": {
            "tags": []
          }
        },
        {
          "output_type": "stream",
          "text": [
            "----------------- Ground Truth ---------------\n"
          ],
          "name": "stdout"
        },
        {
          "output_type": "display_data",
          "data": {
            "image/png": "[encoded data removed]",
            "text/plain": [
              "<Figure size 432x288 with 1 Axes>"
            ]
          },
          "metadata": {
            "tags": []
          }
        }
      ]
    },
    {
      "cell_type": "markdown",
      "metadata": {
        "id": "cfGC0mU8hQBh",
        "colab_type": "text"
      },
      "source": [
        "#Demo"
      ]
    },
    {
      "cell_type": "code",
      "metadata": {
        "id": "1m7NEkYthR8H",
        "colab_type": "code",
        "colab": {
          "base_uri": "https://localhost:8080/",
          "height": 121
        },
        "outputId": "862aef0b-732f-4c07-b26f-caa1f679160c"
      },
      "source": [
        "#10 hours historical data (sensor data)\n",
        " realtime_data = {'Cumulative rainfall (mm)': [0.0,0.0,0.0,0.0,0.0,0.0,0.0,0.0,0.0,0.0,0.0],\n",
        "        'Level (m)': [0.44051556,0.44051556,0.44051556,0.42424242,0.42424242,0.42424242,0.42424242,0.42424242,0.42424242,0.42424242,0.42424242]\n",
        "        }\n",
        "demo_df = pandas.DataFrame(realtime_data, columns = ['Cumulative rainfall (mm)', 'Level (m)'])\n",
        "\n",
        "print (demo_df.head())"
      ],
      "execution_count": 162,
      "outputs": [
        {
          "output_type": "stream",
          "text": [
            "   Cumulative rainfall (mm)  Level (m)\n",
            "0                       0.0   0.440516\n",
            "1                       0.0   0.440516\n",
            "2                       0.0   0.440516\n",
            "3                       0.0   0.424242\n",
            "4                       0.0   0.424242\n"
          ],
          "name": "stdout"
        }
      ]
    },
    {
      "cell_type": "code",
      "metadata": {
        "id": "jxYahhMrUu3A",
        "colab_type": "code",
        "colab": {}
      },
      "source": [
        "#scaling data \n",
        "#scaler  = MinMaxScaler(feature_range=(0, 1))\n",
        "#demo_dataset = scaler.fit_transform(demo_df)"
      ],
      "execution_count": 0,
      "outputs": []
    },
    {
      "cell_type": "code",
      "metadata": {
        "id": "15pns3Emjnh0",
        "colab_type": "code",
        "colab": {
          "base_uri": "https://localhost:8080/",
          "height": 69
        },
        "outputId": "2fc4b22b-3720-43c3-da4a-ef087ad38ffb"
      },
      "source": [
        "#reframe\n",
        "demo_data = demo_df.to_numpy()\n",
        "#demo_data = concatenate((demo_data, demo_data,demo_data), axis=1)\n",
        "print(demo_data.shape)\n",
        "reframed_data = series_to_supervised(demo_data, n_hours, 1)\n",
        "reframed_data = reframed_data.values\n",
        "reframed_data = reframed_data[:,:20]\n",
        "print(reframed_data.shape)"
      ],
      "execution_count": 165,
      "outputs": [
        {
          "output_type": "stream",
          "text": [
            "(11, 2)\n",
            "(1, 22)\n",
            "(1, 20)\n"
          ],
          "name": "stdout"
        }
      ]
    },
    {
      "cell_type": "code",
      "metadata": {
        "id": "L-R837buU-Sr",
        "colab_type": "code",
        "colab": {}
      },
      "source": [
        "#reshaping\n",
        "reframed_data = reframed_data.reshape((reframed_data.shape[0], n_hours, n_features))\n",
        "# print(reframed_data.shape)"
      ],
      "execution_count": 0,
      "outputs": []
    },
    {
      "cell_type": "code",
      "metadata": {
        "id": "yT-f1KbCVALh",
        "colab_type": "code",
        "colab": {
          "base_uri": "https://localhost:8080/",
          "height": 34
        },
        "outputId": "f04ea1b5-9c46-4f75-f1cf-7546b381a6c6"
      },
      "source": [
        "#make prediction (10 hours ahead of time)\n",
        "predicted_waterlevel = model.predict(reframed_data)\n",
        "\n",
        "print(predicted_waterlevel)"
      ],
      "execution_count": 175,
      "outputs": [
        {
          "output_type": "stream",
          "text": [
            "[[0.4245644]]\n"
          ],
          "name": "stdout"
        }
      ]
    },
    {
      "cell_type": "code",
      "metadata": {
        "id": "cvRJx4MhVccF",
        "colab_type": "code",
        "colab": {
          "base_uri": "https://localhost:8080/",
          "height": 34
        },
        "outputId": "323514bc-8348-4aba-c0f7-1f0bf5ed611c"
      },
      "source": [
        "# invert scaling for forecast\n",
        "inv_predicted_waterlevel = predicted_waterlevel[0][0] * inv_waterlelvels.max()\n",
        "print(inv_predicted_waterlevel)"
      ],
      "execution_count": 181,
      "outputs": [
        {
          "output_type": "stream",
          "text": [
            "1.4010624915361403\n"
          ],
          "name": "stdout"
        }
      ]
    },
    {
      "cell_type": "code",
      "metadata": {
        "id": "vzfJfbjCAm7o",
        "colab_type": "code",
        "cellView": "both",
        "colab": {
          "base_uri": "https://localhost:8080/",
          "height": 52
        },
        "outputId": "86fff4b4-6469-4549-c1bf-a7046ee93ede"
      },
      "source": [
        "#@title Flood possibility\n",
        "\n",
        "print('Expected water level in 10 hours is %.3f m' % inv_predicted_waterlevel )\n",
        "\n",
        "#based on the dataset it is likely to flood when predicted water level exceeds 1.5 m\n",
        "if (inv_predicted_waterlevel > 1.5):\n",
        "  print(\"FLOOD\")\n",
        "else:\n",
        "  print(\"No FLOOD\")"
      ],
      "execution_count": 187,
      "outputs": [
        {
          "output_type": "stream",
          "text": [
            "Expected water level in 10 hours is 1.401 m\n",
            "No FLOOD\n"
          ],
          "name": "stdout"
        }
      ]
    }
  ]
}