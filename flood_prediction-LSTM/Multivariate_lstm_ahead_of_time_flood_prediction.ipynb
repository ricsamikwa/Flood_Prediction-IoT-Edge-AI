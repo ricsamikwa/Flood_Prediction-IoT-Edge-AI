{
  "nbformat": 4,
  "nbformat_minor": 0,
  "metadata": {
    "kernelspec": {
      "display_name": "Python [keras_tensor]",
      "language": "python",
      "name": "Python [keras_tensor]"
    },
    "language_info": {
      "codemirror_mode": {
        "name": "ipython",
        "version": 2
      },
      "file_extension": ".py",
      "mimetype": "text/x-python",
      "name": "python",
      "nbconvert_exporter": "python",
      "pygments_lexer": "ipython2",
      "version": "2.7.12"
    },
    "colab": {
      "name": "Multivariate-lstm-ahead_of_time-flood_prediction.ipynb",
      "provenance": [],
      "collapsed_sections": [],
      "toc_visible": true
    }
  },
  "cells": [
    {
      "cell_type": "markdown",
      "metadata": {
        "colab_type": "text",
        "id": "23-IctDiUQpC"
      },
      "source": [
        "# Ahead of time flood prediction using LSTM\n",
        "\n"
      ]
    },
    {
      "cell_type": "code",
      "metadata": {
        "id": "n8edV6A8c-q6",
        "colab_type": "code",
        "colab": {}
      },
      "source": [
        "#Flood Early Warning System using IoT and Edge \n",
        "\n",
        "#Eric Samikwa"
      ],
      "execution_count": 0,
      "outputs": []
    },
    {
      "cell_type": "code",
      "metadata": {
        "id": "AKgENOL-GrqZ",
        "colab_type": "code",
        "colab": {}
      },
      "source": [
        "%matplotlib inline\n",
        "\n",
        "from __future__ import print_function\n",
        "\n",
        "import os\n",
        "os.environ[\"THEANO_FLAGS\"] = \"mode=FAST_RUN,device=gpu,floatX=float32\"\n",
        "\n",
        "from math import sqrt\n",
        "import numpy as np\n",
        "import matplotlib.pyplot as plt\n",
        "import pandas\n",
        "import math\n",
        "from matplotlib import pyplot\n",
        "from numpy import concatenate\n",
        "from keras.models import Sequential\n",
        "from keras.layers import Dense     \n",
        "from keras.layers import LSTM\n",
        "from sklearn.preprocessing import MinMaxScaler\n",
        "from sklearn.metrics import mean_squared_error\n",
        "\n",
        "plt.style.use('ggplot')\n"
      ],
      "execution_count": 0,
      "outputs": []
    },
    {
      "cell_type": "markdown",
      "metadata": {
        "id": "7fDsd96fRpZ6",
        "colab_type": "text"
      },
      "source": [
        "# Data pre-processing"
      ]
    },
    {
      "cell_type": "code",
      "metadata": {
        "id": "LkbL9QnDGrqy",
        "colab_type": "code",
        "colab": {}
      },
      "source": [
        "# fix random seed for reproducibility of results\n",
        "np.random.seed(10)"
      ],
      "execution_count": 0,
      "outputs": []
    },
    {
      "cell_type": "markdown",
      "metadata": {
        "colab_type": "text",
        "id": "6m8ovUKRLHzF"
      },
      "source": [
        "### Hourly rainfall data"
      ]
    },
    {
      "cell_type": "code",
      "metadata": {
        "id": "auxIEwH8TpnI",
        "colab_type": "code",
        "colab": {}
      },
      "source": [
        "df_rain = pandas.read_csv(\"/content/hourly_rainfall_train.csv\")"
      ],
      "execution_count": 0,
      "outputs": []
    },
    {
      "cell_type": "code",
      "metadata": {
        "id": "5QuDCp2_UB4f",
        "colab_type": "code",
        "outputId": "d2dd29a6-b00a-4e4e-80a6-5a93164bea0e",
        "colab": {
          "base_uri": "https://localhost:8080/",
          "height": 206
        }
      },
      "source": [
        "#display first 5\n",
        "df_rain.head()"
      ],
      "execution_count": 162,
      "outputs": [
        {
          "output_type": "execute_result",
          "data": {
            "text/html": [
              "<div>\n",
              "<style scoped>\n",
              "    .dataframe tbody tr th:only-of-type {\n",
              "        vertical-align: middle;\n",
              "    }\n",
              "\n",
              "    .dataframe tbody tr th {\n",
              "        vertical-align: top;\n",
              "    }\n",
              "\n",
              "    .dataframe thead th {\n",
              "        text-align: right;\n",
              "    }\n",
              "</style>\n",
              "<table border=\"1\" class=\"dataframe\">\n",
              "  <thead>\n",
              "    <tr style=\"text-align: right;\">\n",
              "      <th></th>\n",
              "      <th>Date/Time</th>\n",
              "      <th>Current rainfall (mm)</th>\n",
              "      <th>Cumulative rainfall (mm)</th>\n",
              "    </tr>\n",
              "  </thead>\n",
              "  <tbody>\n",
              "    <tr>\n",
              "      <th>0</th>\n",
              "      <td>2018-12-02 18:00:00</td>\n",
              "      <td>0.0</td>\n",
              "      <td>0.0</td>\n",
              "    </tr>\n",
              "    <tr>\n",
              "      <th>1</th>\n",
              "      <td>2018-12-02 17:00:00</td>\n",
              "      <td>0.0</td>\n",
              "      <td>0.0</td>\n",
              "    </tr>\n",
              "    <tr>\n",
              "      <th>2</th>\n",
              "      <td>2018-12-02 16:00:00</td>\n",
              "      <td>0.0</td>\n",
              "      <td>0.0</td>\n",
              "    </tr>\n",
              "    <tr>\n",
              "      <th>3</th>\n",
              "      <td>2018-12-02 15:00:00</td>\n",
              "      <td>0.0</td>\n",
              "      <td>0.0</td>\n",
              "    </tr>\n",
              "    <tr>\n",
              "      <th>4</th>\n",
              "      <td>2018-12-02 14:00:00</td>\n",
              "      <td>0.0</td>\n",
              "      <td>0.0</td>\n",
              "    </tr>\n",
              "  </tbody>\n",
              "</table>\n",
              "</div>"
            ],
            "text/plain": [
              "             Date/Time  Current rainfall (mm)  Cumulative rainfall (mm)\n",
              "0  2018-12-02 18:00:00                    0.0                       0.0\n",
              "1  2018-12-02 17:00:00                    0.0                       0.0\n",
              "2  2018-12-02 16:00:00                    0.0                       0.0\n",
              "3  2018-12-02 15:00:00                    0.0                       0.0\n",
              "4  2018-12-02 14:00:00                    0.0                       0.0"
            ]
          },
          "metadata": {
            "tags": []
          },
          "execution_count": 162
        }
      ]
    },
    {
      "cell_type": "code",
      "metadata": {
        "id": "bwEqbjzAUJGA",
        "colab_type": "code",
        "outputId": "34cef913-c543-4de9-a21a-83675b897df5",
        "colab": {
          "base_uri": "https://localhost:8080/",
          "height": 34
        }
      },
      "source": [
        "#dataframe shape\n",
        "df_rain.shape"
      ],
      "execution_count": 163,
      "outputs": [
        {
          "output_type": "execute_result",
          "data": {
            "text/plain": [
              "(78848, 3)"
            ]
          },
          "metadata": {
            "tags": []
          },
          "execution_count": 163
        }
      ]
    },
    {
      "cell_type": "code",
      "metadata": {
        "id": "SolrcBRVUdd1",
        "colab_type": "code",
        "outputId": "44da4250-4c4e-491f-a3fa-4099df0995d3",
        "colab": {
          "base_uri": "https://localhost:8080/",
          "height": 300
        }
      },
      "source": [
        "#dataset properties\n",
        "df_rain.describe()  \n"
      ],
      "execution_count": 164,
      "outputs": [
        {
          "output_type": "execute_result",
          "data": {
            "text/html": [
              "<div>\n",
              "<style scoped>\n",
              "    .dataframe tbody tr th:only-of-type {\n",
              "        vertical-align: middle;\n",
              "    }\n",
              "\n",
              "    .dataframe tbody tr th {\n",
              "        vertical-align: top;\n",
              "    }\n",
              "\n",
              "    .dataframe thead th {\n",
              "        text-align: right;\n",
              "    }\n",
              "</style>\n",
              "<table border=\"1\" class=\"dataframe\">\n",
              "  <thead>\n",
              "    <tr style=\"text-align: right;\">\n",
              "      <th></th>\n",
              "      <th>Current rainfall (mm)</th>\n",
              "      <th>Cumulative rainfall (mm)</th>\n",
              "    </tr>\n",
              "  </thead>\n",
              "  <tbody>\n",
              "    <tr>\n",
              "      <th>count</th>\n",
              "      <td>78844.000000</td>\n",
              "      <td>78847.000000</td>\n",
              "    </tr>\n",
              "    <tr>\n",
              "      <th>mean</th>\n",
              "      <td>0.049206</td>\n",
              "      <td>0.586580</td>\n",
              "    </tr>\n",
              "    <tr>\n",
              "      <th>std</th>\n",
              "      <td>0.765296</td>\n",
              "      <td>2.770216</td>\n",
              "    </tr>\n",
              "    <tr>\n",
              "      <th>min</th>\n",
              "      <td>0.000000</td>\n",
              "      <td>0.000000</td>\n",
              "    </tr>\n",
              "    <tr>\n",
              "      <th>25%</th>\n",
              "      <td>0.000000</td>\n",
              "      <td>0.000000</td>\n",
              "    </tr>\n",
              "    <tr>\n",
              "      <th>50%</th>\n",
              "      <td>0.000000</td>\n",
              "      <td>0.000000</td>\n",
              "    </tr>\n",
              "    <tr>\n",
              "      <th>75%</th>\n",
              "      <td>0.000000</td>\n",
              "      <td>0.000000</td>\n",
              "    </tr>\n",
              "    <tr>\n",
              "      <th>max</th>\n",
              "      <td>110.000000</td>\n",
              "      <td>111.400000</td>\n",
              "    </tr>\n",
              "  </tbody>\n",
              "</table>\n",
              "</div>"
            ],
            "text/plain": [
              "       Current rainfall (mm)  Cumulative rainfall (mm)\n",
              "count           78844.000000              78847.000000\n",
              "mean                0.049206                  0.586580\n",
              "std                 0.765296                  2.770216\n",
              "min                 0.000000                  0.000000\n",
              "25%                 0.000000                  0.000000\n",
              "50%                 0.000000                  0.000000\n",
              "75%                 0.000000                  0.000000\n",
              "max               110.000000                111.400000"
            ]
          },
          "metadata": {
            "tags": []
          },
          "execution_count": 164
        }
      ]
    },
    {
      "cell_type": "code",
      "metadata": {
        "id": "yoS0P7O-9mLH",
        "colab_type": "code",
        "outputId": "45e696ea-5277-486c-9250-21521ef1b22e",
        "colab": {
          "base_uri": "https://localhost:8080/",
          "height": 299
        }
      },
      "source": [
        "df_rain.plot( y='Cumulative rainfall (mm)')  \n",
        "\n",
        "plt.title('Rainfall')  \n",
        "plt.xlabel('Time (hours)')  \n",
        "plt.ylabel('Rainfall in mm')  \n",
        "plt.show()  "
      ],
      "execution_count": 165,
      "outputs": [
        {
          "output_type": "display_data",
          "data": {
            "image/png": "[encoded data removed]",
            "text/plain": [
              "<Figure size 432x288 with 1 Axes>"
            ]
          },
          "metadata": {
            "tags": []
          }
        }
      ]
    },
    {
      "cell_type": "code",
      "metadata": {
        "id": "7j9PVBSFLWrm",
        "colab_type": "code",
        "colab": {}
      },
      "source": [
        ""
      ],
      "execution_count": 0,
      "outputs": []
    },
    {
      "cell_type": "markdown",
      "metadata": {
        "colab_type": "text",
        "id": "6sSpW7YhLXI3"
      },
      "source": [
        "### Hourly water level data"
      ]
    },
    {
      "cell_type": "code",
      "metadata": {
        "id": "hzPK6PJk9mLN",
        "colab_type": "code",
        "colab": {}
      },
      "source": [
        "df_water_level = pandas.read_csv(\"/content/hourly_water_level_train.csv\")"
      ],
      "execution_count": 0,
      "outputs": []
    },
    {
      "cell_type": "code",
      "metadata": {
        "id": "-p-MCno59mLX",
        "colab_type": "code",
        "outputId": "623e84a7-b347-46fd-c099-adc02b1918ae",
        "colab": {
          "base_uri": "https://localhost:8080/",
          "height": 206
        }
      },
      "source": [
        "df_water_level.head()"
      ],
      "execution_count": 167,
      "outputs": [
        {
          "output_type": "execute_result",
          "data": {
            "text/html": [
              "<div>\n",
              "<style scoped>\n",
              "    .dataframe tbody tr th:only-of-type {\n",
              "        vertical-align: middle;\n",
              "    }\n",
              "\n",
              "    .dataframe tbody tr th {\n",
              "        vertical-align: top;\n",
              "    }\n",
              "\n",
              "    .dataframe thead th {\n",
              "        text-align: right;\n",
              "    }\n",
              "</style>\n",
              "<table border=\"1\" class=\"dataframe\">\n",
              "  <thead>\n",
              "    <tr style=\"text-align: right;\">\n",
              "      <th></th>\n",
              "      <th>Date/Time</th>\n",
              "      <th>Level (m)</th>\n",
              "    </tr>\n",
              "  </thead>\n",
              "  <tbody>\n",
              "    <tr>\n",
              "      <th>0</th>\n",
              "      <td>2018-12-02 17:00:00</td>\n",
              "      <td>1.61</td>\n",
              "    </tr>\n",
              "    <tr>\n",
              "      <th>1</th>\n",
              "      <td>2018-12-02 16:00:00</td>\n",
              "      <td>1.61</td>\n",
              "    </tr>\n",
              "    <tr>\n",
              "      <th>2</th>\n",
              "      <td>2018-12-02 15:00:00</td>\n",
              "      <td>1.62</td>\n",
              "    </tr>\n",
              "    <tr>\n",
              "      <th>3</th>\n",
              "      <td>2018-12-02 14:00:00</td>\n",
              "      <td>1.63</td>\n",
              "    </tr>\n",
              "    <tr>\n",
              "      <th>4</th>\n",
              "      <td>2018-12-02 13:00:00</td>\n",
              "      <td>1.63</td>\n",
              "    </tr>\n",
              "  </tbody>\n",
              "</table>\n",
              "</div>"
            ],
            "text/plain": [
              "             Date/Time  Level (m)\n",
              "0  2018-12-02 17:00:00       1.61\n",
              "1  2018-12-02 16:00:00       1.61\n",
              "2  2018-12-02 15:00:00       1.62\n",
              "3  2018-12-02 14:00:00       1.63\n",
              "4  2018-12-02 13:00:00       1.63"
            ]
          },
          "metadata": {
            "tags": []
          },
          "execution_count": 167
        }
      ]
    },
    {
      "cell_type": "code",
      "metadata": {
        "id": "xcxaV9Hxb8aN",
        "colab_type": "code",
        "outputId": "e3354997-13de-41ba-8b67-8c4e6f62326d",
        "colab": {
          "base_uri": "https://localhost:8080/",
          "height": 34
        }
      },
      "source": [
        "df_water_level.shape"
      ],
      "execution_count": 168,
      "outputs": [
        {
          "output_type": "execute_result",
          "data": {
            "text/plain": [
              "(78822, 2)"
            ]
          },
          "metadata": {
            "tags": []
          },
          "execution_count": 168
        }
      ]
    },
    {
      "cell_type": "code",
      "metadata": {
        "id": "xw6xlSqsbWnp",
        "colab_type": "code",
        "outputId": "9cb87106-b6db-4bdb-b229-48f603a15857",
        "colab": {
          "base_uri": "https://localhost:8080/",
          "height": 300
        }
      },
      "source": [
        "#dataset properties\n",
        "df_water_level.describe()"
      ],
      "execution_count": 169,
      "outputs": [
        {
          "output_type": "execute_result",
          "data": {
            "text/html": [
              "<div>\n",
              "<style scoped>\n",
              "    .dataframe tbody tr th:only-of-type {\n",
              "        vertical-align: middle;\n",
              "    }\n",
              "\n",
              "    .dataframe tbody tr th {\n",
              "        vertical-align: top;\n",
              "    }\n",
              "\n",
              "    .dataframe thead th {\n",
              "        text-align: right;\n",
              "    }\n",
              "</style>\n",
              "<table border=\"1\" class=\"dataframe\">\n",
              "  <thead>\n",
              "    <tr style=\"text-align: right;\">\n",
              "      <th></th>\n",
              "      <th>Level (m)</th>\n",
              "    </tr>\n",
              "  </thead>\n",
              "  <tbody>\n",
              "    <tr>\n",
              "      <th>count</th>\n",
              "      <td>78822.000000</td>\n",
              "    </tr>\n",
              "    <tr>\n",
              "      <th>mean</th>\n",
              "      <td>1.453701</td>\n",
              "    </tr>\n",
              "    <tr>\n",
              "      <th>std</th>\n",
              "      <td>0.113859</td>\n",
              "    </tr>\n",
              "    <tr>\n",
              "      <th>min</th>\n",
              "      <td>0.000000</td>\n",
              "    </tr>\n",
              "    <tr>\n",
              "      <th>25%</th>\n",
              "      <td>1.400000</td>\n",
              "    </tr>\n",
              "    <tr>\n",
              "      <th>50%</th>\n",
              "      <td>1.450000</td>\n",
              "    </tr>\n",
              "    <tr>\n",
              "      <th>75%</th>\n",
              "      <td>1.500000</td>\n",
              "    </tr>\n",
              "    <tr>\n",
              "      <th>max</th>\n",
              "      <td>3.300000</td>\n",
              "    </tr>\n",
              "  </tbody>\n",
              "</table>\n",
              "</div>"
            ],
            "text/plain": [
              "          Level (m)\n",
              "count  78822.000000\n",
              "mean       1.453701\n",
              "std        0.113859\n",
              "min        0.000000\n",
              "25%        1.400000\n",
              "50%        1.450000\n",
              "75%        1.500000\n",
              "max        3.300000"
            ]
          },
          "metadata": {
            "tags": []
          },
          "execution_count": 169
        }
      ]
    },
    {
      "cell_type": "code",
      "metadata": {
        "id": "o7cRqUYWcGu5",
        "colab_type": "code",
        "outputId": "03d46623-e8b1-445f-cf06-3db7d44f738b",
        "colab": {
          "base_uri": "https://localhost:8080/",
          "height": 299
        }
      },
      "source": [
        "df_water_level.plot(y='Level (m)')  \n",
        "plt.title('Water Level')  \n",
        "plt.xlabel('Time (hours)')  \n",
        "plt.ylabel('Max Level')  \n",
        "plt.show() "
      ],
      "execution_count": 170,
      "outputs": [
        {
          "output_type": "display_data",
          "data": {
            "image/png": "[encoded data removed]",
            "text/plain": [
              "<Figure size 432x288 with 1 Axes>"
            ]
          },
          "metadata": {
            "tags": []
          }
        }
      ]
    },
    {
      "cell_type": "markdown",
      "metadata": {
        "colab_type": "text",
        "id": "bVKBDa5tLiiO"
      },
      "source": [
        "### Combining dataset"
      ]
    },
    {
      "cell_type": "code",
      "metadata": {
        "id": "P-KN4PKgct8z",
        "colab_type": "code",
        "outputId": "2938a5ee-cfda-4d43-cddb-a5a1d857d8e3",
        "colab": {
          "base_uri": "https://localhost:8080/",
          "height": 206
        }
      },
      "source": [
        "#dataset merged on date_time \n",
        "dataset = pandas.merge(df_rain, df_water_level, how='outer', on=['Date/Time'])\n",
        "dataset.head()"
      ],
      "execution_count": 171,
      "outputs": [
        {
          "output_type": "execute_result",
          "data": {
            "text/html": [
              "<div>\n",
              "<style scoped>\n",
              "    .dataframe tbody tr th:only-of-type {\n",
              "        vertical-align: middle;\n",
              "    }\n",
              "\n",
              "    .dataframe tbody tr th {\n",
              "        vertical-align: top;\n",
              "    }\n",
              "\n",
              "    .dataframe thead th {\n",
              "        text-align: right;\n",
              "    }\n",
              "</style>\n",
              "<table border=\"1\" class=\"dataframe\">\n",
              "  <thead>\n",
              "    <tr style=\"text-align: right;\">\n",
              "      <th></th>\n",
              "      <th>Date/Time</th>\n",
              "      <th>Current rainfall (mm)</th>\n",
              "      <th>Cumulative rainfall (mm)</th>\n",
              "      <th>Level (m)</th>\n",
              "    </tr>\n",
              "  </thead>\n",
              "  <tbody>\n",
              "    <tr>\n",
              "      <th>0</th>\n",
              "      <td>2018-12-02 18:00:00</td>\n",
              "      <td>0.0</td>\n",
              "      <td>0.0</td>\n",
              "      <td>NaN</td>\n",
              "    </tr>\n",
              "    <tr>\n",
              "      <th>1</th>\n",
              "      <td>2018-12-02 17:00:00</td>\n",
              "      <td>0.0</td>\n",
              "      <td>0.0</td>\n",
              "      <td>1.61</td>\n",
              "    </tr>\n",
              "    <tr>\n",
              "      <th>2</th>\n",
              "      <td>2018-12-02 16:00:00</td>\n",
              "      <td>0.0</td>\n",
              "      <td>0.0</td>\n",
              "      <td>1.61</td>\n",
              "    </tr>\n",
              "    <tr>\n",
              "      <th>3</th>\n",
              "      <td>2018-12-02 15:00:00</td>\n",
              "      <td>0.0</td>\n",
              "      <td>0.0</td>\n",
              "      <td>1.62</td>\n",
              "    </tr>\n",
              "    <tr>\n",
              "      <th>4</th>\n",
              "      <td>2018-12-02 14:00:00</td>\n",
              "      <td>0.0</td>\n",
              "      <td>0.0</td>\n",
              "      <td>1.63</td>\n",
              "    </tr>\n",
              "  </tbody>\n",
              "</table>\n",
              "</div>"
            ],
            "text/plain": [
              "             Date/Time  ...  Level (m)\n",
              "0  2018-12-02 18:00:00  ...        NaN\n",
              "1  2018-12-02 17:00:00  ...       1.61\n",
              "2  2018-12-02 16:00:00  ...       1.61\n",
              "3  2018-12-02 15:00:00  ...       1.62\n",
              "4  2018-12-02 14:00:00  ...       1.63\n",
              "\n",
              "[5 rows x 4 columns]"
            ]
          },
          "metadata": {
            "tags": []
          },
          "execution_count": 171
        }
      ]
    },
    {
      "cell_type": "markdown",
      "metadata": {
        "colab_type": "text",
        "id": "hSdPHvntNP3A"
      },
      "source": [
        "### Filling missing values"
      ]
    },
    {
      "cell_type": "code",
      "metadata": {
        "id": "fsuC1c5D8vTC",
        "colab_type": "code",
        "outputId": "96e7e2f7-af10-4e3e-ebb1-090a469b7b94",
        "colab": {
          "base_uri": "https://localhost:8080/",
          "height": 206
        }
      },
      "source": [
        "#filling all missing values with mean of the column\n",
        "dataset['Cumulative rainfall (mm)'] = dataset['Cumulative rainfall (mm)'].fillna(dataset['Cumulative rainfall (mm)'].mean())\n",
        "dataset['Level (m)'] = dataset['Level (m)'].fillna(dataset['Level (m)'].mean())\n",
        "\n",
        "dataset.head()"
      ],
      "execution_count": 172,
      "outputs": [
        {
          "output_type": "execute_result",
          "data": {
            "text/html": [
              "<div>\n",
              "<style scoped>\n",
              "    .dataframe tbody tr th:only-of-type {\n",
              "        vertical-align: middle;\n",
              "    }\n",
              "\n",
              "    .dataframe tbody tr th {\n",
              "        vertical-align: top;\n",
              "    }\n",
              "\n",
              "    .dataframe thead th {\n",
              "        text-align: right;\n",
              "    }\n",
              "</style>\n",
              "<table border=\"1\" class=\"dataframe\">\n",
              "  <thead>\n",
              "    <tr style=\"text-align: right;\">\n",
              "      <th></th>\n",
              "      <th>Date/Time</th>\n",
              "      <th>Current rainfall (mm)</th>\n",
              "      <th>Cumulative rainfall (mm)</th>\n",
              "      <th>Level (m)</th>\n",
              "    </tr>\n",
              "  </thead>\n",
              "  <tbody>\n",
              "    <tr>\n",
              "      <th>0</th>\n",
              "      <td>2018-12-02 18:00:00</td>\n",
              "      <td>0.0</td>\n",
              "      <td>0.0</td>\n",
              "      <td>1.453701</td>\n",
              "    </tr>\n",
              "    <tr>\n",
              "      <th>1</th>\n",
              "      <td>2018-12-02 17:00:00</td>\n",
              "      <td>0.0</td>\n",
              "      <td>0.0</td>\n",
              "      <td>1.610000</td>\n",
              "    </tr>\n",
              "    <tr>\n",
              "      <th>2</th>\n",
              "      <td>2018-12-02 16:00:00</td>\n",
              "      <td>0.0</td>\n",
              "      <td>0.0</td>\n",
              "      <td>1.610000</td>\n",
              "    </tr>\n",
              "    <tr>\n",
              "      <th>3</th>\n",
              "      <td>2018-12-02 15:00:00</td>\n",
              "      <td>0.0</td>\n",
              "      <td>0.0</td>\n",
              "      <td>1.620000</td>\n",
              "    </tr>\n",
              "    <tr>\n",
              "      <th>4</th>\n",
              "      <td>2018-12-02 14:00:00</td>\n",
              "      <td>0.0</td>\n",
              "      <td>0.0</td>\n",
              "      <td>1.630000</td>\n",
              "    </tr>\n",
              "  </tbody>\n",
              "</table>\n",
              "</div>"
            ],
            "text/plain": [
              "             Date/Time  ...  Level (m)\n",
              "0  2018-12-02 18:00:00  ...   1.453701\n",
              "1  2018-12-02 17:00:00  ...   1.610000\n",
              "2  2018-12-02 16:00:00  ...   1.610000\n",
              "3  2018-12-02 15:00:00  ...   1.620000\n",
              "4  2018-12-02 14:00:00  ...   1.630000\n",
              "\n",
              "[5 rows x 4 columns]"
            ]
          },
          "metadata": {
            "tags": []
          },
          "execution_count": 172
        }
      ]
    },
    {
      "cell_type": "markdown",
      "metadata": {
        "colab_type": "text",
        "id": "NNOjeKR0P1XP"
      },
      "source": [
        "### Removing unwanted columns"
      ]
    },
    {
      "cell_type": "code",
      "metadata": {
        "id": "RrcYNT2I85aT",
        "colab_type": "code",
        "outputId": "d0529ef5-4efd-4c7d-d227-587c95063d07",
        "colab": {
          "base_uri": "https://localhost:8080/",
          "height": 34
        }
      },
      "source": [
        "dataset = dataset.drop(columns=['Current rainfall (mm)', 'Date/Time'])\n",
        "dataset.shape"
      ],
      "execution_count": 173,
      "outputs": [
        {
          "output_type": "execute_result",
          "data": {
            "text/plain": [
              "(78850, 2)"
            ]
          },
          "metadata": {
            "tags": []
          },
          "execution_count": 173
        }
      ]
    },
    {
      "cell_type": "code",
      "metadata": {
        "scrolled": true,
        "id": "geJ2EXFdGrrP",
        "colab_type": "code",
        "outputId": "54bfe53e-db4a-4837-fccd-87b6ca676826",
        "colab": {
          "base_uri": "https://localhost:8080/",
          "height": 300
        }
      },
      "source": [
        "plt.plot(dataset)"
      ],
      "execution_count": 174,
      "outputs": [
        {
          "output_type": "execute_result",
          "data": {
            "text/plain": [
              "[<matplotlib.lines.Line2D at 0x7f251197cf28>,\n",
              " <matplotlib.lines.Line2D at 0x7f2511907080>]"
            ]
          },
          "metadata": {
            "tags": []
          },
          "execution_count": 174
        },
        {
          "output_type": "display_data",
          "data": {
            "image/png": "[encoded data removed]",
            "text/plain": [
              "<Figure size 432x288 with 1 Axes>"
            ]
          },
          "metadata": {
            "tags": []
          }
        }
      ]
    },
    {
      "cell_type": "markdown",
      "metadata": {
        "colab_type": "text",
        "id": "XZE1yqIRL8NB"
      },
      "source": [
        "### Scaling dataset "
      ]
    },
    {
      "cell_type": "code",
      "metadata": {
        "id": "_p8QSsCoGrrc",
        "colab_type": "code",
        "colab": {}
      },
      "source": [
        "# normalize the dataset (LSTMs are sensitive to the scale of the input data)\n",
        "scaler  = MinMaxScaler(feature_range=(0, 1))\n",
        "dataset = scaler.fit_transform(dataset)"
      ],
      "execution_count": 0,
      "outputs": []
    },
    {
      "cell_type": "code",
      "metadata": {
        "id": "2hcWqKR-L9kS",
        "colab_type": "code",
        "colab": {
          "base_uri": "https://localhost:8080/",
          "height": 34
        },
        "outputId": "7de659cd-a367-4bb5-d737-8a80dc09828d"
      },
      "source": [
        "print(dataset[0])"
      ],
      "execution_count": 176,
      "outputs": [
        {
          "output_type": "stream",
          "text": [
            "[0.         0.44051556]\n"
          ],
          "name": "stdout"
        }
      ]
    },
    {
      "cell_type": "markdown",
      "metadata": {
        "colab_type": "text",
        "id": "MaqkAsJ8RByP"
      },
      "source": [
        "# Training "
      ]
    },
    {
      "cell_type": "markdown",
      "metadata": {
        "colab_type": "text",
        "id": "SepyoWQPl1Yu"
      },
      "source": [
        "### Dataset sliding window (Multivariate)"
      ]
    },
    {
      "cell_type": "code",
      "metadata": {
        "colab_type": "code",
        "id": "y48tr9m2l1Y4",
        "colab": {}
      },
      "source": [
        "# convert series to supervised learning\n",
        "def series_to_supervised(data, n_in=1, n_out=1, dropnan=True):\n",
        "\tn_vars = 1 if type(data) is list else data.shape[1]\n",
        "\tdf = pandas.DataFrame(data)\n",
        "\tcols, names = list(), list()\n",
        "\t# input sequence (t-n, ... t-1)\n",
        "\tfor i in range(n_in, 0, -1):\n",
        "\t\tcols.append(df.shift(i))\n",
        "\t\tnames += [('var%d(t-%d)' % (j+1, i)) for j in range(n_vars)]\n",
        "\t# forecast sequence (t, t+1, ... t+n)\n",
        "\tfor i in range(0, n_out):\n",
        "\t\tcols.append(df.shift(-i))\n",
        "\t\tif i == 0:\n",
        "\t\t\tnames += [('var%d(t)' % (j+1)) for j in range(n_vars)]\n",
        "\t\telse:\n",
        "\t\t\tnames += [('var%d(t+%d)' % (j+1, i)) for j in range(n_vars)]\n",
        "\t# put it all together\n",
        "\tagg = pandas.concat(cols, axis=1)\n",
        "\tagg.columns = names\n",
        "\t# drop rows with NaN values\n",
        "\tif dropnan:\n",
        "\t\tagg.dropna(inplace=True)\n",
        "\treturn agg"
      ],
      "execution_count": 0,
      "outputs": []
    },
    {
      "cell_type": "code",
      "metadata": {
        "colab_type": "code",
        "id": "ImzAD_whl1ZN",
        "colab": {
          "base_uri": "https://localhost:8080/",
          "height": 34
        },
        "outputId": "c0e4249b-6195-441c-8068-5aa687f0fa45"
      },
      "source": [
        "# specify the number of lag hours\n",
        "n_hours = 10\n",
        "n_features = 2\n",
        "# frame as supervised learning\n",
        "reframed = series_to_supervised(dataset, n_hours, 1)\n",
        "print(reframed.shape)"
      ],
      "execution_count": 178,
      "outputs": [
        {
          "output_type": "stream",
          "text": [
            "(78840, 22)\n"
          ],
          "name": "stdout"
        }
      ]
    },
    {
      "cell_type": "code",
      "metadata": {
        "colab_type": "code",
        "id": "1JRT_sYWl1Za",
        "colab": {}
      },
      "source": [
        "# split into train and test sets\n",
        "values = reframed.values\n",
        "n_train_hours = 55100\n",
        "train = values[:n_train_hours, :]\n",
        "test = values[n_train_hours:, :]"
      ],
      "execution_count": 0,
      "outputs": []
    },
    {
      "cell_type": "code",
      "metadata": {
        "id": "ZQGSFBbeu6qq",
        "colab_type": "code",
        "colab": {
          "base_uri": "https://localhost:8080/",
          "height": 548
        },
        "outputId": "7d3a84af-3efa-4256-8e87-b5ba5dda808e"
      },
      "source": [
        "print('----------------- TRAINING DATA -----------------')\n",
        "plt.plot(train)\n",
        "plt.show()\n",
        "print('----------------- TEST DATA -----------------')\n",
        "plt.plot(test)\n",
        "plt.show()"
      ],
      "execution_count": 180,
      "outputs": [
        {
          "output_type": "stream",
          "text": [
            "----------------- TRAINING DATA -----------------\n"
          ],
          "name": "stdout"
        },
        {
          "output_type": "display_data",
          "data": {
            "image/png": "[encoded data removed]",
            "text/plain": [
              "<Figure size 432x288 with 1 Axes>"
            ]
          },
          "metadata": {
            "tags": []
          }
        },
        {
          "output_type": "stream",
          "text": [
            "----------------- TEST DATA -----------------\n"
          ],
          "name": "stdout"
        },
        {
          "output_type": "display_data",
          "data": {
            "image/png": "[encoded data removed]",
            "text/plain": [
              "<Figure size 432x288 with 1 Axes>"
            ]
          },
          "metadata": {
            "tags": []
          }
        }
      ]
    },
    {
      "cell_type": "code",
      "metadata": {
        "colab_type": "code",
        "id": "bP58jSz1l1Zm",
        "colab": {
          "base_uri": "https://localhost:8080/",
          "height": 34
        },
        "outputId": "c7711047-8a84-4b9f-858e-cd752d65c804"
      },
      "source": [
        "# split into input and outputs\n",
        "n_obs = n_hours * n_features\n",
        "train_X, train_y = train[:, :n_obs], train[:, -1]\n",
        "test_X, test_y = test[:, :n_obs], test[:, -1]\n",
        "print(train_X.shape, len(train_X), train_y.shape)"
      ],
      "execution_count": 206,
      "outputs": [
        {
          "output_type": "stream",
          "text": [
            "(55100, 20) 55100 (55100,)\n"
          ],
          "name": "stdout"
        }
      ]
    },
    {
      "cell_type": "code",
      "metadata": {
        "id": "Oumq4_2_wWKz",
        "colab_type": "code",
        "colab": {
          "base_uri": "https://localhost:8080/",
          "height": 208
        },
        "outputId": "adbe9c5d-aad5-4ce8-a895-8a1c066c08bd"
      },
      "source": [
        "print(train_X[1])\n",
        "print(train_y[0])"
      ],
      "execution_count": 214,
      "outputs": [
        {
          "output_type": "stream",
          "text": [
            "[[0.         0.48787879]\n",
            " [0.         0.48787879]\n",
            " [0.         0.49090909]\n",
            " [0.         0.49393939]\n",
            " [0.         0.49393939]\n",
            " [0.         0.49393939]\n",
            " [0.         0.49393939]\n",
            " [0.         0.49393939]\n",
            " [0.05745063 0.49393939]\n",
            " [0.05745063 0.49393939]]\n",
            "0.4939393939393939\n"
          ],
          "name": "stdout"
        }
      ]
    },
    {
      "cell_type": "code",
      "metadata": {
        "id": "d19VlZtWmvAq",
        "colab_type": "code",
        "colab": {
          "base_uri": "https://localhost:8080/",
          "height": 34
        },
        "outputId": "bdb8d4b2-32f2-4907-a536-d8d82797c3f1"
      },
      "source": [
        "# reshape input to be 3D [samples, timesteps, features]\n",
        "train_X = train_X.reshape((train_X.shape[0], n_hours, n_features))\n",
        "test_X = test_X.reshape((test_X.shape[0], n_hours, n_features))\n",
        "print(train_X.shape, train_y.shape, test_X.shape, test_y.shape)"
      ],
      "execution_count": 246,
      "outputs": [
        {
          "output_type": "stream",
          "text": [
            "(55100, 10, 2) (55100,) (23740, 10, 2) (23740, 1)\n"
          ],
          "name": "stdout"
        }
      ]
    },
    {
      "cell_type": "markdown",
      "metadata": {
        "colab_type": "text",
        "id": "uc7YZ_7NSJoJ"
      },
      "source": [
        "## Model (LSTM)"
      ]
    },
    {
      "cell_type": "code",
      "metadata": {
        "id": "GVJE3ZupWw7b",
        "colab_type": "code",
        "colab": {}
      },
      "source": [
        "#Setup the LSTM\n",
        "\n",
        "model = Sequential()\n",
        "model.add(LSTM(4,input_shape=(train_X.shape[1], train_X.shape[2]),activation='relu',recurrent_activation='relu',use_bias=True,dropout=0.1))\n",
        "model.add(Dense(1))\n",
        "model.compile(loss='mean_squared_error', optimizer='adam')\n"
      ],
      "execution_count": 0,
      "outputs": []
    },
    {
      "cell_type": "code",
      "metadata": {
        "id": "BJXMV979XKrq",
        "colab_type": "code",
        "colab": {
          "base_uri": "https://localhost:8080/",
          "height": 225
        },
        "outputId": "db325aa4-a5dd-40fa-be86-f74ec921b252"
      },
      "source": [
        "model.summary()"
      ],
      "execution_count": 185,
      "outputs": [
        {
          "output_type": "stream",
          "text": [
            "Model: \"sequential_5\"\n",
            "_________________________________________________________________\n",
            "Layer (type)                 Output Shape              Param #   \n",
            "=================================================================\n",
            "lstm_3 (LSTM)                (None, 4)                 112       \n",
            "_________________________________________________________________\n",
            "dense_3 (Dense)              (None, 1)                 5         \n",
            "=================================================================\n",
            "Total params: 117\n",
            "Trainable params: 117\n",
            "Non-trainable params: 0\n",
            "_________________________________________________________________\n"
          ],
          "name": "stdout"
        }
      ]
    },
    {
      "cell_type": "markdown",
      "metadata": {
        "colab_type": "text",
        "id": "NcODng0NWxh_"
      },
      "source": [
        "## Model Learning"
      ]
    },
    {
      "cell_type": "code",
      "metadata": {
        "id": "dgt8J7MWGrsb",
        "colab_type": "code",
        "colab": {
          "base_uri": "https://localhost:8080/",
          "height": 208
        },
        "outputId": "a22d6e31-ce79-4aae-d323-f65249daa4d0"
      },
      "source": [
        "#training : 4 epochs and batch size 1\n",
        "history = model.fit(train_X, train_y, nb_epoch=4, batch_size=1, validation_data=(test_X, test_y), verbose=2, shuffle=False)"
      ],
      "execution_count": 186,
      "outputs": [
        {
          "output_type": "stream",
          "text": [
            "/usr/local/lib/python3.6/dist-packages/ipykernel_launcher.py:1: UserWarning: The `nb_epoch` argument in `fit` has been renamed `epochs`.\n",
            "  \"\"\"Entry point for launching an IPython kernel.\n"
          ],
          "name": "stderr"
        },
        {
          "output_type": "stream",
          "text": [
            "Train on 55100 samples, validate on 23740 samples\n",
            "Epoch 1/4\n",
            " - 253s - loss: 0.0012 - val_loss: 0.0022\n",
            "Epoch 2/4\n",
            " - 269s - loss: 4.0003e-04 - val_loss: 0.0022\n",
            "Epoch 3/4\n",
            " - 266s - loss: 4.0205e-04 - val_loss: 0.0022\n",
            "Epoch 4/4\n",
            " - 255s - loss: 4.0138e-04 - val_loss: 0.0021\n"
          ],
          "name": "stdout"
        }
      ]
    },
    {
      "cell_type": "code",
      "metadata": {
        "id": "cN60JNciy6gW",
        "colab_type": "code",
        "colab": {
          "base_uri": "https://localhost:8080/",
          "height": 268
        },
        "outputId": "da56b036-f0ec-4962-ca05-bf41a2d308f8"
      },
      "source": [
        "# plot history\n",
        "pyplot.plot(history.history['loss'], label='train')\n",
        "pyplot.plot(history.history['val_loss'], label='test')\n",
        "pyplot.legend()\n",
        "pyplot.show()"
      ],
      "execution_count": 187,
      "outputs": [
        {
          "output_type": "display_data",
          "data": {
            "image/png": "[encoded data removed]",
            "text/plain": [
              "<Figure size 432x288 with 1 Axes>"
            ]
          },
          "metadata": {
            "tags": []
          }
        }
      ]
    },
    {
      "cell_type": "markdown",
      "metadata": {
        "colab_type": "text",
        "id": "pnsA7yTrSXcC"
      },
      "source": [
        "## Model Evaluation"
      ]
    },
    {
      "cell_type": "code",
      "metadata": {
        "id": "2wAgd2oIGrsn",
        "colab_type": "code",
        "colab": {
          "base_uri": "https://localhost:8080/",
          "height": 52
        },
        "outputId": "83847ae1-6825-4d25-a95c-ec8d8561e1d9"
      },
      "source": [
        "# Print out the evaluation for both the\n",
        "trainScore = model.evaluate(train_X, train_y, verbose=0)\n",
        "trainScore = math.sqrt(trainScore)\n",
        "#trainScore = scaler.inverse_transform(np.array([[trainScore]]))\n",
        "print('Train Score: %.2f RMSE' % (trainScore))\n",
        "testScore = model.evaluate(test_X, test_y, verbose=0)\n",
        "testScore = math.sqrt(testScore)\n",
        "#testScore = scaler.inverse_transform(np.array([[testScore]]))\n",
        "print('Test Score: %.2f RMSE' % (testScore))"
      ],
      "execution_count": 192,
      "outputs": [
        {
          "output_type": "stream",
          "text": [
            "Train Score: 0.03 RMSE\n",
            "Test Score: 0.05 RMSE\n"
          ],
          "name": "stdout"
        }
      ]
    },
    {
      "cell_type": "markdown",
      "metadata": {
        "colab_type": "text",
        "id": "3frrx2cbSgTe"
      },
      "source": [
        "# Testing"
      ]
    },
    {
      "cell_type": "markdown",
      "metadata": {
        "colab_type": "text",
        "id": "V-xmRveXS7iH"
      },
      "source": [
        "### Predictions"
      ]
    },
    {
      "cell_type": "code",
      "metadata": {
        "id": "ZU9Lei9OOyiV",
        "colab_type": "code",
        "colab": {}
      },
      "source": [
        "# make a prediction\n",
        "yhat = model.predict(test_X)\n",
        "test_X = test_X.reshape((test_X.shape[0], n_hours*n_features))"
      ],
      "execution_count": 0,
      "outputs": []
    },
    {
      "cell_type": "code",
      "metadata": {
        "id": "iqKGvLHMOt-H",
        "colab_type": "code",
        "colab": {
          "base_uri": "https://localhost:8080/",
          "height": 34
        },
        "outputId": "f0e8c8f7-5579-40d8-9445-d3f520f33203"
      },
      "source": [
        "# invert scaling for forecast\n",
        "inv_yhat = concatenate((yhat,test_X[:,-1:]), axis=1)\n",
        "\n",
        "inv_yhat = scaler.inverse_transform(inv_yhat)\n",
        "#x = scaler.inverse_transform(dataset[0])\n",
        "\n",
        "inv_yhat = inv_yhat[:,0]\n",
        "print(inv_yhat)"
      ],
      "execution_count": 262,
      "outputs": [
        {
          "output_type": "stream",
          "text": [
            "[0.42424244 0.42424244 0.42424244 ... 0.42424244 0.42424244 0.42424244]\n"
          ],
          "name": "stdout"
        }
      ]
    },
    {
      "cell_type": "code",
      "metadata": {
        "id": "YKNH2zYCUVBB",
        "colab_type": "code",
        "colab": {}
      },
      "source": [
        ""
      ],
      "execution_count": 0,
      "outputs": []
    },
    {
      "cell_type": "code",
      "metadata": {
        "id": "itemiBYFPjBp",
        "colab_type": "code",
        "colab": {}
      },
      "source": [
        "# invert scaling for actual\n",
        "test_y = test_y.reshape((len(test_y), 1))\n",
        "inv_y = concatenate((test_X[:,-1:],yhat), axis=1)\n",
        "inv_y = scaler.inverse_transform(inv_y)\n",
        "inv_y = inv_y[:,0]"
      ],
      "execution_count": 0,
      "outputs": []
    },
    {
      "cell_type": "code",
      "metadata": {
        "id": "lexeMTwu2m0A",
        "colab_type": "code",
        "colab": {
          "base_uri": "https://localhost:8080/",
          "height": 34
        },
        "outputId": "3fb543eb-3c87-4fb5-be84-c0363e88636a"
      },
      "source": [
        "print(inv_y)"
      ],
      "execution_count": 264,
      "outputs": [
        {
          "output_type": "stream",
          "text": [
            "[0.42424242 0.42424242 0.42424242 ... 0.44051556 0.44051556 0.44051556]\n"
          ],
          "name": "stdout"
        }
      ]
    },
    {
      "cell_type": "code",
      "metadata": {
        "id": "2doGXnQYO7Ff",
        "colab_type": "code",
        "colab": {
          "base_uri": "https://localhost:8080/",
          "height": 34
        },
        "outputId": "0df965b8-7a93-4ce6-ad85-96c9b3830168"
      },
      "source": [
        "# calculate RMSE\n",
        "rmse = sqrt(mean_squared_error(inv_y, inv_yhat))\n",
        "print('Test RMSE: %.3f' % rmse)"
      ],
      "execution_count": 250,
      "outputs": [
        {
          "output_type": "stream",
          "text": [
            "Test RMSE: 0.000\n"
          ],
          "name": "stdout"
        }
      ]
    },
    {
      "cell_type": "code",
      "metadata": {
        "id": "8yadiOzmgAEL",
        "colab_type": "code",
        "colab": {
          "base_uri": "https://localhost:8080/",
          "height": 282
        },
        "outputId": "848bd046-6e5f-423e-82ba-180c26b3432e"
      },
      "source": [
        "plt.plot(yhat)\n",
        "plt.plot(test_y)"
      ],
      "execution_count": 251,
      "outputs": [
        {
          "output_type": "execute_result",
          "data": {
            "text/plain": [
              "[<matplotlib.lines.Line2D at 0x7f2518c7aba8>]"
            ]
          },
          "metadata": {
            "tags": []
          },
          "execution_count": 251
        },
        {
          "output_type": "display_data",
          "data": {
            "image/png": "[encoded data removed]",
            "text/plain": [
              "<Figure size 432x288 with 1 Axes>"
            ]
          },
          "metadata": {
            "tags": []
          }
        }
      ]
    },
    {
      "cell_type": "code",
      "metadata": {
        "id": "j1s_yxXRGrsw",
        "colab_type": "code",
        "colab": {
          "base_uri": "https://localhost:8080/",
          "height": 237
        },
        "outputId": "50bc9d93-5c0a-4d03-cd73-43264d7f3e8c"
      },
      "source": [
        "# shift train predictions for plotting\n",
        "trainPredictPlot       = np.empty_like(dataset)\n",
        "trainPredictPlot[:, :] = np.nan\n",
        "trainPredictPlot[slide_window:len(trainPredict)+slide_window, :] = trainPredict\n",
        " \n",
        "# shift test predictions for plotting\n",
        "testPredictPlot       = np.empty_like(dataset)\n",
        "testPredictPlot[:, :] = np.nan\n",
        "testPredictPlot[len(trainPredict)+(slide_window*2)+1:len(dataset)-1, :] = testPredict\n",
        " \n",
        "# plot baseline and predictions\n",
        "plt.plot(dataset)\n",
        "plt.plot(trainPredictPlot)\n",
        "plt.plot(testPredictPlot)\n",
        "plt.show()"
      ],
      "execution_count": 238,
      "outputs": [
        {
          "output_type": "error",
          "ename": "NameError",
          "evalue": "ignored",
          "traceback": [
            "\u001b[0;31m---------------------------------------------------------------------------\u001b[0m",
            "\u001b[0;31mNameError\u001b[0m                                 Traceback (most recent call last)",
            "\u001b[0;32m<ipython-input-238-94e4f091d4fa>\u001b[0m in \u001b[0;36m<module>\u001b[0;34m()\u001b[0m\n\u001b[1;32m      1\u001b[0m \u001b[0mtrainPredictPlot\u001b[0m       \u001b[0;34m=\u001b[0m \u001b[0mnp\u001b[0m\u001b[0;34m.\u001b[0m\u001b[0mempty_like\u001b[0m\u001b[0;34m(\u001b[0m\u001b[0mdataset\u001b[0m\u001b[0;34m)\u001b[0m\u001b[0;34m\u001b[0m\u001b[0;34m\u001b[0m\u001b[0m\n\u001b[1;32m      2\u001b[0m \u001b[0mtrainPredictPlot\u001b[0m\u001b[0;34m[\u001b[0m\u001b[0;34m:\u001b[0m\u001b[0;34m,\u001b[0m \u001b[0;34m:\u001b[0m\u001b[0;34m]\u001b[0m \u001b[0;34m=\u001b[0m \u001b[0mnp\u001b[0m\u001b[0;34m.\u001b[0m\u001b[0mnan\u001b[0m\u001b[0;34m\u001b[0m\u001b[0;34m\u001b[0m\u001b[0m\n\u001b[0;32m----> 3\u001b[0;31m \u001b[0mtrainPredictPlot\u001b[0m\u001b[0;34m[\u001b[0m\u001b[0mslide_window\u001b[0m\u001b[0;34m:\u001b[0m\u001b[0mlen\u001b[0m\u001b[0;34m(\u001b[0m\u001b[0mtrainPredict\u001b[0m\u001b[0;34m)\u001b[0m\u001b[0;34m+\u001b[0m\u001b[0mslide_window\u001b[0m\u001b[0;34m,\u001b[0m \u001b[0;34m:\u001b[0m\u001b[0;34m]\u001b[0m \u001b[0;34m=\u001b[0m \u001b[0mtrainPredict\u001b[0m\u001b[0;34m\u001b[0m\u001b[0;34m\u001b[0m\u001b[0m\n\u001b[0m\u001b[1;32m      4\u001b[0m \u001b[0;34m\u001b[0m\u001b[0m\n\u001b[1;32m      5\u001b[0m \u001b[0;31m# shift test predictions for plotting\u001b[0m\u001b[0;34m\u001b[0m\u001b[0;34m\u001b[0m\u001b[0;34m\u001b[0m\u001b[0m\n",
            "\u001b[0;31mNameError\u001b[0m: name 'trainPredict' is not defined"
          ]
        }
      ]
    },
    {
      "cell_type": "code",
      "metadata": {
        "id": "gCiItFkHGrs4",
        "colab_type": "code",
        "colab": {
          "base_uri": "https://localhost:8080/",
          "height": 185
        },
        "outputId": "5df75adc-88c7-4c7d-d24c-110a29032088"
      },
      "source": [
        ""
      ],
      "execution_count": 199,
      "outputs": [
        {
          "output_type": "error",
          "ename": "NameError",
          "evalue": "ignored",
          "traceback": [
            "\u001b[0;31m---------------------------------------------------------------------------\u001b[0m",
            "\u001b[0;31mNameError\u001b[0m                                 Traceback (most recent call last)",
            "\u001b[0;32m<ipython-input-199-8efcd84104ba>\u001b[0m in \u001b[0;36m<module>\u001b[0;34m()\u001b[0m\n\u001b[0;32m----> 1\u001b[0;31m \u001b[0mplt\u001b[0m\u001b[0;34m.\u001b[0m\u001b[0mplot\u001b[0m\u001b[0;34m(\u001b[0m\u001b[0mtestPredict\u001b[0m\u001b[0;34m)\u001b[0m\u001b[0;34m\u001b[0m\u001b[0;34m\u001b[0m\u001b[0m\n\u001b[0m\u001b[1;32m      2\u001b[0m \u001b[0mplt\u001b[0m\u001b[0;34m.\u001b[0m\u001b[0mplot\u001b[0m\u001b[0;34m(\u001b[0m\u001b[0mtestY\u001b[0m\u001b[0;34m)\u001b[0m\u001b[0;34m\u001b[0m\u001b[0;34m\u001b[0m\u001b[0m\n",
            "\u001b[0;31mNameError\u001b[0m: name 'testPredict' is not defined"
          ]
        }
      ]
    },
    {
      "cell_type": "markdown",
      "metadata": {
        "colab_type": "text",
        "id": "W9A5BANzTAwI"
      },
      "source": [
        "### Unseen data"
      ]
    },
    {
      "cell_type": "code",
      "metadata": {
        "id": "yO6OSPzCGrtB",
        "colab_type": "code",
        "colab": {}
      },
      "source": [
        "# Test the network on an unseen data\n",
        "unseen = pandas.read_csv('/content/flood_pred_test.csv',sep=',')"
      ],
      "execution_count": 0,
      "outputs": []
    },
    {
      "cell_type": "code",
      "metadata": {
        "id": "M3DYEZ2aGrtJ",
        "colab_type": "code",
        "colab": {}
      },
      "source": [
        "unseen.head()"
      ],
      "execution_count": 0,
      "outputs": []
    },
    {
      "cell_type": "code",
      "metadata": {
        "id": "ozd81fVBGrtP",
        "colab_type": "code",
        "colab": {}
      },
      "source": [
        "unseen_test = unseen['Level (m)'].values"
      ],
      "execution_count": 0,
      "outputs": []
    },
    {
      "cell_type": "code",
      "metadata": {
        "id": "iHEicc76GrtY",
        "colab_type": "code",
        "colab": {}
      },
      "source": [
        "plt.plot(unseen_test[0:20000])"
      ],
      "execution_count": 0,
      "outputs": []
    },
    {
      "cell_type": "code",
      "metadata": {
        "id": "MSsf0s4RGrtf",
        "colab_type": "code",
        "colab": {}
      },
      "source": [
        "unseen_clean = []\n",
        "for i in unseen_test:\n",
        "    unseen_clean.append([i])\n",
        "unseen_clean = np.asarray(unseen_clean).astype('float32')\n",
        "unseen_clean = scaler.fit_transform(unseen_clean)"
      ],
      "execution_count": 0,
      "outputs": []
    },
    {
      "cell_type": "code",
      "metadata": {
        "id": "XcWz0y-TGrtm",
        "colab_type": "code",
        "colab": {}
      },
      "source": [
        "features,labels = create_dataset(unseen_clean, slide_window)\n",
        "features        = np.reshape(features, (109186,1, 10)) "
      ],
      "execution_count": 0,
      "outputs": []
    },
    {
      "cell_type": "code",
      "metadata": {
        "id": "cDeRQjtGGrtt",
        "colab_type": "code",
        "colab": {}
      },
      "source": [
        "unseen_results = model.predict(features)"
      ],
      "execution_count": 0,
      "outputs": []
    },
    {
      "cell_type": "code",
      "metadata": {
        "id": "G73hbo43Grt3",
        "colab_type": "code",
        "colab": {}
      },
      "source": [
        "plt.gca().set_ylim(bottom=0)\n",
        "plt.gca().set_ylim(top=1)\n",
        "\n",
        "print('-------------------- Predicted --------------------')\n",
        "plt.plot(unseen_results)\n",
        "plt.show()\n",
        "\n",
        "\n",
        "print('-------------------- Ground Truth --------------------')\n",
        "plt.plot(labels)\n",
        "plt.show()"
      ],
      "execution_count": 0,
      "outputs": []
    },
    {
      "cell_type": "markdown",
      "metadata": {
        "colab_type": "text",
        "id": "B5AErSkCTNvT"
      },
      "source": [
        "### Test scores"
      ]
    },
    {
      "cell_type": "code",
      "metadata": {
        "id": "iUPjQewvGrt_",
        "colab_type": "code",
        "colab": {}
      },
      "source": [
        "# Check the root mean squared error for the new test set\n",
        "\n",
        "testScore = model.evaluate(features, labels, verbose=0)\n",
        "testScore = math.sqrt(testScore)\n",
        "testScore = scaler.inverse_transform(np.array([[testScore]]))\n",
        "print('Test Score: %.2f RMSE' % (testScore))"
      ],
      "execution_count": 0,
      "outputs": []
    },
    {
      "cell_type": "markdown",
      "metadata": {
        "id": "nzJ5bM2mGruG",
        "colab_type": "text"
      },
      "source": [
        ""
      ]
    },
    {
      "cell_type": "code",
      "metadata": {
        "id": "O8BCpRDpGruJ",
        "colab_type": "code",
        "colab": {}
      },
      "source": [
        "plt.gca().set_ylim(bottom=0)\n",
        "plt.gca().set_ylim(top=1)\n",
        "\n",
        "print('----------------- Predicted ---------------')\n",
        "plt.plot(unseen_results[0:20000])\n",
        "plt.show()\n",
        "\n",
        "print('----------------- Ground Truth ---------------')\n",
        "plt.plot(labels[0:20000])\n",
        "plt.show()"
      ],
      "execution_count": 0,
      "outputs": []
    }
  ]
}