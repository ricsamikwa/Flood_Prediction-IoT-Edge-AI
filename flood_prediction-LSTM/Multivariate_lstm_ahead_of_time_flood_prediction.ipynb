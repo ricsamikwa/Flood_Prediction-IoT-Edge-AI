{
  "nbformat": 4,
  "nbformat_minor": 0,
  "metadata": {
    "kernelspec": {
      "display_name": "Python [keras_tensor]",
      "language": "python",
      "name": "Python [keras_tensor]"
    },
    "language_info": {
      "codemirror_mode": {
        "name": "ipython",
        "version": 2
      },
      "file_extension": ".py",
      "mimetype": "text/x-python",
      "name": "python",
      "nbconvert_exporter": "python",
      "pygments_lexer": "ipython2",
      "version": "2.7.12"
    },
    "colab": {
      "name": "Multivariate-lstm-ahead_of_time-flood_prediction.ipynb",
      "provenance": [],
      "collapsed_sections": [],
      "toc_visible": true
    }
  },
  "cells": [
    {
      "cell_type": "markdown",
      "metadata": {
        "colab_type": "text",
        "id": "23-IctDiUQpC"
      },
      "source": [
        "# Short term flood prediction using LSTM\n",
        "\n"
      ]
    },
    {
      "cell_type": "code",
      "metadata": {
        "id": "n8edV6A8c-q6",
        "colab_type": "code",
        "colab": {}
      },
      "source": [
        "#Flood Early Warning System using IoT and Edge \n",
        "#Eric Samikwa"
      ],
      "execution_count": 0,
      "outputs": []
    },
    {
      "cell_type": "code",
      "metadata": {
        "id": "AKgENOL-GrqZ",
        "colab_type": "code",
        "colab": {}
      },
      "source": [
        "%matplotlib inline\n",
        "\n",
        "from __future__ import print_function\n",
        "\n",
        "import os\n",
        "os.environ[\"THEANO_FLAGS\"] = \"mode=FAST_RUN,device=gpu,floatX=float32\"\n",
        "\n",
        "from math import sqrt\n",
        "import numpy as np\n",
        "import matplotlib.pyplot as plt\n",
        "import pandas\n",
        "import math\n",
        "import io\n",
        "import keras\n",
        "import requests\n",
        "from matplotlib import pyplot\n",
        "import matplotlib.patches as mpatches\n",
        "from numpy import concatenate\n",
        "from keras.models import Sequential\n",
        "from keras.layers import Dense     \n",
        "from keras.layers import LSTM\n",
        "from sklearn.preprocessing import MinMaxScaler\n",
        "from sklearn.metrics import mean_squared_error\n",
        "from keras import metrics\n",
        "\n",
        "plt.style.use('ggplot')\n"
      ],
      "execution_count": 0,
      "outputs": []
    },
    {
      "cell_type": "markdown",
      "metadata": {
        "id": "7fDsd96fRpZ6",
        "colab_type": "text"
      },
      "source": [
        "# Data pre-processing"
      ]
    },
    {
      "cell_type": "code",
      "metadata": {
        "id": "LkbL9QnDGrqy",
        "colab_type": "code",
        "colab": {}
      },
      "source": [
        "# fix random seed for reproducibility\n",
        "np.random.seed(10)"
      ],
      "execution_count": 0,
      "outputs": []
    },
    {
      "cell_type": "markdown",
      "metadata": {
        "colab_type": "text",
        "id": "6m8ovUKRLHzF"
      },
      "source": [
        "### Hourly rainfall data"
      ]
    },
    {
      "cell_type": "code",
      "metadata": {
        "id": "auxIEwH8TpnI",
        "colab_type": "code",
        "colab": {}
      },
      "source": [
        "#get hourly rainfall data\n",
        "df_rain = pandas.read_csv(\"https://raw.githubusercontent.com/ricsamikwa/short-term-flood-water-level-prediction/master/dataset/hourly_rainfall_train.csv\")"
      ],
      "execution_count": 0,
      "outputs": []
    },
    {
      "cell_type": "code",
      "metadata": {
        "id": "5QuDCp2_UB4f",
        "colab_type": "code",
        "outputId": "7e4dfaa0-00ab-4fe4-e3a1-4415db462bd5",
        "colab": {
          "base_uri": "https://localhost:8080/",
          "height": 206
        }
      },
      "source": [
        "#display first 5\n",
        "df_rain.head()"
      ],
      "execution_count": 0,
      "outputs": [
        {
          "output_type": "execute_result",
          "data": {
            "text/html": [
              "<div>\n",
              "<style scoped>\n",
              "    .dataframe tbody tr th:only-of-type {\n",
              "        vertical-align: middle;\n",
              "    }\n",
              "\n",
              "    .dataframe tbody tr th {\n",
              "        vertical-align: top;\n",
              "    }\n",
              "\n",
              "    .dataframe thead th {\n",
              "        text-align: right;\n",
              "    }\n",
              "</style>\n",
              "<table border=\"1\" class=\"dataframe\">\n",
              "  <thead>\n",
              "    <tr style=\"text-align: right;\">\n",
              "      <th></th>\n",
              "      <th>Date/Time</th>\n",
              "      <th>Current rainfall (mm)</th>\n",
              "      <th>Cumulative rainfall (mm)</th>\n",
              "    </tr>\n",
              "  </thead>\n",
              "  <tbody>\n",
              "    <tr>\n",
              "      <th>0</th>\n",
              "      <td>2018-12-02 18:00:00</td>\n",
              "      <td>0.0</td>\n",
              "      <td>0.0</td>\n",
              "    </tr>\n",
              "    <tr>\n",
              "      <th>1</th>\n",
              "      <td>2018-12-02 17:00:00</td>\n",
              "      <td>0.0</td>\n",
              "      <td>0.0</td>\n",
              "    </tr>\n",
              "    <tr>\n",
              "      <th>2</th>\n",
              "      <td>2018-12-02 16:00:00</td>\n",
              "      <td>0.0</td>\n",
              "      <td>0.0</td>\n",
              "    </tr>\n",
              "    <tr>\n",
              "      <th>3</th>\n",
              "      <td>2018-12-02 15:00:00</td>\n",
              "      <td>0.0</td>\n",
              "      <td>0.0</td>\n",
              "    </tr>\n",
              "    <tr>\n",
              "      <th>4</th>\n",
              "      <td>2018-12-02 14:00:00</td>\n",
              "      <td>0.0</td>\n",
              "      <td>0.0</td>\n",
              "    </tr>\n",
              "  </tbody>\n",
              "</table>\n",
              "</div>"
            ],
            "text/plain": [
              "             Date/Time  Current rainfall (mm)  Cumulative rainfall (mm)\n",
              "0  2018-12-02 18:00:00                    0.0                       0.0\n",
              "1  2018-12-02 17:00:00                    0.0                       0.0\n",
              "2  2018-12-02 16:00:00                    0.0                       0.0\n",
              "3  2018-12-02 15:00:00                    0.0                       0.0\n",
              "4  2018-12-02 14:00:00                    0.0                       0.0"
            ]
          },
          "metadata": {
            "tags": []
          },
          "execution_count": 112
        }
      ]
    },
    {
      "cell_type": "code",
      "metadata": {
        "id": "bwEqbjzAUJGA",
        "colab_type": "code",
        "outputId": "fbd14bb9-a566-49ac-c17c-98defd169206",
        "colab": {
          "base_uri": "https://localhost:8080/",
          "height": 34
        }
      },
      "source": [
        "#dataframe shape\n",
        "df_rain.shape"
      ],
      "execution_count": 0,
      "outputs": [
        {
          "output_type": "execute_result",
          "data": {
            "text/plain": [
              "(78848, 3)"
            ]
          },
          "metadata": {
            "tags": []
          },
          "execution_count": 113
        }
      ]
    },
    {
      "cell_type": "code",
      "metadata": {
        "id": "SolrcBRVUdd1",
        "colab_type": "code",
        "outputId": "2b04022f-02f8-48d5-a5d4-390634d557a9",
        "colab": {
          "base_uri": "https://localhost:8080/",
          "height": 300
        }
      },
      "source": [
        "#dataset properties\n",
        "df_rain.describe()  \n"
      ],
      "execution_count": 0,
      "outputs": [
        {
          "output_type": "execute_result",
          "data": {
            "text/html": [
              "<div>\n",
              "<style scoped>\n",
              "    .dataframe tbody tr th:only-of-type {\n",
              "        vertical-align: middle;\n",
              "    }\n",
              "\n",
              "    .dataframe tbody tr th {\n",
              "        vertical-align: top;\n",
              "    }\n",
              "\n",
              "    .dataframe thead th {\n",
              "        text-align: right;\n",
              "    }\n",
              "</style>\n",
              "<table border=\"1\" class=\"dataframe\">\n",
              "  <thead>\n",
              "    <tr style=\"text-align: right;\">\n",
              "      <th></th>\n",
              "      <th>Current rainfall (mm)</th>\n",
              "      <th>Cumulative rainfall (mm)</th>\n",
              "    </tr>\n",
              "  </thead>\n",
              "  <tbody>\n",
              "    <tr>\n",
              "      <th>count</th>\n",
              "      <td>78844.000000</td>\n",
              "      <td>78847.000000</td>\n",
              "    </tr>\n",
              "    <tr>\n",
              "      <th>mean</th>\n",
              "      <td>0.049206</td>\n",
              "      <td>0.586580</td>\n",
              "    </tr>\n",
              "    <tr>\n",
              "      <th>std</th>\n",
              "      <td>0.765296</td>\n",
              "      <td>2.770216</td>\n",
              "    </tr>\n",
              "    <tr>\n",
              "      <th>min</th>\n",
              "      <td>0.000000</td>\n",
              "      <td>0.000000</td>\n",
              "    </tr>\n",
              "    <tr>\n",
              "      <th>25%</th>\n",
              "      <td>0.000000</td>\n",
              "      <td>0.000000</td>\n",
              "    </tr>\n",
              "    <tr>\n",
              "      <th>50%</th>\n",
              "      <td>0.000000</td>\n",
              "      <td>0.000000</td>\n",
              "    </tr>\n",
              "    <tr>\n",
              "      <th>75%</th>\n",
              "      <td>0.000000</td>\n",
              "      <td>0.000000</td>\n",
              "    </tr>\n",
              "    <tr>\n",
              "      <th>max</th>\n",
              "      <td>110.000000</td>\n",
              "      <td>111.400000</td>\n",
              "    </tr>\n",
              "  </tbody>\n",
              "</table>\n",
              "</div>"
            ],
            "text/plain": [
              "       Current rainfall (mm)  Cumulative rainfall (mm)\n",
              "count           78844.000000              78847.000000\n",
              "mean                0.049206                  0.586580\n",
              "std                 0.765296                  2.770216\n",
              "min                 0.000000                  0.000000\n",
              "25%                 0.000000                  0.000000\n",
              "50%                 0.000000                  0.000000\n",
              "75%                 0.000000                  0.000000\n",
              "max               110.000000                111.400000"
            ]
          },
          "metadata": {
            "tags": []
          },
          "execution_count": 114
        }
      ]
    },
    {
      "cell_type": "code",
      "metadata": {
        "id": "yoS0P7O-9mLH",
        "colab_type": "code",
        "outputId": "c82bf712-a4b7-41d9-a2b4-af4ad43c89f7",
        "colab": {
          "base_uri": "https://localhost:8080/",
          "height": 299
        }
      },
      "source": [
        "df_rain.plot( y='Cumulative rainfall (mm)')  \n",
        "\n",
        "plt.title('Rainfall')  \n",
        "plt.xlabel('Time (hours)')  \n",
        "plt.ylabel('Rainfall (mm)')  \n",
        "rainfall = mpatches.Patch(color='C0', label='Rainfall')\n",
        "plt.legend(handles=[rainfall])\n",
        "plt.show()  "
      ],
      "execution_count": 0,
      "outputs": [
        {
          "output_type": "display_data",
          "data": {
            "image/png": "[encoded data removed]",
            "text/plain": [
              "<Figure size 432x288 with 1 Axes>"
            ]
          },
          "metadata": {
            "tags": []
          }
        }
      ]
    },
    {
      "cell_type": "code",
      "metadata": {
        "id": "7j9PVBSFLWrm",
        "colab_type": "code",
        "colab": {}
      },
      "source": [
        ""
      ],
      "execution_count": 0,
      "outputs": []
    },
    {
      "cell_type": "markdown",
      "metadata": {
        "colab_type": "text",
        "id": "6sSpW7YhLXI3"
      },
      "source": [
        "### Hourly water level data"
      ]
    },
    {
      "cell_type": "code",
      "metadata": {
        "id": "hzPK6PJk9mLN",
        "colab_type": "code",
        "colab": {}
      },
      "source": [
        "#get hourly water level data\n",
        "df_water_level = pandas.read_csv(\"https://raw.githubusercontent.com/ricsamikwa/short-term-flood-water-level-prediction/master/dataset/hourly_water_level_train.csv\")"
      ],
      "execution_count": 0,
      "outputs": []
    },
    {
      "cell_type": "code",
      "metadata": {
        "id": "-p-MCno59mLX",
        "colab_type": "code",
        "outputId": "cbc8f977-666b-4c10-9873-2b0e8e5bc511",
        "colab": {
          "base_uri": "https://localhost:8080/",
          "height": 206
        }
      },
      "source": [
        "df_water_level.head()"
      ],
      "execution_count": 0,
      "outputs": [
        {
          "output_type": "execute_result",
          "data": {
            "text/html": [
              "<div>\n",
              "<style scoped>\n",
              "    .dataframe tbody tr th:only-of-type {\n",
              "        vertical-align: middle;\n",
              "    }\n",
              "\n",
              "    .dataframe tbody tr th {\n",
              "        vertical-align: top;\n",
              "    }\n",
              "\n",
              "    .dataframe thead th {\n",
              "        text-align: right;\n",
              "    }\n",
              "</style>\n",
              "<table border=\"1\" class=\"dataframe\">\n",
              "  <thead>\n",
              "    <tr style=\"text-align: right;\">\n",
              "      <th></th>\n",
              "      <th>Date/Time</th>\n",
              "      <th>Level (m)</th>\n",
              "    </tr>\n",
              "  </thead>\n",
              "  <tbody>\n",
              "    <tr>\n",
              "      <th>0</th>\n",
              "      <td>2018-12-02 17:00:00</td>\n",
              "      <td>1.61</td>\n",
              "    </tr>\n",
              "    <tr>\n",
              "      <th>1</th>\n",
              "      <td>2018-12-02 16:00:00</td>\n",
              "      <td>1.61</td>\n",
              "    </tr>\n",
              "    <tr>\n",
              "      <th>2</th>\n",
              "      <td>2018-12-02 15:00:00</td>\n",
              "      <td>1.62</td>\n",
              "    </tr>\n",
              "    <tr>\n",
              "      <th>3</th>\n",
              "      <td>2018-12-02 14:00:00</td>\n",
              "      <td>1.63</td>\n",
              "    </tr>\n",
              "    <tr>\n",
              "      <th>4</th>\n",
              "      <td>2018-12-02 13:00:00</td>\n",
              "      <td>1.63</td>\n",
              "    </tr>\n",
              "  </tbody>\n",
              "</table>\n",
              "</div>"
            ],
            "text/plain": [
              "             Date/Time  Level (m)\n",
              "0  2018-12-02 17:00:00       1.61\n",
              "1  2018-12-02 16:00:00       1.61\n",
              "2  2018-12-02 15:00:00       1.62\n",
              "3  2018-12-02 14:00:00       1.63\n",
              "4  2018-12-02 13:00:00       1.63"
            ]
          },
          "metadata": {
            "tags": []
          },
          "execution_count": 117
        }
      ]
    },
    {
      "cell_type": "code",
      "metadata": {
        "id": "xcxaV9Hxb8aN",
        "colab_type": "code",
        "outputId": "776cfe04-81cb-41c9-dc66-03d0d4872756",
        "colab": {
          "base_uri": "https://localhost:8080/",
          "height": 34
        }
      },
      "source": [
        "df_water_level.shape"
      ],
      "execution_count": 0,
      "outputs": [
        {
          "output_type": "execute_result",
          "data": {
            "text/plain": [
              "(78822, 2)"
            ]
          },
          "metadata": {
            "tags": []
          },
          "execution_count": 118
        }
      ]
    },
    {
      "cell_type": "code",
      "metadata": {
        "id": "xw6xlSqsbWnp",
        "colab_type": "code",
        "outputId": "f0a17ecb-c310-470a-d953-e7892581185d",
        "colab": {
          "base_uri": "https://localhost:8080/",
          "height": 300
        }
      },
      "source": [
        "#dataset properties\n",
        "df_water_level.describe()"
      ],
      "execution_count": 0,
      "outputs": [
        {
          "output_type": "execute_result",
          "data": {
            "text/html": [
              "<div>\n",
              "<style scoped>\n",
              "    .dataframe tbody tr th:only-of-type {\n",
              "        vertical-align: middle;\n",
              "    }\n",
              "\n",
              "    .dataframe tbody tr th {\n",
              "        vertical-align: top;\n",
              "    }\n",
              "\n",
              "    .dataframe thead th {\n",
              "        text-align: right;\n",
              "    }\n",
              "</style>\n",
              "<table border=\"1\" class=\"dataframe\">\n",
              "  <thead>\n",
              "    <tr style=\"text-align: right;\">\n",
              "      <th></th>\n",
              "      <th>Level (m)</th>\n",
              "    </tr>\n",
              "  </thead>\n",
              "  <tbody>\n",
              "    <tr>\n",
              "      <th>count</th>\n",
              "      <td>78822.000000</td>\n",
              "    </tr>\n",
              "    <tr>\n",
              "      <th>mean</th>\n",
              "      <td>1.453701</td>\n",
              "    </tr>\n",
              "    <tr>\n",
              "      <th>std</th>\n",
              "      <td>0.113859</td>\n",
              "    </tr>\n",
              "    <tr>\n",
              "      <th>min</th>\n",
              "      <td>0.000000</td>\n",
              "    </tr>\n",
              "    <tr>\n",
              "      <th>25%</th>\n",
              "      <td>1.400000</td>\n",
              "    </tr>\n",
              "    <tr>\n",
              "      <th>50%</th>\n",
              "      <td>1.450000</td>\n",
              "    </tr>\n",
              "    <tr>\n",
              "      <th>75%</th>\n",
              "      <td>1.500000</td>\n",
              "    </tr>\n",
              "    <tr>\n",
              "      <th>max</th>\n",
              "      <td>3.300000</td>\n",
              "    </tr>\n",
              "  </tbody>\n",
              "</table>\n",
              "</div>"
            ],
            "text/plain": [
              "          Level (m)\n",
              "count  78822.000000\n",
              "mean       1.453701\n",
              "std        0.113859\n",
              "min        0.000000\n",
              "25%        1.400000\n",
              "50%        1.450000\n",
              "75%        1.500000\n",
              "max        3.300000"
            ]
          },
          "metadata": {
            "tags": []
          },
          "execution_count": 119
        }
      ]
    },
    {
      "cell_type": "code",
      "metadata": {
        "id": "o7cRqUYWcGu5",
        "colab_type": "code",
        "outputId": "939afb2c-811b-4c51-af07-611301ec62e3",
        "colab": {
          "base_uri": "https://localhost:8080/",
          "height": 299
        }
      },
      "source": [
        "df_water_level.plot(y='Level (m)')  \n",
        "plt.title('Water Level')  \n",
        "plt.xlabel('Time (hours)')  \n",
        "plt.ylabel('Max Level')  \n",
        "plt.show() "
      ],
      "execution_count": 0,
      "outputs": [
        {
          "output_type": "display_data",
          "data": {
            "image/png": "[encoded data removed]",
            "text/plain": [
              "<Figure size 432x288 with 1 Axes>"
            ]
          },
          "metadata": {
            "tags": []
          }
        }
      ]
    },
    {
      "cell_type": "markdown",
      "metadata": {
        "colab_type": "text",
        "id": "bVKBDa5tLiiO"
      },
      "source": [
        "### Combining dataset"
      ]
    },
    {
      "cell_type": "code",
      "metadata": {
        "id": "P-KN4PKgct8z",
        "colab_type": "code",
        "outputId": "0e9e0ca2-dc09-4d0e-bf19-4caeb115768f",
        "colab": {
          "base_uri": "https://localhost:8080/",
          "height": 206
        }
      },
      "source": [
        "#dataset merged on date_time \n",
        "dataset = pandas.merge(df_rain, df_water_level, how='outer', on=['Date/Time'])\n",
        "dataset.head()"
      ],
      "execution_count": 0,
      "outputs": [
        {
          "output_type": "execute_result",
          "data": {
            "text/html": [
              "<div>\n",
              "<style scoped>\n",
              "    .dataframe tbody tr th:only-of-type {\n",
              "        vertical-align: middle;\n",
              "    }\n",
              "\n",
              "    .dataframe tbody tr th {\n",
              "        vertical-align: top;\n",
              "    }\n",
              "\n",
              "    .dataframe thead th {\n",
              "        text-align: right;\n",
              "    }\n",
              "</style>\n",
              "<table border=\"1\" class=\"dataframe\">\n",
              "  <thead>\n",
              "    <tr style=\"text-align: right;\">\n",
              "      <th></th>\n",
              "      <th>Date/Time</th>\n",
              "      <th>Current rainfall (mm)</th>\n",
              "      <th>Cumulative rainfall (mm)</th>\n",
              "      <th>Level (m)</th>\n",
              "    </tr>\n",
              "  </thead>\n",
              "  <tbody>\n",
              "    <tr>\n",
              "      <th>0</th>\n",
              "      <td>2018-12-02 18:00:00</td>\n",
              "      <td>0.0</td>\n",
              "      <td>0.0</td>\n",
              "      <td>NaN</td>\n",
              "    </tr>\n",
              "    <tr>\n",
              "      <th>1</th>\n",
              "      <td>2018-12-02 17:00:00</td>\n",
              "      <td>0.0</td>\n",
              "      <td>0.0</td>\n",
              "      <td>1.61</td>\n",
              "    </tr>\n",
              "    <tr>\n",
              "      <th>2</th>\n",
              "      <td>2018-12-02 16:00:00</td>\n",
              "      <td>0.0</td>\n",
              "      <td>0.0</td>\n",
              "      <td>1.61</td>\n",
              "    </tr>\n",
              "    <tr>\n",
              "      <th>3</th>\n",
              "      <td>2018-12-02 15:00:00</td>\n",
              "      <td>0.0</td>\n",
              "      <td>0.0</td>\n",
              "      <td>1.62</td>\n",
              "    </tr>\n",
              "    <tr>\n",
              "      <th>4</th>\n",
              "      <td>2018-12-02 14:00:00</td>\n",
              "      <td>0.0</td>\n",
              "      <td>0.0</td>\n",
              "      <td>1.63</td>\n",
              "    </tr>\n",
              "  </tbody>\n",
              "</table>\n",
              "</div>"
            ],
            "text/plain": [
              "             Date/Time  ...  Level (m)\n",
              "0  2018-12-02 18:00:00  ...        NaN\n",
              "1  2018-12-02 17:00:00  ...       1.61\n",
              "2  2018-12-02 16:00:00  ...       1.61\n",
              "3  2018-12-02 15:00:00  ...       1.62\n",
              "4  2018-12-02 14:00:00  ...       1.63\n",
              "\n",
              "[5 rows x 4 columns]"
            ]
          },
          "metadata": {
            "tags": []
          },
          "execution_count": 121
        }
      ]
    },
    {
      "cell_type": "markdown",
      "metadata": {
        "colab_type": "text",
        "id": "hSdPHvntNP3A"
      },
      "source": [
        "### Filling missing values"
      ]
    },
    {
      "cell_type": "code",
      "metadata": {
        "id": "fsuC1c5D8vTC",
        "colab_type": "code",
        "outputId": "7648345b-d70a-4075-9b48-441d1328ee17",
        "colab": {
          "base_uri": "https://localhost:8080/",
          "height": 206
        }
      },
      "source": [
        "#filling all missing values with mean of the column\n",
        "dataset['Cumulative rainfall (mm)'] = dataset['Cumulative rainfall (mm)'].fillna(dataset['Cumulative rainfall (mm)'].mean())\n",
        "dataset['Current rainfall (mm)'] = dataset['Current rainfall (mm)'].fillna(dataset['Current rainfall (mm)'].mean())\n",
        "dataset['Level (m)'] = dataset['Level (m)'].fillna(dataset['Level (m)'].mean())\n",
        "\n",
        "dataset.head()"
      ],
      "execution_count": 0,
      "outputs": [
        {
          "output_type": "execute_result",
          "data": {
            "text/html": [
              "<div>\n",
              "<style scoped>\n",
              "    .dataframe tbody tr th:only-of-type {\n",
              "        vertical-align: middle;\n",
              "    }\n",
              "\n",
              "    .dataframe tbody tr th {\n",
              "        vertical-align: top;\n",
              "    }\n",
              "\n",
              "    .dataframe thead th {\n",
              "        text-align: right;\n",
              "    }\n",
              "</style>\n",
              "<table border=\"1\" class=\"dataframe\">\n",
              "  <thead>\n",
              "    <tr style=\"text-align: right;\">\n",
              "      <th></th>\n",
              "      <th>Date/Time</th>\n",
              "      <th>Current rainfall (mm)</th>\n",
              "      <th>Cumulative rainfall (mm)</th>\n",
              "      <th>Level (m)</th>\n",
              "    </tr>\n",
              "  </thead>\n",
              "  <tbody>\n",
              "    <tr>\n",
              "      <th>0</th>\n",
              "      <td>2018-12-02 18:00:00</td>\n",
              "      <td>0.0</td>\n",
              "      <td>0.0</td>\n",
              "      <td>1.453701</td>\n",
              "    </tr>\n",
              "    <tr>\n",
              "      <th>1</th>\n",
              "      <td>2018-12-02 17:00:00</td>\n",
              "      <td>0.0</td>\n",
              "      <td>0.0</td>\n",
              "      <td>1.610000</td>\n",
              "    </tr>\n",
              "    <tr>\n",
              "      <th>2</th>\n",
              "      <td>2018-12-02 16:00:00</td>\n",
              "      <td>0.0</td>\n",
              "      <td>0.0</td>\n",
              "      <td>1.610000</td>\n",
              "    </tr>\n",
              "    <tr>\n",
              "      <th>3</th>\n",
              "      <td>2018-12-02 15:00:00</td>\n",
              "      <td>0.0</td>\n",
              "      <td>0.0</td>\n",
              "      <td>1.620000</td>\n",
              "    </tr>\n",
              "    <tr>\n",
              "      <th>4</th>\n",
              "      <td>2018-12-02 14:00:00</td>\n",
              "      <td>0.0</td>\n",
              "      <td>0.0</td>\n",
              "      <td>1.630000</td>\n",
              "    </tr>\n",
              "  </tbody>\n",
              "</table>\n",
              "</div>"
            ],
            "text/plain": [
              "             Date/Time  ...  Level (m)\n",
              "0  2018-12-02 18:00:00  ...   1.453701\n",
              "1  2018-12-02 17:00:00  ...   1.610000\n",
              "2  2018-12-02 16:00:00  ...   1.610000\n",
              "3  2018-12-02 15:00:00  ...   1.620000\n",
              "4  2018-12-02 14:00:00  ...   1.630000\n",
              "\n",
              "[5 rows x 4 columns]"
            ]
          },
          "metadata": {
            "tags": []
          },
          "execution_count": 122
        }
      ]
    },
    {
      "cell_type": "code",
      "metadata": {
        "id": "RrcYNT2I85aT",
        "colab_type": "code",
        "outputId": "0f60456f-af2e-4261-9beb-506f703b2122",
        "colab": {
          "base_uri": "https://localhost:8080/",
          "height": 34
        }
      },
      "source": [
        "dataset = dataset.drop(columns=['Current rainfall (mm)', 'Date/Time'])\n",
        "dataset.shape"
      ],
      "execution_count": 0,
      "outputs": [
        {
          "output_type": "execute_result",
          "data": {
            "text/plain": [
              "(78850, 2)"
            ]
          },
          "metadata": {
            "tags": []
          },
          "execution_count": 123
        }
      ]
    },
    {
      "cell_type": "code",
      "metadata": {
        "scrolled": true,
        "id": "geJ2EXFdGrrP",
        "colab_type": "code",
        "outputId": "518e0c0e-84ac-4f13-cb1f-08e5ab5a10e3",
        "colab": {
          "base_uri": "https://localhost:8080/",
          "height": 299
        }
      },
      "source": [
        "plt.plot(dataset)\n",
        "plt.title('Combined dataset')  \n",
        "plt.xlabel('Time (hours)')  \n",
        "plt.ylabel('')  \n",
        "rainfall = mpatches.Patch(color='C0', label='Rainfall')\n",
        "level = mpatches.Patch(color='C1', label='Water level')\n",
        "plt.legend(handles=[rainfall,level])\n",
        "plt.show() "
      ],
      "execution_count": 0,
      "outputs": [
        {
          "output_type": "display_data",
          "data": {
            "image/png": "[encoded data removed]",
            "text/plain": [
              "<Figure size 432x288 with 1 Axes>"
            ]
          },
          "metadata": {
            "tags": []
          }
        }
      ]
    },
    {
      "cell_type": "markdown",
      "metadata": {
        "colab_type": "text",
        "id": "XZE1yqIRL8NB"
      },
      "source": [
        "### Scaling dataset "
      ]
    },
    {
      "cell_type": "code",
      "metadata": {
        "id": "_p8QSsCoGrrc",
        "colab_type": "code",
        "colab": {}
      },
      "source": [
        "# normalize the dataset (LSTMs are sensitive to the scale of the input data)\n",
        "scaler  = MinMaxScaler(feature_range=(0, 1))\n",
        "dataset = scaler.fit_transform(dataset)"
      ],
      "execution_count": 0,
      "outputs": []
    },
    {
      "cell_type": "code",
      "metadata": {
        "id": "ystTRNmaCAoD",
        "colab_type": "code",
        "outputId": "1b72a9d4-5953-4efa-b315-73e6cd6b649d",
        "colab": {
          "base_uri": "https://localhost:8080/",
          "height": 299
        }
      },
      "source": [
        "plt.plot(dataset)\n",
        "plt.title('Scaled dataset')  \n",
        "plt.xlabel('Time (hours)')  \n",
        "plt.ylabel('')  \n",
        "rainfall = mpatches.Patch(color='C0', label='Rainfall')\n",
        "level = mpatches.Patch(color='C1', label='Water level')\n",
        "plt.legend(handles=[rainfall,level])\n",
        "plt.show() "
      ],
      "execution_count": 0,
      "outputs": [
        {
          "output_type": "display_data",
          "data": {
            "image/png": "[encoded data removed]",
            "text/plain": [
              "<Figure size 432x288 with 1 Axes>"
            ]
          },
          "metadata": {
            "tags": []
          }
        }
      ]
    },
    {
      "cell_type": "markdown",
      "metadata": {
        "colab_type": "text",
        "id": "MaqkAsJ8RByP"
      },
      "source": [
        "# Training "
      ]
    },
    {
      "cell_type": "markdown",
      "metadata": {
        "colab_type": "text",
        "id": "SepyoWQPl1Yu"
      },
      "source": [
        "#### Dataset sliding window (Multivariate)"
      ]
    },
    {
      "cell_type": "code",
      "metadata": {
        "colab_type": "code",
        "id": "y48tr9m2l1Y4",
        "colab": {}
      },
      "source": [
        "# convert series to supervised learning\n",
        "# structure data for multivariate lstm\n",
        "def series_to_supervised(data, n_in=1, n_out=1, dropnan=True):\n",
        "\tn_vars = 1 if type(data) is list else data.shape[1]\n",
        "\tdf = pandas.DataFrame(data)\n",
        "\tcols, names = list(), list()\n",
        " \n",
        "\t# input sequence (t-n, ... t-1)\n",
        "\tfor i in range(n_in, 0, -1):\n",
        "\t\tcols.append(df.shift(i))\n",
        "\t\tnames += [('var%d(t-%d)' % (j+1, i)) for j in range(n_vars)]\n",
        "\n",
        "\t# forecast sequence (t, t+1, ... t+n)\n",
        "\tfor i in range(0, n_out):\n",
        "\t\tcols.append(df.shift(-i))\n",
        "\t\tif i == 0:\n",
        "\t\t\tnames += [('var%d(t)' % (j+1)) for j in range(n_vars)]\n",
        "\t\telse:\n",
        "\t\t\tnames += [('var%d(t+%d)' % (j+1, i)) for j in range(n_vars)]\n",
        "\n",
        "\t# put it all together\n",
        "\tagg = pandas.concat(cols, axis=1)\n",
        "\tagg.columns = names\n",
        "\n",
        "\t# drop rows with NaN values\n",
        "\tif dropnan:\n",
        "\t\tagg.dropna(inplace=True)\n",
        "\treturn agg"
      ],
      "execution_count": 0,
      "outputs": []
    },
    {
      "cell_type": "code",
      "metadata": {
        "colab_type": "code",
        "id": "ImzAD_whl1ZN",
        "outputId": "2724b680-1e2f-45cf-be72-0c022ea0ccf7",
        "colab": {
          "base_uri": "https://localhost:8080/",
          "height": 34
        }
      },
      "source": [
        "# specify the number of lag hours\n",
        "n_hours = 10\n",
        "n_features = 2\n",
        "# frame as supervised learning\n",
        "reframed = series_to_supervised(dataset, n_hours, 1)\n",
        "print(reframed.shape)"
      ],
      "execution_count": 0,
      "outputs": [
        {
          "output_type": "stream",
          "text": [
            "(78840, 22)\n"
          ],
          "name": "stdout"
        }
      ]
    },
    {
      "cell_type": "markdown",
      "metadata": {
        "id": "r2ZTVlWFTTxq",
        "colab_type": "text"
      },
      "source": [
        "#### Spliting data to training and test set"
      ]
    },
    {
      "cell_type": "code",
      "metadata": {
        "colab_type": "code",
        "id": "1JRT_sYWl1Za",
        "colab": {}
      },
      "source": [
        "# split into train, validation and test sets (70%, 15%, 15%)\n",
        "values = reframed.values\n",
        "n_train_hours = 55100 # approx 70% of the dataset\n",
        "n_test_offset = 66900 # approx 15 % of the dataset \n",
        "train = values[:n_train_hours, :]\n",
        "validate= values[n_train_hours:n_test_offset, :]\n",
        "test = values[n_test_offset:, :]"
      ],
      "execution_count": 0,
      "outputs": []
    },
    {
      "cell_type": "code",
      "metadata": {
        "id": "ZQGSFBbeu6qq",
        "colab_type": "code",
        "outputId": "7e341437-8eb6-4f9d-c972-ba119509e76a",
        "colab": {
          "base_uri": "https://localhost:8080/",
          "height": 69
        }
      },
      "source": [
        "#training data shape\n",
        "print(train.shape)\n",
        "#test data shape\n",
        "print(test.shape)\n",
        "#test data shape\n",
        "print(validate.shape)"
      ],
      "execution_count": 0,
      "outputs": [
        {
          "output_type": "stream",
          "text": [
            "(55100, 22)\n",
            "(11940, 22)\n",
            "(11800, 22)\n"
          ],
          "name": "stdout"
        }
      ]
    },
    {
      "cell_type": "code",
      "metadata": {
        "colab_type": "code",
        "id": "bP58jSz1l1Zm",
        "outputId": "392d5d25-07ab-4b69-d0f9-8df01ffbeb4e",
        "colab": {
          "base_uri": "https://localhost:8080/",
          "height": 34
        }
      },
      "source": [
        "# split into input and outputs\n",
        "n_obs = n_hours * n_features\n",
        "train_X, train_y = train[:, :n_obs], train[:, -1]\n",
        "test_X, test_y = test[:, :n_obs], test[:, -1]\n",
        "validate_X, validate_y = validate[:, :n_obs], validate[:, -1]\n",
        "print(train_X.shape, len(train_X), train_y.shape)"
      ],
      "execution_count": 0,
      "outputs": [
        {
          "output_type": "stream",
          "text": [
            "(55100, 20) 55100 (55100,)\n"
          ],
          "name": "stdout"
        }
      ]
    },
    {
      "cell_type": "markdown",
      "metadata": {
        "id": "A-_uBFAKTsm0",
        "colab_type": "text"
      },
      "source": [
        "#### Reshaping to LSTM input format"
      ]
    },
    {
      "cell_type": "code",
      "metadata": {
        "id": "d19VlZtWmvAq",
        "colab_type": "code",
        "outputId": "d4050013-088a-48f4-9a7a-75b055d9fd6c",
        "colab": {
          "base_uri": "https://localhost:8080/",
          "height": 34
        }
      },
      "source": [
        "# reshape input to be 3D [samples, timesteps, features]\n",
        "train_X = train_X.reshape((train_X.shape[0], n_hours, n_features))\n",
        "test_X = test_X.reshape((test_X.shape[0], n_hours, n_features))\n",
        "validate_X = validate_X.reshape((validate_X.shape[0], n_hours, n_features))\n",
        "print(train_X.shape, train_y.shape, test_X.shape, test_y.shape, validate_X.shape, validate_y.shape)"
      ],
      "execution_count": 0,
      "outputs": [
        {
          "output_type": "stream",
          "text": [
            "(55100, 10, 2) (55100,) (11940, 10, 2) (11940,) (11800, 10, 2) (11800,)\n"
          ],
          "name": "stdout"
        }
      ]
    },
    {
      "cell_type": "markdown",
      "metadata": {
        "colab_type": "text",
        "id": "uc7YZ_7NSJoJ"
      },
      "source": [
        "## Model (LSTM)"
      ]
    },
    {
      "cell_type": "code",
      "metadata": {
        "id": "GVJE3ZupWw7b",
        "colab_type": "code",
        "colab": {}
      },
      "source": [
        "#Setup the LSTM model (multivariate)\n",
        "\n",
        "model = Sequential()\n",
        "model.add(LSTM(50, activation='relu', input_shape=(train_X.shape[1], train_X.shape[2])))\n",
        "model.add(Dense(10, activation='relu'))\n",
        "model.add(Dense(1))\n",
        "model.compile(loss='mse', optimizer='adam')\n"
      ],
      "execution_count": 0,
      "outputs": []
    },
    {
      "cell_type": "code",
      "metadata": {
        "id": "BJXMV979XKrq",
        "colab_type": "code",
        "outputId": "ee0a9fda-98ca-4768-cc64-152848347a67",
        "colab": {
          "base_uri": "https://localhost:8080/",
          "height": 260
        }
      },
      "source": [
        "model.summary()"
      ],
      "execution_count": 0,
      "outputs": [
        {
          "output_type": "stream",
          "text": [
            "Model: \"sequential_2\"\n",
            "_________________________________________________________________\n",
            "Layer (type)                 Output Shape              Param #   \n",
            "=================================================================\n",
            "lstm_2 (LSTM)                (None, 50)                10600     \n",
            "_________________________________________________________________\n",
            "dense_3 (Dense)              (None, 10)                510       \n",
            "_________________________________________________________________\n",
            "dense_4 (Dense)              (None, 1)                 11        \n",
            "=================================================================\n",
            "Total params: 11,121\n",
            "Trainable params: 11,121\n",
            "Non-trainable params: 0\n",
            "_________________________________________________________________\n"
          ],
          "name": "stdout"
        }
      ]
    },
    {
      "cell_type": "markdown",
      "metadata": {
        "colab_type": "text",
        "id": "NcODng0NWxh_"
      },
      "source": [
        "## Model Learning"
      ]
    },
    {
      "cell_type": "markdown",
      "metadata": {
        "id": "EByuGYMII7XW",
        "colab_type": "text"
      },
      "source": [
        "### training and validation"
      ]
    },
    {
      "cell_type": "code",
      "metadata": {
        "id": "dgt8J7MWGrsb",
        "colab_type": "code",
        "outputId": "0a82bd27-ffe5-40f4-ce7d-69af9f4c2179",
        "colab": {
          "base_uri": "https://localhost:8080/",
          "height": 1000
        }
      },
      "source": [
        "#training : 50 epochs and batch size 64\n",
        "history = model.fit(train_X, train_y, nb_epoch=50, batch_size=64, validation_data=(validate_X, validate_y), shuffle=False)"
      ],
      "execution_count": 0,
      "outputs": [
        {
          "output_type": "stream",
          "text": [
            "/usr/local/lib/python3.6/dist-packages/ipykernel_launcher.py:1: UserWarning: The `nb_epoch` argument in `fit` has been renamed `epochs`.\n",
            "  \"\"\"Entry point for launching an IPython kernel.\n"
          ],
          "name": "stderr"
        },
        {
          "output_type": "stream",
          "text": [
            "Train on 55100 samples, validate on 11800 samples\n",
            "Epoch 1/50\n",
            "55100/55100 [==============================] - 9s 162us/step - loss: 0.0028 - val_loss: 2.5048e-04\n",
            "Epoch 2/50\n",
            "55100/55100 [==============================] - 8s 151us/step - loss: 1.7733e-04 - val_loss: 1.8791e-04\n",
            "Epoch 3/50\n",
            "55100/55100 [==============================] - 9s 156us/step - loss: 1.3900e-04 - val_loss: 1.4265e-04\n",
            "Epoch 4/50\n",
            "55100/55100 [==============================] - 8s 148us/step - loss: 1.0938e-04 - val_loss: 1.2203e-04\n",
            "Epoch 5/50\n",
            "55100/55100 [==============================] - 8s 154us/step - loss: 1.0227e-04 - val_loss: 1.0770e-04\n",
            "Epoch 6/50\n",
            "55100/55100 [==============================] - 9s 161us/step - loss: 9.5612e-05 - val_loss: 9.4586e-05\n",
            "Epoch 7/50\n",
            "55100/55100 [==============================] - 8s 154us/step - loss: 9.3785e-05 - val_loss: 9.3251e-05\n",
            "Epoch 8/50\n",
            "55100/55100 [==============================] - 9s 157us/step - loss: 9.1541e-05 - val_loss: 8.6839e-05\n",
            "Epoch 9/50\n",
            "55100/55100 [==============================] - 8s 148us/step - loss: 8.7316e-05 - val_loss: 9.0049e-05\n",
            "Epoch 10/50\n",
            "55100/55100 [==============================] - 8s 151us/step - loss: 8.9491e-05 - val_loss: 8.4532e-05\n",
            "Epoch 11/50\n",
            "55100/55100 [==============================] - 9s 155us/step - loss: 8.6225e-05 - val_loss: 8.8743e-05\n",
            "Epoch 12/50\n",
            "55100/55100 [==============================] - 8s 153us/step - loss: 8.8952e-05 - val_loss: 8.2434e-05\n",
            "Epoch 13/50\n",
            "55100/55100 [==============================] - 9s 154us/step - loss: 8.7283e-05 - val_loss: 8.4690e-05\n",
            "Epoch 14/50\n",
            "55100/55100 [==============================] - 8s 144us/step - loss: 8.6642e-05 - val_loss: 8.2727e-05\n",
            "Epoch 15/50\n",
            "55100/55100 [==============================] - 9s 155us/step - loss: 8.4031e-05 - val_loss: 8.1592e-05\n",
            "Epoch 16/50\n",
            "55100/55100 [==============================] - 9s 158us/step - loss: 8.5414e-05 - val_loss: 8.1788e-05\n",
            "Epoch 17/50\n",
            "55100/55100 [==============================] - 9s 156us/step - loss: 8.3982e-05 - val_loss: 8.0956e-05\n",
            "Epoch 18/50\n",
            "55100/55100 [==============================] - 8s 150us/step - loss: 8.5370e-05 - val_loss: 7.7021e-05\n",
            "Epoch 19/50\n",
            "55100/55100 [==============================] - 8s 148us/step - loss: 8.0766e-05 - val_loss: 7.9012e-05\n",
            "Epoch 20/50\n",
            "55100/55100 [==============================] - 8s 150us/step - loss: 8.3884e-05 - val_loss: 7.7087e-05\n",
            "Epoch 21/50\n",
            "55100/55100 [==============================] - 8s 152us/step - loss: 8.3426e-05 - val_loss: 7.6929e-05\n",
            "Epoch 22/50\n",
            "55100/55100 [==============================] - 8s 150us/step - loss: 8.0532e-05 - val_loss: 7.6190e-05\n",
            "Epoch 23/50\n",
            "55100/55100 [==============================] - 8s 153us/step - loss: 8.2546e-05 - val_loss: 7.4338e-05\n",
            "Epoch 24/50\n",
            "55100/55100 [==============================] - 8s 144us/step - loss: 8.0623e-05 - val_loss: 7.7604e-05\n",
            "Epoch 25/50\n",
            "55100/55100 [==============================] - 8s 154us/step - loss: 8.2270e-05 - val_loss: 7.5217e-05\n",
            "Epoch 26/50\n",
            "55100/55100 [==============================] - 8s 153us/step - loss: 8.0395e-05 - val_loss: 7.5604e-05\n",
            "Epoch 27/50\n",
            "55100/55100 [==============================] - 8s 150us/step - loss: 7.9864e-05 - val_loss: 7.4965e-05\n",
            "Epoch 28/50\n",
            "55100/55100 [==============================] - 8s 148us/step - loss: 7.9619e-05 - val_loss: 7.5523e-05\n",
            "Epoch 29/50\n",
            "55100/55100 [==============================] - 9s 157us/step - loss: 7.9798e-05 - val_loss: 7.5383e-05\n",
            "Epoch 30/50\n",
            "55100/55100 [==============================] - 9s 154us/step - loss: 8.0101e-05 - val_loss: 7.5300e-05\n",
            "Epoch 31/50\n",
            "55100/55100 [==============================] - 8s 147us/step - loss: 7.9179e-05 - val_loss: 7.5740e-05\n",
            "Epoch 32/50\n",
            "55100/55100 [==============================] - 8s 150us/step - loss: 8.2349e-05 - val_loss: 7.5126e-05\n",
            "Epoch 33/50\n",
            "55100/55100 [==============================] - 8s 144us/step - loss: 7.7664e-05 - val_loss: 7.5023e-05\n",
            "Epoch 34/50\n",
            "55100/55100 [==============================] - 9s 155us/step - loss: 7.9353e-05 - val_loss: 7.4673e-05\n",
            "Epoch 35/50\n",
            "55100/55100 [==============================] - 8s 147us/step - loss: 7.8677e-05 - val_loss: 7.4530e-05\n",
            "Epoch 36/50\n",
            "55100/55100 [==============================] - 8s 149us/step - loss: 7.9684e-05 - val_loss: 7.3717e-05\n",
            "Epoch 37/50\n",
            "55100/55100 [==============================] - 8s 148us/step - loss: 7.8131e-05 - val_loss: 7.5008e-05\n",
            "Epoch 38/50\n",
            "55100/55100 [==============================] - 8s 151us/step - loss: 7.8517e-05 - val_loss: 7.5351e-05\n",
            "Epoch 39/50\n",
            "55100/55100 [==============================] - 8s 154us/step - loss: 7.8591e-05 - val_loss: 7.4720e-05\n",
            "Epoch 40/50\n",
            "55100/55100 [==============================] - 8s 153us/step - loss: 7.8683e-05 - val_loss: 7.5390e-05\n",
            "Epoch 41/50\n",
            "55100/55100 [==============================] - 8s 144us/step - loss: 7.8223e-05 - val_loss: 7.4679e-05\n",
            "Epoch 42/50\n",
            "55100/55100 [==============================] - 8s 144us/step - loss: 7.8303e-05 - val_loss: 7.5017e-05\n",
            "Epoch 43/50\n",
            "55100/55100 [==============================] - 8s 145us/step - loss: 7.7734e-05 - val_loss: 7.4367e-05\n",
            "Epoch 44/50\n",
            "55100/55100 [==============================] - 8s 144us/step - loss: 7.8165e-05 - val_loss: 7.4486e-05\n",
            "Epoch 45/50\n",
            "55100/55100 [==============================] - 8s 147us/step - loss: 7.7512e-05 - val_loss: 7.3935e-05\n",
            "Epoch 46/50\n",
            "55100/55100 [==============================] - 8s 154us/step - loss: 7.7639e-05 - val_loss: 7.5100e-05\n",
            "Epoch 47/50\n",
            "55100/55100 [==============================] - 8s 149us/step - loss: 7.6937e-05 - val_loss: 7.4279e-05\n",
            "Epoch 48/50\n",
            "55100/55100 [==============================] - 8s 150us/step - loss: 7.8042e-05 - val_loss: 7.4747e-05\n",
            "Epoch 49/50\n",
            "55100/55100 [==============================] - 9s 157us/step - loss: 7.7197e-05 - val_loss: 7.3320e-05\n",
            "Epoch 50/50\n",
            "55100/55100 [==============================] - 8s 147us/step - loss: 7.6850e-05 - val_loss: 7.3184e-05\n"
          ],
          "name": "stdout"
        }
      ]
    },
    {
      "cell_type": "markdown",
      "metadata": {
        "id": "ZN5uRnRFNNUv",
        "colab_type": "text"
      },
      "source": [
        "###training performance"
      ]
    },
    {
      "cell_type": "code",
      "metadata": {
        "id": "cN60JNciy6gW",
        "colab_type": "code",
        "outputId": "25753cff-e6d2-4533-fa80-01653cf87bbf",
        "colab": {
          "base_uri": "https://localhost:8080/",
          "height": 299
        }
      },
      "source": [
        "# plot loss during training\n",
        "pyplot.plot(history.history['loss'], label='train')\n",
        "pyplot.plot(history.history['val_loss'], label='validation')\n",
        "pyplot.title('model train vs validation loss')\n",
        "plt.xlabel('no of epochs')  \n",
        "plt.ylabel('loss') \n",
        "pyplot.legend(['train', 'validation'], loc='upper right')\n",
        "pyplot.show()"
      ],
      "execution_count": 0,
      "outputs": [
        {
          "output_type": "display_data",
          "data": {
            "image/png": "[encoded data removed]",
            "text/plain": [
              "<Figure size 432x288 with 1 Axes>"
            ]
          },
          "metadata": {
            "tags": []
          }
        }
      ]
    },
    {
      "cell_type": "code",
      "metadata": {
        "colab_type": "code",
        "outputId": "6102b3e6-7e3b-4ac8-d26c-2a379e331611",
        "id": "SzD8So7o9Pyw",
        "colab": {
          "base_uri": "https://localhost:8080/",
          "height": 86
        }
      },
      "source": [
        "# model RMSE\n",
        "train_score = model.evaluate(train_X, train_y, verbose=1)\n",
        "train_score = math.sqrt(train_score)\n",
        "\n",
        "validation_score = model.evaluate(validate_X, validate_y, verbose=1)\n",
        "validation_score = math.sqrt(validation_score)\n",
        "print('Train Score: %.2f %% RMSE' % (train_score*100))\n",
        "print('Validation Score: %.2f %% RMSE' % (validation_score*100))"
      ],
      "execution_count": 0,
      "outputs": [
        {
          "output_type": "stream",
          "text": [
            "55100/55100 [==============================] - 3s 51us/step\n",
            "11800/11800 [==============================] - 1s 51us/step\n",
            "Train Score: 0.85 % RMSE\n",
            "Validation Score: 0.86 % RMSE\n"
          ],
          "name": "stdout"
        }
      ]
    },
    {
      "cell_type": "markdown",
      "metadata": {
        "colab_type": "text",
        "id": "3frrx2cbSgTe"
      },
      "source": [
        "# Testing"
      ]
    },
    {
      "cell_type": "markdown",
      "metadata": {
        "colab_type": "text",
        "id": "V-xmRveXS7iH"
      },
      "source": [
        "### predictions using unseen test data \n",
        "#### 10 hours ahead of time prediction\n",
        "\n",
        "\n",
        "\n",
        "\n",
        "\n"
      ]
    },
    {
      "cell_type": "code",
      "metadata": {
        "id": "ZU9Lei9OOyiV",
        "colab_type": "code",
        "colab": {}
      },
      "source": [
        "# make predictions\n",
        "predictions = model.predict(test_X)\n",
        "unseen_X = test_X.reshape((test_X.shape[0], n_hours*n_features))"
      ],
      "execution_count": 0,
      "outputs": []
    },
    {
      "cell_type": "code",
      "metadata": {
        "id": "iqKGvLHMOt-H",
        "colab_type": "code",
        "colab": {}
      },
      "source": [
        "# invert scaling for forecast\n",
        "inv_predictions = concatenate((unseen_X[:,-1:],predictions), axis=1)\n",
        "\n",
        "inv_predictions = scaler.inverse_transform(inv_predictions)\n",
        "\n",
        "inv_predictions = inv_predictions[:,1]"
      ],
      "execution_count": 0,
      "outputs": []
    },
    {
      "cell_type": "code",
      "metadata": {
        "id": "itemiBYFPjBp",
        "colab_type": "code",
        "colab": {}
      },
      "source": [
        "# invert scaling for actual\n",
        "test_y = test_y.reshape((len(test_y), 1))\n",
        "inv_waterlelvels = concatenate((unseen_X[:, -1:],test_y), axis=1)\n",
        "inv_waterlelvels = scaler.inverse_transform(inv_waterlelvels)\n",
        "inv_waterlelvels = inv_waterlelvels[:,1]"
      ],
      "execution_count": 0,
      "outputs": []
    },
    {
      "cell_type": "markdown",
      "metadata": {
        "id": "AqeEbA4hMqYp",
        "colab_type": "text"
      },
      "source": [
        "###predictions vs ground truth"
      ]
    },
    {
      "cell_type": "code",
      "metadata": {
        "id": "8yadiOzmgAEL",
        "colab_type": "code",
        "outputId": "c1baa39b-5a38-47f5-8060-7f430e2c3b61",
        "colab": {
          "base_uri": "https://localhost:8080/",
          "height": 582
        }
      },
      "source": [
        "print('----------------- Predicted ---------------')\n",
        "plt.plot(inv_predictions)\n",
        "plt.xlabel('Time (hours)')  \n",
        "plt.ylabel('Water level (m)') \n",
        "plt.show()\n",
        "print('----------------- Ground Truth ---------------')\n",
        "plt.plot(inv_waterlelvels)\n",
        "plt.xlabel('Time (hours)')  \n",
        "plt.ylabel('Water level (m)') \n",
        "plt.show()"
      ],
      "execution_count": 0,
      "outputs": [
        {
          "output_type": "stream",
          "text": [
            "----------------- Predicted ---------------\n"
          ],
          "name": "stdout"
        },
        {
          "output_type": "display_data",
          "data": {
            "image/png": "[encoded data removed]",
            "text/plain": [
              "<Figure size 432x288 with 1 Axes>"
            ]
          },
          "metadata": {
            "tags": []
          }
        },
        {
          "output_type": "stream",
          "text": [
            "----------------- Ground Truth ---------------\n"
          ],
          "name": "stdout"
        },
        {
          "output_type": "display_data",
          "data": {
            "image/png": "[encoded data removed]",
            "text/plain": [
              "<Figure size 432x288 with 1 Axes>"
            ]
          },
          "metadata": {
            "tags": []
          }
        }
      ]
    },
    {
      "cell_type": "markdown",
      "metadata": {
        "colab_type": "text",
        "id": "iisg73r4T1Ye"
      },
      "source": [
        "#Performance Evaluation\n",
        "###model performance on unseen data\n",
        "\n"
      ]
    },
    {
      "cell_type": "code",
      "metadata": {
        "id": "2doGXnQYO7Ff",
        "colab_type": "code",
        "outputId": "afe3a90c-b00c-4d62-937c-783ca29859e2",
        "colab": {
          "base_uri": "https://localhost:8080/",
          "height": 34
        }
      },
      "source": [
        "# root mean squared error (RMSE)\n",
        "rmse = sqrt(mean_squared_error(inv_waterlelvels, inv_predictions))\n",
        "print('Test RMSE: %.3f %% ' % (rmse*100))"
      ],
      "execution_count": 0,
      "outputs": [
        {
          "output_type": "stream",
          "text": [
            "Test RMSE: 3.795 % \n"
          ],
          "name": "stdout"
        }
      ]
    },
    {
      "cell_type": "code",
      "metadata": {
        "id": "CvopeKrFXm-Q",
        "colab_type": "code",
        "outputId": "10d6d546-291d-4e5d-e629-24af71871adf",
        "colab": {
          "base_uri": "https://localhost:8080/",
          "height": 34
        }
      },
      "source": [
        "# Mean absolute error\n",
        "mae = keras.metrics.mean_absolute_error(inv_waterlelvels, inv_predictions)\n",
        "print(mae)"
      ],
      "execution_count": 0,
      "outputs": [
        {
          "output_type": "stream",
          "text": [
            "Tensor(\"Mean_1:0\", shape=(), dtype=float64)\n"
          ],
          "name": "stdout"
        }
      ]
    },
    {
      "cell_type": "markdown",
      "metadata": {
        "id": "cfGC0mU8hQBh",
        "colab_type": "text"
      },
      "source": [
        "#Demo"
      ]
    },
    {
      "cell_type": "code",
      "metadata": {
        "id": "AahViIsc588g",
        "colab_type": "code",
        "colab": {}
      },
      "source": [
        "# this section emulates the steps for processing and predicting a flood occurency from sensor data\n",
        "# realtime_data is the array containing sensor data in this case\n",
        "# a flood occurancy is likely when the predicted water level exceeds 1.5 m (according to the dataset)"
      ],
      "execution_count": 0,
      "outputs": []
    },
    {
      "cell_type": "code",
      "metadata": {
        "id": "1m7NEkYthR8H",
        "colab_type": "code",
        "outputId": "6a0bc959-a7d1-422a-e4e7-358a2dea6712",
        "colab": {
          "base_uri": "https://localhost:8080/",
          "height": 121
        }
      },
      "source": [
        "#10 hours historical data (sensor data)\n",
        " realtime_data = {'rainfall (mm)': [0.0,0.0,0.0,0.0,0.0,0.0,0.0,0.9,0.0,0.0,0.0],\n",
        "        'Level (m)': [0.34051556,0.44051556,0.44051556,0.42424242,0.42424242,0.42624242,0.42424242,0.42424242,0.42424242,0.42424242,0.42424242]\n",
        "        }\n",
        "demo_df = pandas.DataFrame(realtime_data, columns = ['rainfall (mm)', 'Level (m)'])\n",
        "\n",
        "print (demo_df.head())"
      ],
      "execution_count": 0,
      "outputs": [
        {
          "output_type": "stream",
          "text": [
            "   rainfall (mm)  Level (m)\n",
            "0            0.0   0.340516\n",
            "1            0.0   0.440516\n",
            "2            0.0   0.440516\n",
            "3            0.0   0.424242\n",
            "4            0.0   0.424242\n"
          ],
          "name": "stdout"
        }
      ]
    },
    {
      "cell_type": "code",
      "metadata": {
        "id": "jxYahhMrUu3A",
        "colab_type": "code",
        "colab": {}
      },
      "source": [
        "#scaling data \n",
        "#scaler  = MinMaxScaler(feature_range=(0, 1))\n",
        "#demo_dataset = scaler.fit_transform(demo_df)"
      ],
      "execution_count": 0,
      "outputs": []
    },
    {
      "cell_type": "code",
      "metadata": {
        "id": "15pns3Emjnh0",
        "colab_type": "code",
        "outputId": "790a5991-8eaa-458a-aae5-52655f569b10",
        "colab": {
          "base_uri": "https://localhost:8080/",
          "height": 52
        }
      },
      "source": [
        "#reframe\n",
        "demo_data = demo_df.to_numpy()\n",
        "#demo_data = concatenate((demo_data, demo_data,demo_data), axis=1)\n",
        "print(demo_data.shape)\n",
        "reframed_data = series_to_supervised(demo_data, n_hours, 1)\n",
        "reframed_data = reframed_data.values\n",
        "reframed_data = reframed_data[:,:20]\n",
        "print(reframed_data.shape)"
      ],
      "execution_count": 0,
      "outputs": [
        {
          "output_type": "stream",
          "text": [
            "(11, 2)\n",
            "(1, 20)\n"
          ],
          "name": "stdout"
        }
      ]
    },
    {
      "cell_type": "code",
      "metadata": {
        "id": "L-R837buU-Sr",
        "colab_type": "code",
        "colab": {}
      },
      "source": [
        "#reshaping\n",
        "reframed_data = reframed_data.reshape((reframed_data.shape[0], n_hours, n_features))\n",
        "# print(reframed_data.shape)"
      ],
      "execution_count": 0,
      "outputs": []
    },
    {
      "cell_type": "code",
      "metadata": {
        "id": "yT-f1KbCVALh",
        "colab_type": "code",
        "outputId": "117ab5a8-4121-428c-8ed2-73b84cd0b997",
        "colab": {
          "base_uri": "https://localhost:8080/",
          "height": 34
        }
      },
      "source": [
        "#make prediction (10 hours ahead of time)\n",
        "predicted_waterlevel = model.predict(reframed_data)\n",
        "\n",
        "print(predicted_waterlevel)"
      ],
      "execution_count": 0,
      "outputs": [
        {
          "output_type": "stream",
          "text": [
            "[[0.43011835]]\n"
          ],
          "name": "stdout"
        }
      ]
    },
    {
      "cell_type": "code",
      "metadata": {
        "id": "cvRJx4MhVccF",
        "colab_type": "code",
        "outputId": "e092077a-f211-4793-fa61-b84d4de499de",
        "colab": {
          "base_uri": "https://localhost:8080/",
          "height": 34
        }
      },
      "source": [
        "# invert scaling for forecast\n",
        "inv_predicted_waterlevel = predicted_waterlevel[0][0] * inv_waterlelvels.max()\n",
        "print(inv_predicted_waterlevel)"
      ],
      "execution_count": 0,
      "outputs": [
        {
          "output_type": "stream",
          "text": [
            "1.4193905621767042\n"
          ],
          "name": "stdout"
        }
      ]
    },
    {
      "cell_type": "code",
      "metadata": {
        "id": "vzfJfbjCAm7o",
        "colab_type": "code",
        "cellView": "both",
        "outputId": "81b6cfea-0a1e-45b3-8cd0-3bdfe616ca39",
        "colab": {
          "base_uri": "https://localhost:8080/",
          "height": 52
        }
      },
      "source": [
        "#@title Flood possibility\n",
        "\n",
        "print('Expected water level in 10 hours is %.3f m' % inv_predicted_waterlevel )\n",
        "\n",
        "#based on the dataset it is likely to flood when predicted water level exceeds 1.5 m\n",
        "if (inv_predicted_waterlevel > 1.5):\n",
        "  print(\"FLOOD\")\n",
        "else:\n",
        "  print(\"No FLOOD\")"
      ],
      "execution_count": 0,
      "outputs": [
        {
          "output_type": "stream",
          "text": [
            "Expected water level in 10 hours is 1.419 m\n",
            "No FLOOD\n"
          ],
          "name": "stdout"
        }
      ]
    }
  ]
}