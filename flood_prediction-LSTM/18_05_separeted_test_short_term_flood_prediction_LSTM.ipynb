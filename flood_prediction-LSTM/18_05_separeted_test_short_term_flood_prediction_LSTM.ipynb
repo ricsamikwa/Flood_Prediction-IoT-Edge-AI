{
  "nbformat": 4,
  "nbformat_minor": 0,
  "metadata": {
    "kernelspec": {
      "display_name": "Python [keras_tensor]",
      "language": "python",
      "name": "Python [keras_tensor]"
    },
    "language_info": {
      "codemirror_mode": {
        "name": "ipython",
        "version": 2
      },
      "file_extension": ".py",
      "mimetype": "text/x-python",
      "name": "python",
      "nbconvert_exporter": "python",
      "pygments_lexer": "ipython2",
      "version": "2.7.12"
    },
    "colab": {
      "name": "18-05-separeted-test-short-term-flood_prediction-LSTM.ipynb",
      "provenance": [],
      "collapsed_sections": [],
      "toc_visible": true
    }
  },
  "cells": [
    {
      "cell_type": "markdown",
      "metadata": {
        "colab_type": "text",
        "id": "23-IctDiUQpC"
      },
      "source": [
        "# Short term flood prediction using LSTM\n",
        "\n"
      ]
    },
    {
      "cell_type": "code",
      "metadata": {
        "id": "n8edV6A8c-q6",
        "colab_type": "code",
        "colab": {}
      },
      "source": [
        "#Flood Early Warning System using IoT and Edge \n",
        "#Eric Samikwa"
      ],
      "execution_count": 0,
      "outputs": []
    },
    {
      "cell_type": "code",
      "metadata": {
        "id": "AKgENOL-GrqZ",
        "colab_type": "code",
        "colab": {}
      },
      "source": [
        "%matplotlib inline\n",
        "\n",
        "from __future__ import print_function\n",
        "\n",
        "import os\n",
        "os.environ[\"THEANO_FLAGS\"] = \"mode=FAST_RUN,device=gpu,floatX=float32\"\n",
        "\n",
        "from math import sqrt\n",
        "import numpy as np\n",
        "import matplotlib.pyplot as plt\n",
        "import pandas\n",
        "import math\n",
        "import io\n",
        "import keras\n",
        "import requests\n",
        "from matplotlib import pyplot\n",
        "import matplotlib.patches as mpatches\n",
        "from numpy import concatenate\n",
        "from tensorflow.python.keras.models import Sequential\n",
        "from tensorflow.python.keras.layers import Dense \n",
        "from tensorflow.python.keras.layers import Dropout \n",
        "from tensorflow.python.keras.layers import Activation     \n",
        "from tensorflow.python.keras.layers import LSTM\n",
        "from tensorflow.keras.callbacks import EarlyStopping\n",
        "from sklearn.preprocessing import MinMaxScaler\n",
        "from sklearn.metrics import mean_squared_error\n",
        "from keras import metrics\n",
        "from keras.layers import LeakyReLU"
      ],
      "execution_count": 0,
      "outputs": []
    },
    {
      "cell_type": "markdown",
      "metadata": {
        "id": "7fDsd96fRpZ6",
        "colab_type": "text"
      },
      "source": [
        "# Data pre-processing"
      ]
    },
    {
      "cell_type": "code",
      "metadata": {
        "id": "LkbL9QnDGrqy",
        "colab_type": "code",
        "colab": {}
      },
      "source": [
        "# fix random seed for reproducibility\n",
        "np.random.seed(10)"
      ],
      "execution_count": 0,
      "outputs": []
    },
    {
      "cell_type": "markdown",
      "metadata": {
        "colab_type": "text",
        "id": "6m8ovUKRLHzF"
      },
      "source": [
        "### Hourly rainfall data"
      ]
    },
    {
      "cell_type": "code",
      "metadata": {
        "id": "auxIEwH8TpnI",
        "colab_type": "code",
        "colab": {}
      },
      "source": [
        "#get hourly rainfall data\n",
        "df_rain = pandas.read_csv(\"https://raw.githubusercontent.com/ricsamikwa/short-term-flood-water-level-prediction/master/dataset/new_data/hourly_rainfall_train.csv\")"
      ],
      "execution_count": 0,
      "outputs": []
    },
    {
      "cell_type": "code",
      "metadata": {
        "id": "5QuDCp2_UB4f",
        "colab_type": "code",
        "outputId": "86973f87-f4d8-4114-fd69-783b8155e500",
        "colab": {
          "base_uri": "https://localhost:8080/",
          "height": 206
        }
      },
      "source": [
        "#display first 5\n",
        "df_rain.head()"
      ],
      "execution_count": 595,
      "outputs": [
        {
          "output_type": "execute_result",
          "data": {
            "text/html": [
              "<div>\n",
              "<style scoped>\n",
              "    .dataframe tbody tr th:only-of-type {\n",
              "        vertical-align: middle;\n",
              "    }\n",
              "\n",
              "    .dataframe tbody tr th {\n",
              "        vertical-align: top;\n",
              "    }\n",
              "\n",
              "    .dataframe thead th {\n",
              "        text-align: right;\n",
              "    }\n",
              "</style>\n",
              "<table border=\"1\" class=\"dataframe\">\n",
              "  <thead>\n",
              "    <tr style=\"text-align: right;\">\n",
              "      <th></th>\n",
              "      <th>Date/Time</th>\n",
              "      <th>Current rainfall (mm)</th>\n",
              "      <th>Cumulative rainfall (mm)</th>\n",
              "    </tr>\n",
              "  </thead>\n",
              "  <tbody>\n",
              "    <tr>\n",
              "      <th>0</th>\n",
              "      <td>2018-12-02 18:00:00</td>\n",
              "      <td>0.0</td>\n",
              "      <td>0.0</td>\n",
              "    </tr>\n",
              "    <tr>\n",
              "      <th>1</th>\n",
              "      <td>2018-12-02 17:00:00</td>\n",
              "      <td>0.0</td>\n",
              "      <td>0.0</td>\n",
              "    </tr>\n",
              "    <tr>\n",
              "      <th>2</th>\n",
              "      <td>2018-12-02 16:00:00</td>\n",
              "      <td>0.0</td>\n",
              "      <td>0.0</td>\n",
              "    </tr>\n",
              "    <tr>\n",
              "      <th>3</th>\n",
              "      <td>2018-12-02 15:00:00</td>\n",
              "      <td>0.0</td>\n",
              "      <td>0.0</td>\n",
              "    </tr>\n",
              "    <tr>\n",
              "      <th>4</th>\n",
              "      <td>2018-12-02 14:00:00</td>\n",
              "      <td>0.0</td>\n",
              "      <td>0.0</td>\n",
              "    </tr>\n",
              "  </tbody>\n",
              "</table>\n",
              "</div>"
            ],
            "text/plain": [
              "             Date/Time  Current rainfall (mm)  Cumulative rainfall (mm)\n",
              "0  2018-12-02 18:00:00                    0.0                       0.0\n",
              "1  2018-12-02 17:00:00                    0.0                       0.0\n",
              "2  2018-12-02 16:00:00                    0.0                       0.0\n",
              "3  2018-12-02 15:00:00                    0.0                       0.0\n",
              "4  2018-12-02 14:00:00                    0.0                       0.0"
            ]
          },
          "metadata": {
            "tags": []
          },
          "execution_count": 595
        }
      ]
    },
    {
      "cell_type": "code",
      "metadata": {
        "id": "bwEqbjzAUJGA",
        "colab_type": "code",
        "outputId": "caf3ce90-56f0-442a-8718-91e72a932f0f",
        "colab": {
          "base_uri": "https://localhost:8080/",
          "height": 34
        }
      },
      "source": [
        "#dataframe shape\n",
        "df_rain.shape"
      ],
      "execution_count": 596,
      "outputs": [
        {
          "output_type": "execute_result",
          "data": {
            "text/plain": [
              "(66900, 3)"
            ]
          },
          "metadata": {
            "tags": []
          },
          "execution_count": 596
        }
      ]
    },
    {
      "cell_type": "code",
      "metadata": {
        "id": "SolrcBRVUdd1",
        "colab_type": "code",
        "outputId": "8a20ed61-39b7-4cd8-e5e9-f415ce427e1b",
        "colab": {
          "base_uri": "https://localhost:8080/",
          "height": 301
        }
      },
      "source": [
        "#dataset properties\n",
        "df_rain.describe()  \n"
      ],
      "execution_count": 597,
      "outputs": [
        {
          "output_type": "execute_result",
          "data": {
            "text/html": [
              "<div>\n",
              "<style scoped>\n",
              "    .dataframe tbody tr th:only-of-type {\n",
              "        vertical-align: middle;\n",
              "    }\n",
              "\n",
              "    .dataframe tbody tr th {\n",
              "        vertical-align: top;\n",
              "    }\n",
              "\n",
              "    .dataframe thead th {\n",
              "        text-align: right;\n",
              "    }\n",
              "</style>\n",
              "<table border=\"1\" class=\"dataframe\">\n",
              "  <thead>\n",
              "    <tr style=\"text-align: right;\">\n",
              "      <th></th>\n",
              "      <th>Current rainfall (mm)</th>\n",
              "      <th>Cumulative rainfall (mm)</th>\n",
              "    </tr>\n",
              "  </thead>\n",
              "  <tbody>\n",
              "    <tr>\n",
              "      <th>count</th>\n",
              "      <td>66896.000000</td>\n",
              "      <td>66899.000000</td>\n",
              "    </tr>\n",
              "    <tr>\n",
              "      <th>mean</th>\n",
              "      <td>0.043584</td>\n",
              "      <td>0.514999</td>\n",
              "    </tr>\n",
              "    <tr>\n",
              "      <th>std</th>\n",
              "      <td>0.724079</td>\n",
              "      <td>2.374298</td>\n",
              "    </tr>\n",
              "    <tr>\n",
              "      <th>min</th>\n",
              "      <td>0.000000</td>\n",
              "      <td>0.000000</td>\n",
              "    </tr>\n",
              "    <tr>\n",
              "      <th>25%</th>\n",
              "      <td>0.000000</td>\n",
              "      <td>0.000000</td>\n",
              "    </tr>\n",
              "    <tr>\n",
              "      <th>50%</th>\n",
              "      <td>0.000000</td>\n",
              "      <td>0.000000</td>\n",
              "    </tr>\n",
              "    <tr>\n",
              "      <th>75%</th>\n",
              "      <td>0.000000</td>\n",
              "      <td>0.000000</td>\n",
              "    </tr>\n",
              "    <tr>\n",
              "      <th>max</th>\n",
              "      <td>110.000000</td>\n",
              "      <td>56.600000</td>\n",
              "    </tr>\n",
              "  </tbody>\n",
              "</table>\n",
              "</div>"
            ],
            "text/plain": [
              "       Current rainfall (mm)  Cumulative rainfall (mm)\n",
              "count           66896.000000              66899.000000\n",
              "mean                0.043584                  0.514999\n",
              "std                 0.724079                  2.374298\n",
              "min                 0.000000                  0.000000\n",
              "25%                 0.000000                  0.000000\n",
              "50%                 0.000000                  0.000000\n",
              "75%                 0.000000                  0.000000\n",
              "max               110.000000                 56.600000"
            ]
          },
          "metadata": {
            "tags": []
          },
          "execution_count": 597
        }
      ]
    },
    {
      "cell_type": "code",
      "metadata": {
        "id": "yoS0P7O-9mLH",
        "colab_type": "code",
        "outputId": "38a8b49c-fad1-4425-e299-c8c0e9a761d1",
        "colab": {
          "base_uri": "https://localhost:8080/",
          "height": 279
        }
      },
      "source": [
        "\n",
        "df_rain.plot( y='Current rainfall (mm)', color='black')  \n",
        "\n",
        "plt.xlabel('Time (hours)')  \n",
        "plt.ylabel('Rainfall (mm)')  \n",
        "plt.show()  "
      ],
      "execution_count": 598,
      "outputs": [
        {
          "output_type": "display_data",
          "data": {
            "image/png": "[encoded data removed]",
            "text/plain": [
              "<Figure size 432x288 with 1 Axes>"
            ]
          },
          "metadata": {
            "tags": [],
            "needs_background": "light"
          }
        }
      ]
    },
    {
      "cell_type": "code",
      "metadata": {
        "id": "7j9PVBSFLWrm",
        "colab_type": "code",
        "colab": {}
      },
      "source": [
        ""
      ],
      "execution_count": 0,
      "outputs": []
    },
    {
      "cell_type": "markdown",
      "metadata": {
        "colab_type": "text",
        "id": "6sSpW7YhLXI3"
      },
      "source": [
        "### Hourly water level data"
      ]
    },
    {
      "cell_type": "code",
      "metadata": {
        "id": "hzPK6PJk9mLN",
        "colab_type": "code",
        "colab": {}
      },
      "source": [
        "#get hourly water level data\n",
        "df_water_level = pandas.read_csv(\"https://raw.githubusercontent.com/ricsamikwa/short-term-flood-water-level-prediction/master/dataset/new_data/hourly_water_level_train.csv\")"
      ],
      "execution_count": 0,
      "outputs": []
    },
    {
      "cell_type": "code",
      "metadata": {
        "id": "-p-MCno59mLX",
        "colab_type": "code",
        "outputId": "5d52c780-9259-4cdc-aea4-87fc8e1b12ce",
        "colab": {
          "base_uri": "https://localhost:8080/",
          "height": 206
        }
      },
      "source": [
        "df_water_level.head()"
      ],
      "execution_count": 600,
      "outputs": [
        {
          "output_type": "execute_result",
          "data": {
            "text/html": [
              "<div>\n",
              "<style scoped>\n",
              "    .dataframe tbody tr th:only-of-type {\n",
              "        vertical-align: middle;\n",
              "    }\n",
              "\n",
              "    .dataframe tbody tr th {\n",
              "        vertical-align: top;\n",
              "    }\n",
              "\n",
              "    .dataframe thead th {\n",
              "        text-align: right;\n",
              "    }\n",
              "</style>\n",
              "<table border=\"1\" class=\"dataframe\">\n",
              "  <thead>\n",
              "    <tr style=\"text-align: right;\">\n",
              "      <th></th>\n",
              "      <th>Date/Time</th>\n",
              "      <th>Level (m)</th>\n",
              "    </tr>\n",
              "  </thead>\n",
              "  <tbody>\n",
              "    <tr>\n",
              "      <th>0</th>\n",
              "      <td>2018-12-02 17:00:00</td>\n",
              "      <td>1.61</td>\n",
              "    </tr>\n",
              "    <tr>\n",
              "      <th>1</th>\n",
              "      <td>2018-12-02 16:00:00</td>\n",
              "      <td>1.61</td>\n",
              "    </tr>\n",
              "    <tr>\n",
              "      <th>2</th>\n",
              "      <td>2018-12-02 15:00:00</td>\n",
              "      <td>1.62</td>\n",
              "    </tr>\n",
              "    <tr>\n",
              "      <th>3</th>\n",
              "      <td>2018-12-02 14:00:00</td>\n",
              "      <td>1.63</td>\n",
              "    </tr>\n",
              "    <tr>\n",
              "      <th>4</th>\n",
              "      <td>2018-12-02 13:00:00</td>\n",
              "      <td>1.63</td>\n",
              "    </tr>\n",
              "  </tbody>\n",
              "</table>\n",
              "</div>"
            ],
            "text/plain": [
              "             Date/Time  Level (m)\n",
              "0  2018-12-02 17:00:00       1.61\n",
              "1  2018-12-02 16:00:00       1.61\n",
              "2  2018-12-02 15:00:00       1.62\n",
              "3  2018-12-02 14:00:00       1.63\n",
              "4  2018-12-02 13:00:00       1.63"
            ]
          },
          "metadata": {
            "tags": []
          },
          "execution_count": 600
        }
      ]
    },
    {
      "cell_type": "code",
      "metadata": {
        "id": "xcxaV9Hxb8aN",
        "colab_type": "code",
        "outputId": "f932fff8-8947-4818-c1e7-a6fecd28ef63",
        "colab": {
          "base_uri": "https://localhost:8080/",
          "height": 34
        }
      },
      "source": [
        "df_water_level.shape"
      ],
      "execution_count": 601,
      "outputs": [
        {
          "output_type": "execute_result",
          "data": {
            "text/plain": [
              "(66890, 2)"
            ]
          },
          "metadata": {
            "tags": []
          },
          "execution_count": 601
        }
      ]
    },
    {
      "cell_type": "code",
      "metadata": {
        "id": "xw6xlSqsbWnp",
        "colab_type": "code",
        "outputId": "dfb9de14-4118-43bd-bbc0-d7c1422c4354",
        "colab": {
          "base_uri": "https://localhost:8080/",
          "height": 301
        }
      },
      "source": [
        "#dataset properties\n",
        "df_water_level.describe()"
      ],
      "execution_count": 602,
      "outputs": [
        {
          "output_type": "execute_result",
          "data": {
            "text/html": [
              "<div>\n",
              "<style scoped>\n",
              "    .dataframe tbody tr th:only-of-type {\n",
              "        vertical-align: middle;\n",
              "    }\n",
              "\n",
              "    .dataframe tbody tr th {\n",
              "        vertical-align: top;\n",
              "    }\n",
              "\n",
              "    .dataframe thead th {\n",
              "        text-align: right;\n",
              "    }\n",
              "</style>\n",
              "<table border=\"1\" class=\"dataframe\">\n",
              "  <thead>\n",
              "    <tr style=\"text-align: right;\">\n",
              "      <th></th>\n",
              "      <th>Level (m)</th>\n",
              "    </tr>\n",
              "  </thead>\n",
              "  <tbody>\n",
              "    <tr>\n",
              "      <th>count</th>\n",
              "      <td>66890.000000</td>\n",
              "    </tr>\n",
              "    <tr>\n",
              "      <th>mean</th>\n",
              "      <td>1.453650</td>\n",
              "    </tr>\n",
              "    <tr>\n",
              "      <th>std</th>\n",
              "      <td>0.099223</td>\n",
              "    </tr>\n",
              "    <tr>\n",
              "      <th>min</th>\n",
              "      <td>0.000000</td>\n",
              "    </tr>\n",
              "    <tr>\n",
              "      <th>25%</th>\n",
              "      <td>1.400000</td>\n",
              "    </tr>\n",
              "    <tr>\n",
              "      <th>50%</th>\n",
              "      <td>1.450000</td>\n",
              "    </tr>\n",
              "    <tr>\n",
              "      <th>75%</th>\n",
              "      <td>1.500000</td>\n",
              "    </tr>\n",
              "    <tr>\n",
              "      <th>max</th>\n",
              "      <td>2.680000</td>\n",
              "    </tr>\n",
              "  </tbody>\n",
              "</table>\n",
              "</div>"
            ],
            "text/plain": [
              "          Level (m)\n",
              "count  66890.000000\n",
              "mean       1.453650\n",
              "std        0.099223\n",
              "min        0.000000\n",
              "25%        1.400000\n",
              "50%        1.450000\n",
              "75%        1.500000\n",
              "max        2.680000"
            ]
          },
          "metadata": {
            "tags": []
          },
          "execution_count": 602
        }
      ]
    },
    {
      "cell_type": "code",
      "metadata": {
        "id": "o7cRqUYWcGu5",
        "colab_type": "code",
        "outputId": "169e267b-756c-41e9-8493-9e28c451e5c9",
        "colab": {
          "base_uri": "https://localhost:8080/",
          "height": 296
        }
      },
      "source": [
        "plt.figure(\n",
        "    figsize=(10, 7))\n",
        "df_water_level.plot(y='Level (m)', color='black')  \n",
        "plt.xlabel('Time (hours)')  \n",
        "plt.ylabel('Max Level')  \n",
        "plt.show() "
      ],
      "execution_count": 603,
      "outputs": [
        {
          "output_type": "display_data",
          "data": {
            "text/plain": [
              "<Figure size 720x504 with 0 Axes>"
            ]
          },
          "metadata": {
            "tags": []
          }
        },
        {
          "output_type": "display_data",
          "data": {
            "image/png": "[encoded data removed]",
            "text/plain": [
              "<Figure size 432x288 with 1 Axes>"
            ]
          },
          "metadata": {
            "tags": [],
            "needs_background": "light"
          }
        }
      ]
    },
    {
      "cell_type": "markdown",
      "metadata": {
        "colab_type": "text",
        "id": "bVKBDa5tLiiO"
      },
      "source": [
        "### Combining dataset"
      ]
    },
    {
      "cell_type": "code",
      "metadata": {
        "id": "P-KN4PKgct8z",
        "colab_type": "code",
        "outputId": "58d3271a-de19-4020-abd6-653d7201f418",
        "colab": {
          "base_uri": "https://localhost:8080/",
          "height": 206
        }
      },
      "source": [
        "#dataset merged on date_time \n",
        "dataset = pandas.merge(df_rain, df_water_level, how='outer', on=['Date/Time'])\n",
        "dataset.head()"
      ],
      "execution_count": 604,
      "outputs": [
        {
          "output_type": "execute_result",
          "data": {
            "text/html": [
              "<div>\n",
              "<style scoped>\n",
              "    .dataframe tbody tr th:only-of-type {\n",
              "        vertical-align: middle;\n",
              "    }\n",
              "\n",
              "    .dataframe tbody tr th {\n",
              "        vertical-align: top;\n",
              "    }\n",
              "\n",
              "    .dataframe thead th {\n",
              "        text-align: right;\n",
              "    }\n",
              "</style>\n",
              "<table border=\"1\" class=\"dataframe\">\n",
              "  <thead>\n",
              "    <tr style=\"text-align: right;\">\n",
              "      <th></th>\n",
              "      <th>Date/Time</th>\n",
              "      <th>Current rainfall (mm)</th>\n",
              "      <th>Cumulative rainfall (mm)</th>\n",
              "      <th>Level (m)</th>\n",
              "    </tr>\n",
              "  </thead>\n",
              "  <tbody>\n",
              "    <tr>\n",
              "      <th>0</th>\n",
              "      <td>2018-12-02 18:00:00</td>\n",
              "      <td>0.0</td>\n",
              "      <td>0.0</td>\n",
              "      <td>NaN</td>\n",
              "    </tr>\n",
              "    <tr>\n",
              "      <th>1</th>\n",
              "      <td>2018-12-02 17:00:00</td>\n",
              "      <td>0.0</td>\n",
              "      <td>0.0</td>\n",
              "      <td>1.61</td>\n",
              "    </tr>\n",
              "    <tr>\n",
              "      <th>2</th>\n",
              "      <td>2018-12-02 16:00:00</td>\n",
              "      <td>0.0</td>\n",
              "      <td>0.0</td>\n",
              "      <td>1.61</td>\n",
              "    </tr>\n",
              "    <tr>\n",
              "      <th>3</th>\n",
              "      <td>2018-12-02 15:00:00</td>\n",
              "      <td>0.0</td>\n",
              "      <td>0.0</td>\n",
              "      <td>1.62</td>\n",
              "    </tr>\n",
              "    <tr>\n",
              "      <th>4</th>\n",
              "      <td>2018-12-02 14:00:00</td>\n",
              "      <td>0.0</td>\n",
              "      <td>0.0</td>\n",
              "      <td>1.63</td>\n",
              "    </tr>\n",
              "  </tbody>\n",
              "</table>\n",
              "</div>"
            ],
            "text/plain": [
              "             Date/Time  ...  Level (m)\n",
              "0  2018-12-02 18:00:00  ...        NaN\n",
              "1  2018-12-02 17:00:00  ...       1.61\n",
              "2  2018-12-02 16:00:00  ...       1.61\n",
              "3  2018-12-02 15:00:00  ...       1.62\n",
              "4  2018-12-02 14:00:00  ...       1.63\n",
              "\n",
              "[5 rows x 4 columns]"
            ]
          },
          "metadata": {
            "tags": []
          },
          "execution_count": 604
        }
      ]
    },
    {
      "cell_type": "markdown",
      "metadata": {
        "colab_type": "text",
        "id": "hSdPHvntNP3A"
      },
      "source": [
        "### Filling missing values"
      ]
    },
    {
      "cell_type": "code",
      "metadata": {
        "id": "fsuC1c5D8vTC",
        "colab_type": "code",
        "outputId": "1a1a447c-ed8c-4395-901f-83343a87c905",
        "colab": {
          "base_uri": "https://localhost:8080/",
          "height": 206
        }
      },
      "source": [
        "#filling all missing values with mean of the column\n",
        "dataset['Cumulative rainfall (mm)'] = dataset['Cumulative rainfall (mm)'].fillna(dataset['Cumulative rainfall (mm)'].mean())\n",
        "dataset['Current rainfall (mm)'] = dataset['Current rainfall (mm)'].fillna(dataset['Current rainfall (mm)'].mean())\n",
        "dataset['Level (m)'] = dataset['Level (m)'].fillna(dataset['Level (m)'].mean())\n",
        "\n",
        "dataset.head()"
      ],
      "execution_count": 605,
      "outputs": [
        {
          "output_type": "execute_result",
          "data": {
            "text/html": [
              "<div>\n",
              "<style scoped>\n",
              "    .dataframe tbody tr th:only-of-type {\n",
              "        vertical-align: middle;\n",
              "    }\n",
              "\n",
              "    .dataframe tbody tr th {\n",
              "        vertical-align: top;\n",
              "    }\n",
              "\n",
              "    .dataframe thead th {\n",
              "        text-align: right;\n",
              "    }\n",
              "</style>\n",
              "<table border=\"1\" class=\"dataframe\">\n",
              "  <thead>\n",
              "    <tr style=\"text-align: right;\">\n",
              "      <th></th>\n",
              "      <th>Date/Time</th>\n",
              "      <th>Current rainfall (mm)</th>\n",
              "      <th>Cumulative rainfall (mm)</th>\n",
              "      <th>Level (m)</th>\n",
              "    </tr>\n",
              "  </thead>\n",
              "  <tbody>\n",
              "    <tr>\n",
              "      <th>0</th>\n",
              "      <td>2018-12-02 18:00:00</td>\n",
              "      <td>0.0</td>\n",
              "      <td>0.0</td>\n",
              "      <td>1.45365</td>\n",
              "    </tr>\n",
              "    <tr>\n",
              "      <th>1</th>\n",
              "      <td>2018-12-02 17:00:00</td>\n",
              "      <td>0.0</td>\n",
              "      <td>0.0</td>\n",
              "      <td>1.61000</td>\n",
              "    </tr>\n",
              "    <tr>\n",
              "      <th>2</th>\n",
              "      <td>2018-12-02 16:00:00</td>\n",
              "      <td>0.0</td>\n",
              "      <td>0.0</td>\n",
              "      <td>1.61000</td>\n",
              "    </tr>\n",
              "    <tr>\n",
              "      <th>3</th>\n",
              "      <td>2018-12-02 15:00:00</td>\n",
              "      <td>0.0</td>\n",
              "      <td>0.0</td>\n",
              "      <td>1.62000</td>\n",
              "    </tr>\n",
              "    <tr>\n",
              "      <th>4</th>\n",
              "      <td>2018-12-02 14:00:00</td>\n",
              "      <td>0.0</td>\n",
              "      <td>0.0</td>\n",
              "      <td>1.63000</td>\n",
              "    </tr>\n",
              "  </tbody>\n",
              "</table>\n",
              "</div>"
            ],
            "text/plain": [
              "             Date/Time  ...  Level (m)\n",
              "0  2018-12-02 18:00:00  ...    1.45365\n",
              "1  2018-12-02 17:00:00  ...    1.61000\n",
              "2  2018-12-02 16:00:00  ...    1.61000\n",
              "3  2018-12-02 15:00:00  ...    1.62000\n",
              "4  2018-12-02 14:00:00  ...    1.63000\n",
              "\n",
              "[5 rows x 4 columns]"
            ]
          },
          "metadata": {
            "tags": []
          },
          "execution_count": 605
        }
      ]
    },
    {
      "cell_type": "code",
      "metadata": {
        "id": "RrcYNT2I85aT",
        "colab_type": "code",
        "outputId": "30db807e-958a-446c-be8a-9b57dd53aedc",
        "colab": {
          "base_uri": "https://localhost:8080/",
          "height": 34
        }
      },
      "source": [
        "dataset = dataset.drop(columns=['Cumulative rainfall (mm)', 'Date/Time'])\n",
        "dataset.shape"
      ],
      "execution_count": 606,
      "outputs": [
        {
          "output_type": "execute_result",
          "data": {
            "text/plain": [
              "(66902, 2)"
            ]
          },
          "metadata": {
            "tags": []
          },
          "execution_count": 606
        }
      ]
    },
    {
      "cell_type": "code",
      "metadata": {
        "scrolled": true,
        "id": "geJ2EXFdGrrP",
        "colab_type": "code",
        "outputId": "4a49e48b-00a6-4090-ea3c-b1473cdc59da",
        "colab": {
          "base_uri": "https://localhost:8080/",
          "height": 513
        }
      },
      "source": [
        "plt.figure(\n",
        "    figsize=(10, 7))\n",
        "\n",
        "plt.plot(dataset)\n",
        "plt.xlabel('Time',fontsize=18)  \n",
        "plt.tight_layout() \n",
        "rainfall = mpatches.Patch(color='C0', label='Rainfall')\n",
        "level = mpatches.Patch(color='C1', label='Water level')\n",
        "plt.legend(handles=[rainfall,level])\n",
        "positions = (0, 10000, 20000, 30000, 40000, 50000, 60000)\n",
        "labels = (\"2010\", \"2011\", \"2012\", \"2013\", \"2014\", \"2015\", \"2016\")\n",
        "plt.xticks(positions, labels)\n",
        "\n",
        "plt.show() "
      ],
      "execution_count": 607,
      "outputs": [
        {
          "output_type": "display_data",
          "data": {
            "image/png": "[encoded data removed]",
            "text/plain": [
              "<Figure size 720x504 with 1 Axes>"
            ]
          },
          "metadata": {
            "tags": [],
            "needs_background": "light"
          }
        }
      ]
    },
    {
      "cell_type": "markdown",
      "metadata": {
        "colab_type": "text",
        "id": "XZE1yqIRL8NB"
      },
      "source": [
        "### Scaling dataset "
      ]
    },
    {
      "cell_type": "code",
      "metadata": {
        "id": "_p8QSsCoGrrc",
        "colab_type": "code",
        "colab": {}
      },
      "source": [
        "# normalize the dataset (LSTMs are sensitive to the scale of the input data)\n",
        "scaler  = MinMaxScaler(feature_range=(0, 1))\n",
        "dataset = scaler.fit_transform(dataset)"
      ],
      "execution_count": 0,
      "outputs": []
    },
    {
      "cell_type": "code",
      "metadata": {
        "id": "ystTRNmaCAoD",
        "colab_type": "code",
        "outputId": "85ca04ef-0c77-44f9-eac7-e6794678651c",
        "colab": {
          "base_uri": "https://localhost:8080/",
          "height": 513
        }
      },
      "source": [
        "plt.figure(\n",
        "    figsize=(10, 7))\n",
        "\n",
        "plt.plot(dataset[:,0], color='black')\n",
        "plt.plot(dataset[:,1], color='#017C8F')\n",
        "plt.xlabel('Time',fontsize=18)  \n",
        "plt.tight_layout() \n",
        "rainfall = mpatches.Patch(color='black', label='Rainfall')\n",
        "level = mpatches.Patch(color='#017C8F', label='Water level')\n",
        "plt.legend(handles=[rainfall,level])\n",
        "positions = (0, 10000, 20000, 30000, 40000, 50000, 60000)\n",
        "labels = (\"2010\", \"2011\", \"2012\", \"2013\", \"2014\", \"2015\", \"2016\")\n",
        "plt.xticks(positions, labels)\n",
        "\n",
        "plt.show() "
      ],
      "execution_count": 609,
      "outputs": [
        {
          "output_type": "display_data",
          "data": {
            "image/png": "[encoded data removed]",
            "text/plain": [
              "<Figure size 720x504 with 1 Axes>"
            ]
          },
          "metadata": {
            "tags": [],
            "needs_background": "light"
          }
        }
      ]
    },
    {
      "cell_type": "code",
      "metadata": {
        "id": "J9pv_cY1romC",
        "colab_type": "code",
        "outputId": "c1d40c10-c5b6-494d-d3c7-bf87506d5cc6",
        "colab": {
          "base_uri": "https://localhost:8080/",
          "height": 513
        }
      },
      "source": [
        "plt.figure(\n",
        "    figsize=(10, 7))\n",
        "\n",
        "plt.plot(dataset[0:10000,0], color='black')\n",
        "plt.plot(dataset[0:10000,1], color='#017C8F')\n",
        "plt.xlabel('Time', fontsize=18)  \n",
        "plt.ylabel('') \n",
        "plt.tight_layout() \n",
        "rainfall = mpatches.Patch(color='black', label='Rainfall')\n",
        "level = mpatches.Patch(color='#017C8F', label='Water level')\n",
        "plt.legend(handles=[rainfall,level])\n",
        "positions = (0, 2000, 4000, 6000, 8000, 10000)\n",
        "labels = (\"Dec\", \"Feb\", \"April\", \"June\", \"Aug\", \"Oct\")\n",
        "plt.xticks(positions, labels)\n",
        "plt.show() "
      ],
      "execution_count": 610,
      "outputs": [
        {
          "output_type": "display_data",
          "data": {
            "image/png": "[encoded data removed]",
            "text/plain": [
              "<Figure size 720x504 with 1 Axes>"
            ]
          },
          "metadata": {
            "tags": [],
            "needs_background": "light"
          }
        }
      ]
    },
    {
      "cell_type": "markdown",
      "metadata": {
        "colab_type": "text",
        "id": "MaqkAsJ8RByP"
      },
      "source": [
        "# Training "
      ]
    },
    {
      "cell_type": "markdown",
      "metadata": {
        "colab_type": "text",
        "id": "SepyoWQPl1Yu"
      },
      "source": [
        "#### Dataset sliding window (Multivariate)"
      ]
    },
    {
      "cell_type": "code",
      "metadata": {
        "colab_type": "code",
        "id": "y48tr9m2l1Y4",
        "colab": {}
      },
      "source": [
        "# structure data for lstm forecasting with multivariate input\n",
        "def create_multivariate_LSTM_form(sensor_data_sequence, num_past_hours=1, num_predictions=1):\n",
        "    \n",
        "\tnum_features = sensor_data_sequence.shape[1]\n",
        "\n",
        "\tsensor_data_sequence_df = pandas.DataFrame(sensor_data_sequence)\n",
        "\tcolumns, names = list(), list()\n",
        " \n",
        "\t# past data to be observed for each prediction, i.e. input sequence (t-10, ... t-1)\n",
        "\tfor n in range(num_past_hours, 0, -1):\n",
        "\n",
        "\t\tcolumns.append(sensor_data_sequence_df.shift(n))\n",
        "\t\tnames += [('var%d(t-%d)' % (m+1, n)) for m in range(num_features)]\n",
        "\n",
        "\t# specifying the predicted output sequence i.e. (t,t+1, ...., t+10)\n",
        "  # output is (t+10) in this case\n",
        "\tfor n in range(0, num_predictions):\n",
        "\t\tcolumns.append(sensor_data_sequence_df.shift(-n))\n",
        "\t\tif n == 0:\n",
        "\t\t\tnames += [('var%d(t)' % (m+1)) for m in range(num_features)]\n",
        "\t\telse:\n",
        "\t\t\tnames += [('var%d(t+%d)' % (m+1, n)) for m in range(num_features)]\n",
        "\n",
        "\t# combine all columns and remove NaN values\n",
        "\tcombined_data = pandas.concat(columns, axis=1)\n",
        "\tcombined_data.columns = names\n",
        "\tcombined_data.dropna(inplace=True)\n",
        "\n",
        "\treturn combined_data"
      ],
      "execution_count": 0,
      "outputs": []
    },
    {
      "cell_type": "code",
      "metadata": {
        "colab_type": "code",
        "id": "ImzAD_whl1ZN",
        "outputId": "418a1225-3f2f-4cf8-d730-a966267f3d39",
        "colab": {
          "base_uri": "https://localhost:8080/",
          "height": 34
        }
      },
      "source": [
        "#number of hours to be observed when making a each forecast\n",
        "num_hours = 10\n",
        "pred_window = 10\n",
        "\n",
        "#number of features observed\n",
        "num_features = 2\n",
        "\n",
        "# frame data as supervised learning\n",
        "reframed_data = create_multivariate_LSTM_form(dataset, num_hours,pred_window)\n",
        "print(reframed_data.shape)"
      ],
      "execution_count": 612,
      "outputs": [
        {
          "output_type": "stream",
          "text": [
            "(66883, 40)\n"
          ],
          "name": "stdout"
        }
      ]
    },
    {
      "cell_type": "markdown",
      "metadata": {
        "id": "r2ZTVlWFTTxq",
        "colab_type": "text"
      },
      "source": [
        "#### Spliting data to training and test set"
      ]
    },
    {
      "cell_type": "code",
      "metadata": {
        "colab_type": "code",
        "id": "1JRT_sYWl1Za",
        "colab": {}
      },
      "source": [
        "# split into train, validation and test sets (70%, 15%, 15%)\n",
        "values = reframed_data.values\n",
        "\n",
        "num_train_hours = 55100 # approx 70% of the dataset\n",
        "\n",
        "\n",
        "#separated datasets\n",
        "train = values[:num_train_hours, :]\n",
        "validate= values[num_train_hours:, :]"
      ],
      "execution_count": 0,
      "outputs": []
    },
    {
      "cell_type": "code",
      "metadata": {
        "id": "ZQGSFBbeu6qq",
        "colab_type": "code",
        "outputId": "8cdfaec0-6a66-4da6-d64e-bd78550f5658",
        "colab": {
          "base_uri": "https://localhost:8080/",
          "height": 52
        }
      },
      "source": [
        "#training data shape\n",
        "print(train.shape)\n",
        "\n",
        "#test data shape\n",
        "print(validate.shape)"
      ],
      "execution_count": 614,
      "outputs": [
        {
          "output_type": "stream",
          "text": [
            "(55100, 40)\n",
            "(11783, 40)\n"
          ],
          "name": "stdout"
        }
      ]
    },
    {
      "cell_type": "code",
      "metadata": {
        "colab_type": "code",
        "id": "bP58jSz1l1Zm",
        "outputId": "6a339966-0d0f-497e-dbf3-9d0a2f85849b",
        "colab": {
          "base_uri": "https://localhost:8080/",
          "height": 34
        }
      },
      "source": [
        "# specifying inputs and outputs\n",
        "num_obs = num_hours * num_features\n",
        "#traning set\n",
        "trainX, trainY = train[:, :num_obs], train[:, -1]\n",
        "#validation set\n",
        "validateX, validateY = validate[:, :num_obs], validate[:, -1]\n",
        "print(trainX.shape, len(trainX), trainY.shape)"
      ],
      "execution_count": 615,
      "outputs": [
        {
          "output_type": "stream",
          "text": [
            "(55100, 20) 55100 (55100,)\n"
          ],
          "name": "stdout"
        }
      ]
    },
    {
      "cell_type": "code",
      "metadata": {
        "id": "N6-2lBbT6_PH",
        "colab_type": "code",
        "outputId": "932d7e74-6cba-476d-fc4a-96eb2a1f87e1",
        "colab": {
          "base_uri": "https://localhost:8080/",
          "height": 34
        }
      },
      "source": [
        "print(trainY[1])"
      ],
      "execution_count": 616,
      "outputs": [
        {
          "output_type": "stream",
          "text": [
            "0.5597014925373134\n"
          ],
          "name": "stdout"
        }
      ]
    },
    {
      "cell_type": "markdown",
      "metadata": {
        "id": "A-_uBFAKTsm0",
        "colab_type": "text"
      },
      "source": [
        "#### Reshaping to LSTM input format"
      ]
    },
    {
      "cell_type": "code",
      "metadata": {
        "id": "d19VlZtWmvAq",
        "colab_type": "code",
        "outputId": "754205cd-2f17-409d-f3f4-518c6cf1a295",
        "colab": {
          "base_uri": "https://localhost:8080/",
          "height": 34
        }
      },
      "source": [
        "# reshape data correctly to reflect the time steps and features [samples, timesteps, features]\n",
        "trainX = trainX.reshape((trainX.shape[0], num_hours, num_features))\n",
        "\n",
        "validateX = validateX.reshape((validateX.shape[0], num_hours, num_features))\n",
        "print(trainX.shape, trainY.shape, validateX.shape, validateY.shape)"
      ],
      "execution_count": 617,
      "outputs": [
        {
          "output_type": "stream",
          "text": [
            "(55100, 10, 2) (55100,) (11783, 10, 2) (11783,)\n"
          ],
          "name": "stdout"
        }
      ]
    },
    {
      "cell_type": "code",
      "metadata": {
        "id": "PVoKJXwmnlwG",
        "colab_type": "code",
        "outputId": "d0cffee9-7244-496d-e167-541aced451ce",
        "colab": {
          "base_uri": "https://localhost:8080/",
          "height": 208
        }
      },
      "source": [
        "#forecast points check\n",
        "print(trainX[9])\n",
        "print(trainY[0])"
      ],
      "execution_count": 662,
      "outputs": [
        {
          "output_type": "stream",
          "text": [
            "[[0.         0.60820896]\n",
            " [0.         0.60820896]\n",
            " [0.         0.6119403 ]\n",
            " [0.00545455 0.60074627]\n",
            " [0.         0.61567164]\n",
            " [0.         0.62313433]\n",
            " [0.         0.58208955]\n",
            " [0.00181818 0.55970149]\n",
            " [0.         0.55970149]\n",
            " [0.         0.55970149]]\n",
            "0.5597014925373134\n"
          ],
          "name": "stdout"
        }
      ]
    },
    {
      "cell_type": "code",
      "metadata": {
        "id": "_BF4URsMC1Ah",
        "colab_type": "code",
        "outputId": "98f19d38-3dec-4710-eef3-8b4dbc037fda",
        "colab": {
          "base_uri": "https://localhost:8080/",
          "height": 513
        }
      },
      "source": [
        "plt.figure(\n",
        "    figsize=(10, 7))\n",
        "\n",
        "plt.plot(trainY, color='#017C8F')\n",
        "plt.xlabel('Time', fontsize=18)  \n",
        "plt.ylabel('') \n",
        "plt.tight_layout() \n",
        "\n",
        "plt.show() "
      ],
      "execution_count": 619,
      "outputs": [
        {
          "output_type": "display_data",
          "data": {
            "image/png": "[encoded data removed]",
            "text/plain": [
              "<Figure size 720x504 with 1 Axes>"
            ]
          },
          "metadata": {
            "tags": [],
            "needs_background": "light"
          }
        }
      ]
    },
    {
      "cell_type": "code",
      "metadata": {
        "id": "L8gfs4t2DTZq",
        "colab_type": "code",
        "outputId": "07da2cc9-5859-4d50-efea-a6eab465ce65",
        "colab": {
          "base_uri": "https://localhost:8080/",
          "height": 513
        }
      },
      "source": [
        "plt.figure(\n",
        "    figsize=(10, 7))\n",
        "\n",
        "plt.plot(validateY, color='#017C8F')\n",
        "plt.xlabel('Time', fontsize=18)  \n",
        "plt.ylabel('') \n",
        "plt.tight_layout() \n",
        "\n",
        "plt.show()"
      ],
      "execution_count": 620,
      "outputs": [
        {
          "output_type": "display_data",
          "data": {
            "image/png": "[encoded data removed]",
            "text/plain": [
              "<Figure size 720x504 with 1 Axes>"
            ]
          },
          "metadata": {
            "tags": [],
            "needs_background": "light"
          }
        }
      ]
    },
    {
      "cell_type": "markdown",
      "metadata": {
        "colab_type": "text",
        "id": "uc7YZ_7NSJoJ"
      },
      "source": [
        "## Model (LSTM)"
      ]
    },
    {
      "cell_type": "code",
      "metadata": {
        "id": "GVJE3ZupWw7b",
        "colab_type": "code",
        "colab": {}
      },
      "source": [
        "#Setup the LSTM model (with multivariate input)\n",
        "\n",
        "model = Sequential()\n",
        "model.add(LSTM(30, activation='relu', input_shape=(trainX.shape[1], trainX.shape[2])))\n",
        "# model.add(Dropout(0.2))\n",
        "model.add(Dense(1))\n",
        "model.compile(loss='mse', optimizer='adam')"
      ],
      "execution_count": 0,
      "outputs": []
    },
    {
      "cell_type": "code",
      "metadata": {
        "id": "BJXMV979XKrq",
        "colab_type": "code",
        "outputId": "6bbfaf0c-a2d5-4244-cd83-88d7cfb48300",
        "colab": {
          "base_uri": "https://localhost:8080/",
          "height": 225
        }
      },
      "source": [
        "model.summary()"
      ],
      "execution_count": 622,
      "outputs": [
        {
          "output_type": "stream",
          "text": [
            "Model: \"sequential_7\"\n",
            "_________________________________________________________________\n",
            "Layer (type)                 Output Shape              Param #   \n",
            "=================================================================\n",
            "lstm_7 (LSTM)                (None, 30)                3960      \n",
            "_________________________________________________________________\n",
            "dense_7 (Dense)              (None, 1)                 31        \n",
            "=================================================================\n",
            "Total params: 3,991\n",
            "Trainable params: 3,991\n",
            "Non-trainable params: 0\n",
            "_________________________________________________________________\n"
          ],
          "name": "stdout"
        }
      ]
    },
    {
      "cell_type": "markdown",
      "metadata": {
        "colab_type": "text",
        "id": "NcODng0NWxh_"
      },
      "source": [
        "## Model Learning"
      ]
    },
    {
      "cell_type": "markdown",
      "metadata": {
        "id": "EByuGYMII7XW",
        "colab_type": "text"
      },
      "source": [
        "### training and validation"
      ]
    },
    {
      "cell_type": "code",
      "metadata": {
        "id": "VbnZPS2kr5Il",
        "colab_type": "code",
        "colab": {}
      },
      "source": [
        "callback = EarlyStopping(monitor='val_loss', mode='min',verbose=1,patience=30, baseline=0.000073750)"
      ],
      "execution_count": 0,
      "outputs": []
    },
    {
      "cell_type": "code",
      "metadata": {
        "id": "dgt8J7MWGrsb",
        "colab_type": "code",
        "outputId": "ea8e9146-3aa3-4a9c-8815-485ed51d6153",
        "colab": {
          "base_uri": "https://localhost:8080/",
          "height": 1000
        }
      },
      "source": [
        "#training :  epochs and batch size 64\n",
        "history = model.fit(trainX, trainY, epochs=200, batch_size=64, callbacks=[callback],\n",
        "                    validation_data=(validateX, validateY), shuffle=False)"
      ],
      "execution_count": 624,
      "outputs": [
        {
          "output_type": "stream",
          "text": [
            "Epoch 1/200\n",
            "861/861 [==============================] - 5s 6ms/step - loss: 0.0070 - val_loss: 8.5473e-04\n",
            "Epoch 2/200\n",
            "861/861 [==============================] - 5s 6ms/step - loss: 6.3188e-04 - val_loss: 8.6017e-04\n",
            "Epoch 3/200\n",
            "861/861 [==============================] - 5s 6ms/step - loss: 6.5018e-04 - val_loss: 8.7533e-04\n",
            "Epoch 4/200\n",
            "861/861 [==============================] - 5s 6ms/step - loss: 6.6181e-04 - val_loss: 8.8118e-04\n",
            "Epoch 5/200\n",
            "861/861 [==============================] - 5s 6ms/step - loss: 6.5208e-04 - val_loss: 8.8703e-04\n",
            "Epoch 6/200\n",
            "861/861 [==============================] - 5s 6ms/step - loss: 6.5426e-04 - val_loss: 8.7201e-04\n",
            "Epoch 7/200\n",
            "861/861 [==============================] - 5s 6ms/step - loss: 6.4292e-04 - val_loss: 8.7113e-04\n",
            "Epoch 8/200\n",
            "861/861 [==============================] - 5s 6ms/step - loss: 6.3666e-04 - val_loss: 8.6719e-04\n",
            "Epoch 9/200\n",
            "861/861 [==============================] - 5s 6ms/step - loss: 6.3701e-04 - val_loss: 8.5435e-04\n",
            "Epoch 10/200\n",
            "861/861 [==============================] - 5s 6ms/step - loss: 6.2667e-04 - val_loss: 8.5333e-04\n",
            "Epoch 11/200\n",
            "861/861 [==============================] - 5s 6ms/step - loss: 6.2184e-04 - val_loss: 8.4782e-04\n",
            "Epoch 12/200\n",
            "861/861 [==============================] - 5s 6ms/step - loss: 6.1792e-04 - val_loss: 8.4470e-04\n",
            "Epoch 13/200\n",
            "861/861 [==============================] - 5s 6ms/step - loss: 6.1472e-04 - val_loss: 8.4013e-04\n",
            "Epoch 14/200\n",
            "861/861 [==============================] - 6s 6ms/step - loss: 6.0781e-04 - val_loss: 8.4016e-04\n",
            "Epoch 15/200\n",
            "861/861 [==============================] - 5s 6ms/step - loss: 6.0919e-04 - val_loss: 8.3237e-04\n",
            "Epoch 16/200\n",
            "861/861 [==============================] - 5s 6ms/step - loss: 6.0466e-04 - val_loss: 8.2825e-04\n",
            "Epoch 17/200\n",
            "861/861 [==============================] - 5s 6ms/step - loss: 6.0069e-04 - val_loss: 8.2595e-04\n",
            "Epoch 18/200\n",
            "861/861 [==============================] - 5s 6ms/step - loss: 5.9650e-04 - val_loss: 8.2503e-04\n",
            "Epoch 19/200\n",
            "861/861 [==============================] - 5s 6ms/step - loss: 5.9831e-04 - val_loss: 8.1723e-04\n",
            "Epoch 20/200\n",
            "861/861 [==============================] - 5s 6ms/step - loss: 5.9337e-04 - val_loss: 8.1710e-04\n",
            "Epoch 21/200\n",
            "861/861 [==============================] - 5s 6ms/step - loss: 5.9153e-04 - val_loss: 8.1454e-04\n",
            "Epoch 22/200\n",
            "861/861 [==============================] - 5s 6ms/step - loss: 5.8920e-04 - val_loss: 8.1304e-04\n",
            "Epoch 23/200\n",
            "861/861 [==============================] - 5s 6ms/step - loss: 5.8656e-04 - val_loss: 8.1188e-04\n",
            "Epoch 24/200\n",
            "861/861 [==============================] - 5s 6ms/step - loss: 5.8726e-04 - val_loss: 8.0613e-04\n",
            "Epoch 25/200\n",
            "861/861 [==============================] - 5s 6ms/step - loss: 5.8413e-04 - val_loss: 8.0738e-04\n",
            "Epoch 26/200\n",
            "861/861 [==============================] - 5s 6ms/step - loss: 5.8315e-04 - val_loss: 8.0601e-04\n",
            "Epoch 27/200\n",
            "861/861 [==============================] - 5s 6ms/step - loss: 5.8072e-04 - val_loss: 8.0610e-04\n",
            "Epoch 28/200\n",
            "861/861 [==============================] - 6s 6ms/step - loss: 5.8213e-04 - val_loss: 8.0056e-04\n",
            "Epoch 29/200\n",
            "861/861 [==============================] - 5s 6ms/step - loss: 5.7924e-04 - val_loss: 8.0193e-04\n",
            "Epoch 30/200\n",
            "861/861 [==============================] - 5s 6ms/step - loss: 5.7852e-04 - val_loss: 8.0121e-04\n",
            "Epoch 00030: early stopping\n"
          ],
          "name": "stdout"
        }
      ]
    },
    {
      "cell_type": "markdown",
      "metadata": {
        "id": "ZN5uRnRFNNUv",
        "colab_type": "text"
      },
      "source": [
        "###training performance"
      ]
    },
    {
      "cell_type": "code",
      "metadata": {
        "id": "cN60JNciy6gW",
        "colab_type": "code",
        "outputId": "d538daeb-1e9f-47f0-d7fa-754de43e15f1",
        "colab": {
          "base_uri": "https://localhost:8080/",
          "height": 295
        }
      },
      "source": [
        "# plot loss during training\n",
        "pyplot.plot(history.history['loss'], label='training')\n",
        "pyplot.plot(history.history['val_loss'], label='validation')\n",
        "pyplot.title('model train vs validation loss')\n",
        "plt.xlabel('no of epochs')  \n",
        "plt.ylabel('loss') \n",
        "pyplot.legend(['train', 'validation'], loc='upper right')\n",
        "pyplot.show()"
      ],
      "execution_count": 625,
      "outputs": [
        {
          "output_type": "display_data",
          "data": {
            "image/png": "[encoded data removed]",
            "text/plain": [
              "<Figure size 432x288 with 1 Axes>"
            ]
          },
          "metadata": {
            "tags": [],
            "needs_background": "light"
          }
        }
      ]
    },
    {
      "cell_type": "code",
      "metadata": {
        "colab_type": "code",
        "id": "SzD8So7o9Pyw",
        "outputId": "88fc1238-f268-4b6d-8fd6-1d074985e2c1",
        "colab": {
          "base_uri": "https://localhost:8080/",
          "height": 86
        }
      },
      "source": [
        "# model RMSE\n",
        "train_score = model.evaluate(trainX, trainY, verbose=1)\n",
        "train_score = math.sqrt(train_score)\n",
        "\n",
        "validation_score = model.evaluate(validateX, validateY, verbose=1)\n",
        "validation_score = math.sqrt(validation_score)\n",
        "print('Train Score: %.2f %% RMSE' % (train_score*100))\n",
        "print('Validation Score: %.2f %% RMSE' % (validation_score*100))"
      ],
      "execution_count": 626,
      "outputs": [
        {
          "output_type": "stream",
          "text": [
            "1722/1722 [==============================] - 3s 2ms/step - loss: 6.2959e-04\n",
            "369/369 [==============================] - 1s 2ms/step - loss: 8.0121e-04\n",
            "Train Score: 2.51 % RMSE\n",
            "Validation Score: 2.83 % RMSE\n"
          ],
          "name": "stdout"
        }
      ]
    },
    {
      "cell_type": "markdown",
      "metadata": {
        "id": "ZrsM--xKIrwc",
        "colab_type": "text"
      },
      "source": [
        ""
      ]
    },
    {
      "cell_type": "code",
      "metadata": {
        "id": "6MKK0CngeXlc",
        "colab_type": "code",
        "colab": {}
      },
      "source": [
        "model.save('my_model.h5') "
      ],
      "execution_count": 0,
      "outputs": []
    },
    {
      "cell_type": "code",
      "metadata": {
        "id": "VFF9iFEyT_QT",
        "colab_type": "code",
        "outputId": "45110485-39dc-412a-b503-a924e5c5d924",
        "colab": {
          "base_uri": "https://localhost:8080/",
          "height": 34
        }
      },
      "source": [
        "# Convert the model.\n",
        "import tensorflow as tf\n",
        "\n",
        "converter = tf.lite.TFLiteConverter.from_keras_model(model)\n",
        "converter.experimental_new_converter = True\n",
        "converter.allow_custom_ops=True\n",
        "tflite_model = converter.convert()\n",
        "open(\"converted_model.tflite\", \"wb\").write(tflite_model)"
      ],
      "execution_count": 628,
      "outputs": [
        {
          "output_type": "execute_result",
          "data": {
            "text/plain": [
              "29892"
            ]
          },
          "metadata": {
            "tags": []
          },
          "execution_count": 628
        }
      ]
    },
    {
      "cell_type": "markdown",
      "metadata": {
        "colab_type": "text",
        "id": "3frrx2cbSgTe"
      },
      "source": [
        "# Testing"
      ]
    },
    {
      "cell_type": "markdown",
      "metadata": {
        "id": "XxRUO6rsqiQV",
        "colab_type": "text"
      },
      "source": [
        "###Test Data Preprocessing"
      ]
    },
    {
      "cell_type": "code",
      "metadata": {
        "id": "aEC_hn8gqhHa",
        "colab_type": "code",
        "colab": {}
      },
      "source": [
        "#Same point\n",
        "\n",
        "df_rain_test = pandas.read_csv(\"https://raw.githubusercontent.com/ricsamikwa/short-term-flood-water-level-prediction/master/dataset/new_data/hourly_rainfall_test.csv\")\n",
        "df_water_level_test = pandas.read_csv(\"https://raw.githubusercontent.com/ricsamikwa/short-term-flood-water-level-prediction/master/dataset/new_data/hourly_water_level_test.csv\")\n",
        "\n",
        "#Another point\n",
        "\n",
        "# df_rain_test = pandas.read_csv(\"https://raw.githubusercontent.com/ricsamikwa/short-term-flood-water-level-prediction/master/dataset/new_data/Elsternwick-Hourly-Rainfall.csv\")\n",
        "# df_water_level_test = pandas.read_csv(\"https://raw.githubusercontent.com/ricsamikwa/short-term-flood-water-level-prediction/master/dataset/new_data/Elsternwick-Hourly-River-Level.csv\")"
      ],
      "execution_count": 0,
      "outputs": []
    },
    {
      "cell_type": "code",
      "metadata": {
        "id": "Lj95-xjWsj85",
        "colab_type": "code",
        "outputId": "53b4c161-eb3d-4f36-ea4e-0683660bd661",
        "colab": {
          "base_uri": "https://localhost:8080/",
          "height": 206
        }
      },
      "source": [
        "#dataset merged on date_time \n",
        "dataset_test = pandas.merge(df_rain_test, df_water_level_test, how='outer', on=['Date/Time'])\n",
        "dataset_test.head()"
      ],
      "execution_count": 630,
      "outputs": [
        {
          "output_type": "execute_result",
          "data": {
            "text/html": [
              "<div>\n",
              "<style scoped>\n",
              "    .dataframe tbody tr th:only-of-type {\n",
              "        vertical-align: middle;\n",
              "    }\n",
              "\n",
              "    .dataframe tbody tr th {\n",
              "        vertical-align: top;\n",
              "    }\n",
              "\n",
              "    .dataframe thead th {\n",
              "        text-align: right;\n",
              "    }\n",
              "</style>\n",
              "<table border=\"1\" class=\"dataframe\">\n",
              "  <thead>\n",
              "    <tr style=\"text-align: right;\">\n",
              "      <th></th>\n",
              "      <th>Date/Time</th>\n",
              "      <th>Current rainfall (mm)</th>\n",
              "      <th>Cumulative rainfall (mm)</th>\n",
              "      <th>Level (m)</th>\n",
              "    </tr>\n",
              "  </thead>\n",
              "  <tbody>\n",
              "    <tr>\n",
              "      <th>0</th>\n",
              "      <td>2011-04-07 20:00:00</td>\n",
              "      <td>0.0</td>\n",
              "      <td>0.0</td>\n",
              "      <td>1.49</td>\n",
              "    </tr>\n",
              "    <tr>\n",
              "      <th>1</th>\n",
              "      <td>2011-04-07 19:00:00</td>\n",
              "      <td>0.0</td>\n",
              "      <td>0.0</td>\n",
              "      <td>1.49</td>\n",
              "    </tr>\n",
              "    <tr>\n",
              "      <th>2</th>\n",
              "      <td>2011-04-07 18:00:00</td>\n",
              "      <td>0.0</td>\n",
              "      <td>0.0</td>\n",
              "      <td>1.49</td>\n",
              "    </tr>\n",
              "    <tr>\n",
              "      <th>3</th>\n",
              "      <td>2011-04-07 17:00:00</td>\n",
              "      <td>0.0</td>\n",
              "      <td>0.0</td>\n",
              "      <td>1.49</td>\n",
              "    </tr>\n",
              "    <tr>\n",
              "      <th>4</th>\n",
              "      <td>2011-04-07 16:00:00</td>\n",
              "      <td>0.0</td>\n",
              "      <td>0.0</td>\n",
              "      <td>1.49</td>\n",
              "    </tr>\n",
              "  </tbody>\n",
              "</table>\n",
              "</div>"
            ],
            "text/plain": [
              "             Date/Time  ...  Level (m)\n",
              "0  2011-04-07 20:00:00  ...       1.49\n",
              "1  2011-04-07 19:00:00  ...       1.49\n",
              "2  2011-04-07 18:00:00  ...       1.49\n",
              "3  2011-04-07 17:00:00  ...       1.49\n",
              "4  2011-04-07 16:00:00  ...       1.49\n",
              "\n",
              "[5 rows x 4 columns]"
            ]
          },
          "metadata": {
            "tags": []
          },
          "execution_count": 630
        }
      ]
    },
    {
      "cell_type": "code",
      "metadata": {
        "id": "7vPZ0uv8oAA8",
        "colab_type": "code",
        "outputId": "92f5543a-f9e9-490b-b88e-86e0399a3465",
        "colab": {
          "base_uri": "https://localhost:8080/",
          "height": 301
        }
      },
      "source": [
        "dataset_test.describe()"
      ],
      "execution_count": 631,
      "outputs": [
        {
          "output_type": "execute_result",
          "data": {
            "text/html": [
              "<div>\n",
              "<style scoped>\n",
              "    .dataframe tbody tr th:only-of-type {\n",
              "        vertical-align: middle;\n",
              "    }\n",
              "\n",
              "    .dataframe tbody tr th {\n",
              "        vertical-align: top;\n",
              "    }\n",
              "\n",
              "    .dataframe thead th {\n",
              "        text-align: right;\n",
              "    }\n",
              "</style>\n",
              "<table border=\"1\" class=\"dataframe\">\n",
              "  <thead>\n",
              "    <tr style=\"text-align: right;\">\n",
              "      <th></th>\n",
              "      <th>Current rainfall (mm)</th>\n",
              "      <th>Cumulative rainfall (mm)</th>\n",
              "      <th>Level (m)</th>\n",
              "    </tr>\n",
              "  </thead>\n",
              "  <tbody>\n",
              "    <tr>\n",
              "      <th>count</th>\n",
              "      <td>11828.000000</td>\n",
              "      <td>11828.000000</td>\n",
              "      <td>11812.000000</td>\n",
              "    </tr>\n",
              "    <tr>\n",
              "      <th>mean</th>\n",
              "      <td>0.077951</td>\n",
              "      <td>0.976243</td>\n",
              "      <td>1.452874</td>\n",
              "    </tr>\n",
              "    <tr>\n",
              "      <th>std</th>\n",
              "      <td>0.957547</td>\n",
              "      <td>4.348222</td>\n",
              "      <td>0.174743</td>\n",
              "    </tr>\n",
              "    <tr>\n",
              "      <th>min</th>\n",
              "      <td>0.000000</td>\n",
              "      <td>0.000000</td>\n",
              "      <td>0.000000</td>\n",
              "    </tr>\n",
              "    <tr>\n",
              "      <th>25%</th>\n",
              "      <td>0.000000</td>\n",
              "      <td>0.000000</td>\n",
              "      <td>1.400000</td>\n",
              "    </tr>\n",
              "    <tr>\n",
              "      <th>50%</th>\n",
              "      <td>0.000000</td>\n",
              "      <td>0.000000</td>\n",
              "      <td>1.440000</td>\n",
              "    </tr>\n",
              "    <tr>\n",
              "      <th>75%</th>\n",
              "      <td>0.000000</td>\n",
              "      <td>0.200000</td>\n",
              "      <td>1.500000</td>\n",
              "    </tr>\n",
              "    <tr>\n",
              "      <th>max</th>\n",
              "      <td>64.000000</td>\n",
              "      <td>111.400000</td>\n",
              "      <td>3.300000</td>\n",
              "    </tr>\n",
              "  </tbody>\n",
              "</table>\n",
              "</div>"
            ],
            "text/plain": [
              "       Current rainfall (mm)  Cumulative rainfall (mm)     Level (m)\n",
              "count           11828.000000              11828.000000  11812.000000\n",
              "mean                0.077951                  0.976243      1.452874\n",
              "std                 0.957547                  4.348222      0.174743\n",
              "min                 0.000000                  0.000000      0.000000\n",
              "25%                 0.000000                  0.000000      1.400000\n",
              "50%                 0.000000                  0.000000      1.440000\n",
              "75%                 0.000000                  0.200000      1.500000\n",
              "max                64.000000                111.400000      3.300000"
            ]
          },
          "metadata": {
            "tags": []
          },
          "execution_count": 631
        }
      ]
    },
    {
      "cell_type": "code",
      "metadata": {
        "id": "JzMSh2Moq-Vi",
        "colab_type": "code",
        "outputId": "46858b83-db6c-4c69-d805-a1efc49db47f",
        "colab": {
          "base_uri": "https://localhost:8080/",
          "height": 206
        }
      },
      "source": [
        "#filling all missing values with mean of the column\n",
        "dataset_test['Cumulative rainfall (mm)'] = dataset_test['Cumulative rainfall (mm)'].fillna(dataset_test['Cumulative rainfall (mm)'].mean())\n",
        "dataset_test['Current rainfall (mm)'] = dataset_test['Current rainfall (mm)'].fillna(dataset_test['Current rainfall (mm)'].mean())\n",
        "dataset_test['Level (m)'] = dataset_test['Level (m)'].fillna(dataset_test['Level (m)'].mean())\n",
        "\n",
        "dataset_test.head()"
      ],
      "execution_count": 632,
      "outputs": [
        {
          "output_type": "execute_result",
          "data": {
            "text/html": [
              "<div>\n",
              "<style scoped>\n",
              "    .dataframe tbody tr th:only-of-type {\n",
              "        vertical-align: middle;\n",
              "    }\n",
              "\n",
              "    .dataframe tbody tr th {\n",
              "        vertical-align: top;\n",
              "    }\n",
              "\n",
              "    .dataframe thead th {\n",
              "        text-align: right;\n",
              "    }\n",
              "</style>\n",
              "<table border=\"1\" class=\"dataframe\">\n",
              "  <thead>\n",
              "    <tr style=\"text-align: right;\">\n",
              "      <th></th>\n",
              "      <th>Date/Time</th>\n",
              "      <th>Current rainfall (mm)</th>\n",
              "      <th>Cumulative rainfall (mm)</th>\n",
              "      <th>Level (m)</th>\n",
              "    </tr>\n",
              "  </thead>\n",
              "  <tbody>\n",
              "    <tr>\n",
              "      <th>0</th>\n",
              "      <td>2011-04-07 20:00:00</td>\n",
              "      <td>0.0</td>\n",
              "      <td>0.0</td>\n",
              "      <td>1.49</td>\n",
              "    </tr>\n",
              "    <tr>\n",
              "      <th>1</th>\n",
              "      <td>2011-04-07 19:00:00</td>\n",
              "      <td>0.0</td>\n",
              "      <td>0.0</td>\n",
              "      <td>1.49</td>\n",
              "    </tr>\n",
              "    <tr>\n",
              "      <th>2</th>\n",
              "      <td>2011-04-07 18:00:00</td>\n",
              "      <td>0.0</td>\n",
              "      <td>0.0</td>\n",
              "      <td>1.49</td>\n",
              "    </tr>\n",
              "    <tr>\n",
              "      <th>3</th>\n",
              "      <td>2011-04-07 17:00:00</td>\n",
              "      <td>0.0</td>\n",
              "      <td>0.0</td>\n",
              "      <td>1.49</td>\n",
              "    </tr>\n",
              "    <tr>\n",
              "      <th>4</th>\n",
              "      <td>2011-04-07 16:00:00</td>\n",
              "      <td>0.0</td>\n",
              "      <td>0.0</td>\n",
              "      <td>1.49</td>\n",
              "    </tr>\n",
              "  </tbody>\n",
              "</table>\n",
              "</div>"
            ],
            "text/plain": [
              "             Date/Time  ...  Level (m)\n",
              "0  2011-04-07 20:00:00  ...       1.49\n",
              "1  2011-04-07 19:00:00  ...       1.49\n",
              "2  2011-04-07 18:00:00  ...       1.49\n",
              "3  2011-04-07 17:00:00  ...       1.49\n",
              "4  2011-04-07 16:00:00  ...       1.49\n",
              "\n",
              "[5 rows x 4 columns]"
            ]
          },
          "metadata": {
            "tags": []
          },
          "execution_count": 632
        }
      ]
    },
    {
      "cell_type": "code",
      "metadata": {
        "id": "zqRkyMtFrGCy",
        "colab_type": "code",
        "outputId": "c3262db5-f33e-4b4e-db76-133a924d386b",
        "colab": {
          "base_uri": "https://localhost:8080/",
          "height": 34
        }
      },
      "source": [
        "dataset_test = dataset_test.drop(columns=['Cumulative rainfall (mm)', 'Date/Time'])\n",
        "dataset_test.shape"
      ],
      "execution_count": 633,
      "outputs": [
        {
          "output_type": "execute_result",
          "data": {
            "text/plain": [
              "(11836, 2)"
            ]
          },
          "metadata": {
            "tags": []
          },
          "execution_count": 633
        }
      ]
    },
    {
      "cell_type": "code",
      "metadata": {
        "id": "5oRCzLZbHqdX",
        "colab_type": "code",
        "colab": {}
      },
      "source": [
        "waterlelvels = dataset_test['Level (m)']\n"
      ],
      "execution_count": 0,
      "outputs": []
    },
    {
      "cell_type": "code",
      "metadata": {
        "id": "HMr8zp7PelTN",
        "colab_type": "code",
        "outputId": "c72ca0c1-b9b7-4cc0-a59c-146c3fe7138b",
        "colab": {
          "base_uri": "https://localhost:8080/",
          "height": 34
        }
      },
      "source": [
        "# true_waterlelvels = waterlelvels[1019:11955]\n",
        "true_waterlelvels = waterlelvels[0:11825]\n",
        "[11817, 11825]\n",
        "print(true_waterlelvels.shape)\n"
      ],
      "execution_count": 635,
      "outputs": [
        {
          "output_type": "stream",
          "text": [
            "(11825,)\n"
          ],
          "name": "stdout"
        }
      ]
    },
    {
      "cell_type": "code",
      "metadata": {
        "id": "92aECD00rTcY",
        "colab_type": "code",
        "colab": {}
      },
      "source": [
        "# normalize the dataset (LSTMs are sensitive to the scale of the input data)\n",
        "# scaler  = MinMaxScaler(feature_range=(0, 1))\n",
        "dataset_test = scaler.fit_transform(dataset_test)"
      ],
      "execution_count": 0,
      "outputs": []
    },
    {
      "cell_type": "code",
      "metadata": {
        "id": "yCtJipaErfgL",
        "colab_type": "code",
        "outputId": "3edc54c3-a011-48cb-a3cc-bc84443dae02",
        "colab": {
          "base_uri": "https://localhost:8080/",
          "height": 513
        }
      },
      "source": [
        "plt.figure(\n",
        "    figsize=(10, 7))\n",
        "\n",
        "plt.plot(dataset_test[:,0], color='black')\n",
        "plt.plot(dataset_test[:,1], color='#017C8F')\n",
        "plt.xlabel('Time',fontsize=18)  \n",
        "plt.tight_layout() \n",
        "rainfall = mpatches.Patch(color='black', label='Rainfall')\n",
        "level = mpatches.Patch(color='#017C8F', label='Water level')\n",
        "plt.legend(handles=[rainfall,level])\n",
        "\n",
        "plt.show() "
      ],
      "execution_count": 637,
      "outputs": [
        {
          "output_type": "display_data",
          "data": {
            "image/png": "[encoded data removed]",
            "text/plain": [
              "<Figure size 720x504 with 1 Axes>"
            ]
          },
          "metadata": {
            "tags": [],
            "needs_background": "light"
          }
        }
      ]
    },
    {
      "cell_type": "code",
      "metadata": {
        "id": "3jtXqw5otHEv",
        "colab_type": "code",
        "outputId": "9b96bc8c-f3d8-49f7-e4cb-e16cb4a02a34",
        "colab": {
          "base_uri": "https://localhost:8080/",
          "height": 34
        }
      },
      "source": [
        "# frame data as supervised learning\n",
        "reframed_data_test = create_multivariate_LSTM_form(dataset_test, num_hours, pred_window)\n",
        "print(reframed_data_test.shape)"
      ],
      "execution_count": 638,
      "outputs": [
        {
          "output_type": "stream",
          "text": [
            "(11817, 40)\n"
          ],
          "name": "stdout"
        }
      ]
    },
    {
      "cell_type": "code",
      "metadata": {
        "id": "cH-S_4SqrqO5",
        "colab_type": "code",
        "colab": {}
      },
      "source": [
        "# split into train, validation and test sets (70%, 15%, 15%)\n",
        "test = reframed_data_test.values\n"
      ],
      "execution_count": 0,
      "outputs": []
    },
    {
      "cell_type": "code",
      "metadata": {
        "id": "4k69dUefrxvp",
        "colab_type": "code",
        "colab": {}
      },
      "source": [
        "\n",
        "#testing set\n",
        "testX, testY = test[:, :num_obs], test[:, -1]\n"
      ],
      "execution_count": 0,
      "outputs": []
    },
    {
      "cell_type": "code",
      "metadata": {
        "id": "XFTx0gQnr9oF",
        "colab_type": "code",
        "outputId": "0ee271fd-c33f-4016-c2b8-a767d2474394",
        "colab": {
          "base_uri": "https://localhost:8080/",
          "height": 34
        }
      },
      "source": [
        "# reshape data correctly to reflect the time steps and features [samples, timesteps, features]\n",
        "testX = testX.reshape((testX.shape[0], num_hours, num_features))\n",
        "\n",
        "print(testX.shape, testY.shape)"
      ],
      "execution_count": 641,
      "outputs": [
        {
          "output_type": "stream",
          "text": [
            "(11817, 10, 2) (11817,)\n"
          ],
          "name": "stdout"
        }
      ]
    },
    {
      "cell_type": "code",
      "metadata": {
        "id": "vq_v3FDSEo9p",
        "colab_type": "code",
        "outputId": "6bb1102a-e37e-4f13-ace9-ced6e205a8ad",
        "colab": {
          "base_uri": "https://localhost:8080/",
          "height": 52
        }
      },
      "source": [
        "print(testY[0])\n",
        "print(testY[1])"
      ],
      "execution_count": 642,
      "outputs": [
        {
          "output_type": "stream",
          "text": [
            "0.4545454545454546\n",
            "0.4545454545454546\n"
          ],
          "name": "stdout"
        }
      ]
    },
    {
      "cell_type": "markdown",
      "metadata": {
        "colab_type": "text",
        "id": "V-xmRveXS7iH"
      },
      "source": [
        "### predictions using unseen test data \n",
        "#### 10 hours ahead of time prediction\n",
        "\n",
        "\n",
        "\n",
        "\n",
        "\n"
      ]
    },
    {
      "cell_type": "code",
      "metadata": {
        "id": "ZU9Lei9OOyiV",
        "colab_type": "code",
        "colab": {}
      },
      "source": [
        "# predictions\n",
        "predictions = model.predict(testX)\n",
        "unseen_X = testX.reshape((testX.shape[0], num_hours*num_features))"
      ],
      "execution_count": 0,
      "outputs": []
    },
    {
      "cell_type": "code",
      "metadata": {
        "id": "iqKGvLHMOt-H",
        "colab_type": "code",
        "colab": {}
      },
      "source": [
        "# invert scaling for predicted water levels\n",
        "inv_predictions = concatenate((unseen_X[:,-1:],predictions), axis=1)\n",
        "\n",
        "inv_predictions = scaler.inverse_transform(inv_predictions)\n",
        "\n",
        "inv_predictions = inv_predictions[:,1]"
      ],
      "execution_count": 0,
      "outputs": []
    },
    {
      "cell_type": "code",
      "metadata": {
        "id": "C_L6eJWkSa26",
        "colab_type": "code",
        "colab": {
          "base_uri": "https://localhost:8080/",
          "height": 52
        },
        "outputId": "6ca923ee-983e-46e0-b130-28eaaa4c6b28"
      },
      "source": [
        "print(predictions[0])\n",
        "print(inv_predictions[0])"
      ],
      "execution_count": 645,
      "outputs": [
        {
          "output_type": "stream",
          "text": [
            "[0.47667402]\n",
            "1.5730242669582366\n"
          ],
          "name": "stdout"
        }
      ]
    },
    {
      "cell_type": "code",
      "metadata": {
        "id": "MVtiR_6cQ0_O",
        "colab_type": "code",
        "colab": {
          "base_uri": "https://localhost:8080/",
          "height": 34
        },
        "outputId": "52861a46-9396-4556-d6b8-0d511dfb7edc"
      },
      "source": [
        "# invert scaling for actual water levels \n",
        "testY = testY.reshape((len(testY), 1))\n",
        "inv_waterlelvels = concatenate((unseen_X[:, -1:],testY), axis=1)\n",
        "print(inv_waterlelvels[10000])\n",
        "inv_waterlelvels = scaler.inverse_transform(inv_waterlelvels)\n",
        "inv_waterlelvels = inv_waterlelvels[:,1]"
      ],
      "execution_count": 646,
      "outputs": [
        {
          "output_type": "stream",
          "text": [
            "[0.42424242 0.42424242]\n"
          ],
          "name": "stdout"
        }
      ]
    },
    {
      "cell_type": "code",
      "metadata": {
        "id": "MU-JTZePmyJe",
        "colab_type": "code",
        "outputId": "743d94e2-d442-42e1-afa5-250ffd756b4d",
        "colab": {
          "base_uri": "https://localhost:8080/",
          "height": 34
        }
      },
      "source": [
        "print(inv_waterlelvels[0])"
      ],
      "execution_count": 647,
      "outputs": [
        {
          "output_type": "stream",
          "text": [
            "1.5\n"
          ],
          "name": "stdout"
        }
      ]
    },
    {
      "cell_type": "markdown",
      "metadata": {
        "id": "AqeEbA4hMqYp",
        "colab_type": "text"
      },
      "source": [
        "###predictions vs ground truth"
      ]
    },
    {
      "cell_type": "code",
      "metadata": {
        "id": "8yadiOzmgAEL",
        "colab_type": "code",
        "outputId": "8204f59d-2770-4192-d675-16981a432098",
        "colab": {
          "base_uri": "https://localhost:8080/",
          "height": 576
        }
      },
      "source": [
        "print('----------------- Predicted ---------------')\n",
        "plt.plot(inv_predictions)\n",
        "plt.xlabel('Time (hours)')  \n",
        "plt.ylabel('Water level (m)') \n",
        "plt.show()\n",
        "print('----------------- Ground Truth ---------------')\n",
        "plt.plot(inv_waterlelvels)\n",
        "plt.xlabel('Time (hours)')  \n",
        "plt.ylabel('Water level (m)') \n",
        "plt.show()"
      ],
      "execution_count": 648,
      "outputs": [
        {
          "output_type": "stream",
          "text": [
            "----------------- Predicted ---------------\n"
          ],
          "name": "stdout"
        },
        {
          "output_type": "display_data",
          "data": {
            "image/png": "[encoded data removed]",
            "text/plain": [
              "<Figure size 432x288 with 1 Axes>"
            ]
          },
          "metadata": {
            "tags": [],
            "needs_background": "light"
          }
        },
        {
          "output_type": "stream",
          "text": [
            "----------------- Ground Truth ---------------\n"
          ],
          "name": "stdout"
        },
        {
          "output_type": "display_data",
          "data": {
            "image/png": "[encoded data removed]",
            "text/plain": [
              "<Figure size 432x288 with 1 Axes>"
            ]
          },
          "metadata": {
            "tags": [],
            "needs_background": "light"
          }
        }
      ]
    },
    {
      "cell_type": "code",
      "metadata": {
        "id": "8pilk-GyAUIv",
        "colab_type": "code",
        "colab": {
          "base_uri": "https://localhost:8080/",
          "height": 513
        },
        "outputId": "68303b0d-c874-4aec-b455-e2b50409c0f6"
      },
      "source": [
        "plt.figure(\n",
        "    figsize=(10, 7))\n",
        "plt.plot(inv_waterlelvels, color='#017C8F')\n",
        "plt.plot(inv_predictions, color='coral')\n",
        "plt.xlabel('Time (hours)', fontsize=18)  \n",
        "plt.ylabel('Water level (m)', fontsize=18) \n",
        "plt.tight_layout() \n",
        "Original = mpatches.Patch(color='#017C8F', label='Original')\n",
        "Forecast = mpatches.Patch(color='coral', label='Forecast')\n",
        "plt.legend(handles=[Original,Forecast])\n",
        "positions = (0, 2000, 4000, 6000, 8000, 10000,12000)\n",
        "labels = (\"Dec\", \"Feb\", \"April\", \"June\", \"Aug\", \"Oct\",\"Dec\")\n",
        "plt.xticks(positions, labels)\n",
        "plt.show() "
      ],
      "execution_count": 649,
      "outputs": [
        {
          "output_type": "display_data",
          "data": {
            "image/png": "[encoded data removed]",
            "text/plain": [
              "<Figure size 720x504 with 1 Axes>"
            ]
          },
          "metadata": {
            "tags": [],
            "needs_background": "light"
          }
        }
      ]
    },
    {
      "cell_type": "markdown",
      "metadata": {
        "colab_type": "text",
        "id": "iisg73r4T1Ye"
      },
      "source": [
        "#Performance Evaluation\n",
        "###model performance on unseen data\n",
        "\n"
      ]
    },
    {
      "cell_type": "code",
      "metadata": {
        "id": "2doGXnQYO7Ff",
        "colab_type": "code",
        "outputId": "f77b6d50-0a65-454c-943d-d3b03b7f6943",
        "colab": {
          "base_uri": "https://localhost:8080/",
          "height": 52
        }
      },
      "source": [
        "# root mean squared error (RMSE)\n",
        "rmse = sqrt(mean_squared_error(inv_waterlelvels, inv_predictions))\n",
        "print('Test RMSE: %.3f  ' % (rmse))\n",
        "print('Test RMSE: %.3f %% ' % ((rmse/3.3)*100))"
      ],
      "execution_count": 650,
      "outputs": [
        {
          "output_type": "stream",
          "text": [
            "Test RMSE: 0.128  \n",
            "Test RMSE: 3.872 % \n"
          ],
          "name": "stdout"
        }
      ]
    },
    {
      "cell_type": "code",
      "metadata": {
        "id": "CvopeKrFXm-Q",
        "colab_type": "code",
        "outputId": "7f873930-3106-4228-f9cd-ab6f84d7f7b2",
        "colab": {
          "base_uri": "https://localhost:8080/",
          "height": 34
        }
      },
      "source": [
        "# Mean absolute error\n",
        "mae = keras.metrics.mean_absolute_error(inv_waterlelvels, inv_predictions)\n",
        "print(mae)"
      ],
      "execution_count": 651,
      "outputs": [
        {
          "output_type": "stream",
          "text": [
            "tf.Tensor(0.10382875, shape=(), dtype=float32)\n"
          ],
          "name": "stdout"
        }
      ]
    },
    {
      "cell_type": "code",
      "metadata": {
        "id": "7jtgKOprAn6I",
        "colab_type": "code",
        "colab": {
          "base_uri": "https://localhost:8080/",
          "height": 34
        },
        "outputId": "4f835af6-aecb-4b0e-8b4e-af67611a7c7d"
      },
      "source": [
        "# R Squared\n",
        "def R_squared(y, y_pred):\n",
        "  residual = tf.reduce_sum(tf.square(tf.subtract(y, y_pred)))\n",
        "  total = tf.reduce_sum(tf.square(tf.subtract(y, tf.reduce_mean(y))))\n",
        "  r2 = tf.subtract(1.0, tf.truediv(residual, total))\n",
        "  return r2\n",
        "\n",
        "print('R^2 score is: ', R_squared(inv_waterlelvels, inv_predictions)) # 0.57142866\n"
      ],
      "execution_count": 652,
      "outputs": [
        {
          "output_type": "stream",
          "text": [
            "R^2 score is:  tf.Tensor(0.4649368460072011, shape=(), dtype=float64)\n"
          ],
          "name": "stdout"
        }
      ]
    },
    {
      "cell_type": "markdown",
      "metadata": {
        "id": "cfGC0mU8hQBh",
        "colab_type": "text"
      },
      "source": [
        "#Demo"
      ]
    },
    {
      "cell_type": "code",
      "metadata": {
        "id": "AahViIsc588g",
        "colab_type": "code",
        "colab": {}
      },
      "source": [
        "# this section emulates the steps for processing and predicting a flood occurency from sensor data\n",
        "# realtime_data is the array containing sensor data in this case\n",
        "# a flood occurancy is likely when the predicted water level exceeds 1.5 m (according to the dataset)"
      ],
      "execution_count": 0,
      "outputs": []
    },
    {
      "cell_type": "code",
      "metadata": {
        "id": "1m7NEkYthR8H",
        "colab_type": "code",
        "outputId": "a1729e47-a10f-430c-8828-7e458b5a7d65",
        "colab": {
          "base_uri": "https://localhost:8080/",
          "height": 121
        }
      },
      "source": [
        "#10 hours historical data (sensor data)\n",
        "realtime_data = {'rainfall (mm)': [0.0,0.0,0.0,0.0,0.0,0.0,0.0,0.9,0.9,0.8,0.9],\n",
        "        'Level (m)': [0.34051556,0.44051556,0.44051556,0.42424242,0.42424242,0.42624242,0.42424242,0.42424242,0.42424242,0.42424242,0.42424242]\n",
        "        }\n",
        "demo_df = pandas.DataFrame(realtime_data, columns = ['rainfall (mm)', 'Level (m)'])\n",
        "\n",
        "print (demo_df.head())"
      ],
      "execution_count": 654,
      "outputs": [
        {
          "output_type": "stream",
          "text": [
            "   rainfall (mm)  Level (m)\n",
            "0            0.0   0.340516\n",
            "1            0.0   0.440516\n",
            "2            0.0   0.440516\n",
            "3            0.0   0.424242\n",
            "4            0.0   0.424242\n"
          ],
          "name": "stdout"
        }
      ]
    },
    {
      "cell_type": "code",
      "metadata": {
        "id": "jxYahhMrUu3A",
        "colab_type": "code",
        "colab": {}
      },
      "source": [
        "#scaling data \n",
        "#scaler  = MinMaxScaler(feature_range=(0, 1))\n",
        "#demo_dataset = scaler.fit_transform(demo_df)"
      ],
      "execution_count": 0,
      "outputs": []
    },
    {
      "cell_type": "code",
      "metadata": {
        "id": "15pns3Emjnh0",
        "colab_type": "code",
        "outputId": "2e2e5041-9329-4b52-de0f-2d69fda9ef45",
        "colab": {
          "base_uri": "https://localhost:8080/",
          "height": 52
        }
      },
      "source": [
        "#reframe\n",
        "demo_data = demo_df.to_numpy()\n",
        "#demo_data = concatenate((demo_data, demo_data,demo_data), axis=1)\n",
        "print(demo_data.shape)\n",
        "reframed_data = create_multivariate_LSTM_form(demo_data, num_hours, 1)\n",
        "reframed_data = reframed_data.values\n",
        "reframed_data = reframed_data[:,:20]\n",
        "print(reframed_data.shape)"
      ],
      "execution_count": 656,
      "outputs": [
        {
          "output_type": "stream",
          "text": [
            "(11, 2)\n",
            "(1, 20)\n"
          ],
          "name": "stdout"
        }
      ]
    },
    {
      "cell_type": "code",
      "metadata": {
        "id": "L-R837buU-Sr",
        "colab_type": "code",
        "colab": {}
      },
      "source": [
        "#reshaping\n",
        "reframed_data = reframed_data.reshape((reframed_data.shape[0], num_hours, num_features))\n",
        "# print(reframed_data.shape)"
      ],
      "execution_count": 0,
      "outputs": []
    },
    {
      "cell_type": "code",
      "metadata": {
        "id": "yT-f1KbCVALh",
        "colab_type": "code",
        "outputId": "ec8a8016-83a8-491f-b681-ee684951c983",
        "colab": {
          "base_uri": "https://localhost:8080/",
          "height": 34
        }
      },
      "source": [
        "#make prediction (10 hours ahead of time)\n",
        "predicted_waterlevel = model.predict(reframed_data)\n",
        "\n",
        "print(predicted_waterlevel)"
      ],
      "execution_count": 658,
      "outputs": [
        {
          "output_type": "stream",
          "text": [
            "[[0.4180262]]\n"
          ],
          "name": "stdout"
        }
      ]
    },
    {
      "cell_type": "code",
      "metadata": {
        "id": "uJ6_M3JH962D",
        "colab_type": "code",
        "outputId": "2aedad49-c735-477d-d765-aa23e5d9b03e",
        "colab": {
          "base_uri": "https://localhost:8080/",
          "height": 34
        }
      },
      "source": [
        "print(true_waterlelvels.max())"
      ],
      "execution_count": 659,
      "outputs": [
        {
          "output_type": "stream",
          "text": [
            "3.3\n"
          ],
          "name": "stdout"
        }
      ]
    },
    {
      "cell_type": "code",
      "metadata": {
        "id": "cvRJx4MhVccF",
        "colab_type": "code",
        "outputId": "28ed8f43-197c-4ccf-cb9b-e3c53a1dd7d5",
        "colab": {
          "base_uri": "https://localhost:8080/",
          "height": 34
        }
      },
      "source": [
        "# invert scaling for forecast\n",
        "inv_predicted_waterlevel = predicted_waterlevel[0][0] * true_waterlelvels.max()\n",
        "print(inv_predicted_waterlevel)"
      ],
      "execution_count": 660,
      "outputs": [
        {
          "output_type": "stream",
          "text": [
            "1.3794864892959593\n"
          ],
          "name": "stdout"
        }
      ]
    },
    {
      "cell_type": "code",
      "metadata": {
        "id": "vzfJfbjCAm7o",
        "colab_type": "code",
        "cellView": "both",
        "outputId": "a676271a-ab60-465e-9ccd-8e7504755168",
        "colab": {
          "base_uri": "https://localhost:8080/",
          "height": 52
        }
      },
      "source": [
        "#@title Flood possibility\n",
        "\n",
        "print('Expected water level in 10 hours is %.3f m' % inv_predicted_waterlevel )\n",
        "\n",
        "#based on the dataset it is likely to flood when predicted water level exceeds 1.5 m\n",
        "if (inv_predicted_waterlevel > 1.5):\n",
        "  print(\"FLOOD\")\n",
        "else:\n",
        "  print(\"No FLOOD\")"
      ],
      "execution_count": 661,
      "outputs": [
        {
          "output_type": "stream",
          "text": [
            "Expected water level in 10 hours is 1.379 m\n",
            "No FLOOD\n"
          ],
          "name": "stdout"
        }
      ]
    }
  ]
}