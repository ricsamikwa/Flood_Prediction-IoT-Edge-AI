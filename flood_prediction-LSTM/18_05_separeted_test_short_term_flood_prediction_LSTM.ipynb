{
  "nbformat": 4,
  "nbformat_minor": 0,
  "metadata": {
    "kernelspec": {
      "display_name": "Python [keras_tensor]",
      "language": "python",
      "name": "Python [keras_tensor]"
    },
    "language_info": {
      "codemirror_mode": {
        "name": "ipython",
        "version": 2
      },
      "file_extension": ".py",
      "mimetype": "text/x-python",
      "name": "python",
      "nbconvert_exporter": "python",
      "pygments_lexer": "ipython2",
      "version": "2.7.12"
    },
    "colab": {
      "name": "18-05-separeted-test-short-term-flood_prediction-LSTM.ipynb",
      "provenance": [],
      "collapsed_sections": [],
      "toc_visible": true
    }
  },
  "cells": [
    {
      "cell_type": "markdown",
      "metadata": {
        "colab_type": "text",
        "id": "23-IctDiUQpC"
      },
      "source": [
        "# Short term flood prediction using LSTM\n",
        "\n"
      ]
    },
    {
      "cell_type": "code",
      "metadata": {
        "id": "n8edV6A8c-q6",
        "colab_type": "code",
        "colab": {}
      },
      "source": [
        "#Flood Early Warning System using IoT and Edge \n",
        "#Eric Samikwa"
      ],
      "execution_count": 0,
      "outputs": []
    },
    {
      "cell_type": "code",
      "metadata": {
        "id": "AKgENOL-GrqZ",
        "colab_type": "code",
        "colab": {}
      },
      "source": [
        "%matplotlib inline\n",
        "\n",
        "from __future__ import print_function\n",
        "\n",
        "import os\n",
        "os.environ[\"THEANO_FLAGS\"] = \"mode=FAST_RUN,device=gpu,floatX=float32\"\n",
        "\n",
        "from math import sqrt\n",
        "import numpy as np\n",
        "import matplotlib.pyplot as plt\n",
        "import pandas\n",
        "import math\n",
        "import io\n",
        "import keras\n",
        "import requests\n",
        "from matplotlib import pyplot\n",
        "import matplotlib.patches as mpatches\n",
        "from numpy import concatenate\n",
        "from tensorflow.python.keras.models import Sequential\n",
        "from tensorflow.python.keras.layers import Dense \n",
        "from tensorflow.python.keras.layers import Dropout \n",
        "from tensorflow.python.keras.layers import Activation     \n",
        "from tensorflow.python.keras.layers import LSTM\n",
        "from tensorflow.keras.callbacks import EarlyStopping\n",
        "from sklearn.preprocessing import MinMaxScaler\n",
        "from sklearn.metrics import mean_squared_error\n",
        "from matplotlib.lines import Line2D\n",
        "from keras import metrics\n",
        "from keras.layers import LeakyReLU"
      ],
      "execution_count": 0,
      "outputs": []
    },
    {
      "cell_type": "markdown",
      "metadata": {
        "id": "7fDsd96fRpZ6",
        "colab_type": "text"
      },
      "source": [
        "# Data pre-processing"
      ]
    },
    {
      "cell_type": "code",
      "metadata": {
        "id": "LkbL9QnDGrqy",
        "colab_type": "code",
        "colab": {}
      },
      "source": [
        "# fix random seed for reproducibility\n",
        "np.random.seed(10)"
      ],
      "execution_count": 0,
      "outputs": []
    },
    {
      "cell_type": "markdown",
      "metadata": {
        "colab_type": "text",
        "id": "6m8ovUKRLHzF"
      },
      "source": [
        "### Hourly rainfall data"
      ]
    },
    {
      "cell_type": "code",
      "metadata": {
        "id": "auxIEwH8TpnI",
        "colab_type": "code",
        "colab": {}
      },
      "source": [
        "#get hourly rainfall data\n",
        "df_rain = pandas.read_csv(\"https://raw.githubusercontent.com/ricsamikwa/short-term-flood-water-level-prediction/master/dataset/new_data/hourly_rainfall_train.csv\")"
      ],
      "execution_count": 0,
      "outputs": []
    },
    {
      "cell_type": "code",
      "metadata": {
        "id": "5QuDCp2_UB4f",
        "colab_type": "code",
        "outputId": "a31dcffe-b0ea-4201-ca11-c26de1ee66fd",
        "colab": {
          "base_uri": "https://localhost:8080/",
          "height": 206
        }
      },
      "source": [
        "#display first 5\n",
        "df_rain.head()"
      ],
      "execution_count": 536,
      "outputs": [
        {
          "output_type": "execute_result",
          "data": {
            "text/html": [
              "<div>\n",
              "<style scoped>\n",
              "    .dataframe tbody tr th:only-of-type {\n",
              "        vertical-align: middle;\n",
              "    }\n",
              "\n",
              "    .dataframe tbody tr th {\n",
              "        vertical-align: top;\n",
              "    }\n",
              "\n",
              "    .dataframe thead th {\n",
              "        text-align: right;\n",
              "    }\n",
              "</style>\n",
              "<table border=\"1\" class=\"dataframe\">\n",
              "  <thead>\n",
              "    <tr style=\"text-align: right;\">\n",
              "      <th></th>\n",
              "      <th>Date/Time</th>\n",
              "      <th>Current rainfall (mm)</th>\n",
              "      <th>Cumulative rainfall (mm)</th>\n",
              "    </tr>\n",
              "  </thead>\n",
              "  <tbody>\n",
              "    <tr>\n",
              "      <th>0</th>\n",
              "      <td>2018-12-02 18:00:00</td>\n",
              "      <td>0.0</td>\n",
              "      <td>0.0</td>\n",
              "    </tr>\n",
              "    <tr>\n",
              "      <th>1</th>\n",
              "      <td>2018-12-02 17:00:00</td>\n",
              "      <td>0.0</td>\n",
              "      <td>0.0</td>\n",
              "    </tr>\n",
              "    <tr>\n",
              "      <th>2</th>\n",
              "      <td>2018-12-02 16:00:00</td>\n",
              "      <td>0.0</td>\n",
              "      <td>0.0</td>\n",
              "    </tr>\n",
              "    <tr>\n",
              "      <th>3</th>\n",
              "      <td>2018-12-02 15:00:00</td>\n",
              "      <td>0.0</td>\n",
              "      <td>0.0</td>\n",
              "    </tr>\n",
              "    <tr>\n",
              "      <th>4</th>\n",
              "      <td>2018-12-02 14:00:00</td>\n",
              "      <td>0.0</td>\n",
              "      <td>0.0</td>\n",
              "    </tr>\n",
              "  </tbody>\n",
              "</table>\n",
              "</div>"
            ],
            "text/plain": [
              "             Date/Time  Current rainfall (mm)  Cumulative rainfall (mm)\n",
              "0  2018-12-02 18:00:00                    0.0                       0.0\n",
              "1  2018-12-02 17:00:00                    0.0                       0.0\n",
              "2  2018-12-02 16:00:00                    0.0                       0.0\n",
              "3  2018-12-02 15:00:00                    0.0                       0.0\n",
              "4  2018-12-02 14:00:00                    0.0                       0.0"
            ]
          },
          "metadata": {
            "tags": []
          },
          "execution_count": 536
        }
      ]
    },
    {
      "cell_type": "code",
      "metadata": {
        "id": "bwEqbjzAUJGA",
        "colab_type": "code",
        "outputId": "8b6a5f3b-1199-4994-ede6-98290fa1ad94",
        "colab": {
          "base_uri": "https://localhost:8080/",
          "height": 34
        }
      },
      "source": [
        "#dataframe shape\n",
        "df_rain.shape"
      ],
      "execution_count": 537,
      "outputs": [
        {
          "output_type": "execute_result",
          "data": {
            "text/plain": [
              "(66900, 3)"
            ]
          },
          "metadata": {
            "tags": []
          },
          "execution_count": 537
        }
      ]
    },
    {
      "cell_type": "code",
      "metadata": {
        "id": "SolrcBRVUdd1",
        "colab_type": "code",
        "outputId": "2fc11d5d-f54c-49f1-8cde-ef3bcaed8fd5",
        "colab": {
          "base_uri": "https://localhost:8080/",
          "height": 301
        }
      },
      "source": [
        "#dataset properties\n",
        "df_rain.describe()  \n"
      ],
      "execution_count": 538,
      "outputs": [
        {
          "output_type": "execute_result",
          "data": {
            "text/html": [
              "<div>\n",
              "<style scoped>\n",
              "    .dataframe tbody tr th:only-of-type {\n",
              "        vertical-align: middle;\n",
              "    }\n",
              "\n",
              "    .dataframe tbody tr th {\n",
              "        vertical-align: top;\n",
              "    }\n",
              "\n",
              "    .dataframe thead th {\n",
              "        text-align: right;\n",
              "    }\n",
              "</style>\n",
              "<table border=\"1\" class=\"dataframe\">\n",
              "  <thead>\n",
              "    <tr style=\"text-align: right;\">\n",
              "      <th></th>\n",
              "      <th>Current rainfall (mm)</th>\n",
              "      <th>Cumulative rainfall (mm)</th>\n",
              "    </tr>\n",
              "  </thead>\n",
              "  <tbody>\n",
              "    <tr>\n",
              "      <th>count</th>\n",
              "      <td>66896.000000</td>\n",
              "      <td>66899.000000</td>\n",
              "    </tr>\n",
              "    <tr>\n",
              "      <th>mean</th>\n",
              "      <td>0.043584</td>\n",
              "      <td>0.514999</td>\n",
              "    </tr>\n",
              "    <tr>\n",
              "      <th>std</th>\n",
              "      <td>0.724079</td>\n",
              "      <td>2.374298</td>\n",
              "    </tr>\n",
              "    <tr>\n",
              "      <th>min</th>\n",
              "      <td>0.000000</td>\n",
              "      <td>0.000000</td>\n",
              "    </tr>\n",
              "    <tr>\n",
              "      <th>25%</th>\n",
              "      <td>0.000000</td>\n",
              "      <td>0.000000</td>\n",
              "    </tr>\n",
              "    <tr>\n",
              "      <th>50%</th>\n",
              "      <td>0.000000</td>\n",
              "      <td>0.000000</td>\n",
              "    </tr>\n",
              "    <tr>\n",
              "      <th>75%</th>\n",
              "      <td>0.000000</td>\n",
              "      <td>0.000000</td>\n",
              "    </tr>\n",
              "    <tr>\n",
              "      <th>max</th>\n",
              "      <td>110.000000</td>\n",
              "      <td>56.600000</td>\n",
              "    </tr>\n",
              "  </tbody>\n",
              "</table>\n",
              "</div>"
            ],
            "text/plain": [
              "       Current rainfall (mm)  Cumulative rainfall (mm)\n",
              "count           66896.000000              66899.000000\n",
              "mean                0.043584                  0.514999\n",
              "std                 0.724079                  2.374298\n",
              "min                 0.000000                  0.000000\n",
              "25%                 0.000000                  0.000000\n",
              "50%                 0.000000                  0.000000\n",
              "75%                 0.000000                  0.000000\n",
              "max               110.000000                 56.600000"
            ]
          },
          "metadata": {
            "tags": []
          },
          "execution_count": 538
        }
      ]
    },
    {
      "cell_type": "code",
      "metadata": {
        "id": "yoS0P7O-9mLH",
        "colab_type": "code",
        "outputId": "e32aa411-8107-470c-aa29-96a72782e874",
        "colab": {
          "base_uri": "https://localhost:8080/",
          "height": 279
        }
      },
      "source": [
        "\n",
        "df_rain.plot( y='Current rainfall (mm)', color='black')  \n",
        "\n",
        "plt.xlabel('Time (hours)')  \n",
        "plt.ylabel('Rainfall (mm)')  \n",
        "plt.show()  "
      ],
      "execution_count": 539,
      "outputs": [
        {
          "output_type": "display_data",
          "data": {
            "image/png": "[encoded data removed]",
            "text/plain": [
              "<Figure size 432x288 with 1 Axes>"
            ]
          },
          "metadata": {
            "tags": [],
            "needs_background": "light"
          }
        }
      ]
    },
    {
      "cell_type": "code",
      "metadata": {
        "id": "7j9PVBSFLWrm",
        "colab_type": "code",
        "colab": {}
      },
      "source": [
        ""
      ],
      "execution_count": 0,
      "outputs": []
    },
    {
      "cell_type": "markdown",
      "metadata": {
        "colab_type": "text",
        "id": "6sSpW7YhLXI3"
      },
      "source": [
        "### Hourly water level data"
      ]
    },
    {
      "cell_type": "code",
      "metadata": {
        "id": "hzPK6PJk9mLN",
        "colab_type": "code",
        "colab": {}
      },
      "source": [
        "#get hourly water level data\n",
        "df_water_level = pandas.read_csv(\"https://raw.githubusercontent.com/ricsamikwa/short-term-flood-water-level-prediction/master/dataset/new_data/hourly_water_level_train.csv\")"
      ],
      "execution_count": 0,
      "outputs": []
    },
    {
      "cell_type": "code",
      "metadata": {
        "id": "-p-MCno59mLX",
        "colab_type": "code",
        "outputId": "6d54d180-9085-4410-a079-fcf8a582245f",
        "colab": {
          "base_uri": "https://localhost:8080/",
          "height": 206
        }
      },
      "source": [
        "df_water_level.head()"
      ],
      "execution_count": 541,
      "outputs": [
        {
          "output_type": "execute_result",
          "data": {
            "text/html": [
              "<div>\n",
              "<style scoped>\n",
              "    .dataframe tbody tr th:only-of-type {\n",
              "        vertical-align: middle;\n",
              "    }\n",
              "\n",
              "    .dataframe tbody tr th {\n",
              "        vertical-align: top;\n",
              "    }\n",
              "\n",
              "    .dataframe thead th {\n",
              "        text-align: right;\n",
              "    }\n",
              "</style>\n",
              "<table border=\"1\" class=\"dataframe\">\n",
              "  <thead>\n",
              "    <tr style=\"text-align: right;\">\n",
              "      <th></th>\n",
              "      <th>Date/Time</th>\n",
              "      <th>Level (m)</th>\n",
              "    </tr>\n",
              "  </thead>\n",
              "  <tbody>\n",
              "    <tr>\n",
              "      <th>0</th>\n",
              "      <td>2018-12-02 17:00:00</td>\n",
              "      <td>1.61</td>\n",
              "    </tr>\n",
              "    <tr>\n",
              "      <th>1</th>\n",
              "      <td>2018-12-02 16:00:00</td>\n",
              "      <td>1.61</td>\n",
              "    </tr>\n",
              "    <tr>\n",
              "      <th>2</th>\n",
              "      <td>2018-12-02 15:00:00</td>\n",
              "      <td>1.62</td>\n",
              "    </tr>\n",
              "    <tr>\n",
              "      <th>3</th>\n",
              "      <td>2018-12-02 14:00:00</td>\n",
              "      <td>1.63</td>\n",
              "    </tr>\n",
              "    <tr>\n",
              "      <th>4</th>\n",
              "      <td>2018-12-02 13:00:00</td>\n",
              "      <td>1.63</td>\n",
              "    </tr>\n",
              "  </tbody>\n",
              "</table>\n",
              "</div>"
            ],
            "text/plain": [
              "             Date/Time  Level (m)\n",
              "0  2018-12-02 17:00:00       1.61\n",
              "1  2018-12-02 16:00:00       1.61\n",
              "2  2018-12-02 15:00:00       1.62\n",
              "3  2018-12-02 14:00:00       1.63\n",
              "4  2018-12-02 13:00:00       1.63"
            ]
          },
          "metadata": {
            "tags": []
          },
          "execution_count": 541
        }
      ]
    },
    {
      "cell_type": "code",
      "metadata": {
        "id": "xcxaV9Hxb8aN",
        "colab_type": "code",
        "outputId": "7162d9ed-a07c-48d2-83d5-723bf7abfd3d",
        "colab": {
          "base_uri": "https://localhost:8080/",
          "height": 34
        }
      },
      "source": [
        "df_water_level.shape"
      ],
      "execution_count": 542,
      "outputs": [
        {
          "output_type": "execute_result",
          "data": {
            "text/plain": [
              "(66890, 2)"
            ]
          },
          "metadata": {
            "tags": []
          },
          "execution_count": 542
        }
      ]
    },
    {
      "cell_type": "code",
      "metadata": {
        "id": "xw6xlSqsbWnp",
        "colab_type": "code",
        "outputId": "f88b5df0-0626-4f5b-bbde-d9c8d667e295",
        "colab": {
          "base_uri": "https://localhost:8080/",
          "height": 301
        }
      },
      "source": [
        "#dataset properties\n",
        "df_water_level.describe()"
      ],
      "execution_count": 543,
      "outputs": [
        {
          "output_type": "execute_result",
          "data": {
            "text/html": [
              "<div>\n",
              "<style scoped>\n",
              "    .dataframe tbody tr th:only-of-type {\n",
              "        vertical-align: middle;\n",
              "    }\n",
              "\n",
              "    .dataframe tbody tr th {\n",
              "        vertical-align: top;\n",
              "    }\n",
              "\n",
              "    .dataframe thead th {\n",
              "        text-align: right;\n",
              "    }\n",
              "</style>\n",
              "<table border=\"1\" class=\"dataframe\">\n",
              "  <thead>\n",
              "    <tr style=\"text-align: right;\">\n",
              "      <th></th>\n",
              "      <th>Level (m)</th>\n",
              "    </tr>\n",
              "  </thead>\n",
              "  <tbody>\n",
              "    <tr>\n",
              "      <th>count</th>\n",
              "      <td>66890.000000</td>\n",
              "    </tr>\n",
              "    <tr>\n",
              "      <th>mean</th>\n",
              "      <td>1.453650</td>\n",
              "    </tr>\n",
              "    <tr>\n",
              "      <th>std</th>\n",
              "      <td>0.099223</td>\n",
              "    </tr>\n",
              "    <tr>\n",
              "      <th>min</th>\n",
              "      <td>0.000000</td>\n",
              "    </tr>\n",
              "    <tr>\n",
              "      <th>25%</th>\n",
              "      <td>1.400000</td>\n",
              "    </tr>\n",
              "    <tr>\n",
              "      <th>50%</th>\n",
              "      <td>1.450000</td>\n",
              "    </tr>\n",
              "    <tr>\n",
              "      <th>75%</th>\n",
              "      <td>1.500000</td>\n",
              "    </tr>\n",
              "    <tr>\n",
              "      <th>max</th>\n",
              "      <td>2.680000</td>\n",
              "    </tr>\n",
              "  </tbody>\n",
              "</table>\n",
              "</div>"
            ],
            "text/plain": [
              "          Level (m)\n",
              "count  66890.000000\n",
              "mean       1.453650\n",
              "std        0.099223\n",
              "min        0.000000\n",
              "25%        1.400000\n",
              "50%        1.450000\n",
              "75%        1.500000\n",
              "max        2.680000"
            ]
          },
          "metadata": {
            "tags": []
          },
          "execution_count": 543
        }
      ]
    },
    {
      "cell_type": "code",
      "metadata": {
        "id": "o7cRqUYWcGu5",
        "colab_type": "code",
        "outputId": "9157446d-ced5-4b82-b20d-21b1c1af6266",
        "colab": {
          "base_uri": "https://localhost:8080/",
          "height": 296
        }
      },
      "source": [
        "plt.figure(\n",
        "    figsize=(10, 7))\n",
        "df_water_level.plot(y='Level (m)', color='black')  \n",
        "plt.xlabel('Time (hours)')  \n",
        "plt.ylabel('Max Level')  \n",
        "plt.show() "
      ],
      "execution_count": 544,
      "outputs": [
        {
          "output_type": "display_data",
          "data": {
            "text/plain": [
              "<Figure size 720x504 with 0 Axes>"
            ]
          },
          "metadata": {
            "tags": []
          }
        },
        {
          "output_type": "display_data",
          "data": {
            "image/png": "[encoded data removed]",
            "text/plain": [
              "<Figure size 432x288 with 1 Axes>"
            ]
          },
          "metadata": {
            "tags": [],
            "needs_background": "light"
          }
        }
      ]
    },
    {
      "cell_type": "markdown",
      "metadata": {
        "colab_type": "text",
        "id": "bVKBDa5tLiiO"
      },
      "source": [
        "### Combining dataset"
      ]
    },
    {
      "cell_type": "code",
      "metadata": {
        "id": "P-KN4PKgct8z",
        "colab_type": "code",
        "outputId": "ed673e04-502c-46f1-97ea-fcfaaa4096f1",
        "colab": {
          "base_uri": "https://localhost:8080/",
          "height": 206
        }
      },
      "source": [
        "#dataset merged on date_time \n",
        "dataset = pandas.merge(df_rain, df_water_level, how='outer', on=['Date/Time'])\n",
        "dataset.head()"
      ],
      "execution_count": 545,
      "outputs": [
        {
          "output_type": "execute_result",
          "data": {
            "text/html": [
              "<div>\n",
              "<style scoped>\n",
              "    .dataframe tbody tr th:only-of-type {\n",
              "        vertical-align: middle;\n",
              "    }\n",
              "\n",
              "    .dataframe tbody tr th {\n",
              "        vertical-align: top;\n",
              "    }\n",
              "\n",
              "    .dataframe thead th {\n",
              "        text-align: right;\n",
              "    }\n",
              "</style>\n",
              "<table border=\"1\" class=\"dataframe\">\n",
              "  <thead>\n",
              "    <tr style=\"text-align: right;\">\n",
              "      <th></th>\n",
              "      <th>Date/Time</th>\n",
              "      <th>Current rainfall (mm)</th>\n",
              "      <th>Cumulative rainfall (mm)</th>\n",
              "      <th>Level (m)</th>\n",
              "    </tr>\n",
              "  </thead>\n",
              "  <tbody>\n",
              "    <tr>\n",
              "      <th>0</th>\n",
              "      <td>2018-12-02 18:00:00</td>\n",
              "      <td>0.0</td>\n",
              "      <td>0.0</td>\n",
              "      <td>NaN</td>\n",
              "    </tr>\n",
              "    <tr>\n",
              "      <th>1</th>\n",
              "      <td>2018-12-02 17:00:00</td>\n",
              "      <td>0.0</td>\n",
              "      <td>0.0</td>\n",
              "      <td>1.61</td>\n",
              "    </tr>\n",
              "    <tr>\n",
              "      <th>2</th>\n",
              "      <td>2018-12-02 16:00:00</td>\n",
              "      <td>0.0</td>\n",
              "      <td>0.0</td>\n",
              "      <td>1.61</td>\n",
              "    </tr>\n",
              "    <tr>\n",
              "      <th>3</th>\n",
              "      <td>2018-12-02 15:00:00</td>\n",
              "      <td>0.0</td>\n",
              "      <td>0.0</td>\n",
              "      <td>1.62</td>\n",
              "    </tr>\n",
              "    <tr>\n",
              "      <th>4</th>\n",
              "      <td>2018-12-02 14:00:00</td>\n",
              "      <td>0.0</td>\n",
              "      <td>0.0</td>\n",
              "      <td>1.63</td>\n",
              "    </tr>\n",
              "  </tbody>\n",
              "</table>\n",
              "</div>"
            ],
            "text/plain": [
              "             Date/Time  ...  Level (m)\n",
              "0  2018-12-02 18:00:00  ...        NaN\n",
              "1  2018-12-02 17:00:00  ...       1.61\n",
              "2  2018-12-02 16:00:00  ...       1.61\n",
              "3  2018-12-02 15:00:00  ...       1.62\n",
              "4  2018-12-02 14:00:00  ...       1.63\n",
              "\n",
              "[5 rows x 4 columns]"
            ]
          },
          "metadata": {
            "tags": []
          },
          "execution_count": 545
        }
      ]
    },
    {
      "cell_type": "markdown",
      "metadata": {
        "colab_type": "text",
        "id": "hSdPHvntNP3A"
      },
      "source": [
        "### Filling missing values"
      ]
    },
    {
      "cell_type": "code",
      "metadata": {
        "id": "fsuC1c5D8vTC",
        "colab_type": "code",
        "outputId": "18228985-823c-414f-bbad-6cca4a388264",
        "colab": {
          "base_uri": "https://localhost:8080/",
          "height": 206
        }
      },
      "source": [
        "#filling all missing values with mean of the column\n",
        "dataset['Cumulative rainfall (mm)'] = dataset['Cumulative rainfall (mm)'].fillna(dataset['Cumulative rainfall (mm)'].mean())\n",
        "dataset['Current rainfall (mm)'] = dataset['Current rainfall (mm)'].fillna(dataset['Current rainfall (mm)'].mean())\n",
        "dataset['Level (m)'] = dataset['Level (m)'].fillna(dataset['Level (m)'].mean())\n",
        "\n",
        "dataset.head()"
      ],
      "execution_count": 546,
      "outputs": [
        {
          "output_type": "execute_result",
          "data": {
            "text/html": [
              "<div>\n",
              "<style scoped>\n",
              "    .dataframe tbody tr th:only-of-type {\n",
              "        vertical-align: middle;\n",
              "    }\n",
              "\n",
              "    .dataframe tbody tr th {\n",
              "        vertical-align: top;\n",
              "    }\n",
              "\n",
              "    .dataframe thead th {\n",
              "        text-align: right;\n",
              "    }\n",
              "</style>\n",
              "<table border=\"1\" class=\"dataframe\">\n",
              "  <thead>\n",
              "    <tr style=\"text-align: right;\">\n",
              "      <th></th>\n",
              "      <th>Date/Time</th>\n",
              "      <th>Current rainfall (mm)</th>\n",
              "      <th>Cumulative rainfall (mm)</th>\n",
              "      <th>Level (m)</th>\n",
              "    </tr>\n",
              "  </thead>\n",
              "  <tbody>\n",
              "    <tr>\n",
              "      <th>0</th>\n",
              "      <td>2018-12-02 18:00:00</td>\n",
              "      <td>0.0</td>\n",
              "      <td>0.0</td>\n",
              "      <td>1.45365</td>\n",
              "    </tr>\n",
              "    <tr>\n",
              "      <th>1</th>\n",
              "      <td>2018-12-02 17:00:00</td>\n",
              "      <td>0.0</td>\n",
              "      <td>0.0</td>\n",
              "      <td>1.61000</td>\n",
              "    </tr>\n",
              "    <tr>\n",
              "      <th>2</th>\n",
              "      <td>2018-12-02 16:00:00</td>\n",
              "      <td>0.0</td>\n",
              "      <td>0.0</td>\n",
              "      <td>1.61000</td>\n",
              "    </tr>\n",
              "    <tr>\n",
              "      <th>3</th>\n",
              "      <td>2018-12-02 15:00:00</td>\n",
              "      <td>0.0</td>\n",
              "      <td>0.0</td>\n",
              "      <td>1.62000</td>\n",
              "    </tr>\n",
              "    <tr>\n",
              "      <th>4</th>\n",
              "      <td>2018-12-02 14:00:00</td>\n",
              "      <td>0.0</td>\n",
              "      <td>0.0</td>\n",
              "      <td>1.63000</td>\n",
              "    </tr>\n",
              "  </tbody>\n",
              "</table>\n",
              "</div>"
            ],
            "text/plain": [
              "             Date/Time  ...  Level (m)\n",
              "0  2018-12-02 18:00:00  ...    1.45365\n",
              "1  2018-12-02 17:00:00  ...    1.61000\n",
              "2  2018-12-02 16:00:00  ...    1.61000\n",
              "3  2018-12-02 15:00:00  ...    1.62000\n",
              "4  2018-12-02 14:00:00  ...    1.63000\n",
              "\n",
              "[5 rows x 4 columns]"
            ]
          },
          "metadata": {
            "tags": []
          },
          "execution_count": 546
        }
      ]
    },
    {
      "cell_type": "code",
      "metadata": {
        "id": "RrcYNT2I85aT",
        "colab_type": "code",
        "outputId": "cbd10d87-54b9-4963-ca48-534e6afd4f55",
        "colab": {
          "base_uri": "https://localhost:8080/",
          "height": 34
        }
      },
      "source": [
        "dataset = dataset.drop(columns=['Cumulative rainfall (mm)', 'Date/Time'])\n",
        "dataset.shape"
      ],
      "execution_count": 547,
      "outputs": [
        {
          "output_type": "execute_result",
          "data": {
            "text/plain": [
              "(66902, 2)"
            ]
          },
          "metadata": {
            "tags": []
          },
          "execution_count": 547
        }
      ]
    },
    {
      "cell_type": "code",
      "metadata": {
        "scrolled": true,
        "id": "geJ2EXFdGrrP",
        "colab_type": "code",
        "outputId": "fa97ac99-747d-412d-9046-0a5fd9d3ab5d",
        "colab": {
          "base_uri": "https://localhost:8080/",
          "height": 513
        }
      },
      "source": [
        "plt.figure(\n",
        "    figsize=(10, 7))\n",
        "\n",
        "plt.plot(dataset)\n",
        "plt.xlabel('Time',fontsize=18)  \n",
        "plt.tight_layout() \n",
        "rainfall = mpatches.Patch(color='C0', label='Rainfall')\n",
        "level = mpatches.Patch(color='C1', label='Water level')\n",
        "plt.legend(handles=[rainfall,level])\n",
        "positions = (0, 10000, 20000, 30000, 40000, 50000, 60000)\n",
        "labels = (\"2010\", \"2011\", \"2012\", \"2013\", \"2014\", \"2015\", \"2016\")\n",
        "plt.xticks(positions, labels)\n",
        "\n",
        "plt.show() "
      ],
      "execution_count": 548,
      "outputs": [
        {
          "output_type": "display_data",
          "data": {
            "image/png": "[encoded data removed]",
            "text/plain": [
              "<Figure size 720x504 with 1 Axes>"
            ]
          },
          "metadata": {
            "tags": [],
            "needs_background": "light"
          }
        }
      ]
    },
    {
      "cell_type": "markdown",
      "metadata": {
        "colab_type": "text",
        "id": "XZE1yqIRL8NB"
      },
      "source": [
        "### Scaling dataset "
      ]
    },
    {
      "cell_type": "code",
      "metadata": {
        "id": "_p8QSsCoGrrc",
        "colab_type": "code",
        "colab": {}
      },
      "source": [
        "# normalize the dataset (LSTMs are sensitive to the scale of the input data)\n",
        "scaler  = MinMaxScaler(feature_range=(0, 1))\n",
        "dataset = scaler.fit_transform(dataset)"
      ],
      "execution_count": 0,
      "outputs": []
    },
    {
      "cell_type": "code",
      "metadata": {
        "id": "ystTRNmaCAoD",
        "colab_type": "code",
        "outputId": "dcfc39a5-6db9-4409-a83f-f2a5cd75aac4",
        "colab": {
          "base_uri": "https://localhost:8080/",
          "height": 513
        }
      },
      "source": [
        "plt.figure(\n",
        "    figsize=(10, 7))\n",
        "\n",
        "plt.plot(dataset[:,0], color='black')\n",
        "plt.plot(dataset[:,1], color='#017C8F')\n",
        "plt.xlabel('Time',fontsize=18)  \n",
        "plt.tight_layout() \n",
        "rainfall = mpatches.Patch(color='black', label='Rainfall')\n",
        "level = mpatches.Patch(color='#017C8F', label='Water level')\n",
        "plt.legend(handles=[rainfall,level])\n",
        "positions = (0, 10000, 20000, 30000, 40000, 50000, 60000)\n",
        "labels = (\"2010\", \"2011\", \"2012\", \"2013\", \"2014\", \"2015\", \"2016\")\n",
        "plt.xticks(positions, labels)\n",
        "\n",
        "plt.show() "
      ],
      "execution_count": 550,
      "outputs": [
        {
          "output_type": "display_data",
          "data": {
            "image/png": "[encoded data removed]",
            "text/plain": [
              "<Figure size 720x504 with 1 Axes>"
            ]
          },
          "metadata": {
            "tags": [],
            "needs_background": "light"
          }
        }
      ]
    },
    {
      "cell_type": "code",
      "metadata": {
        "id": "J9pv_cY1romC",
        "colab_type": "code",
        "outputId": "192ac58e-248d-47a9-bd83-db4bc929b886",
        "colab": {
          "base_uri": "https://localhost:8080/",
          "height": 513
        }
      },
      "source": [
        "plt.figure(\n",
        "    figsize=(10, 7))\n",
        "\n",
        "plt.plot(dataset[0:10000,0], color='black')\n",
        "plt.plot(dataset[0:10000,1], color='#017C8F')\n",
        "plt.xlabel('Time', fontsize=18)  \n",
        "plt.ylabel('') \n",
        "plt.tight_layout() \n",
        "rainfall = mpatches.Patch(color='black', label='Rainfall')\n",
        "level = mpatches.Patch(color='#017C8F', label='Water level')\n",
        "plt.legend(handles=[rainfall,level])\n",
        "positions = (0, 2000, 4000, 6000, 8000, 10000)\n",
        "labels = (\"Dec\", \"Feb\", \"April\", \"June\", \"Aug\", \"Oct\")\n",
        "plt.xticks(positions, labels)\n",
        "plt.show() "
      ],
      "execution_count": 551,
      "outputs": [
        {
          "output_type": "display_data",
          "data": {
            "image/png": "[encoded data removed]",
            "text/plain": [
              "<Figure size 720x504 with 1 Axes>"
            ]
          },
          "metadata": {
            "tags": [],
            "needs_background": "light"
          }
        }
      ]
    },
    {
      "cell_type": "markdown",
      "metadata": {
        "colab_type": "text",
        "id": "MaqkAsJ8RByP"
      },
      "source": [
        "# Training "
      ]
    },
    {
      "cell_type": "markdown",
      "metadata": {
        "colab_type": "text",
        "id": "SepyoWQPl1Yu"
      },
      "source": [
        "#### Dataset sliding window (Multivariate)"
      ]
    },
    {
      "cell_type": "code",
      "metadata": {
        "colab_type": "code",
        "id": "y48tr9m2l1Y4",
        "colab": {}
      },
      "source": [
        "# structure data for lstm forecasting with multivariate input\n",
        "def create_multivariate_LSTM_form(sensor_data_sequence, num_past_hours=1, num_predictions=1):\n",
        "    \n",
        "\tnum_features = sensor_data_sequence.shape[1]\n",
        "\n",
        "\tsensor_data_sequence_df = pandas.DataFrame(sensor_data_sequence)\n",
        "\tcolumns, names = list(), list()\n",
        " \n",
        "\t# past data to be observed for each prediction, i.e. input sequence (t-10, ... t-1)\n",
        "\tfor n in range(num_past_hours, 0, -1):\n",
        "\n",
        "\t\tcolumns.append(sensor_data_sequence_df.shift(n))\n",
        "\t\tnames += [('var%d(t-%d)' % (m+1, n)) for m in range(num_features)]\n",
        "\n",
        "\t# specifying the predicted output sequence i.e. (t,t+1, ...., t+10)\n",
        "  # output is (t+10) in this case\n",
        "\tfor n in range(0, num_predictions):\n",
        "\t\tcolumns.append(sensor_data_sequence_df.shift(-n))\n",
        "\t\tif n == 0:\n",
        "\t\t\tnames += [('var%d(t)' % (m+1)) for m in range(num_features)]\n",
        "\t\telse:\n",
        "\t\t\tnames += [('var%d(t+%d)' % (m+1, n)) for m in range(num_features)]\n",
        "\n",
        "\t# combine all columns and remove NaN values\n",
        "\tcombined_data = pandas.concat(columns, axis=1)\n",
        "\tcombined_data.columns = names\n",
        "\tcombined_data.dropna(inplace=True)\n",
        "\n",
        "\treturn combined_data"
      ],
      "execution_count": 0,
      "outputs": []
    },
    {
      "cell_type": "code",
      "metadata": {
        "colab_type": "code",
        "id": "ImzAD_whl1ZN",
        "outputId": "14898b62-f641-4b63-d632-3a4464df1aa0",
        "colab": {
          "base_uri": "https://localhost:8080/",
          "height": 34
        }
      },
      "source": [
        "#number of hours to be observed when making a each forecast\n",
        "num_hours = 10\n",
        "pred_window = 10\n",
        "\n",
        "#number of features observed\n",
        "num_features = 2\n",
        "\n",
        "# frame data as supervised learning\n",
        "reframed_data = create_multivariate_LSTM_form(dataset, num_hours,pred_window)\n",
        "print(reframed_data.shape)"
      ],
      "execution_count": 553,
      "outputs": [
        {
          "output_type": "stream",
          "text": [
            "(66883, 40)\n"
          ],
          "name": "stdout"
        }
      ]
    },
    {
      "cell_type": "markdown",
      "metadata": {
        "id": "r2ZTVlWFTTxq",
        "colab_type": "text"
      },
      "source": [
        "#### Spliting data to training and test set"
      ]
    },
    {
      "cell_type": "code",
      "metadata": {
        "colab_type": "code",
        "id": "1JRT_sYWl1Za",
        "colab": {}
      },
      "source": [
        "# split into train, validation and test sets (70%, 15%, 15%)\n",
        "values = reframed_data.values\n",
        "\n",
        "num_train_hours = 55100 # approx 70% of the dataset\n",
        "\n",
        "\n",
        "#separated datasets\n",
        "train = values[:num_train_hours, :]\n",
        "validate= values[num_train_hours:, :]"
      ],
      "execution_count": 0,
      "outputs": []
    },
    {
      "cell_type": "code",
      "metadata": {
        "id": "ZQGSFBbeu6qq",
        "colab_type": "code",
        "outputId": "f6b1de94-924a-4c13-9350-146c2f3a23c6",
        "colab": {
          "base_uri": "https://localhost:8080/",
          "height": 52
        }
      },
      "source": [
        "#training data shape\n",
        "print(train.shape)\n",
        "\n",
        "#test data shape\n",
        "print(validate.shape)"
      ],
      "execution_count": 555,
      "outputs": [
        {
          "output_type": "stream",
          "text": [
            "(55100, 40)\n",
            "(11783, 40)\n"
          ],
          "name": "stdout"
        }
      ]
    },
    {
      "cell_type": "code",
      "metadata": {
        "colab_type": "code",
        "id": "bP58jSz1l1Zm",
        "outputId": "f654bfea-2d10-4a28-bf4e-66208b32f582",
        "colab": {
          "base_uri": "https://localhost:8080/",
          "height": 34
        }
      },
      "source": [
        "# specifying inputs and outputs\n",
        "num_obs = num_hours * num_features\n",
        "#traning set\n",
        "trainX, trainY = train[:, :num_obs], train[:, -1]\n",
        "#validation set\n",
        "validateX, validateY = validate[:, :num_obs], validate[:, -1]\n",
        "print(trainX.shape, len(trainX), trainY.shape)"
      ],
      "execution_count": 556,
      "outputs": [
        {
          "output_type": "stream",
          "text": [
            "(55100, 20) 55100 (55100,)\n"
          ],
          "name": "stdout"
        }
      ]
    },
    {
      "cell_type": "code",
      "metadata": {
        "id": "N6-2lBbT6_PH",
        "colab_type": "code",
        "outputId": "717af6a2-5361-4749-b380-a449a4f85edf",
        "colab": {
          "base_uri": "https://localhost:8080/",
          "height": 34
        }
      },
      "source": [
        "print(trainY[1])"
      ],
      "execution_count": 557,
      "outputs": [
        {
          "output_type": "stream",
          "text": [
            "0.5597014925373134\n"
          ],
          "name": "stdout"
        }
      ]
    },
    {
      "cell_type": "markdown",
      "metadata": {
        "id": "A-_uBFAKTsm0",
        "colab_type": "text"
      },
      "source": [
        "#### Reshaping to LSTM input format"
      ]
    },
    {
      "cell_type": "code",
      "metadata": {
        "id": "d19VlZtWmvAq",
        "colab_type": "code",
        "outputId": "649b2eb4-6693-4813-db9f-e2f4a95d2666",
        "colab": {
          "base_uri": "https://localhost:8080/",
          "height": 34
        }
      },
      "source": [
        "# reshape data correctly to reflect the time steps and features [samples, timesteps, features]\n",
        "trainX = trainX.reshape((trainX.shape[0], num_hours, num_features))\n",
        "\n",
        "validateX = validateX.reshape((validateX.shape[0], num_hours, num_features))\n",
        "print(trainX.shape, trainY.shape, validateX.shape, validateY.shape)"
      ],
      "execution_count": 558,
      "outputs": [
        {
          "output_type": "stream",
          "text": [
            "(55100, 10, 2) (55100,) (11783, 10, 2) (11783,)\n"
          ],
          "name": "stdout"
        }
      ]
    },
    {
      "cell_type": "code",
      "metadata": {
        "id": "PVoKJXwmnlwG",
        "colab_type": "code",
        "outputId": "ae2a5cad-38f9-49cb-b9e0-5a09e332d202",
        "colab": {
          "base_uri": "https://localhost:8080/",
          "height": 208
        }
      },
      "source": [
        "#forecast points check\n",
        "print(trainX[9])\n",
        "print(trainY[0])"
      ],
      "execution_count": 559,
      "outputs": [
        {
          "output_type": "stream",
          "text": [
            "[[0.         0.60820896]\n",
            " [0.         0.60820896]\n",
            " [0.         0.6119403 ]\n",
            " [0.00545455 0.60074627]\n",
            " [0.         0.61567164]\n",
            " [0.         0.62313433]\n",
            " [0.         0.58208955]\n",
            " [0.00181818 0.55970149]\n",
            " [0.         0.55970149]\n",
            " [0.         0.55970149]]\n",
            "0.5597014925373134\n"
          ],
          "name": "stdout"
        }
      ]
    },
    {
      "cell_type": "code",
      "metadata": {
        "id": "_BF4URsMC1Ah",
        "colab_type": "code",
        "outputId": "bc6fe0dd-dc32-4bc8-de8d-18eef8f23e9c",
        "colab": {
          "base_uri": "https://localhost:8080/",
          "height": 513
        }
      },
      "source": [
        "plt.figure(\n",
        "    figsize=(10, 7))\n",
        "\n",
        "plt.plot(trainY, color='#017C8F')\n",
        "plt.xlabel('Time', fontsize=18)  \n",
        "plt.ylabel('') \n",
        "plt.tight_layout() \n",
        "\n",
        "plt.show() "
      ],
      "execution_count": 560,
      "outputs": [
        {
          "output_type": "display_data",
          "data": {
            "image/png": "[encoded data removed]",
            "text/plain": [
              "<Figure size 720x504 with 1 Axes>"
            ]
          },
          "metadata": {
            "tags": [],
            "needs_background": "light"
          }
        }
      ]
    },
    {
      "cell_type": "code",
      "metadata": {
        "id": "L8gfs4t2DTZq",
        "colab_type": "code",
        "outputId": "498b24bf-17d4-4063-ea49-eb7e61a4252b",
        "colab": {
          "base_uri": "https://localhost:8080/",
          "height": 513
        }
      },
      "source": [
        "plt.figure(\n",
        "    figsize=(10, 7))\n",
        "\n",
        "plt.plot(validateY, color='#017C8F')\n",
        "plt.xlabel('Time', fontsize=18)  \n",
        "plt.ylabel('') \n",
        "plt.tight_layout() \n",
        "\n",
        "plt.show()"
      ],
      "execution_count": 561,
      "outputs": [
        {
          "output_type": "display_data",
          "data": {
            "image/png": "[encoded data removed]",
            "text/plain": [
              "<Figure size 720x504 with 1 Axes>"
            ]
          },
          "metadata": {
            "tags": [],
            "needs_background": "light"
          }
        }
      ]
    },
    {
      "cell_type": "markdown",
      "metadata": {
        "colab_type": "text",
        "id": "uc7YZ_7NSJoJ"
      },
      "source": [
        "## Model (LSTM)"
      ]
    },
    {
      "cell_type": "code",
      "metadata": {
        "id": "GVJE3ZupWw7b",
        "colab_type": "code",
        "colab": {}
      },
      "source": [
        "#Setup the LSTM model (with multivariate input)\n",
        "\n",
        "model = Sequential()\n",
        "model.add(LSTM(30, activation='relu', input_shape=(trainX.shape[1], trainX.shape[2])))\n",
        "# model.add(Dropout(0.2))\n",
        "model.add(Dense(1))\n",
        "model.compile(loss='mse', optimizer='adam')"
      ],
      "execution_count": 0,
      "outputs": []
    },
    {
      "cell_type": "code",
      "metadata": {
        "id": "BJXMV979XKrq",
        "colab_type": "code",
        "outputId": "6772cf44-fcd3-42d9-f8cb-334cda83d702",
        "colab": {
          "base_uri": "https://localhost:8080/",
          "height": 225
        }
      },
      "source": [
        "model.summary()"
      ],
      "execution_count": 563,
      "outputs": [
        {
          "output_type": "stream",
          "text": [
            "Model: \"sequential_6\"\n",
            "_________________________________________________________________\n",
            "Layer (type)                 Output Shape              Param #   \n",
            "=================================================================\n",
            "lstm_6 (LSTM)                (None, 30)                3960      \n",
            "_________________________________________________________________\n",
            "dense_6 (Dense)              (None, 1)                 31        \n",
            "=================================================================\n",
            "Total params: 3,991\n",
            "Trainable params: 3,991\n",
            "Non-trainable params: 0\n",
            "_________________________________________________________________\n"
          ],
          "name": "stdout"
        }
      ]
    },
    {
      "cell_type": "markdown",
      "metadata": {
        "colab_type": "text",
        "id": "NcODng0NWxh_"
      },
      "source": [
        "## Model Learning"
      ]
    },
    {
      "cell_type": "markdown",
      "metadata": {
        "id": "EByuGYMII7XW",
        "colab_type": "text"
      },
      "source": [
        "### training and validation"
      ]
    },
    {
      "cell_type": "code",
      "metadata": {
        "id": "VbnZPS2kr5Il",
        "colab_type": "code",
        "colab": {}
      },
      "source": [
        "callback = EarlyStopping(monitor='val_loss', mode='min',verbose=1,patience=30, baseline=0.000073750)"
      ],
      "execution_count": 0,
      "outputs": []
    },
    {
      "cell_type": "code",
      "metadata": {
        "id": "dgt8J7MWGrsb",
        "colab_type": "code",
        "outputId": "56a81ca7-4733-4a13-a49d-6d64cdc7a846",
        "colab": {
          "base_uri": "https://localhost:8080/",
          "height": 1000
        }
      },
      "source": [
        "#training :  epochs and batch size 64\n",
        "history = model.fit(trainX, trainY, epochs=200, batch_size=64, callbacks=[callback],\n",
        "                    validation_data=(validateX, validateY), shuffle=False)"
      ],
      "execution_count": 565,
      "outputs": [
        {
          "output_type": "stream",
          "text": [
            "Epoch 1/200\n",
            "861/861 [==============================] - 5s 5ms/step - loss: 0.0096 - val_loss: 8.3890e-04\n",
            "Epoch 2/200\n",
            "861/861 [==============================] - 5s 6ms/step - loss: 6.3357e-04 - val_loss: 8.5367e-04\n",
            "Epoch 3/200\n",
            "861/861 [==============================] - 5s 6ms/step - loss: 6.5293e-04 - val_loss: 8.7991e-04\n",
            "Epoch 4/200\n",
            "861/861 [==============================] - 5s 6ms/step - loss: 6.6181e-04 - val_loss: 9.0381e-04\n",
            "Epoch 5/200\n",
            "861/861 [==============================] - 5s 6ms/step - loss: 6.6602e-04 - val_loss: 9.1177e-04\n",
            "Epoch 6/200\n",
            "861/861 [==============================] - 5s 6ms/step - loss: 6.7161e-04 - val_loss: 8.8617e-04\n",
            "Epoch 7/200\n",
            "861/861 [==============================] - 5s 5ms/step - loss: 6.5118e-04 - val_loss: 8.9011e-04\n",
            "Epoch 8/200\n",
            "861/861 [==============================] - 5s 6ms/step - loss: 6.4831e-04 - val_loss: 8.7276e-04\n",
            "Epoch 9/200\n",
            "861/861 [==============================] - 5s 6ms/step - loss: 6.4043e-04 - val_loss: 8.6949e-04\n",
            "Epoch 10/200\n",
            "861/861 [==============================] - 5s 6ms/step - loss: 6.3329e-04 - val_loss: 8.6996e-04\n",
            "Epoch 11/200\n",
            "861/861 [==============================] - 5s 6ms/step - loss: 6.2970e-04 - val_loss: 8.6230e-04\n",
            "Epoch 12/200\n",
            "861/861 [==============================] - 5s 6ms/step - loss: 6.2484e-04 - val_loss: 8.5547e-04\n",
            "Epoch 13/200\n",
            "861/861 [==============================] - 5s 6ms/step - loss: 6.1843e-04 - val_loss: 8.6164e-04\n",
            "Epoch 14/200\n",
            "861/861 [==============================] - 5s 5ms/step - loss: 6.1696e-04 - val_loss: 8.6026e-04\n",
            "Epoch 15/200\n",
            "861/861 [==============================] - 5s 6ms/step - loss: 6.1616e-04 - val_loss: 8.3505e-04\n",
            "Epoch 16/200\n",
            "861/861 [==============================] - 5s 6ms/step - loss: 6.0494e-04 - val_loss: 8.4284e-04\n",
            "Epoch 17/200\n",
            "861/861 [==============================] - 5s 5ms/step - loss: 6.0909e-04 - val_loss: 8.2832e-04\n",
            "Epoch 18/200\n",
            "861/861 [==============================] - 5s 6ms/step - loss: 6.0096e-04 - val_loss: 8.3458e-04\n",
            "Epoch 19/200\n",
            "861/861 [==============================] - 5s 6ms/step - loss: 6.0082e-04 - val_loss: 8.2586e-04\n",
            "Epoch 20/200\n",
            "861/861 [==============================] - 5s 6ms/step - loss: 5.9614e-04 - val_loss: 8.2637e-04\n",
            "Epoch 21/200\n",
            "861/861 [==============================] - 5s 6ms/step - loss: 5.9323e-04 - val_loss: 8.2666e-04\n",
            "Epoch 22/200\n",
            "861/861 [==============================] - 5s 5ms/step - loss: 5.9484e-04 - val_loss: 8.1139e-04\n",
            "Epoch 23/200\n",
            "861/861 [==============================] - 5s 6ms/step - loss: 5.9030e-04 - val_loss: 8.2000e-04\n",
            "Epoch 24/200\n",
            "861/861 [==============================] - 5s 6ms/step - loss: 5.8977e-04 - val_loss: 8.0916e-04\n",
            "Epoch 25/200\n",
            "861/861 [==============================] - 5s 6ms/step - loss: 5.8580e-04 - val_loss: 8.1668e-04\n",
            "Epoch 26/200\n",
            "861/861 [==============================] - 5s 6ms/step - loss: 5.8639e-04 - val_loss: 8.0315e-04\n",
            "Epoch 27/200\n",
            "861/861 [==============================] - 5s 6ms/step - loss: 5.8554e-04 - val_loss: 7.9864e-04\n",
            "Epoch 28/200\n",
            "861/861 [==============================] - 5s 5ms/step - loss: 5.8146e-04 - val_loss: 8.0764e-04\n",
            "Epoch 29/200\n",
            "861/861 [==============================] - 5s 6ms/step - loss: 5.8283e-04 - val_loss: 7.9797e-04\n",
            "Epoch 30/200\n",
            "861/861 [==============================] - 5s 6ms/step - loss: 5.7912e-04 - val_loss: 8.0552e-04\n",
            "Epoch 00030: early stopping\n"
          ],
          "name": "stdout"
        }
      ]
    },
    {
      "cell_type": "markdown",
      "metadata": {
        "id": "ZN5uRnRFNNUv",
        "colab_type": "text"
      },
      "source": [
        "###training performance"
      ]
    },
    {
      "cell_type": "code",
      "metadata": {
        "id": "cN60JNciy6gW",
        "colab_type": "code",
        "outputId": "7733eaf4-952b-4194-f490-7156cd1a41da",
        "colab": {
          "base_uri": "https://localhost:8080/",
          "height": 295
        }
      },
      "source": [
        "# plot loss during training\n",
        "pyplot.plot(history.history['loss'], label='training')\n",
        "pyplot.plot(history.history['val_loss'], label='validation')\n",
        "pyplot.title('model train vs validation loss')\n",
        "plt.xlabel('no of epochs')  \n",
        "plt.ylabel('loss') \n",
        "pyplot.legend(['train', 'validation'], loc='upper right')\n",
        "pyplot.show()"
      ],
      "execution_count": 566,
      "outputs": [
        {
          "output_type": "display_data",
          "data": {
            "image/png": "[encoded data removed]",
            "text/plain": [
              "<Figure size 432x288 with 1 Axes>"
            ]
          },
          "metadata": {
            "tags": [],
            "needs_background": "light"
          }
        }
      ]
    },
    {
      "cell_type": "code",
      "metadata": {
        "colab_type": "code",
        "id": "SzD8So7o9Pyw",
        "outputId": "739bd105-404a-4005-8280-2e8bd5a72fc0",
        "colab": {
          "base_uri": "https://localhost:8080/",
          "height": 86
        }
      },
      "source": [
        "# model RMSE\n",
        "train_score = model.evaluate(trainX, trainY, verbose=1)\n",
        "train_score = math.sqrt(train_score)\n",
        "\n",
        "validation_score = model.evaluate(validateX, validateY, verbose=1)\n",
        "validation_score = math.sqrt(validation_score)\n",
        "print('Train Score: %.2f  RMSE' % (train_score))\n",
        "print('Validation Score: %.2f  RMSE' % (validation_score))"
      ],
      "execution_count": 567,
      "outputs": [
        {
          "output_type": "stream",
          "text": [
            "1722/1722 [==============================] - 3s 2ms/step - loss: 6.2750e-04\n",
            "369/369 [==============================] - 1s 2ms/step - loss: 8.0552e-04\n",
            "Train Score: 0.03  RMSE\n",
            "Validation Score: 0.03  RMSE\n"
          ],
          "name": "stdout"
        }
      ]
    },
    {
      "cell_type": "markdown",
      "metadata": {
        "id": "ZrsM--xKIrwc",
        "colab_type": "text"
      },
      "source": [
        ""
      ]
    },
    {
      "cell_type": "code",
      "metadata": {
        "id": "6MKK0CngeXlc",
        "colab_type": "code",
        "colab": {}
      },
      "source": [
        "model.save('my_model.h5') "
      ],
      "execution_count": 0,
      "outputs": []
    },
    {
      "cell_type": "code",
      "metadata": {
        "id": "VFF9iFEyT_QT",
        "colab_type": "code",
        "outputId": "67dc6aba-3878-4e14-c77b-340dcbd89118",
        "colab": {
          "base_uri": "https://localhost:8080/",
          "height": 34
        }
      },
      "source": [
        "# Convert the model.\n",
        "import tensorflow as tf\n",
        "\n",
        "converter = tf.lite.TFLiteConverter.from_keras_model(model)\n",
        "converter.experimental_new_converter = True\n",
        "converter.allow_custom_ops=True\n",
        "tflite_model = converter.convert()\n",
        "open(\"converted_model.tflite\", \"wb\").write(tflite_model)"
      ],
      "execution_count": 569,
      "outputs": [
        {
          "output_type": "execute_result",
          "data": {
            "text/plain": [
              "29892"
            ]
          },
          "metadata": {
            "tags": []
          },
          "execution_count": 569
        }
      ]
    },
    {
      "cell_type": "markdown",
      "metadata": {
        "colab_type": "text",
        "id": "3frrx2cbSgTe"
      },
      "source": [
        "# Testing"
      ]
    },
    {
      "cell_type": "markdown",
      "metadata": {
        "id": "XxRUO6rsqiQV",
        "colab_type": "text"
      },
      "source": [
        "###Test Data Preprocessing"
      ]
    },
    {
      "cell_type": "code",
      "metadata": {
        "id": "aEC_hn8gqhHa",
        "colab_type": "code",
        "colab": {}
      },
      "source": [
        "#Same point\n",
        "\n",
        "df_rain_test = pandas.read_csv(\"https://raw.githubusercontent.com/ricsamikwa/short-term-flood-water-level-prediction/master/dataset/new_data/hourly_rainfall_test.csv\")\n",
        "df_water_level_test = pandas.read_csv(\"https://raw.githubusercontent.com/ricsamikwa/short-term-flood-water-level-prediction/master/dataset/new_data/hourly_water_level_test.csv\")\n",
        "\n",
        "#Another point\n",
        "\n",
        "# df_rain_test = pandas.read_csv(\"https://raw.githubusercontent.com/ricsamikwa/short-term-flood-water-level-prediction/master/dataset/new_data/Elsternwick-Hourly-Rainfall.csv\")\n",
        "# df_water_level_test = pandas.read_csv(\"https://raw.githubusercontent.com/ricsamikwa/short-term-flood-water-level-prediction/master/dataset/new_data/Elsternwick-Hourly-River-Level.csv\")"
      ],
      "execution_count": 0,
      "outputs": []
    },
    {
      "cell_type": "code",
      "metadata": {
        "id": "Lj95-xjWsj85",
        "colab_type": "code",
        "outputId": "5a4a66b0-ecba-444f-8602-5e36a501535a",
        "colab": {
          "base_uri": "https://localhost:8080/",
          "height": 206
        }
      },
      "source": [
        "#dataset merged on date_time \n",
        "dataset_test = pandas.merge(df_rain_test, df_water_level_test, how='outer', on=['Date/Time'])\n",
        "dataset_test.head()"
      ],
      "execution_count": 571,
      "outputs": [
        {
          "output_type": "execute_result",
          "data": {
            "text/html": [
              "<div>\n",
              "<style scoped>\n",
              "    .dataframe tbody tr th:only-of-type {\n",
              "        vertical-align: middle;\n",
              "    }\n",
              "\n",
              "    .dataframe tbody tr th {\n",
              "        vertical-align: top;\n",
              "    }\n",
              "\n",
              "    .dataframe thead th {\n",
              "        text-align: right;\n",
              "    }\n",
              "</style>\n",
              "<table border=\"1\" class=\"dataframe\">\n",
              "  <thead>\n",
              "    <tr style=\"text-align: right;\">\n",
              "      <th></th>\n",
              "      <th>Date/Time</th>\n",
              "      <th>Current rainfall (mm)</th>\n",
              "      <th>Cumulative rainfall (mm)</th>\n",
              "      <th>Level (m)</th>\n",
              "    </tr>\n",
              "  </thead>\n",
              "  <tbody>\n",
              "    <tr>\n",
              "      <th>0</th>\n",
              "      <td>2011-04-07 20:00:00</td>\n",
              "      <td>0.0</td>\n",
              "      <td>0.0</td>\n",
              "      <td>1.49</td>\n",
              "    </tr>\n",
              "    <tr>\n",
              "      <th>1</th>\n",
              "      <td>2011-04-07 19:00:00</td>\n",
              "      <td>0.0</td>\n",
              "      <td>0.0</td>\n",
              "      <td>1.49</td>\n",
              "    </tr>\n",
              "    <tr>\n",
              "      <th>2</th>\n",
              "      <td>2011-04-07 18:00:00</td>\n",
              "      <td>0.0</td>\n",
              "      <td>0.0</td>\n",
              "      <td>1.49</td>\n",
              "    </tr>\n",
              "    <tr>\n",
              "      <th>3</th>\n",
              "      <td>2011-04-07 17:00:00</td>\n",
              "      <td>0.0</td>\n",
              "      <td>0.0</td>\n",
              "      <td>1.49</td>\n",
              "    </tr>\n",
              "    <tr>\n",
              "      <th>4</th>\n",
              "      <td>2011-04-07 16:00:00</td>\n",
              "      <td>0.0</td>\n",
              "      <td>0.0</td>\n",
              "      <td>1.49</td>\n",
              "    </tr>\n",
              "  </tbody>\n",
              "</table>\n",
              "</div>"
            ],
            "text/plain": [
              "             Date/Time  ...  Level (m)\n",
              "0  2011-04-07 20:00:00  ...       1.49\n",
              "1  2011-04-07 19:00:00  ...       1.49\n",
              "2  2011-04-07 18:00:00  ...       1.49\n",
              "3  2011-04-07 17:00:00  ...       1.49\n",
              "4  2011-04-07 16:00:00  ...       1.49\n",
              "\n",
              "[5 rows x 4 columns]"
            ]
          },
          "metadata": {
            "tags": []
          },
          "execution_count": 571
        }
      ]
    },
    {
      "cell_type": "code",
      "metadata": {
        "id": "7vPZ0uv8oAA8",
        "colab_type": "code",
        "outputId": "6e15e7f9-23a9-4b35-871c-3630cdc00bf2",
        "colab": {
          "base_uri": "https://localhost:8080/",
          "height": 301
        }
      },
      "source": [
        "dataset_test.describe()"
      ],
      "execution_count": 572,
      "outputs": [
        {
          "output_type": "execute_result",
          "data": {
            "text/html": [
              "<div>\n",
              "<style scoped>\n",
              "    .dataframe tbody tr th:only-of-type {\n",
              "        vertical-align: middle;\n",
              "    }\n",
              "\n",
              "    .dataframe tbody tr th {\n",
              "        vertical-align: top;\n",
              "    }\n",
              "\n",
              "    .dataframe thead th {\n",
              "        text-align: right;\n",
              "    }\n",
              "</style>\n",
              "<table border=\"1\" class=\"dataframe\">\n",
              "  <thead>\n",
              "    <tr style=\"text-align: right;\">\n",
              "      <th></th>\n",
              "      <th>Current rainfall (mm)</th>\n",
              "      <th>Cumulative rainfall (mm)</th>\n",
              "      <th>Level (m)</th>\n",
              "    </tr>\n",
              "  </thead>\n",
              "  <tbody>\n",
              "    <tr>\n",
              "      <th>count</th>\n",
              "      <td>11828.000000</td>\n",
              "      <td>11828.000000</td>\n",
              "      <td>11812.000000</td>\n",
              "    </tr>\n",
              "    <tr>\n",
              "      <th>mean</th>\n",
              "      <td>0.077951</td>\n",
              "      <td>0.976243</td>\n",
              "      <td>1.452874</td>\n",
              "    </tr>\n",
              "    <tr>\n",
              "      <th>std</th>\n",
              "      <td>0.957547</td>\n",
              "      <td>4.348222</td>\n",
              "      <td>0.174743</td>\n",
              "    </tr>\n",
              "    <tr>\n",
              "      <th>min</th>\n",
              "      <td>0.000000</td>\n",
              "      <td>0.000000</td>\n",
              "      <td>0.000000</td>\n",
              "    </tr>\n",
              "    <tr>\n",
              "      <th>25%</th>\n",
              "      <td>0.000000</td>\n",
              "      <td>0.000000</td>\n",
              "      <td>1.400000</td>\n",
              "    </tr>\n",
              "    <tr>\n",
              "      <th>50%</th>\n",
              "      <td>0.000000</td>\n",
              "      <td>0.000000</td>\n",
              "      <td>1.440000</td>\n",
              "    </tr>\n",
              "    <tr>\n",
              "      <th>75%</th>\n",
              "      <td>0.000000</td>\n",
              "      <td>0.200000</td>\n",
              "      <td>1.500000</td>\n",
              "    </tr>\n",
              "    <tr>\n",
              "      <th>max</th>\n",
              "      <td>64.000000</td>\n",
              "      <td>111.400000</td>\n",
              "      <td>3.300000</td>\n",
              "    </tr>\n",
              "  </tbody>\n",
              "</table>\n",
              "</div>"
            ],
            "text/plain": [
              "       Current rainfall (mm)  Cumulative rainfall (mm)     Level (m)\n",
              "count           11828.000000              11828.000000  11812.000000\n",
              "mean                0.077951                  0.976243      1.452874\n",
              "std                 0.957547                  4.348222      0.174743\n",
              "min                 0.000000                  0.000000      0.000000\n",
              "25%                 0.000000                  0.000000      1.400000\n",
              "50%                 0.000000                  0.000000      1.440000\n",
              "75%                 0.000000                  0.200000      1.500000\n",
              "max                64.000000                111.400000      3.300000"
            ]
          },
          "metadata": {
            "tags": []
          },
          "execution_count": 572
        }
      ]
    },
    {
      "cell_type": "code",
      "metadata": {
        "id": "JzMSh2Moq-Vi",
        "colab_type": "code",
        "outputId": "f472dab8-2deb-4d2e-b9bf-d1c0f203f474",
        "colab": {
          "base_uri": "https://localhost:8080/",
          "height": 206
        }
      },
      "source": [
        "#filling all missing values with mean of the column\n",
        "dataset_test['Cumulative rainfall (mm)'] = dataset_test['Cumulative rainfall (mm)'].fillna(dataset_test['Cumulative rainfall (mm)'].mean())\n",
        "dataset_test['Current rainfall (mm)'] = dataset_test['Current rainfall (mm)'].fillna(dataset_test['Current rainfall (mm)'].mean())\n",
        "dataset_test['Level (m)'] = dataset_test['Level (m)'].fillna(dataset_test['Level (m)'].mean())\n",
        "\n",
        "dataset_test.head()"
      ],
      "execution_count": 573,
      "outputs": [
        {
          "output_type": "execute_result",
          "data": {
            "text/html": [
              "<div>\n",
              "<style scoped>\n",
              "    .dataframe tbody tr th:only-of-type {\n",
              "        vertical-align: middle;\n",
              "    }\n",
              "\n",
              "    .dataframe tbody tr th {\n",
              "        vertical-align: top;\n",
              "    }\n",
              "\n",
              "    .dataframe thead th {\n",
              "        text-align: right;\n",
              "    }\n",
              "</style>\n",
              "<table border=\"1\" class=\"dataframe\">\n",
              "  <thead>\n",
              "    <tr style=\"text-align: right;\">\n",
              "      <th></th>\n",
              "      <th>Date/Time</th>\n",
              "      <th>Current rainfall (mm)</th>\n",
              "      <th>Cumulative rainfall (mm)</th>\n",
              "      <th>Level (m)</th>\n",
              "    </tr>\n",
              "  </thead>\n",
              "  <tbody>\n",
              "    <tr>\n",
              "      <th>0</th>\n",
              "      <td>2011-04-07 20:00:00</td>\n",
              "      <td>0.0</td>\n",
              "      <td>0.0</td>\n",
              "      <td>1.49</td>\n",
              "    </tr>\n",
              "    <tr>\n",
              "      <th>1</th>\n",
              "      <td>2011-04-07 19:00:00</td>\n",
              "      <td>0.0</td>\n",
              "      <td>0.0</td>\n",
              "      <td>1.49</td>\n",
              "    </tr>\n",
              "    <tr>\n",
              "      <th>2</th>\n",
              "      <td>2011-04-07 18:00:00</td>\n",
              "      <td>0.0</td>\n",
              "      <td>0.0</td>\n",
              "      <td>1.49</td>\n",
              "    </tr>\n",
              "    <tr>\n",
              "      <th>3</th>\n",
              "      <td>2011-04-07 17:00:00</td>\n",
              "      <td>0.0</td>\n",
              "      <td>0.0</td>\n",
              "      <td>1.49</td>\n",
              "    </tr>\n",
              "    <tr>\n",
              "      <th>4</th>\n",
              "      <td>2011-04-07 16:00:00</td>\n",
              "      <td>0.0</td>\n",
              "      <td>0.0</td>\n",
              "      <td>1.49</td>\n",
              "    </tr>\n",
              "  </tbody>\n",
              "</table>\n",
              "</div>"
            ],
            "text/plain": [
              "             Date/Time  ...  Level (m)\n",
              "0  2011-04-07 20:00:00  ...       1.49\n",
              "1  2011-04-07 19:00:00  ...       1.49\n",
              "2  2011-04-07 18:00:00  ...       1.49\n",
              "3  2011-04-07 17:00:00  ...       1.49\n",
              "4  2011-04-07 16:00:00  ...       1.49\n",
              "\n",
              "[5 rows x 4 columns]"
            ]
          },
          "metadata": {
            "tags": []
          },
          "execution_count": 573
        }
      ]
    },
    {
      "cell_type": "code",
      "metadata": {
        "id": "zqRkyMtFrGCy",
        "colab_type": "code",
        "outputId": "9d7c7e27-c8b5-4153-d68c-16473dc7a857",
        "colab": {
          "base_uri": "https://localhost:8080/",
          "height": 34
        }
      },
      "source": [
        "dataset_test = dataset_test.drop(columns=['Cumulative rainfall (mm)', 'Date/Time'])\n",
        "dataset_test.shape"
      ],
      "execution_count": 574,
      "outputs": [
        {
          "output_type": "execute_result",
          "data": {
            "text/plain": [
              "(11836, 2)"
            ]
          },
          "metadata": {
            "tags": []
          },
          "execution_count": 574
        }
      ]
    },
    {
      "cell_type": "code",
      "metadata": {
        "id": "5oRCzLZbHqdX",
        "colab_type": "code",
        "colab": {}
      },
      "source": [
        "waterlelvels = dataset_test['Level (m)']\n"
      ],
      "execution_count": 0,
      "outputs": []
    },
    {
      "cell_type": "code",
      "metadata": {
        "id": "HMr8zp7PelTN",
        "colab_type": "code",
        "outputId": "aa290cf1-0d75-4d3a-f79e-4d002978389a",
        "colab": {
          "base_uri": "https://localhost:8080/",
          "height": 34
        }
      },
      "source": [
        "# true_waterlelvels = waterlelvels[1019:11955]\n",
        "true_waterlelvels = waterlelvels[0:11825]\n",
        "[11817, 11825]\n",
        "print(true_waterlelvels.shape)\n"
      ],
      "execution_count": 576,
      "outputs": [
        {
          "output_type": "stream",
          "text": [
            "(11825,)\n"
          ],
          "name": "stdout"
        }
      ]
    },
    {
      "cell_type": "code",
      "metadata": {
        "id": "92aECD00rTcY",
        "colab_type": "code",
        "colab": {}
      },
      "source": [
        "# normalize the dataset (LSTMs are sensitive to the scale of the input data)\n",
        "# scaler  = MinMaxScaler(feature_range=(0, 1))\n",
        "dataset_test = scaler.fit_transform(dataset_test)"
      ],
      "execution_count": 0,
      "outputs": []
    },
    {
      "cell_type": "code",
      "metadata": {
        "id": "yCtJipaErfgL",
        "colab_type": "code",
        "outputId": "4667ee12-8efb-4e34-dd3a-6bbdb8307fff",
        "colab": {
          "base_uri": "https://localhost:8080/",
          "height": 513
        }
      },
      "source": [
        "plt.figure(\n",
        "    figsize=(10, 7))\n",
        "\n",
        "plt.plot(dataset_test[:,0], color='black')\n",
        "plt.plot(dataset_test[:,1], color='#017C8F')\n",
        "plt.xlabel('Time',fontsize=18)  \n",
        "plt.tight_layout() \n",
        "rainfall = mpatches.Patch(color='black', label='Rainfall')\n",
        "level = mpatches.Patch(color='#017C8F', label='Water level')\n",
        "plt.legend(handles=[rainfall,level])\n",
        "\n",
        "plt.show() "
      ],
      "execution_count": 578,
      "outputs": [
        {
          "output_type": "display_data",
          "data": {
            "image/png": "[encoded data removed]",
            "text/plain": [
              "<Figure size 720x504 with 1 Axes>"
            ]
          },
          "metadata": {
            "tags": [],
            "needs_background": "light"
          }
        }
      ]
    },
    {
      "cell_type": "code",
      "metadata": {
        "id": "3jtXqw5otHEv",
        "colab_type": "code",
        "outputId": "c6ea57a2-1c49-41a9-f242-228776fe9de8",
        "colab": {
          "base_uri": "https://localhost:8080/",
          "height": 34
        }
      },
      "source": [
        "# frame data as supervised learning\n",
        "reframed_data_test = create_multivariate_LSTM_form(dataset_test, num_hours, pred_window)\n",
        "print(reframed_data_test.shape)"
      ],
      "execution_count": 579,
      "outputs": [
        {
          "output_type": "stream",
          "text": [
            "(11817, 40)\n"
          ],
          "name": "stdout"
        }
      ]
    },
    {
      "cell_type": "code",
      "metadata": {
        "id": "cH-S_4SqrqO5",
        "colab_type": "code",
        "colab": {}
      },
      "source": [
        "# split into train, validation and test sets (70%, 15%, 15%)\n",
        "test = reframed_data_test.values\n"
      ],
      "execution_count": 0,
      "outputs": []
    },
    {
      "cell_type": "code",
      "metadata": {
        "id": "4k69dUefrxvp",
        "colab_type": "code",
        "colab": {}
      },
      "source": [
        "\n",
        "#testing set\n",
        "testX, testY = test[:, :num_obs], test[:, -1]\n"
      ],
      "execution_count": 0,
      "outputs": []
    },
    {
      "cell_type": "code",
      "metadata": {
        "id": "XFTx0gQnr9oF",
        "colab_type": "code",
        "outputId": "6006b33f-b6bf-4f58-e723-aaf3b95f165b",
        "colab": {
          "base_uri": "https://localhost:8080/",
          "height": 34
        }
      },
      "source": [
        "# reshape data correctly to reflect the time steps and features [samples, timesteps, features]\n",
        "testX = testX.reshape((testX.shape[0], num_hours, num_features))\n",
        "\n",
        "print(testX.shape, testY.shape)"
      ],
      "execution_count": 582,
      "outputs": [
        {
          "output_type": "stream",
          "text": [
            "(11817, 10, 2) (11817,)\n"
          ],
          "name": "stdout"
        }
      ]
    },
    {
      "cell_type": "code",
      "metadata": {
        "id": "vq_v3FDSEo9p",
        "colab_type": "code",
        "outputId": "61d22555-bcba-4933-c4fb-2dde95bb19f0",
        "colab": {
          "base_uri": "https://localhost:8080/",
          "height": 52
        }
      },
      "source": [
        "print(testY[0])\n",
        "print(testY[1])"
      ],
      "execution_count": 583,
      "outputs": [
        {
          "output_type": "stream",
          "text": [
            "0.4545454545454546\n",
            "0.4545454545454546\n"
          ],
          "name": "stdout"
        }
      ]
    },
    {
      "cell_type": "markdown",
      "metadata": {
        "colab_type": "text",
        "id": "V-xmRveXS7iH"
      },
      "source": [
        "### predictions using unseen test data \n",
        "#### 10 hours ahead of time prediction\n",
        "\n",
        "\n",
        "\n",
        "\n",
        "\n"
      ]
    },
    {
      "cell_type": "code",
      "metadata": {
        "id": "ZU9Lei9OOyiV",
        "colab_type": "code",
        "colab": {}
      },
      "source": [
        "# predictions\n",
        "predictions = model.predict(testX)\n",
        "unseen_X = testX.reshape((testX.shape[0], num_hours*num_features))"
      ],
      "execution_count": 0,
      "outputs": []
    },
    {
      "cell_type": "code",
      "metadata": {
        "id": "iqKGvLHMOt-H",
        "colab_type": "code",
        "colab": {}
      },
      "source": [
        "# invert scaling for predicted water levels\n",
        "inv_predictions = concatenate((unseen_X[:,-1:],predictions), axis=1)\n",
        "\n",
        "inv_predictions = scaler.inverse_transform(inv_predictions)\n",
        "\n",
        "inv_predictions = inv_predictions[:,1]"
      ],
      "execution_count": 0,
      "outputs": []
    },
    {
      "cell_type": "code",
      "metadata": {
        "id": "C_L6eJWkSa26",
        "colab_type": "code",
        "outputId": "50d0e538-b8f9-4718-fd85-b730dddf83c8",
        "colab": {
          "base_uri": "https://localhost:8080/",
          "height": 52
        }
      },
      "source": [
        "print(predictions[0])\n",
        "print(inv_predictions[0])"
      ],
      "execution_count": 586,
      "outputs": [
        {
          "output_type": "stream",
          "text": [
            "[0.47594035]\n",
            "1.5706031441688537\n"
          ],
          "name": "stdout"
        }
      ]
    },
    {
      "cell_type": "code",
      "metadata": {
        "id": "MVtiR_6cQ0_O",
        "colab_type": "code",
        "outputId": "783d7313-519d-4069-d2dd-4348b82f519d",
        "colab": {
          "base_uri": "https://localhost:8080/",
          "height": 34
        }
      },
      "source": [
        "# invert scaling for actual water levels \n",
        "testY = testY.reshape((len(testY), 1))\n",
        "inv_waterlelvels = concatenate((unseen_X[:, -1:],testY), axis=1)\n",
        "print(inv_waterlelvels[10000])\n",
        "inv_waterlelvels = scaler.inverse_transform(inv_waterlelvels)\n",
        "inv_waterlelvels = inv_waterlelvels[:,1]"
      ],
      "execution_count": 587,
      "outputs": [
        {
          "output_type": "stream",
          "text": [
            "[0.42424242 0.42424242]\n"
          ],
          "name": "stdout"
        }
      ]
    },
    {
      "cell_type": "code",
      "metadata": {
        "id": "MU-JTZePmyJe",
        "colab_type": "code",
        "outputId": "b50b6bfc-2d75-4fc3-a290-6375a9d77f25",
        "colab": {
          "base_uri": "https://localhost:8080/",
          "height": 34
        }
      },
      "source": [
        "print(inv_waterlelvels[0])"
      ],
      "execution_count": 588,
      "outputs": [
        {
          "output_type": "stream",
          "text": [
            "1.5\n"
          ],
          "name": "stdout"
        }
      ]
    },
    {
      "cell_type": "markdown",
      "metadata": {
        "id": "AqeEbA4hMqYp",
        "colab_type": "text"
      },
      "source": [
        "###predictions vs ground truth"
      ]
    },
    {
      "cell_type": "code",
      "metadata": {
        "id": "8yadiOzmgAEL",
        "colab_type": "code",
        "outputId": "71ad6bb5-1bd1-4add-adc7-76b9788388dc",
        "colab": {
          "base_uri": "https://localhost:8080/",
          "height": 576
        }
      },
      "source": [
        "print('----------------- Predicted ---------------')\n",
        "plt.plot(inv_predictions)\n",
        "plt.xlabel('Time (hours)')  \n",
        "plt.ylabel('Water level (m)') \n",
        "plt.show()\n",
        "print('----------------- Ground Truth ---------------')\n",
        "plt.plot(inv_waterlelvels)\n",
        "plt.xlabel('Time (hours)')  \n",
        "plt.ylabel('Water level (m)') \n",
        "plt.show()"
      ],
      "execution_count": 589,
      "outputs": [
        {
          "output_type": "stream",
          "text": [
            "----------------- Predicted ---------------\n"
          ],
          "name": "stdout"
        },
        {
          "output_type": "display_data",
          "data": {
            "image/png": "[encoded data removed]",
            "text/plain": [
              "<Figure size 432x288 with 1 Axes>"
            ]
          },
          "metadata": {
            "tags": [],
            "needs_background": "light"
          }
        },
        {
          "output_type": "stream",
          "text": [
            "----------------- Ground Truth ---------------\n"
          ],
          "name": "stdout"
        },
        {
          "output_type": "display_data",
          "data": {
            "image/png": "[encoded data removed]",
            "text/plain": [
              "<Figure size 432x288 with 1 Axes>"
            ]
          },
          "metadata": {
            "tags": [],
            "needs_background": "light"
          }
        }
      ]
    },
    {
      "cell_type": "code",
      "metadata": {
        "id": "8pilk-GyAUIv",
        "colab_type": "code",
        "outputId": "327d6d94-c33f-4a9d-ec00-e135f8cdfc06",
        "colab": {
          "base_uri": "https://localhost:8080/",
          "height": 513
        }
      },
      "source": [
        "plt.figure(\n",
        "    figsize=(10, 7))\n",
        "plt.plot(inv_waterlelvels, color='#017C8F')\n",
        "plt.plot(inv_predictions, color='coral')\n",
        "plt.xlabel('Time (hours)', fontsize=18)  \n",
        "plt.ylabel('Water level (m)', fontsize=18) \n",
        "plt.tight_layout() \n",
        "Original = mpatches.Patch(color='#017C8F', label='Original')\n",
        "Forecast = mpatches.Patch(color='coral', label='Forecast')\n",
        "plt.legend(handles=[Original,Forecast])\n",
        "positions = (0, 2000, 4000, 6000, 8000, 10000,12000)\n",
        "labels = (\"Dec\", \"Feb\", \"April\", \"June\", \"Aug\", \"Oct\",\"Dec\")\n",
        "plt.xticks(positions, labels)\n",
        "plt.show() "
      ],
      "execution_count": 590,
      "outputs": [
        {
          "output_type": "display_data",
          "data": {
            "image/png": "[encoded data removed]",
            "text/plain": [
              "<Figure size 720x504 with 1 Axes>"
            ]
          },
          "metadata": {
            "tags": [],
            "needs_background": "light"
          }
        }
      ]
    },
    {
      "cell_type": "markdown",
      "metadata": {
        "colab_type": "text",
        "id": "iisg73r4T1Ye"
      },
      "source": [
        "#Performance Evaluation\n",
        "###model performance on unseen data\n",
        "\n"
      ]
    },
    {
      "cell_type": "code",
      "metadata": {
        "id": "2doGXnQYO7Ff",
        "colab_type": "code",
        "outputId": "c9b72a54-1df7-4d6e-a593-9bfaceec43a5",
        "colab": {
          "base_uri": "https://localhost:8080/",
          "height": 52
        }
      },
      "source": [
        "# root mean squared error (RMSE)\n",
        "rmse = sqrt(mean_squared_error(inv_waterlelvels, inv_predictions))\n",
        "print('Test RMSE: %.3f  ' % (rmse))\n",
        "print('Test RMSE: %.3f %% ' % ((rmse/3.3)*100))"
      ],
      "execution_count": 591,
      "outputs": [
        {
          "output_type": "stream",
          "text": [
            "Test RMSE: 0.127  \n",
            "Test RMSE: 3.848 % \n"
          ],
          "name": "stdout"
        }
      ]
    },
    {
      "cell_type": "code",
      "metadata": {
        "id": "CvopeKrFXm-Q",
        "colab_type": "code",
        "outputId": "3e9732bf-dd13-4c7a-8492-fe8071609547",
        "colab": {
          "base_uri": "https://localhost:8080/",
          "height": 34
        }
      },
      "source": [
        "# Mean absolute error\n",
        "mae = keras.metrics.mean_absolute_error(inv_waterlelvels, inv_predictions)\n",
        "print(mae)"
      ],
      "execution_count": 592,
      "outputs": [
        {
          "output_type": "stream",
          "text": [
            "tf.Tensor(0.10180796, shape=(), dtype=float32)\n"
          ],
          "name": "stdout"
        }
      ]
    },
    {
      "cell_type": "code",
      "metadata": {
        "id": "7jtgKOprAn6I",
        "colab_type": "code",
        "outputId": "4ee63957-5359-4bdb-fe6e-0bee7625719b",
        "colab": {
          "base_uri": "https://localhost:8080/",
          "height": 34
        }
      },
      "source": [
        "# R\n",
        "def R(y, y_pred):\n",
        "  residual = tf.reduce_sum(tf.square(tf.subtract(y, y_pred)))\n",
        "  total = tf.reduce_sum(tf.square(tf.subtract(y, tf.reduce_mean(y))))\n",
        "  r2 = tf.subtract(1.0, tf.truediv(residual, total))\n",
        "  return tf.math.sqrt(r2)\n",
        "\n",
        "print('R score is: ', R(inv_waterlelvels, inv_predictions)) # 0.57142866\n"
      ],
      "execution_count": 593,
      "outputs": [
        {
          "output_type": "stream",
          "text": [
            "R score is:  tf.Tensor(0.68668659310219, shape=(), dtype=float64)\n"
          ],
          "name": "stdout"
        }
      ]
    },
    {
      "cell_type": "code",
      "metadata": {
        "id": "TYhGhEu7xBcJ",
        "colab_type": "code",
        "colab": {
          "base_uri": "https://localhost:8080/",
          "height": 513
        },
        "outputId": "66df0ea4-6586-458a-b54e-b9754ed5e424"
      },
      "source": [
        "\n",
        "\n",
        "plt.figure(\n",
        "    figsize=(10, 7))\n",
        "xy_line = (0, 1,2,3)\n",
        "plt.title(\"R = 0.700\",fontsize=18)\n",
        "plt.scatter(inv_waterlelvels, inv_predictions,color='none', marker='o', label='Data', edgecolors='black')\n",
        "plt.ylabel('Predictions', fontsize=16)\n",
        "plt.xlabel('Target', fontsize=18)\n",
        "line1, = plt.plot(xy_line, linestyle='--', label='X=Y', color='black')\n",
        "\n",
        "m, b = np.polyfit(inv_waterlelvels, inv_predictions, 1)\n",
        "line2, = plt.plot(inv_waterlelvels, m*inv_waterlelvels + b,label='Fit', color='black')\n",
        "\n",
        "first_legend = plt.legend(handles=[line2,line1], loc='upper left',prop={'size': 15})\n",
        "\n",
        "plt.tight_layout() \n",
        "plt.show()"
      ],
      "execution_count": 605,
      "outputs": [
        {
          "output_type": "display_data",
          "data": {
            "image/png": "[encoded data removed]",
            "text/plain": [
              "<Figure size 720x504 with 1 Axes>"
            ]
          },
          "metadata": {
            "tags": [],
            "needs_background": "light"
          }
        }
      ]
    },
    {
      "cell_type": "code",
      "metadata": {
        "id": "AV9rzP1tiQwG",
        "colab_type": "code",
        "colab": {}
      },
      "source": [
        "# from tensorflow.stats import correlation\n",
        "\n",
        "# corr = correlation(inv_waterlelvels, inv_predictions, sample_axis=0, event_axis=None)\n"
      ],
      "execution_count": 0,
      "outputs": []
    },
    {
      "cell_type": "markdown",
      "metadata": {
        "id": "cfGC0mU8hQBh",
        "colab_type": "text"
      },
      "source": [
        "#Demo"
      ]
    },
    {
      "cell_type": "code",
      "metadata": {
        "id": "AahViIsc588g",
        "colab_type": "code",
        "colab": {}
      },
      "source": [
        "# this section emulates the steps for processing and predicting a flood occurency from sensor data\n",
        "# realtime_data is the array containing sensor data in this case\n",
        "# a flood occurancy is likely when the predicted water level exceeds 1.5 m (according to the dataset)"
      ],
      "execution_count": 0,
      "outputs": []
    },
    {
      "cell_type": "code",
      "metadata": {
        "id": "1m7NEkYthR8H",
        "colab_type": "code",
        "outputId": "6ec8767e-a9e8-4547-83ab-24f6cede9aee",
        "colab": {
          "base_uri": "https://localhost:8080/",
          "height": 121
        }
      },
      "source": [
        "#10 hours historical data (sensor data)\n",
        "realtime_data = {'rainfall (mm)': [0.0,0.0,0.0,0.0,0.0,0.0,0.0,0.9,0.9,0.8,0.9],\n",
        "        'Level (m)': [0.34051556,0.44051556,0.44051556,0.42424242,0.42424242,0.42624242,0.42424242,0.42424242,0.42424242,0.42424242,0.42424242]\n",
        "        }\n",
        "demo_df = pandas.DataFrame(realtime_data, columns = ['rainfall (mm)', 'Level (m)'])\n",
        "\n",
        "print (demo_df.head())"
      ],
      "execution_count": 597,
      "outputs": [
        {
          "output_type": "stream",
          "text": [
            "   rainfall (mm)  Level (m)\n",
            "0            0.0   0.340516\n",
            "1            0.0   0.440516\n",
            "2            0.0   0.440516\n",
            "3            0.0   0.424242\n",
            "4            0.0   0.424242\n"
          ],
          "name": "stdout"
        }
      ]
    },
    {
      "cell_type": "code",
      "metadata": {
        "id": "jxYahhMrUu3A",
        "colab_type": "code",
        "colab": {}
      },
      "source": [
        "#scaling data \n",
        "#scaler  = MinMaxScaler(feature_range=(0, 1))\n",
        "#demo_dataset = scaler.fit_transform(demo_df)"
      ],
      "execution_count": 0,
      "outputs": []
    },
    {
      "cell_type": "code",
      "metadata": {
        "id": "15pns3Emjnh0",
        "colab_type": "code",
        "outputId": "24ef78a1-5de6-419f-8ac0-b0c70238958d",
        "colab": {
          "base_uri": "https://localhost:8080/",
          "height": 52
        }
      },
      "source": [
        "#reframe\n",
        "demo_data = demo_df.to_numpy()\n",
        "#demo_data = concatenate((demo_data, demo_data,demo_data), axis=1)\n",
        "print(demo_data.shape)\n",
        "reframed_data = create_multivariate_LSTM_form(demo_data, num_hours, 1)\n",
        "reframed_data = reframed_data.values\n",
        "reframed_data = reframed_data[:,:20]\n",
        "print(reframed_data.shape)"
      ],
      "execution_count": 599,
      "outputs": [
        {
          "output_type": "stream",
          "text": [
            "(11, 2)\n",
            "(1, 20)\n"
          ],
          "name": "stdout"
        }
      ]
    },
    {
      "cell_type": "code",
      "metadata": {
        "id": "L-R837buU-Sr",
        "colab_type": "code",
        "colab": {}
      },
      "source": [
        "#reshaping\n",
        "reframed_data = reframed_data.reshape((reframed_data.shape[0], num_hours, num_features))\n",
        "# print(reframed_data.shape)"
      ],
      "execution_count": 0,
      "outputs": []
    },
    {
      "cell_type": "code",
      "metadata": {
        "id": "yT-f1KbCVALh",
        "colab_type": "code",
        "outputId": "2244045c-1929-47ad-9709-cfd7d34ccd94",
        "colab": {
          "base_uri": "https://localhost:8080/",
          "height": 34
        }
      },
      "source": [
        "#make prediction (10 hours ahead of time)\n",
        "predicted_waterlevel = model.predict(reframed_data)\n",
        "\n",
        "print(predicted_waterlevel)"
      ],
      "execution_count": 601,
      "outputs": [
        {
          "output_type": "stream",
          "text": [
            "[[0.4063709]]\n"
          ],
          "name": "stdout"
        }
      ]
    },
    {
      "cell_type": "code",
      "metadata": {
        "id": "uJ6_M3JH962D",
        "colab_type": "code",
        "outputId": "a68d6917-c598-4522-94a3-865709eca055",
        "colab": {
          "base_uri": "https://localhost:8080/",
          "height": 34
        }
      },
      "source": [
        "print(true_waterlelvels.max())"
      ],
      "execution_count": 602,
      "outputs": [
        {
          "output_type": "stream",
          "text": [
            "3.3\n"
          ],
          "name": "stdout"
        }
      ]
    },
    {
      "cell_type": "code",
      "metadata": {
        "id": "cvRJx4MhVccF",
        "colab_type": "code",
        "outputId": "ef604c24-5345-4945-a172-7173bb28bdf2",
        "colab": {
          "base_uri": "https://localhost:8080/",
          "height": 34
        }
      },
      "source": [
        "# invert scaling for forecast\n",
        "inv_predicted_waterlevel = predicted_waterlevel[0][0] * true_waterlelvels.max()\n",
        "print(inv_predicted_waterlevel)"
      ],
      "execution_count": 603,
      "outputs": [
        {
          "output_type": "stream",
          "text": [
            "1.3410239964723587\n"
          ],
          "name": "stdout"
        }
      ]
    },
    {
      "cell_type": "code",
      "metadata": {
        "id": "vzfJfbjCAm7o",
        "colab_type": "code",
        "cellView": "both",
        "outputId": "b840669f-4e44-4110-9be4-da75d797b268",
        "colab": {
          "base_uri": "https://localhost:8080/",
          "height": 52
        }
      },
      "source": [
        "#@title Flood possibility\n",
        "\n",
        "print('Expected water level in 10 hours is %.3f m' % inv_predicted_waterlevel )\n",
        "\n",
        "#based on the dataset it is likely to flood when predicted water level exceeds 1.5 m\n",
        "if (inv_predicted_waterlevel > 1.5):\n",
        "  print(\"FLOOD\")\n",
        "else:\n",
        "  print(\"No FLOOD\")"
      ],
      "execution_count": 604,
      "outputs": [
        {
          "output_type": "stream",
          "text": [
            "Expected water level in 10 hours is 1.341 m\n",
            "No FLOOD\n"
          ],
          "name": "stdout"
        }
      ]
    }
  ]
}