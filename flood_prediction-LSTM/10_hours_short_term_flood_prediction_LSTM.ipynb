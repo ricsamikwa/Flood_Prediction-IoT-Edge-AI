{
  "nbformat": 4,
  "nbformat_minor": 0,
  "metadata": {
    "kernelspec": {
      "display_name": "Python [keras_tensor]",
      "language": "python",
      "name": "Python [keras_tensor]"
    },
    "language_info": {
      "codemirror_mode": {
        "name": "ipython",
        "version": 2
      },
      "file_extension": ".py",
      "mimetype": "text/x-python",
      "name": "python",
      "nbconvert_exporter": "python",
      "pygments_lexer": "ipython2",
      "version": "2.7.12"
    },
    "colab": {
      "name": "separeted-test-short-term-flood_prediction-LSTM.ipynb",
      "provenance": [],
      "collapsed_sections": [],
      "toc_visible": true
    }
  },
  "cells": [
    {
      "cell_type": "markdown",
      "metadata": {
        "colab_type": "text",
        "id": "23-IctDiUQpC"
      },
      "source": [
        "# Short term flood prediction using LSTM\n",
        "\n"
      ]
    },
    {
      "cell_type": "code",
      "metadata": {
        "id": "n8edV6A8c-q6",
        "colab_type": "code",
        "colab": {}
      },
      "source": [
        "#Flood Early Warning System using IoT and Edge \n",
        "#Eric Samikwa"
      ],
      "execution_count": 0,
      "outputs": []
    },
    {
      "cell_type": "code",
      "metadata": {
        "id": "AKgENOL-GrqZ",
        "colab_type": "code",
        "colab": {}
      },
      "source": [
        "%matplotlib inline\n",
        "\n",
        "from __future__ import print_function\n",
        "\n",
        "import os\n",
        "os.environ[\"THEANO_FLAGS\"] = \"mode=FAST_RUN,device=gpu,floatX=float32\"\n",
        "\n",
        "from math import sqrt\n",
        "import numpy as np\n",
        "import matplotlib.pyplot as plt\n",
        "import pandas\n",
        "import math\n",
        "import io\n",
        "import keras\n",
        "import requests\n",
        "from matplotlib import pyplot\n",
        "import matplotlib.patches as mpatches\n",
        "from numpy import concatenate\n",
        "from tensorflow.python.keras.models import Sequential\n",
        "from tensorflow.python.keras.layers import Dense \n",
        "from tensorflow.python.keras.layers import Dropout \n",
        "from tensorflow.python.keras.layers import Activation     \n",
        "from tensorflow.python.keras.layers import LSTM\n",
        "from tensorflow.keras.callbacks import EarlyStopping\n",
        "from sklearn.preprocessing import MinMaxScaler\n",
        "from sklearn.metrics import mean_squared_error\n",
        "from keras import metrics\n",
        "from keras.layers import LeakyReLU"
      ],
      "execution_count": 0,
      "outputs": []
    },
    {
      "cell_type": "markdown",
      "metadata": {
        "id": "7fDsd96fRpZ6",
        "colab_type": "text"
      },
      "source": [
        "# Data pre-processing"
      ]
    },
    {
      "cell_type": "code",
      "metadata": {
        "id": "LkbL9QnDGrqy",
        "colab_type": "code",
        "colab": {}
      },
      "source": [
        "# fix random seed for reproducibility\n",
        "np.random.seed(10)"
      ],
      "execution_count": 0,
      "outputs": []
    },
    {
      "cell_type": "markdown",
      "metadata": {
        "colab_type": "text",
        "id": "6m8ovUKRLHzF"
      },
      "source": [
        "### Hourly rainfall data"
      ]
    },
    {
      "cell_type": "code",
      "metadata": {
        "id": "auxIEwH8TpnI",
        "colab_type": "code",
        "colab": {}
      },
      "source": [
        "#get hourly rainfall data\n",
        "df_rain = pandas.read_csv(\"https://raw.githubusercontent.com/ricsamikwa/short-term-flood-water-level-prediction/master/dataset/new_data/hourly_rainfall_train.csv\")"
      ],
      "execution_count": 0,
      "outputs": []
    },
    {
      "cell_type": "code",
      "metadata": {
        "id": "5QuDCp2_UB4f",
        "colab_type": "code",
        "outputId": "ccf44b20-9912-4866-901d-d62d2b78f0cc",
        "colab": {
          "base_uri": "https://localhost:8080/",
          "height": 206
        }
      },
      "source": [
        "#display first 5\n",
        "df_rain.head()"
      ],
      "execution_count": 0,
      "outputs": [
        {
          "output_type": "execute_result",
          "data": {
            "text/html": [
              "<div>\n",
              "<style scoped>\n",
              "    .dataframe tbody tr th:only-of-type {\n",
              "        vertical-align: middle;\n",
              "    }\n",
              "\n",
              "    .dataframe tbody tr th {\n",
              "        vertical-align: top;\n",
              "    }\n",
              "\n",
              "    .dataframe thead th {\n",
              "        text-align: right;\n",
              "    }\n",
              "</style>\n",
              "<table border=\"1\" class=\"dataframe\">\n",
              "  <thead>\n",
              "    <tr style=\"text-align: right;\">\n",
              "      <th></th>\n",
              "      <th>Date/Time</th>\n",
              "      <th>Current rainfall (mm)</th>\n",
              "      <th>Cumulative rainfall (mm)</th>\n",
              "    </tr>\n",
              "  </thead>\n",
              "  <tbody>\n",
              "    <tr>\n",
              "      <th>0</th>\n",
              "      <td>2018-12-02 18:00:00</td>\n",
              "      <td>0.0</td>\n",
              "      <td>0.0</td>\n",
              "    </tr>\n",
              "    <tr>\n",
              "      <th>1</th>\n",
              "      <td>2018-12-02 17:00:00</td>\n",
              "      <td>0.0</td>\n",
              "      <td>0.0</td>\n",
              "    </tr>\n",
              "    <tr>\n",
              "      <th>2</th>\n",
              "      <td>2018-12-02 16:00:00</td>\n",
              "      <td>0.0</td>\n",
              "      <td>0.0</td>\n",
              "    </tr>\n",
              "    <tr>\n",
              "      <th>3</th>\n",
              "      <td>2018-12-02 15:00:00</td>\n",
              "      <td>0.0</td>\n",
              "      <td>0.0</td>\n",
              "    </tr>\n",
              "    <tr>\n",
              "      <th>4</th>\n",
              "      <td>2018-12-02 14:00:00</td>\n",
              "      <td>0.0</td>\n",
              "      <td>0.0</td>\n",
              "    </tr>\n",
              "  </tbody>\n",
              "</table>\n",
              "</div>"
            ],
            "text/plain": [
              "             Date/Time  Current rainfall (mm)  Cumulative rainfall (mm)\n",
              "0  2018-12-02 18:00:00                    0.0                       0.0\n",
              "1  2018-12-02 17:00:00                    0.0                       0.0\n",
              "2  2018-12-02 16:00:00                    0.0                       0.0\n",
              "3  2018-12-02 15:00:00                    0.0                       0.0\n",
              "4  2018-12-02 14:00:00                    0.0                       0.0"
            ]
          },
          "metadata": {
            "tags": []
          },
          "execution_count": 96
        }
      ]
    },
    {
      "cell_type": "code",
      "metadata": {
        "id": "bwEqbjzAUJGA",
        "colab_type": "code",
        "outputId": "8450534d-e512-49c2-cbb5-b252827c377d",
        "colab": {
          "base_uri": "https://localhost:8080/",
          "height": 34
        }
      },
      "source": [
        "#dataframe shape\n",
        "df_rain.shape"
      ],
      "execution_count": 0,
      "outputs": [
        {
          "output_type": "execute_result",
          "data": {
            "text/plain": [
              "(66900, 3)"
            ]
          },
          "metadata": {
            "tags": []
          },
          "execution_count": 97
        }
      ]
    },
    {
      "cell_type": "code",
      "metadata": {
        "id": "SolrcBRVUdd1",
        "colab_type": "code",
        "outputId": "7258789e-1d7a-4b08-b572-46ac30719681",
        "colab": {
          "base_uri": "https://localhost:8080/",
          "height": 301
        }
      },
      "source": [
        "#dataset properties\n",
        "df_rain.describe()  \n"
      ],
      "execution_count": 0,
      "outputs": [
        {
          "output_type": "execute_result",
          "data": {
            "text/html": [
              "<div>\n",
              "<style scoped>\n",
              "    .dataframe tbody tr th:only-of-type {\n",
              "        vertical-align: middle;\n",
              "    }\n",
              "\n",
              "    .dataframe tbody tr th {\n",
              "        vertical-align: top;\n",
              "    }\n",
              "\n",
              "    .dataframe thead th {\n",
              "        text-align: right;\n",
              "    }\n",
              "</style>\n",
              "<table border=\"1\" class=\"dataframe\">\n",
              "  <thead>\n",
              "    <tr style=\"text-align: right;\">\n",
              "      <th></th>\n",
              "      <th>Current rainfall (mm)</th>\n",
              "      <th>Cumulative rainfall (mm)</th>\n",
              "    </tr>\n",
              "  </thead>\n",
              "  <tbody>\n",
              "    <tr>\n",
              "      <th>count</th>\n",
              "      <td>66896.000000</td>\n",
              "      <td>66899.000000</td>\n",
              "    </tr>\n",
              "    <tr>\n",
              "      <th>mean</th>\n",
              "      <td>0.043584</td>\n",
              "      <td>0.514999</td>\n",
              "    </tr>\n",
              "    <tr>\n",
              "      <th>std</th>\n",
              "      <td>0.724079</td>\n",
              "      <td>2.374298</td>\n",
              "    </tr>\n",
              "    <tr>\n",
              "      <th>min</th>\n",
              "      <td>0.000000</td>\n",
              "      <td>0.000000</td>\n",
              "    </tr>\n",
              "    <tr>\n",
              "      <th>25%</th>\n",
              "      <td>0.000000</td>\n",
              "      <td>0.000000</td>\n",
              "    </tr>\n",
              "    <tr>\n",
              "      <th>50%</th>\n",
              "      <td>0.000000</td>\n",
              "      <td>0.000000</td>\n",
              "    </tr>\n",
              "    <tr>\n",
              "      <th>75%</th>\n",
              "      <td>0.000000</td>\n",
              "      <td>0.000000</td>\n",
              "    </tr>\n",
              "    <tr>\n",
              "      <th>max</th>\n",
              "      <td>110.000000</td>\n",
              "      <td>56.600000</td>\n",
              "    </tr>\n",
              "  </tbody>\n",
              "</table>\n",
              "</div>"
            ],
            "text/plain": [
              "       Current rainfall (mm)  Cumulative rainfall (mm)\n",
              "count           66896.000000              66899.000000\n",
              "mean                0.043584                  0.514999\n",
              "std                 0.724079                  2.374298\n",
              "min                 0.000000                  0.000000\n",
              "25%                 0.000000                  0.000000\n",
              "50%                 0.000000                  0.000000\n",
              "75%                 0.000000                  0.000000\n",
              "max               110.000000                 56.600000"
            ]
          },
          "metadata": {
            "tags": []
          },
          "execution_count": 98
        }
      ]
    },
    {
      "cell_type": "code",
      "metadata": {
        "id": "yoS0P7O-9mLH",
        "colab_type": "code",
        "outputId": "c8623859-ce11-4dbf-c8cc-53bf3fe8b0d2",
        "colab": {
          "base_uri": "https://localhost:8080/",
          "height": 279
        }
      },
      "source": [
        "\n",
        "df_rain.plot( y='Current rainfall (mm)', color='black')  \n",
        "\n",
        "plt.xlabel('Time (hours)')  \n",
        "plt.ylabel('Rainfall (mm)')  \n",
        "plt.show()  "
      ],
      "execution_count": 0,
      "outputs": [
        {
          "output_type": "display_data",
          "data": {
            "image/png": "[encoded data removed]",
            "text/plain": [
              "<Figure size 432x288 with 1 Axes>"
            ]
          },
          "metadata": {
            "tags": [],
            "needs_background": "light"
          }
        }
      ]
    },
    {
      "cell_type": "code",
      "metadata": {
        "id": "7j9PVBSFLWrm",
        "colab_type": "code",
        "colab": {}
      },
      "source": [
        ""
      ],
      "execution_count": 0,
      "outputs": []
    },
    {
      "cell_type": "markdown",
      "metadata": {
        "colab_type": "text",
        "id": "6sSpW7YhLXI3"
      },
      "source": [
        "### Hourly water level data"
      ]
    },
    {
      "cell_type": "code",
      "metadata": {
        "id": "hzPK6PJk9mLN",
        "colab_type": "code",
        "colab": {}
      },
      "source": [
        "#get hourly water level data\n",
        "df_water_level = pandas.read_csv(\"https://raw.githubusercontent.com/ricsamikwa/short-term-flood-water-level-prediction/master/dataset/new_data/hourly_water_level_train.csv\")"
      ],
      "execution_count": 0,
      "outputs": []
    },
    {
      "cell_type": "code",
      "metadata": {
        "id": "-p-MCno59mLX",
        "colab_type": "code",
        "outputId": "2de77d2e-ef23-4276-e168-2158694bc262",
        "colab": {
          "base_uri": "https://localhost:8080/",
          "height": 206
        }
      },
      "source": [
        "df_water_level.head()"
      ],
      "execution_count": 0,
      "outputs": [
        {
          "output_type": "execute_result",
          "data": {
            "text/html": [
              "<div>\n",
              "<style scoped>\n",
              "    .dataframe tbody tr th:only-of-type {\n",
              "        vertical-align: middle;\n",
              "    }\n",
              "\n",
              "    .dataframe tbody tr th {\n",
              "        vertical-align: top;\n",
              "    }\n",
              "\n",
              "    .dataframe thead th {\n",
              "        text-align: right;\n",
              "    }\n",
              "</style>\n",
              "<table border=\"1\" class=\"dataframe\">\n",
              "  <thead>\n",
              "    <tr style=\"text-align: right;\">\n",
              "      <th></th>\n",
              "      <th>Date/Time</th>\n",
              "      <th>Level (m)</th>\n",
              "    </tr>\n",
              "  </thead>\n",
              "  <tbody>\n",
              "    <tr>\n",
              "      <th>0</th>\n",
              "      <td>2018-12-02 17:00:00</td>\n",
              "      <td>1.61</td>\n",
              "    </tr>\n",
              "    <tr>\n",
              "      <th>1</th>\n",
              "      <td>2018-12-02 16:00:00</td>\n",
              "      <td>1.61</td>\n",
              "    </tr>\n",
              "    <tr>\n",
              "      <th>2</th>\n",
              "      <td>2018-12-02 15:00:00</td>\n",
              "      <td>1.62</td>\n",
              "    </tr>\n",
              "    <tr>\n",
              "      <th>3</th>\n",
              "      <td>2018-12-02 14:00:00</td>\n",
              "      <td>1.63</td>\n",
              "    </tr>\n",
              "    <tr>\n",
              "      <th>4</th>\n",
              "      <td>2018-12-02 13:00:00</td>\n",
              "      <td>1.63</td>\n",
              "    </tr>\n",
              "  </tbody>\n",
              "</table>\n",
              "</div>"
            ],
            "text/plain": [
              "             Date/Time  Level (m)\n",
              "0  2018-12-02 17:00:00       1.61\n",
              "1  2018-12-02 16:00:00       1.61\n",
              "2  2018-12-02 15:00:00       1.62\n",
              "3  2018-12-02 14:00:00       1.63\n",
              "4  2018-12-02 13:00:00       1.63"
            ]
          },
          "metadata": {
            "tags": []
          },
          "execution_count": 101
        }
      ]
    },
    {
      "cell_type": "code",
      "metadata": {
        "id": "xcxaV9Hxb8aN",
        "colab_type": "code",
        "outputId": "cf519fe9-3902-4669-b00d-e566c967233d",
        "colab": {
          "base_uri": "https://localhost:8080/",
          "height": 34
        }
      },
      "source": [
        "df_water_level.shape"
      ],
      "execution_count": 0,
      "outputs": [
        {
          "output_type": "execute_result",
          "data": {
            "text/plain": [
              "(66890, 2)"
            ]
          },
          "metadata": {
            "tags": []
          },
          "execution_count": 102
        }
      ]
    },
    {
      "cell_type": "code",
      "metadata": {
        "id": "xw6xlSqsbWnp",
        "colab_type": "code",
        "outputId": "2e8c6c71-194f-4636-d4d2-925b88c35f8f",
        "colab": {
          "base_uri": "https://localhost:8080/",
          "height": 301
        }
      },
      "source": [
        "#dataset properties\n",
        "df_water_level.describe()"
      ],
      "execution_count": 0,
      "outputs": [
        {
          "output_type": "execute_result",
          "data": {
            "text/html": [
              "<div>\n",
              "<style scoped>\n",
              "    .dataframe tbody tr th:only-of-type {\n",
              "        vertical-align: middle;\n",
              "    }\n",
              "\n",
              "    .dataframe tbody tr th {\n",
              "        vertical-align: top;\n",
              "    }\n",
              "\n",
              "    .dataframe thead th {\n",
              "        text-align: right;\n",
              "    }\n",
              "</style>\n",
              "<table border=\"1\" class=\"dataframe\">\n",
              "  <thead>\n",
              "    <tr style=\"text-align: right;\">\n",
              "      <th></th>\n",
              "      <th>Level (m)</th>\n",
              "    </tr>\n",
              "  </thead>\n",
              "  <tbody>\n",
              "    <tr>\n",
              "      <th>count</th>\n",
              "      <td>66890.000000</td>\n",
              "    </tr>\n",
              "    <tr>\n",
              "      <th>mean</th>\n",
              "      <td>1.453650</td>\n",
              "    </tr>\n",
              "    <tr>\n",
              "      <th>std</th>\n",
              "      <td>0.099223</td>\n",
              "    </tr>\n",
              "    <tr>\n",
              "      <th>min</th>\n",
              "      <td>0.000000</td>\n",
              "    </tr>\n",
              "    <tr>\n",
              "      <th>25%</th>\n",
              "      <td>1.400000</td>\n",
              "    </tr>\n",
              "    <tr>\n",
              "      <th>50%</th>\n",
              "      <td>1.450000</td>\n",
              "    </tr>\n",
              "    <tr>\n",
              "      <th>75%</th>\n",
              "      <td>1.500000</td>\n",
              "    </tr>\n",
              "    <tr>\n",
              "      <th>max</th>\n",
              "      <td>2.680000</td>\n",
              "    </tr>\n",
              "  </tbody>\n",
              "</table>\n",
              "</div>"
            ],
            "text/plain": [
              "          Level (m)\n",
              "count  66890.000000\n",
              "mean       1.453650\n",
              "std        0.099223\n",
              "min        0.000000\n",
              "25%        1.400000\n",
              "50%        1.450000\n",
              "75%        1.500000\n",
              "max        2.680000"
            ]
          },
          "metadata": {
            "tags": []
          },
          "execution_count": 103
        }
      ]
    },
    {
      "cell_type": "code",
      "metadata": {
        "id": "o7cRqUYWcGu5",
        "colab_type": "code",
        "outputId": "943cd8b2-74bf-4690-9e79-0d4dca5841af",
        "colab": {
          "base_uri": "https://localhost:8080/",
          "height": 296
        }
      },
      "source": [
        "plt.figure(\n",
        "    figsize=(10, 7))\n",
        "df_water_level.plot(y='Level (m)', color='black')  \n",
        "plt.xlabel('Time (hours)')  \n",
        "plt.ylabel('Max Level')  \n",
        "plt.show() "
      ],
      "execution_count": 0,
      "outputs": [
        {
          "output_type": "display_data",
          "data": {
            "text/plain": [
              "<Figure size 720x504 with 0 Axes>"
            ]
          },
          "metadata": {
            "tags": []
          }
        },
        {
          "output_type": "display_data",
          "data": {
            "image/png": "[encoded data removed]",
            "text/plain": [
              "<Figure size 432x288 with 1 Axes>"
            ]
          },
          "metadata": {
            "tags": [],
            "needs_background": "light"
          }
        }
      ]
    },
    {
      "cell_type": "markdown",
      "metadata": {
        "colab_type": "text",
        "id": "bVKBDa5tLiiO"
      },
      "source": [
        "### Combining dataset"
      ]
    },
    {
      "cell_type": "code",
      "metadata": {
        "id": "P-KN4PKgct8z",
        "colab_type": "code",
        "outputId": "b44b7081-9841-4399-eb52-4c5dd6fc5a61",
        "colab": {
          "base_uri": "https://localhost:8080/",
          "height": 206
        }
      },
      "source": [
        "#dataset merged on date_time \n",
        "dataset = pandas.merge(df_rain, df_water_level, how='outer', on=['Date/Time'])\n",
        "dataset.head()"
      ],
      "execution_count": 0,
      "outputs": [
        {
          "output_type": "execute_result",
          "data": {
            "text/html": [
              "<div>\n",
              "<style scoped>\n",
              "    .dataframe tbody tr th:only-of-type {\n",
              "        vertical-align: middle;\n",
              "    }\n",
              "\n",
              "    .dataframe tbody tr th {\n",
              "        vertical-align: top;\n",
              "    }\n",
              "\n",
              "    .dataframe thead th {\n",
              "        text-align: right;\n",
              "    }\n",
              "</style>\n",
              "<table border=\"1\" class=\"dataframe\">\n",
              "  <thead>\n",
              "    <tr style=\"text-align: right;\">\n",
              "      <th></th>\n",
              "      <th>Date/Time</th>\n",
              "      <th>Current rainfall (mm)</th>\n",
              "      <th>Cumulative rainfall (mm)</th>\n",
              "      <th>Level (m)</th>\n",
              "    </tr>\n",
              "  </thead>\n",
              "  <tbody>\n",
              "    <tr>\n",
              "      <th>0</th>\n",
              "      <td>2018-12-02 18:00:00</td>\n",
              "      <td>0.0</td>\n",
              "      <td>0.0</td>\n",
              "      <td>NaN</td>\n",
              "    </tr>\n",
              "    <tr>\n",
              "      <th>1</th>\n",
              "      <td>2018-12-02 17:00:00</td>\n",
              "      <td>0.0</td>\n",
              "      <td>0.0</td>\n",
              "      <td>1.61</td>\n",
              "    </tr>\n",
              "    <tr>\n",
              "      <th>2</th>\n",
              "      <td>2018-12-02 16:00:00</td>\n",
              "      <td>0.0</td>\n",
              "      <td>0.0</td>\n",
              "      <td>1.61</td>\n",
              "    </tr>\n",
              "    <tr>\n",
              "      <th>3</th>\n",
              "      <td>2018-12-02 15:00:00</td>\n",
              "      <td>0.0</td>\n",
              "      <td>0.0</td>\n",
              "      <td>1.62</td>\n",
              "    </tr>\n",
              "    <tr>\n",
              "      <th>4</th>\n",
              "      <td>2018-12-02 14:00:00</td>\n",
              "      <td>0.0</td>\n",
              "      <td>0.0</td>\n",
              "      <td>1.63</td>\n",
              "    </tr>\n",
              "  </tbody>\n",
              "</table>\n",
              "</div>"
            ],
            "text/plain": [
              "             Date/Time  ...  Level (m)\n",
              "0  2018-12-02 18:00:00  ...        NaN\n",
              "1  2018-12-02 17:00:00  ...       1.61\n",
              "2  2018-12-02 16:00:00  ...       1.61\n",
              "3  2018-12-02 15:00:00  ...       1.62\n",
              "4  2018-12-02 14:00:00  ...       1.63\n",
              "\n",
              "[5 rows x 4 columns]"
            ]
          },
          "metadata": {
            "tags": []
          },
          "execution_count": 105
        }
      ]
    },
    {
      "cell_type": "markdown",
      "metadata": {
        "colab_type": "text",
        "id": "hSdPHvntNP3A"
      },
      "source": [
        "### Filling missing values"
      ]
    },
    {
      "cell_type": "code",
      "metadata": {
        "id": "fsuC1c5D8vTC",
        "colab_type": "code",
        "outputId": "16b72ea4-8985-411a-d8cb-093f812c1edc",
        "colab": {
          "base_uri": "https://localhost:8080/",
          "height": 206
        }
      },
      "source": [
        "#filling all missing values with mean of the column\n",
        "dataset['Cumulative rainfall (mm)'] = dataset['Cumulative rainfall (mm)'].fillna(dataset['Cumulative rainfall (mm)'].mean())\n",
        "dataset['Current rainfall (mm)'] = dataset['Current rainfall (mm)'].fillna(dataset['Current rainfall (mm)'].mean())\n",
        "dataset['Level (m)'] = dataset['Level (m)'].fillna(dataset['Level (m)'].mean())\n",
        "\n",
        "dataset.head()"
      ],
      "execution_count": 0,
      "outputs": [
        {
          "output_type": "execute_result",
          "data": {
            "text/html": [
              "<div>\n",
              "<style scoped>\n",
              "    .dataframe tbody tr th:only-of-type {\n",
              "        vertical-align: middle;\n",
              "    }\n",
              "\n",
              "    .dataframe tbody tr th {\n",
              "        vertical-align: top;\n",
              "    }\n",
              "\n",
              "    .dataframe thead th {\n",
              "        text-align: right;\n",
              "    }\n",
              "</style>\n",
              "<table border=\"1\" class=\"dataframe\">\n",
              "  <thead>\n",
              "    <tr style=\"text-align: right;\">\n",
              "      <th></th>\n",
              "      <th>Date/Time</th>\n",
              "      <th>Current rainfall (mm)</th>\n",
              "      <th>Cumulative rainfall (mm)</th>\n",
              "      <th>Level (m)</th>\n",
              "    </tr>\n",
              "  </thead>\n",
              "  <tbody>\n",
              "    <tr>\n",
              "      <th>0</th>\n",
              "      <td>2018-12-02 18:00:00</td>\n",
              "      <td>0.0</td>\n",
              "      <td>0.0</td>\n",
              "      <td>1.45365</td>\n",
              "    </tr>\n",
              "    <tr>\n",
              "      <th>1</th>\n",
              "      <td>2018-12-02 17:00:00</td>\n",
              "      <td>0.0</td>\n",
              "      <td>0.0</td>\n",
              "      <td>1.61000</td>\n",
              "    </tr>\n",
              "    <tr>\n",
              "      <th>2</th>\n",
              "      <td>2018-12-02 16:00:00</td>\n",
              "      <td>0.0</td>\n",
              "      <td>0.0</td>\n",
              "      <td>1.61000</td>\n",
              "    </tr>\n",
              "    <tr>\n",
              "      <th>3</th>\n",
              "      <td>2018-12-02 15:00:00</td>\n",
              "      <td>0.0</td>\n",
              "      <td>0.0</td>\n",
              "      <td>1.62000</td>\n",
              "    </tr>\n",
              "    <tr>\n",
              "      <th>4</th>\n",
              "      <td>2018-12-02 14:00:00</td>\n",
              "      <td>0.0</td>\n",
              "      <td>0.0</td>\n",
              "      <td>1.63000</td>\n",
              "    </tr>\n",
              "  </tbody>\n",
              "</table>\n",
              "</div>"
            ],
            "text/plain": [
              "             Date/Time  ...  Level (m)\n",
              "0  2018-12-02 18:00:00  ...    1.45365\n",
              "1  2018-12-02 17:00:00  ...    1.61000\n",
              "2  2018-12-02 16:00:00  ...    1.61000\n",
              "3  2018-12-02 15:00:00  ...    1.62000\n",
              "4  2018-12-02 14:00:00  ...    1.63000\n",
              "\n",
              "[5 rows x 4 columns]"
            ]
          },
          "metadata": {
            "tags": []
          },
          "execution_count": 106
        }
      ]
    },
    {
      "cell_type": "code",
      "metadata": {
        "id": "RrcYNT2I85aT",
        "colab_type": "code",
        "outputId": "8850a494-b823-4600-db1d-630bc9ee877e",
        "colab": {
          "base_uri": "https://localhost:8080/",
          "height": 34
        }
      },
      "source": [
        "dataset = dataset.drop(columns=['Cumulative rainfall (mm)', 'Date/Time'])\n",
        "dataset.shape"
      ],
      "execution_count": 0,
      "outputs": [
        {
          "output_type": "execute_result",
          "data": {
            "text/plain": [
              "(66902, 2)"
            ]
          },
          "metadata": {
            "tags": []
          },
          "execution_count": 107
        }
      ]
    },
    {
      "cell_type": "code",
      "metadata": {
        "scrolled": true,
        "id": "geJ2EXFdGrrP",
        "colab_type": "code",
        "outputId": "f326e20d-2bed-4869-e41f-0aeebd85d71a",
        "colab": {
          "base_uri": "https://localhost:8080/",
          "height": 513
        }
      },
      "source": [
        "plt.figure(\n",
        "    figsize=(10, 7))\n",
        "\n",
        "plt.plot(dataset)\n",
        "plt.xlabel('Time',fontsize=18)  \n",
        "plt.tight_layout() \n",
        "rainfall = mpatches.Patch(color='C0', label='Rainfall')\n",
        "level = mpatches.Patch(color='C1', label='Water level')\n",
        "plt.legend(handles=[rainfall,level])\n",
        "positions = (0, 10000, 20000, 30000, 40000, 50000, 60000)\n",
        "labels = (\"2010\", \"2011\", \"2012\", \"2013\", \"2014\", \"2015\", \"2016\")\n",
        "plt.xticks(positions, labels)\n",
        "\n",
        "plt.show() "
      ],
      "execution_count": 0,
      "outputs": [
        {
          "output_type": "display_data",
          "data": {
            "image/png": "[encoded data removed]",
            "text/plain": [
              "<Figure size 720x504 with 1 Axes>"
            ]
          },
          "metadata": {
            "tags": [],
            "needs_background": "light"
          }
        }
      ]
    },
    {
      "cell_type": "markdown",
      "metadata": {
        "colab_type": "text",
        "id": "XZE1yqIRL8NB"
      },
      "source": [
        "### Scaling dataset "
      ]
    },
    {
      "cell_type": "code",
      "metadata": {
        "id": "_p8QSsCoGrrc",
        "colab_type": "code",
        "colab": {}
      },
      "source": [
        "# normalize the dataset (LSTMs are sensitive to the scale of the input data)\n",
        "scaler  = MinMaxScaler(feature_range=(0, 1))\n",
        "dataset = scaler.fit_transform(dataset)"
      ],
      "execution_count": 0,
      "outputs": []
    },
    {
      "cell_type": "code",
      "metadata": {
        "id": "ystTRNmaCAoD",
        "colab_type": "code",
        "outputId": "00dba530-6d3d-411e-c12c-fe52b469734f",
        "colab": {
          "base_uri": "https://localhost:8080/",
          "height": 513
        }
      },
      "source": [
        "plt.figure(\n",
        "    figsize=(10, 7))\n",
        "\n",
        "plt.plot(dataset[:,0], color='black')\n",
        "plt.plot(dataset[:,1], color='#017C8F')\n",
        "plt.xlabel('Time',fontsize=18)  \n",
        "plt.tight_layout() \n",
        "rainfall = mpatches.Patch(color='black', label='Rainfall')\n",
        "level = mpatches.Patch(color='#017C8F', label='Water level')\n",
        "plt.legend(handles=[rainfall,level])\n",
        "positions = (0, 10000, 20000, 30000, 40000, 50000, 60000)\n",
        "labels = (\"2010\", \"2011\", \"2012\", \"2013\", \"2014\", \"2015\", \"2016\")\n",
        "plt.xticks(positions, labels)\n",
        "\n",
        "plt.show() "
      ],
      "execution_count": 0,
      "outputs": [
        {
          "output_type": "display_data",
          "data": {
            "image/png": "[encoded data removed]",
            "text/plain": [
              "<Figure size 720x504 with 1 Axes>"
            ]
          },
          "metadata": {
            "tags": [],
            "needs_background": "light"
          }
        }
      ]
    },
    {
      "cell_type": "code",
      "metadata": {
        "id": "J9pv_cY1romC",
        "colab_type": "code",
        "outputId": "8cd17c08-8d0f-43df-dc5a-378433a05222",
        "colab": {
          "base_uri": "https://localhost:8080/",
          "height": 513
        }
      },
      "source": [
        "plt.figure(\n",
        "    figsize=(10, 7))\n",
        "\n",
        "plt.plot(dataset[0:10000,0], color='black')\n",
        "plt.plot(dataset[0:10000,1], color='#017C8F')\n",
        "plt.xlabel('Time', fontsize=18)  \n",
        "plt.ylabel('') \n",
        "plt.tight_layout() \n",
        "rainfall = mpatches.Patch(color='black', label='Rainfall')\n",
        "level = mpatches.Patch(color='#017C8F', label='Water level')\n",
        "plt.legend(handles=[rainfall,level])\n",
        "positions = (0, 2000, 4000, 6000, 8000, 10000)\n",
        "labels = (\"Dec\", \"Feb\", \"April\", \"June\", \"Aug\", \"Oct\")\n",
        "plt.xticks(positions, labels)\n",
        "plt.show() "
      ],
      "execution_count": 0,
      "outputs": [
        {
          "output_type": "display_data",
          "data": {
            "image/png": "[encoded data removed]",
            "text/plain": [
              "<Figure size 720x504 with 1 Axes>"
            ]
          },
          "metadata": {
            "tags": [],
            "needs_background": "light"
          }
        }
      ]
    },
    {
      "cell_type": "markdown",
      "metadata": {
        "colab_type": "text",
        "id": "MaqkAsJ8RByP"
      },
      "source": [
        "# Training "
      ]
    },
    {
      "cell_type": "markdown",
      "metadata": {
        "colab_type": "text",
        "id": "SepyoWQPl1Yu"
      },
      "source": [
        "#### Dataset sliding window (Multivariate)"
      ]
    },
    {
      "cell_type": "code",
      "metadata": {
        "colab_type": "code",
        "id": "y48tr9m2l1Y4",
        "colab": {}
      },
      "source": [
        "# structure data for lstm forecasting with multivariate input\n",
        "def create_multivariate_LSTM_form(sensor_data_sequence, num_past_hours=1, num_predictions=1):\n",
        "    \n",
        "\tnum_features = sensor_data_sequence.shape[1]\n",
        "\n",
        "\tsensor_data_sequence_df = pandas.DataFrame(sensor_data_sequence)\n",
        "\tcolumns, names = list(), list()\n",
        " \n",
        "\t# past data to be observed for each prediction, i.e. input sequence (t-10, ... t-1)\n",
        "\tfor n in range(num_past_hours, 0, -1):\n",
        "\n",
        "\t\tcolumns.append(sensor_data_sequence_df.shift(n))\n",
        "\t\tnames += [('var%d(t-%d)' % (m+1, n)) for m in range(num_features)]\n",
        "\n",
        "\t# specifying the predicted output sequence i.e. (t,t+1, ...., t+10)\n",
        "  # output is (t+10) in this case\n",
        "\tfor n in range(0, num_predictions):\n",
        "\t\tcolumns.append(sensor_data_sequence_df.shift(-n))\n",
        "\t\tif n == 0:\n",
        "\t\t\tnames += [('var%d(t)' % (m+1)) for m in range(num_features)]\n",
        "\t\telse:\n",
        "\t\t\tnames += [('var%d(t+%d)' % (m+1, n)) for m in range(num_features)]\n",
        "\n",
        "\t# combine all columns and remove NaN values\n",
        "\tcombined_data = pandas.concat(columns, axis=1)\n",
        "\tcombined_data.columns = names\n",
        "\tcombined_data.dropna(inplace=True)\n",
        "\n",
        "\treturn combined_data"
      ],
      "execution_count": 0,
      "outputs": []
    },
    {
      "cell_type": "code",
      "metadata": {
        "colab_type": "code",
        "id": "ImzAD_whl1ZN",
        "outputId": "b0ff5d53-6200-4916-e2b9-bf5621fb234c",
        "colab": {
          "base_uri": "https://localhost:8080/",
          "height": 34
        }
      },
      "source": [
        "#number of hours to be observed when making a each forecast\n",
        "num_hours = 10\n",
        "\n",
        "#number of features observed\n",
        "num_features = 2\n",
        "\n",
        "# frame data as supervised learning\n",
        "reframed_data = create_multivariate_LSTM_form(dataset, num_hours, 1)\n",
        "print(reframed_data.shape)"
      ],
      "execution_count": 0,
      "outputs": [
        {
          "output_type": "stream",
          "text": [
            "(66892, 22)\n"
          ],
          "name": "stdout"
        }
      ]
    },
    {
      "cell_type": "markdown",
      "metadata": {
        "id": "r2ZTVlWFTTxq",
        "colab_type": "text"
      },
      "source": [
        "#### Spliting data to training and test set"
      ]
    },
    {
      "cell_type": "code",
      "metadata": {
        "colab_type": "code",
        "id": "1JRT_sYWl1Za",
        "colab": {}
      },
      "source": [
        "# split into train, validation and test sets (70%, 15%, 15%)\n",
        "values = reframed_data.values\n",
        "\n",
        "num_train_hours = 55100 # approx 70% of the dataset\n",
        "\n",
        "\n",
        "#separated datasets\n",
        "train = values[:num_train_hours, :]\n",
        "validate= values[num_train_hours:, :]"
      ],
      "execution_count": 0,
      "outputs": []
    },
    {
      "cell_type": "code",
      "metadata": {
        "id": "ZQGSFBbeu6qq",
        "colab_type": "code",
        "outputId": "ac8218dd-fb3f-4f57-bf41-16f874e2f6c5",
        "colab": {
          "base_uri": "https://localhost:8080/",
          "height": 52
        }
      },
      "source": [
        "#training data shape\n",
        "print(train.shape)\n",
        "\n",
        "#test data shape\n",
        "print(validate.shape)"
      ],
      "execution_count": 0,
      "outputs": [
        {
          "output_type": "stream",
          "text": [
            "(55100, 22)\n",
            "(11792, 22)\n"
          ],
          "name": "stdout"
        }
      ]
    },
    {
      "cell_type": "code",
      "metadata": {
        "colab_type": "code",
        "id": "bP58jSz1l1Zm",
        "outputId": "f186c349-83ab-4f14-d143-8c7bdc3ea11a",
        "colab": {
          "base_uri": "https://localhost:8080/",
          "height": 34
        }
      },
      "source": [
        "# specifying inputs and outputs\n",
        "num_obs = num_hours * num_features\n",
        "#traning set\n",
        "trainX, trainY = train[:, :num_obs], train[:, -1]\n",
        "#validation set\n",
        "validateX, validateY = validate[:, :num_obs], validate[:, -1]\n",
        "print(trainX.shape, len(trainX), trainY.shape)"
      ],
      "execution_count": 0,
      "outputs": [
        {
          "output_type": "stream",
          "text": [
            "(55100, 20) 55100 (55100,)\n"
          ],
          "name": "stdout"
        }
      ]
    },
    {
      "cell_type": "markdown",
      "metadata": {
        "id": "A-_uBFAKTsm0",
        "colab_type": "text"
      },
      "source": [
        "#### Reshaping to LSTM input format"
      ]
    },
    {
      "cell_type": "code",
      "metadata": {
        "id": "d19VlZtWmvAq",
        "colab_type": "code",
        "outputId": "373eab3d-a80d-45e6-8b63-4f5deb1e6d88",
        "colab": {
          "base_uri": "https://localhost:8080/",
          "height": 34
        }
      },
      "source": [
        "# reshape data correctly to reflect the time steps and features [samples, timesteps, features]\n",
        "trainX = trainX.reshape((trainX.shape[0], num_hours, num_features))\n",
        "\n",
        "validateX = validateX.reshape((validateX.shape[0], num_hours, num_features))\n",
        "print(trainX.shape, trainY.shape, validateX.shape, validateY.shape)"
      ],
      "execution_count": 0,
      "outputs": [
        {
          "output_type": "stream",
          "text": [
            "(55100, 10, 2) (55100,) (11792, 10, 2) (11792,)\n"
          ],
          "name": "stdout"
        }
      ]
    },
    {
      "cell_type": "code",
      "metadata": {
        "id": "_BF4URsMC1Ah",
        "colab_type": "code",
        "outputId": "36c28600-8d3a-44d5-a8fd-a9e0cfd98260",
        "colab": {
          "base_uri": "https://localhost:8080/",
          "height": 513
        }
      },
      "source": [
        "plt.figure(\n",
        "    figsize=(10, 7))\n",
        "\n",
        "plt.plot(trainY, color='#017C8F')\n",
        "plt.xlabel('Time', fontsize=18)  \n",
        "plt.ylabel('') \n",
        "plt.tight_layout() \n",
        "\n",
        "plt.show() "
      ],
      "execution_count": 0,
      "outputs": [
        {
          "output_type": "display_data",
          "data": {
            "image/png": "[encoded data removed]",
            "text/plain": [
              "<Figure size 720x504 with 1 Axes>"
            ]
          },
          "metadata": {
            "tags": [],
            "needs_background": "light"
          }
        }
      ]
    },
    {
      "cell_type": "code",
      "metadata": {
        "id": "L8gfs4t2DTZq",
        "colab_type": "code",
        "outputId": "1251f079-5f60-4aa5-fd87-c5118b9e9c24",
        "colab": {
          "base_uri": "https://localhost:8080/",
          "height": 513
        }
      },
      "source": [
        "plt.figure(\n",
        "    figsize=(10, 7))\n",
        "\n",
        "plt.plot(validateY, color='#017C8F')\n",
        "plt.xlabel('Time', fontsize=18)  \n",
        "plt.ylabel('') \n",
        "plt.tight_layout() \n",
        "\n",
        "plt.show()"
      ],
      "execution_count": 0,
      "outputs": [
        {
          "output_type": "display_data",
          "data": {
            "image/png": "[encoded data removed]",
            "text/plain": [
              "<Figure size 720x504 with 1 Axes>"
            ]
          },
          "metadata": {
            "tags": [],
            "needs_background": "light"
          }
        }
      ]
    },
    {
      "cell_type": "markdown",
      "metadata": {
        "colab_type": "text",
        "id": "uc7YZ_7NSJoJ"
      },
      "source": [
        "## Model (LSTM)"
      ]
    },
    {
      "cell_type": "code",
      "metadata": {
        "id": "GVJE3ZupWw7b",
        "colab_type": "code",
        "colab": {}
      },
      "source": [
        "#Setup the LSTM model (with multivariate input)\n",
        "\n",
        "model = Sequential()\n",
        "model.add(LSTM(200, activation='relu', input_shape=(trainX.shape[1], trainX.shape[2])))\n",
        "model.add(Dropout(0.2))\n",
        "model.add(Dense(1))\n",
        "model.compile(loss='mse', optimizer='adam')"
      ],
      "execution_count": 0,
      "outputs": []
    },
    {
      "cell_type": "code",
      "metadata": {
        "id": "BJXMV979XKrq",
        "colab_type": "code",
        "outputId": "b8a74a24-dfaf-49a9-ffd3-5717ddb6df4f",
        "colab": {
          "base_uri": "https://localhost:8080/",
          "height": 260
        }
      },
      "source": [
        "model.summary()"
      ],
      "execution_count": 0,
      "outputs": [
        {
          "output_type": "stream",
          "text": [
            "Model: \"sequential_8\"\n",
            "_________________________________________________________________\n",
            "Layer (type)                 Output Shape              Param #   \n",
            "=================================================================\n",
            "lstm_6 (LSTM)                (None, 200)               162400    \n",
            "_________________________________________________________________\n",
            "dropout_3 (Dropout)          (None, 200)               0         \n",
            "_________________________________________________________________\n",
            "dense_3 (Dense)              (None, 1)                 201       \n",
            "=================================================================\n",
            "Total params: 162,601\n",
            "Trainable params: 162,601\n",
            "Non-trainable params: 0\n",
            "_________________________________________________________________\n"
          ],
          "name": "stdout"
        }
      ]
    },
    {
      "cell_type": "markdown",
      "metadata": {
        "colab_type": "text",
        "id": "NcODng0NWxh_"
      },
      "source": [
        "## Model Learning"
      ]
    },
    {
      "cell_type": "markdown",
      "metadata": {
        "id": "EByuGYMII7XW",
        "colab_type": "text"
      },
      "source": [
        "### training and validation"
      ]
    },
    {
      "cell_type": "code",
      "metadata": {
        "id": "VbnZPS2kr5Il",
        "colab_type": "code",
        "colab": {}
      },
      "source": [
        "callback = EarlyStopping(monitor='val_loss', mode='min',verbose=1,patience=25, baseline=0.000073750)"
      ],
      "execution_count": 0,
      "outputs": []
    },
    {
      "cell_type": "code",
      "metadata": {
        "id": "dgt8J7MWGrsb",
        "colab_type": "code",
        "outputId": "d603fe24-9f22-44cf-d88c-30ef26693311",
        "colab": {
          "base_uri": "https://localhost:8080/",
          "height": 903
        }
      },
      "source": [
        "#training :  epochs and batch size 64\n",
        "history = model.fit(trainX, trainY, epochs=100, batch_size=64, callbacks=[callback],\n",
        "                    validation_data=(validateX, validateY), shuffle=False)"
      ],
      "execution_count": 0,
      "outputs": [
        {
          "output_type": "stream",
          "text": [
            "Epoch 1/100\n",
            "861/861 [==============================] - 28s 33ms/step - loss: 0.0038 - val_loss: 3.9098e-04\n",
            "Epoch 2/100\n",
            "861/861 [==============================] - 28s 33ms/step - loss: 0.0012 - val_loss: 3.6772e-04\n",
            "Epoch 3/100\n",
            "861/861 [==============================] - 28s 32ms/step - loss: 9.4711e-04 - val_loss: 4.0047e-04\n",
            "Epoch 4/100\n",
            "861/861 [==============================] - 28s 32ms/step - loss: 7.6403e-04 - val_loss: 3.9386e-04\n",
            "Epoch 5/100\n",
            "861/861 [==============================] - 28s 32ms/step - loss: 6.4117e-04 - val_loss: 4.5720e-04\n",
            "Epoch 6/100\n",
            "861/861 [==============================] - 28s 32ms/step - loss: 5.3644e-04 - val_loss: 4.0909e-04\n",
            "Epoch 7/100\n",
            "861/861 [==============================] - 28s 33ms/step - loss: 4.0605e-04 - val_loss: 2.3940e-04\n",
            "Epoch 8/100\n",
            "861/861 [==============================] - 28s 32ms/step - loss: 3.0298e-04 - val_loss: 1.8934e-04\n",
            "Epoch 9/100\n",
            "861/861 [==============================] - 28s 33ms/step - loss: 2.5636e-04 - val_loss: 1.7554e-04\n",
            "Epoch 10/100\n",
            "861/861 [==============================] - 28s 33ms/step - loss: 2.2112e-04 - val_loss: 1.7414e-04\n",
            "Epoch 11/100\n",
            "861/861 [==============================] - 28s 33ms/step - loss: 2.0105e-04 - val_loss: 2.0923e-04\n",
            "Epoch 12/100\n",
            "861/861 [==============================] - 28s 33ms/step - loss: 1.8807e-04 - val_loss: 1.5182e-04\n",
            "Epoch 13/100\n",
            "861/861 [==============================] - 28s 33ms/step - loss: 1.9010e-04 - val_loss: 1.6591e-04\n",
            "Epoch 14/100\n",
            "861/861 [==============================] - 28s 33ms/step - loss: 1.8060e-04 - val_loss: 1.4515e-04\n",
            "Epoch 15/100\n",
            "861/861 [==============================] - 28s 33ms/step - loss: 1.6812e-04 - val_loss: 1.4818e-04\n",
            "Epoch 16/100\n",
            "861/861 [==============================] - 28s 32ms/step - loss: 1.6097e-04 - val_loss: 1.4200e-04\n",
            "Epoch 17/100\n",
            "861/861 [==============================] - 28s 32ms/step - loss: 1.6197e-04 - val_loss: 1.4244e-04\n",
            "Epoch 18/100\n",
            "861/861 [==============================] - 28s 32ms/step - loss: 1.5981e-04 - val_loss: 1.4431e-04\n",
            "Epoch 19/100\n",
            "861/861 [==============================] - 28s 32ms/step - loss: 1.4754e-04 - val_loss: 1.2829e-04\n",
            "Epoch 20/100\n",
            "861/861 [==============================] - 28s 32ms/step - loss: 1.4966e-04 - val_loss: 1.2738e-04\n",
            "Epoch 21/100\n",
            "861/861 [==============================] - 28s 32ms/step - loss: 1.4553e-04 - val_loss: 1.3155e-04\n",
            "Epoch 22/100\n",
            "861/861 [==============================] - 28s 32ms/step - loss: 1.4913e-04 - val_loss: 1.5613e-04\n",
            "Epoch 23/100\n",
            "861/861 [==============================] - 28s 32ms/step - loss: 1.5564e-04 - val_loss: 1.3324e-04\n",
            "Epoch 24/100\n",
            "861/861 [==============================] - 28s 33ms/step - loss: 1.4004e-04 - val_loss: 1.3428e-04\n",
            "Epoch 25/100\n",
            "861/861 [==============================] - 28s 32ms/step - loss: 1.4172e-04 - val_loss: 1.2446e-04\n",
            "Epoch 00025: early stopping\n"
          ],
          "name": "stdout"
        }
      ]
    },
    {
      "cell_type": "markdown",
      "metadata": {
        "id": "ZN5uRnRFNNUv",
        "colab_type": "text"
      },
      "source": [
        "###training performance"
      ]
    },
    {
      "cell_type": "code",
      "metadata": {
        "id": "cN60JNciy6gW",
        "colab_type": "code",
        "outputId": "abe57ad1-9e31-4ab3-e209-656657bec122",
        "colab": {
          "base_uri": "https://localhost:8080/",
          "height": 295
        }
      },
      "source": [
        "# plot loss during training\n",
        "pyplot.plot(history.history['loss'], label='training')\n",
        "pyplot.plot(history.history['val_loss'], label='validation')\n",
        "pyplot.title('model train vs validation loss')\n",
        "plt.xlabel('no of epochs')  \n",
        "plt.ylabel('loss') \n",
        "pyplot.legend(['train', 'validation'], loc='upper right')\n",
        "pyplot.show()"
      ],
      "execution_count": 0,
      "outputs": [
        {
          "output_type": "display_data",
          "data": {
            "image/png": "[encoded data removed]",
            "text/plain": [
              "<Figure size 432x288 with 1 Axes>"
            ]
          },
          "metadata": {
            "tags": [],
            "needs_background": "light"
          }
        }
      ]
    },
    {
      "cell_type": "code",
      "metadata": {
        "colab_type": "code",
        "id": "SzD8So7o9Pyw",
        "outputId": "52fac388-c18c-4221-c9b1-af496bd6a37b",
        "colab": {
          "base_uri": "https://localhost:8080/",
          "height": 86
        }
      },
      "source": [
        "# model RMSE\n",
        "train_score = model.evaluate(trainX, trainY, verbose=1)\n",
        "train_score = math.sqrt(train_score)\n",
        "\n",
        "validation_score = model.evaluate(validateX, validateY, verbose=1)\n",
        "validation_score = math.sqrt(validation_score)\n",
        "print('Train Score: %.2f %% RMSE' % (train_score*100))\n",
        "print('Validation Score: %.2f %% RMSE' % (validation_score*100))"
      ],
      "execution_count": 0,
      "outputs": [
        {
          "output_type": "stream",
          "text": [
            "1722/1722 [==============================] - 13s 7ms/step - loss: 1.1609e-04\n",
            "369/369 [==============================] - 3s 8ms/step - loss: 1.2446e-04\n",
            "Train Score: 1.08 % RMSE\n",
            "Validation Score: 1.12 % RMSE\n"
          ],
          "name": "stdout"
        }
      ]
    },
    {
      "cell_type": "markdown",
      "metadata": {
        "id": "ZrsM--xKIrwc",
        "colab_type": "text"
      },
      "source": [
        ""
      ]
    },
    {
      "cell_type": "code",
      "metadata": {
        "id": "6MKK0CngeXlc",
        "colab_type": "code",
        "colab": {}
      },
      "source": [
        "model.save('my_model.h5') "
      ],
      "execution_count": 0,
      "outputs": []
    },
    {
      "cell_type": "code",
      "metadata": {
        "id": "VFF9iFEyT_QT",
        "colab_type": "code",
        "outputId": "a1f15b15-0e03-41a8-b724-36d81ad064a4",
        "colab": {
          "base_uri": "https://localhost:8080/",
          "height": 34
        }
      },
      "source": [
        "# Convert the model.\n",
        "import tensorflow as tf\n",
        "\n",
        "converter = tf.lite.TFLiteConverter.from_keras_model(model)\n",
        "converter.experimental_new_converter = True\n",
        "converter.allow_custom_ops=True\n",
        "tflite_model = converter.convert()\n",
        "open(\"converted_model.tflite\", \"wb\").write(tflite_model)"
      ],
      "execution_count": 0,
      "outputs": [
        {
          "output_type": "execute_result",
          "data": {
            "text/plain": [
              "671748"
            ]
          },
          "metadata": {
            "tags": []
          },
          "execution_count": 127
        }
      ]
    },
    {
      "cell_type": "markdown",
      "metadata": {
        "colab_type": "text",
        "id": "3frrx2cbSgTe"
      },
      "source": [
        "# Testing"
      ]
    },
    {
      "cell_type": "markdown",
      "metadata": {
        "id": "XxRUO6rsqiQV",
        "colab_type": "text"
      },
      "source": [
        "###Test Data Preprocessing"
      ]
    },
    {
      "cell_type": "code",
      "metadata": {
        "id": "aEC_hn8gqhHa",
        "colab_type": "code",
        "colab": {}
      },
      "source": [
        "#Same point\n",
        "\n",
        "df_rain_test = pandas.read_csv(\"https://raw.githubusercontent.com/ricsamikwa/short-term-flood-water-level-prediction/master/dataset/new_data/hourly_rainfall_test.csv\")\n",
        "df_water_level_test = pandas.read_csv(\"https://raw.githubusercontent.com/ricsamikwa/short-term-flood-water-level-prediction/master/dataset/new_data/hourly_water_level_test.csv\")\n",
        "\n",
        "#Another point\n",
        "\n",
        "# df_rain_test = pandas.read_csv(\"https://raw.githubusercontent.com/ricsamikwa/short-term-flood-water-level-prediction/master/dataset/new_data/Elsternwick-Hourly-Rainfall.csv\")\n",
        "# df_water_level_test = pandas.read_csv(\"https://raw.githubusercontent.com/ricsamikwa/short-term-flood-water-level-prediction/master/dataset/new_data/Elsternwick-Hourly-River-Level.csv\")"
      ],
      "execution_count": 0,
      "outputs": []
    },
    {
      "cell_type": "code",
      "metadata": {
        "id": "Lj95-xjWsj85",
        "colab_type": "code",
        "outputId": "ce345b56-a6dc-4e8c-b30b-dce9d87e0d72",
        "colab": {
          "base_uri": "https://localhost:8080/",
          "height": 206
        }
      },
      "source": [
        "#dataset merged on date_time \n",
        "dataset_test = pandas.merge(df_rain_test, df_water_level_test, how='outer', on=['Date/Time'])\n",
        "dataset_test.head()"
      ],
      "execution_count": 0,
      "outputs": [
        {
          "output_type": "execute_result",
          "data": {
            "text/html": [
              "<div>\n",
              "<style scoped>\n",
              "    .dataframe tbody tr th:only-of-type {\n",
              "        vertical-align: middle;\n",
              "    }\n",
              "\n",
              "    .dataframe tbody tr th {\n",
              "        vertical-align: top;\n",
              "    }\n",
              "\n",
              "    .dataframe thead th {\n",
              "        text-align: right;\n",
              "    }\n",
              "</style>\n",
              "<table border=\"1\" class=\"dataframe\">\n",
              "  <thead>\n",
              "    <tr style=\"text-align: right;\">\n",
              "      <th></th>\n",
              "      <th>Date/Time</th>\n",
              "      <th>Current rainfall (mm)</th>\n",
              "      <th>Cumulative rainfall (mm)</th>\n",
              "      <th>Level (m)</th>\n",
              "    </tr>\n",
              "  </thead>\n",
              "  <tbody>\n",
              "    <tr>\n",
              "      <th>0</th>\n",
              "      <td>2011-04-07 20:00:00</td>\n",
              "      <td>0.0</td>\n",
              "      <td>0.0</td>\n",
              "      <td>1.49</td>\n",
              "    </tr>\n",
              "    <tr>\n",
              "      <th>1</th>\n",
              "      <td>2011-04-07 19:00:00</td>\n",
              "      <td>0.0</td>\n",
              "      <td>0.0</td>\n",
              "      <td>1.49</td>\n",
              "    </tr>\n",
              "    <tr>\n",
              "      <th>2</th>\n",
              "      <td>2011-04-07 18:00:00</td>\n",
              "      <td>0.0</td>\n",
              "      <td>0.0</td>\n",
              "      <td>1.49</td>\n",
              "    </tr>\n",
              "    <tr>\n",
              "      <th>3</th>\n",
              "      <td>2011-04-07 17:00:00</td>\n",
              "      <td>0.0</td>\n",
              "      <td>0.0</td>\n",
              "      <td>1.49</td>\n",
              "    </tr>\n",
              "    <tr>\n",
              "      <th>4</th>\n",
              "      <td>2011-04-07 16:00:00</td>\n",
              "      <td>0.0</td>\n",
              "      <td>0.0</td>\n",
              "      <td>1.49</td>\n",
              "    </tr>\n",
              "  </tbody>\n",
              "</table>\n",
              "</div>"
            ],
            "text/plain": [
              "             Date/Time  ...  Level (m)\n",
              "0  2011-04-07 20:00:00  ...       1.49\n",
              "1  2011-04-07 19:00:00  ...       1.49\n",
              "2  2011-04-07 18:00:00  ...       1.49\n",
              "3  2011-04-07 17:00:00  ...       1.49\n",
              "4  2011-04-07 16:00:00  ...       1.49\n",
              "\n",
              "[5 rows x 4 columns]"
            ]
          },
          "metadata": {
            "tags": []
          },
          "execution_count": 129
        }
      ]
    },
    {
      "cell_type": "code",
      "metadata": {
        "id": "7vPZ0uv8oAA8",
        "colab_type": "code",
        "outputId": "51c2c544-4f98-46fa-95fa-4755ce9fc112",
        "colab": {
          "base_uri": "https://localhost:8080/",
          "height": 301
        }
      },
      "source": [
        "dataset_test.describe()"
      ],
      "execution_count": 0,
      "outputs": [
        {
          "output_type": "execute_result",
          "data": {
            "text/html": [
              "<div>\n",
              "<style scoped>\n",
              "    .dataframe tbody tr th:only-of-type {\n",
              "        vertical-align: middle;\n",
              "    }\n",
              "\n",
              "    .dataframe tbody tr th {\n",
              "        vertical-align: top;\n",
              "    }\n",
              "\n",
              "    .dataframe thead th {\n",
              "        text-align: right;\n",
              "    }\n",
              "</style>\n",
              "<table border=\"1\" class=\"dataframe\">\n",
              "  <thead>\n",
              "    <tr style=\"text-align: right;\">\n",
              "      <th></th>\n",
              "      <th>Current rainfall (mm)</th>\n",
              "      <th>Cumulative rainfall (mm)</th>\n",
              "      <th>Level (m)</th>\n",
              "    </tr>\n",
              "  </thead>\n",
              "  <tbody>\n",
              "    <tr>\n",
              "      <th>count</th>\n",
              "      <td>11828.000000</td>\n",
              "      <td>11828.000000</td>\n",
              "      <td>11812.000000</td>\n",
              "    </tr>\n",
              "    <tr>\n",
              "      <th>mean</th>\n",
              "      <td>0.077951</td>\n",
              "      <td>0.976243</td>\n",
              "      <td>1.452874</td>\n",
              "    </tr>\n",
              "    <tr>\n",
              "      <th>std</th>\n",
              "      <td>0.957547</td>\n",
              "      <td>4.348222</td>\n",
              "      <td>0.174743</td>\n",
              "    </tr>\n",
              "    <tr>\n",
              "      <th>min</th>\n",
              "      <td>0.000000</td>\n",
              "      <td>0.000000</td>\n",
              "      <td>0.000000</td>\n",
              "    </tr>\n",
              "    <tr>\n",
              "      <th>25%</th>\n",
              "      <td>0.000000</td>\n",
              "      <td>0.000000</td>\n",
              "      <td>1.400000</td>\n",
              "    </tr>\n",
              "    <tr>\n",
              "      <th>50%</th>\n",
              "      <td>0.000000</td>\n",
              "      <td>0.000000</td>\n",
              "      <td>1.440000</td>\n",
              "    </tr>\n",
              "    <tr>\n",
              "      <th>75%</th>\n",
              "      <td>0.000000</td>\n",
              "      <td>0.200000</td>\n",
              "      <td>1.500000</td>\n",
              "    </tr>\n",
              "    <tr>\n",
              "      <th>max</th>\n",
              "      <td>64.000000</td>\n",
              "      <td>111.400000</td>\n",
              "      <td>3.300000</td>\n",
              "    </tr>\n",
              "  </tbody>\n",
              "</table>\n",
              "</div>"
            ],
            "text/plain": [
              "       Current rainfall (mm)  Cumulative rainfall (mm)     Level (m)\n",
              "count           11828.000000              11828.000000  11812.000000\n",
              "mean                0.077951                  0.976243      1.452874\n",
              "std                 0.957547                  4.348222      0.174743\n",
              "min                 0.000000                  0.000000      0.000000\n",
              "25%                 0.000000                  0.000000      1.400000\n",
              "50%                 0.000000                  0.000000      1.440000\n",
              "75%                 0.000000                  0.200000      1.500000\n",
              "max                64.000000                111.400000      3.300000"
            ]
          },
          "metadata": {
            "tags": []
          },
          "execution_count": 130
        }
      ]
    },
    {
      "cell_type": "code",
      "metadata": {
        "id": "JzMSh2Moq-Vi",
        "colab_type": "code",
        "outputId": "2d2c3220-9f3b-4e39-d8de-0497bab9710d",
        "colab": {
          "base_uri": "https://localhost:8080/",
          "height": 206
        }
      },
      "source": [
        "#filling all missing values with mean of the column\n",
        "dataset_test['Cumulative rainfall (mm)'] = dataset_test['Cumulative rainfall (mm)'].fillna(dataset_test['Cumulative rainfall (mm)'].mean())\n",
        "dataset_test['Current rainfall (mm)'] = dataset_test['Current rainfall (mm)'].fillna(dataset_test['Current rainfall (mm)'].mean())\n",
        "dataset_test['Level (m)'] = dataset_test['Level (m)'].fillna(dataset_test['Level (m)'].mean())\n",
        "\n",
        "dataset_test.head()"
      ],
      "execution_count": 0,
      "outputs": [
        {
          "output_type": "execute_result",
          "data": {
            "text/html": [
              "<div>\n",
              "<style scoped>\n",
              "    .dataframe tbody tr th:only-of-type {\n",
              "        vertical-align: middle;\n",
              "    }\n",
              "\n",
              "    .dataframe tbody tr th {\n",
              "        vertical-align: top;\n",
              "    }\n",
              "\n",
              "    .dataframe thead th {\n",
              "        text-align: right;\n",
              "    }\n",
              "</style>\n",
              "<table border=\"1\" class=\"dataframe\">\n",
              "  <thead>\n",
              "    <tr style=\"text-align: right;\">\n",
              "      <th></th>\n",
              "      <th>Date/Time</th>\n",
              "      <th>Current rainfall (mm)</th>\n",
              "      <th>Cumulative rainfall (mm)</th>\n",
              "      <th>Level (m)</th>\n",
              "    </tr>\n",
              "  </thead>\n",
              "  <tbody>\n",
              "    <tr>\n",
              "      <th>0</th>\n",
              "      <td>2011-04-07 20:00:00</td>\n",
              "      <td>0.0</td>\n",
              "      <td>0.0</td>\n",
              "      <td>1.49</td>\n",
              "    </tr>\n",
              "    <tr>\n",
              "      <th>1</th>\n",
              "      <td>2011-04-07 19:00:00</td>\n",
              "      <td>0.0</td>\n",
              "      <td>0.0</td>\n",
              "      <td>1.49</td>\n",
              "    </tr>\n",
              "    <tr>\n",
              "      <th>2</th>\n",
              "      <td>2011-04-07 18:00:00</td>\n",
              "      <td>0.0</td>\n",
              "      <td>0.0</td>\n",
              "      <td>1.49</td>\n",
              "    </tr>\n",
              "    <tr>\n",
              "      <th>3</th>\n",
              "      <td>2011-04-07 17:00:00</td>\n",
              "      <td>0.0</td>\n",
              "      <td>0.0</td>\n",
              "      <td>1.49</td>\n",
              "    </tr>\n",
              "    <tr>\n",
              "      <th>4</th>\n",
              "      <td>2011-04-07 16:00:00</td>\n",
              "      <td>0.0</td>\n",
              "      <td>0.0</td>\n",
              "      <td>1.49</td>\n",
              "    </tr>\n",
              "  </tbody>\n",
              "</table>\n",
              "</div>"
            ],
            "text/plain": [
              "             Date/Time  ...  Level (m)\n",
              "0  2011-04-07 20:00:00  ...       1.49\n",
              "1  2011-04-07 19:00:00  ...       1.49\n",
              "2  2011-04-07 18:00:00  ...       1.49\n",
              "3  2011-04-07 17:00:00  ...       1.49\n",
              "4  2011-04-07 16:00:00  ...       1.49\n",
              "\n",
              "[5 rows x 4 columns]"
            ]
          },
          "metadata": {
            "tags": []
          },
          "execution_count": 131
        }
      ]
    },
    {
      "cell_type": "code",
      "metadata": {
        "id": "zqRkyMtFrGCy",
        "colab_type": "code",
        "outputId": "c0000aaa-f900-4146-fe8a-fc670e0f1a79",
        "colab": {
          "base_uri": "https://localhost:8080/",
          "height": 34
        }
      },
      "source": [
        "dataset_test = dataset_test.drop(columns=['Cumulative rainfall (mm)', 'Date/Time'])\n",
        "dataset_test.shape"
      ],
      "execution_count": 0,
      "outputs": [
        {
          "output_type": "execute_result",
          "data": {
            "text/plain": [
              "(11836, 2)"
            ]
          },
          "metadata": {
            "tags": []
          },
          "execution_count": 132
        }
      ]
    },
    {
      "cell_type": "code",
      "metadata": {
        "id": "MzRsEmnfrNs5",
        "colab_type": "code",
        "outputId": "40da09e8-2853-4c6d-d846-7f9f28c37cbd",
        "colab": {
          "base_uri": "https://localhost:8080/",
          "height": 513
        }
      },
      "source": [
        "plt.figure(\n",
        "    figsize=(10, 7))\n",
        "\n",
        "plt.plot(dataset_test)\n",
        "plt.xlabel('Time',fontsize=18)  \n",
        "plt.tight_layout() \n",
        "rainfall = mpatches.Patch(color='C1', label='Rainfall')\n",
        "level = mpatches.Patch(color='C0', label='Water level')\n",
        "plt.legend(handles=[rainfall,level])\n",
        "\n",
        "plt.show() "
      ],
      "execution_count": 0,
      "outputs": [
        {
          "output_type": "display_data",
          "data": {
            "image/png": "[encoded data removed]",
            "text/plain": [
              "<Figure size 720x504 with 1 Axes>"
            ]
          },
          "metadata": {
            "tags": [],
            "needs_background": "light"
          }
        }
      ]
    },
    {
      "cell_type": "code",
      "metadata": {
        "id": "5oRCzLZbHqdX",
        "colab_type": "code",
        "colab": {}
      },
      "source": [
        "waterlelvels = dataset_test['Level (m)']\n"
      ],
      "execution_count": 0,
      "outputs": []
    },
    {
      "cell_type": "code",
      "metadata": {
        "id": "HMr8zp7PelTN",
        "colab_type": "code",
        "outputId": "bfa33fa7-37dc-4967-cb3b-c19abc71a295",
        "colab": {
          "base_uri": "https://localhost:8080/",
          "height": 34
        }
      },
      "source": [
        "# true_waterlelvels = waterlelvels[1019:11955]\n",
        "true_waterlelvels = waterlelvels[9:11835]\n",
        "print(true_waterlelvels.shape)\n"
      ],
      "execution_count": 0,
      "outputs": [
        {
          "output_type": "stream",
          "text": [
            "(11826,)\n"
          ],
          "name": "stdout"
        }
      ]
    },
    {
      "cell_type": "code",
      "metadata": {
        "id": "92aECD00rTcY",
        "colab_type": "code",
        "colab": {}
      },
      "source": [
        "# normalize the dataset (LSTMs are sensitive to the scale of the input data)\n",
        "scaler  = MinMaxScaler(feature_range=(0, 1))\n",
        "dataset_test = scaler.fit_transform(dataset_test)"
      ],
      "execution_count": 0,
      "outputs": []
    },
    {
      "cell_type": "code",
      "metadata": {
        "id": "yCtJipaErfgL",
        "colab_type": "code",
        "outputId": "73c7a846-5329-4c36-f5ec-0553c5903e76",
        "colab": {
          "base_uri": "https://localhost:8080/",
          "height": 513
        }
      },
      "source": [
        "plt.figure(\n",
        "    figsize=(10, 7))\n",
        "\n",
        "plt.plot(dataset_test[:,0], color='black')\n",
        "plt.plot(dataset_test[:,1], color='#017C8F')\n",
        "plt.xlabel('Time',fontsize=18)  \n",
        "plt.tight_layout() \n",
        "rainfall = mpatches.Patch(color='black', label='Rainfall')\n",
        "level = mpatches.Patch(color='#017C8F', label='Water level')\n",
        "plt.legend(handles=[rainfall,level])\n",
        "\n",
        "plt.show() "
      ],
      "execution_count": 0,
      "outputs": [
        {
          "output_type": "display_data",
          "data": {
            "image/png": "[encoded data removed]",
            "text/plain": [
              "<Figure size 720x504 with 1 Axes>"
            ]
          },
          "metadata": {
            "tags": [],
            "needs_background": "light"
          }
        }
      ]
    },
    {
      "cell_type": "code",
      "metadata": {
        "id": "3jtXqw5otHEv",
        "colab_type": "code",
        "outputId": "92185b7a-1031-468b-a1c6-90275bb22c82",
        "colab": {
          "base_uri": "https://localhost:8080/",
          "height": 34
        }
      },
      "source": [
        "# frame data as supervised learning\n",
        "reframed_data_test = create_multivariate_LSTM_form(dataset_test, num_hours, 1)\n",
        "print(reframed_data_test.shape)"
      ],
      "execution_count": 0,
      "outputs": [
        {
          "output_type": "stream",
          "text": [
            "(11826, 22)\n"
          ],
          "name": "stdout"
        }
      ]
    },
    {
      "cell_type": "code",
      "metadata": {
        "id": "cH-S_4SqrqO5",
        "colab_type": "code",
        "colab": {}
      },
      "source": [
        "# split into train, validation and test sets (70%, 15%, 15%)\n",
        "test = reframed_data_test.values\n"
      ],
      "execution_count": 0,
      "outputs": []
    },
    {
      "cell_type": "code",
      "metadata": {
        "id": "4k69dUefrxvp",
        "colab_type": "code",
        "colab": {}
      },
      "source": [
        "\n",
        "#testing set\n",
        "testX, testY = test[:, :num_obs], test[:, -1]\n"
      ],
      "execution_count": 0,
      "outputs": []
    },
    {
      "cell_type": "code",
      "metadata": {
        "id": "XFTx0gQnr9oF",
        "colab_type": "code",
        "outputId": "2cb7e8dc-b5b8-4d36-f4bd-2759676fc53f",
        "colab": {
          "base_uri": "https://localhost:8080/",
          "height": 34
        }
      },
      "source": [
        "# reshape data correctly to reflect the time steps and features [samples, timesteps, features]\n",
        "testX = testX.reshape((testX.shape[0], num_hours, num_features))\n",
        "\n",
        "print(testX.shape, testY.shape)"
      ],
      "execution_count": 0,
      "outputs": [
        {
          "output_type": "stream",
          "text": [
            "(11826, 10, 2) (11826,)\n"
          ],
          "name": "stdout"
        }
      ]
    },
    {
      "cell_type": "code",
      "metadata": {
        "id": "vq_v3FDSEo9p",
        "colab_type": "code",
        "outputId": "9c4de479-e5cc-4918-ec8b-3b3134059fe2",
        "colab": {
          "base_uri": "https://localhost:8080/",
          "height": 52
        }
      },
      "source": [
        "print(testY[0])\n",
        "print(testY[1])"
      ],
      "execution_count": 0,
      "outputs": [
        {
          "output_type": "stream",
          "text": [
            "0.4545454545454546\n",
            "0.4545454545454546\n"
          ],
          "name": "stdout"
        }
      ]
    },
    {
      "cell_type": "markdown",
      "metadata": {
        "colab_type": "text",
        "id": "V-xmRveXS7iH"
      },
      "source": [
        "### predictions using unseen test data \n",
        "#### 10 hours ahead of time prediction\n",
        "\n",
        "\n",
        "\n",
        "\n",
        "\n"
      ]
    },
    {
      "cell_type": "code",
      "metadata": {
        "id": "ZU9Lei9OOyiV",
        "colab_type": "code",
        "colab": {}
      },
      "source": [
        "# predictions\n",
        "predictions = model.predict(testX)\n",
        "unseen_X = testX.reshape((testX.shape[0], num_hours*num_features))"
      ],
      "execution_count": 0,
      "outputs": []
    },
    {
      "cell_type": "code",
      "metadata": {
        "id": "iqKGvLHMOt-H",
        "colab_type": "code",
        "colab": {}
      },
      "source": [
        "# invert scaling for predicted water levels\n",
        "inv_predictions = concatenate((unseen_X[:,-1:],predictions), axis=1)\n",
        "\n",
        "inv_predictions = scaler.inverse_transform(inv_predictions)\n",
        "\n",
        "inv_predictions = inv_predictions[:,1]"
      ],
      "execution_count": 0,
      "outputs": []
    },
    {
      "cell_type": "markdown",
      "metadata": {
        "id": "AqeEbA4hMqYp",
        "colab_type": "text"
      },
      "source": [
        "###predictions vs ground truth"
      ]
    },
    {
      "cell_type": "code",
      "metadata": {
        "id": "8yadiOzmgAEL",
        "colab_type": "code",
        "outputId": "7fbf6fe6-fe2b-4890-a0b3-860d879d4a39",
        "colab": {
          "base_uri": "https://localhost:8080/",
          "height": 576
        }
      },
      "source": [
        "print('----------------- Predicted ---------------')\n",
        "plt.plot(inv_predictions)\n",
        "plt.xlabel('Time (hours)')  \n",
        "plt.ylabel('Water level (m)') \n",
        "plt.show()\n",
        "print('----------------- Ground Truth ---------------')\n",
        "plt.plot(true_waterlelvels)\n",
        "plt.xlabel('Time (hours)')  \n",
        "plt.ylabel('Water level (m)') \n",
        "plt.show()"
      ],
      "execution_count": 0,
      "outputs": [
        {
          "output_type": "stream",
          "text": [
            "----------------- Predicted ---------------\n"
          ],
          "name": "stdout"
        },
        {
          "output_type": "display_data",
          "data": {
            "image/png": "[encoded data removed]",
            "text/plain": [
              "<Figure size 432x288 with 1 Axes>"
            ]
          },
          "metadata": {
            "tags": [],
            "needs_background": "light"
          }
        },
        {
          "output_type": "stream",
          "text": [
            "----------------- Ground Truth ---------------\n"
          ],
          "name": "stdout"
        },
        {
          "output_type": "display_data",
          "data": {
            "image/png": "[encoded data removed]",
            "text/plain": [
              "<Figure size 432x288 with 1 Axes>"
            ]
          },
          "metadata": {
            "tags": [],
            "needs_background": "light"
          }
        }
      ]
    },
    {
      "cell_type": "markdown",
      "metadata": {
        "colab_type": "text",
        "id": "iisg73r4T1Ye"
      },
      "source": [
        "#Performance Evaluation\n",
        "###model performance on unseen data\n",
        "\n"
      ]
    },
    {
      "cell_type": "code",
      "metadata": {
        "id": "2doGXnQYO7Ff",
        "colab_type": "code",
        "outputId": "1e10a678-d96f-4ced-e239-8b5c76827532",
        "colab": {
          "base_uri": "https://localhost:8080/",
          "height": 34
        }
      },
      "source": [
        "# root mean squared error (RMSE)\n",
        "rmse = sqrt(mean_squared_error(true_waterlelvels, inv_predictions))\n",
        "print('Test RMSE: %.3f %% ' % (rmse*100))"
      ],
      "execution_count": 0,
      "outputs": [
        {
          "output_type": "stream",
          "text": [
            "Test RMSE: 2.599 % \n"
          ],
          "name": "stdout"
        }
      ]
    },
    {
      "cell_type": "code",
      "metadata": {
        "id": "CvopeKrFXm-Q",
        "colab_type": "code",
        "outputId": "345d0e73-4ffc-496e-f052-184b9db13133",
        "colab": {
          "base_uri": "https://localhost:8080/",
          "height": 34
        }
      },
      "source": [
        "# Mean absolute error\n",
        "mae = keras.metrics.mean_absolute_error(true_waterlelvels, inv_predictions)\n",
        "print(mae)"
      ],
      "execution_count": 0,
      "outputs": [
        {
          "output_type": "stream",
          "text": [
            "tf.Tensor(0.01871106, shape=(), dtype=float32)\n"
          ],
          "name": "stdout"
        }
      ]
    },
    {
      "cell_type": "markdown",
      "metadata": {
        "id": "cfGC0mU8hQBh",
        "colab_type": "text"
      },
      "source": [
        "#Demo"
      ]
    },
    {
      "cell_type": "code",
      "metadata": {
        "id": "AahViIsc588g",
        "colab_type": "code",
        "colab": {}
      },
      "source": [
        "# this section emulates the steps for processing and predicting a flood occurency from sensor data\n",
        "# realtime_data is the array containing sensor data in this case\n",
        "# a flood occurancy is likely when the predicted water level exceeds 1.5 m (according to the dataset)"
      ],
      "execution_count": 0,
      "outputs": []
    },
    {
      "cell_type": "code",
      "metadata": {
        "id": "1m7NEkYthR8H",
        "colab_type": "code",
        "outputId": "d720d2d0-3798-47e2-b535-d891d5cdfea1",
        "colab": {
          "base_uri": "https://localhost:8080/",
          "height": 121
        }
      },
      "source": [
        "#10 hours historical data (sensor data)\n",
        " realtime_data = {'rainfall (mm)': [0.0,0.0,0.0,0.0,0.0,0.0,0.0,0.9,0.9,0.8,0.9],\n",
        "        'Level (m)': [0.34051556,0.44051556,0.44051556,0.42424242,0.42424242,0.42624242,0.42424242,0.42424242,0.42424242,0.42424242,0.42424242]\n",
        "        }\n",
        "demo_df = pandas.DataFrame(realtime_data, columns = ['rainfall (mm)', 'Level (m)'])\n",
        "\n",
        "print (demo_df.head())"
      ],
      "execution_count": 0,
      "outputs": [
        {
          "output_type": "stream",
          "text": [
            "   rainfall (mm)  Level (m)\n",
            "0            0.0   0.340516\n",
            "1            0.0   0.440516\n",
            "2            0.0   0.440516\n",
            "3            0.0   0.424242\n",
            "4            0.0   0.424242\n"
          ],
          "name": "stdout"
        }
      ]
    },
    {
      "cell_type": "code",
      "metadata": {
        "id": "jxYahhMrUu3A",
        "colab_type": "code",
        "colab": {}
      },
      "source": [
        "#scaling data \n",
        "#scaler  = MinMaxScaler(feature_range=(0, 1))\n",
        "#demo_dataset = scaler.fit_transform(demo_df)"
      ],
      "execution_count": 0,
      "outputs": []
    },
    {
      "cell_type": "code",
      "metadata": {
        "id": "15pns3Emjnh0",
        "colab_type": "code",
        "outputId": "eedf0faa-bca6-4741-ccfa-4c540c08ecbd",
        "colab": {
          "base_uri": "https://localhost:8080/",
          "height": 52
        }
      },
      "source": [
        "#reframe\n",
        "demo_data = demo_df.to_numpy()\n",
        "#demo_data = concatenate((demo_data, demo_data,demo_data), axis=1)\n",
        "print(demo_data.shape)\n",
        "reframed_data = create_multivariate_LSTM_form(demo_data, num_hours, 1)\n",
        "reframed_data = reframed_data.values\n",
        "reframed_data = reframed_data[:,:20]\n",
        "print(reframed_data.shape)"
      ],
      "execution_count": 0,
      "outputs": [
        {
          "output_type": "stream",
          "text": [
            "(11, 2)\n",
            "(1, 20)\n"
          ],
          "name": "stdout"
        }
      ]
    },
    {
      "cell_type": "code",
      "metadata": {
        "id": "L-R837buU-Sr",
        "colab_type": "code",
        "colab": {}
      },
      "source": [
        "#reshaping\n",
        "reframed_data = reframed_data.reshape((reframed_data.shape[0], num_hours, num_features))\n",
        "# print(reframed_data.shape)"
      ],
      "execution_count": 0,
      "outputs": []
    },
    {
      "cell_type": "code",
      "metadata": {
        "id": "yT-f1KbCVALh",
        "colab_type": "code",
        "outputId": "b2b8a60d-0cde-40c6-d5c9-dc5d49382952",
        "colab": {
          "base_uri": "https://localhost:8080/",
          "height": 34
        }
      },
      "source": [
        "#make prediction (10 hours ahead of time)\n",
        "predicted_waterlevel = model.predict(reframed_data)\n",
        "\n",
        "print(predicted_waterlevel)"
      ],
      "execution_count": 0,
      "outputs": [
        {
          "output_type": "stream",
          "text": [
            "[[0.2726392]]\n"
          ],
          "name": "stdout"
        }
      ]
    },
    {
      "cell_type": "code",
      "metadata": {
        "id": "uJ6_M3JH962D",
        "colab_type": "code",
        "outputId": "7cf10caf-4ca1-49cc-c418-2182af4b938a",
        "colab": {
          "base_uri": "https://localhost:8080/",
          "height": 34
        }
      },
      "source": [
        "print(true_waterlelvels.max())"
      ],
      "execution_count": 0,
      "outputs": [
        {
          "output_type": "stream",
          "text": [
            "3.3\n"
          ],
          "name": "stdout"
        }
      ]
    },
    {
      "cell_type": "code",
      "metadata": {
        "id": "cvRJx4MhVccF",
        "colab_type": "code",
        "outputId": "f9cc1b2f-5b6c-4a9e-a6ac-e82d88a86fde",
        "colab": {
          "base_uri": "https://localhost:8080/",
          "height": 34
        }
      },
      "source": [
        "# invert scaling for forecast\n",
        "inv_predicted_waterlevel = predicted_waterlevel[0][0] * true_waterlelvels.max()\n",
        "print(inv_predicted_waterlevel)"
      ],
      "execution_count": 0,
      "outputs": [
        {
          "output_type": "stream",
          "text": [
            "0.8997093111276626\n"
          ],
          "name": "stdout"
        }
      ]
    },
    {
      "cell_type": "code",
      "metadata": {
        "id": "vzfJfbjCAm7o",
        "colab_type": "code",
        "cellView": "both",
        "outputId": "41038417-c6ff-4a6e-d53d-757c706b0321",
        "colab": {
          "base_uri": "https://localhost:8080/",
          "height": 52
        }
      },
      "source": [
        "#@title Flood possibility\n",
        "\n",
        "print('Expected water level in 10 hours is %.3f m' % inv_predicted_waterlevel )\n",
        "\n",
        "#based on the dataset it is likely to flood when predicted water level exceeds 1.5 m\n",
        "if (inv_predicted_waterlevel > 1.5):\n",
        "  print(\"FLOOD\")\n",
        "else:\n",
        "  print(\"No FLOOD\")"
      ],
      "execution_count": 0,
      "outputs": [
        {
          "output_type": "stream",
          "text": [
            "Expected water level in 10 hours is 0.900 m\n",
            "No FLOOD\n"
          ],
          "name": "stdout"
        }
      ]
    }
  ]
}